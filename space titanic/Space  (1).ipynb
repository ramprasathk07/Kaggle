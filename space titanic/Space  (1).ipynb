{
 "cells": [
  {
   "cell_type": "markdown",
   "metadata": {},
   "source": [
    "PassengerId - A unique Id for each passenger. Each Id takes the form gggg_pp where gggg indicates a group the passenger is travelling with and pp is their number within the group. People in a group are often family members, but not always.\n",
    "\n",
    "\n",
    "HomePlanet - The planet the passenger departed from, typically their planet of permanent residence.\n",
    "\n",
    "CryoSleep - Indicates whether the passenger elected to be put into suspended animation for the duration of the voyage. Passengers in cryosleep are confined to their cabins.\n",
    "\n",
    "Cabin - The cabin number where the passenger is staying. Takes the form deck/num/side, where side can be either P for Port or S for Starboard.\n",
    "\n",
    "Destination - The planet the passenger will be debarking to.\n",
    "\n",
    "Age - The age of the passenger.\n",
    "\n",
    "VIP - Whether the passenger has paid for special VIP service during the voyage.\n",
    "\n",
    "RoomService, FoodCourt, ShoppingMall, Spa, VRDeck - Amount the passenger has billed at each of the Spaceship Titanic's many luxury amenities.\n",
    "\n",
    "Name - The first and last names of the passenger.\n",
    "\n",
    "Transported - Whether the passenger was transported to another dimension. This is the target, the column you are trying to predict."
   ]
  },
  {
   "cell_type": "code",
   "execution_count": 1,
   "metadata": {},
   "outputs": [],
   "source": [
    "import pandas as pd\n",
    "from sklearn.preprocessing import LabelEncoder"
   ]
  },
  {
   "cell_type": "code",
   "execution_count": null,
   "metadata": {},
   "outputs": [],
   "source": [
    "df1=pd.read_csv('train.csv')\n",
    "dftest=pd.read_csv('test.csv')"
   ]
  },
  {
   "cell_type": "code",
   "execution_count": null,
   "metadata": {},
   "outputs": [],
   "source": [
    "print(df1.shape,dftest.shape)"
   ]
  },
  {
   "cell_type": "code",
   "execution_count": null,
   "metadata": {},
   "outputs": [],
   "source": [
    "dftest"
   ]
  },
  {
   "cell_type": "code",
   "execution_count": null,
   "metadata": {},
   "outputs": [],
   "source": [
    "df1"
   ]
  },
  {
   "cell_type": "code",
   "execution_count": null,
   "metadata": {},
   "outputs": [],
   "source": [
    "# for i in df1.columns:\n",
    "#     if(df1[i].dtypes==\"object\"):\n",
    "#         x = df1[i].mode()[0]\n",
    "#         df1[i]=df1[i].fillna(x)\n",
    "#     else:\n",
    "#         x = df1[i].mean()\n",
    "#         df1[i]=df1[i].fillna(x)"
   ]
  },
  {
   "cell_type": "code",
   "execution_count": null,
   "metadata": {},
   "outputs": [],
   "source": [
    "df1.interpolate(method ='linear', limit_direction ='forward', inplace=True)\n",
    "dftest.interpolate(method ='linear', limit_direction ='forward', inplace=True)"
   ]
  },
  {
   "cell_type": "code",
   "execution_count": null,
   "metadata": {},
   "outputs": [],
   "source": [
    "def imp(df1,x=0):\n",
    "    c=x\n",
    "    df=df1\n",
    "    \n",
    "    x=df['PassengerId'].str.split('_')\n",
    "    y=df['Cabin'].str.split('/')\n",
    "    df['deck']=y.str[0]\n",
    "    df['side']=y.str[2]\n",
    "\n",
    "    # print(x.str[1])\n",
    "    df['id']=x.str[1]\n",
    "    df['x']=x.str[0]\n",
    "\n",
    "    df['id']=df['id'].astype(int)\n",
    "    \n",
    "    le=LabelEncoder()\n",
    "    df['HomePlanet']=le.fit_transform(df['HomePlanet'])\n",
    "    df['Cabin']=le.fit_transform(df['Cabin'])\n",
    "    df['CryoSleep']=le.fit_transform(df['CryoSleep'])\n",
    "    df['Destination']=le.fit_transform(df['Destination'])\n",
    "    df['VIP']=le.fit_transform(df['VIP']) #false-0\n",
    "    \n",
    "    df['Total bill']=df['RoomService']+df['FoodCourt']+df['ShoppingMall']+df[ 'Spa']+df['VRDeck']\n",
    "    z=df['PassengerId']\n",
    "    df=df.drop(['RoomService', 'FoodCourt', 'ShoppingMall', 'Spa','VRDeck','Name','PassengerId','x'],axis=1)\n",
    "    df['deck']=le.fit_transform(df['deck'])\n",
    "    df['side']=le.fit_transform(df['side'])\n",
    "    if c==0:\n",
    "        df['Transported']=le.fit_transform(df['Transported'])\n",
    "        \n",
    "        \n",
    "    return(df,z)"
   ]
  },
  {
   "cell_type": "code",
   "execution_count": null,
   "metadata": {},
   "outputs": [],
   "source": [
    "df,_=imp(df1)\n",
    "dft1,z=imp(dftest,1)"
   ]
  },
  {
   "cell_type": "code",
   "execution_count": null,
   "metadata": {},
   "outputs": [],
   "source": [
    "print(df.shape,dft1.shape)"
   ]
  },
  {
   "cell_type": "code",
   "execution_count": null,
   "metadata": {},
   "outputs": [],
   "source": [
    "df"
   ]
  },
  {
   "cell_type": "code",
   "execution_count": null,
   "metadata": {},
   "outputs": [],
   "source": [
    "dft1"
   ]
  },
  {
   "cell_type": "code",
   "execution_count": null,
   "metadata": {},
   "outputs": [],
   "source": [
    "df.describe()"
   ]
  },
  {
   "cell_type": "code",
   "execution_count": null,
   "metadata": {},
   "outputs": [],
   "source": [
    "df['deck'].unique()"
   ]
  },
  {
   "cell_type": "code",
   "execution_count": null,
   "metadata": {},
   "outputs": [],
   "source": [
    "df.dropna(inplace=True)\n",
    "df"
   ]
  },
  {
   "cell_type": "code",
   "execution_count": null,
   "metadata": {},
   "outputs": [],
   "source": [
    "df['HomePlanet'].unique()"
   ]
  },
  {
   "cell_type": "code",
   "execution_count": null,
   "metadata": {},
   "outputs": [],
   "source": [
    "df['id'].unique()"
   ]
  },
  {
   "cell_type": "code",
   "execution_count": null,
   "metadata": {},
   "outputs": [],
   "source": [
    "x=df.drop(['Transported'],axis=1)\n",
    "y=df['Transported']"
   ]
  },
  {
   "cell_type": "code",
   "execution_count": null,
   "metadata": {},
   "outputs": [],
   "source": [
    "x"
   ]
  },
  {
   "cell_type": "code",
   "execution_count": null,
   "metadata": {},
   "outputs": [],
   "source": [
    "y"
   ]
  },
  {
   "cell_type": "code",
   "execution_count": null,
   "metadata": {},
   "outputs": [],
   "source": [
    "from collections import Counter"
   ]
  },
  {
   "cell_type": "code",
   "execution_count": null,
   "metadata": {},
   "outputs": [],
   "source": [
    "Counter(y)"
   ]
  },
  {
   "cell_type": "code",
   "execution_count": null,
   "metadata": {},
   "outputs": [],
   "source": [
    "from sklearn.model_selection import train_test_split"
   ]
  },
  {
   "cell_type": "code",
   "execution_count": null,
   "metadata": {},
   "outputs": [],
   "source": [
    "xtrain,xtest,ytrain,ytest=train_test_split(x,y,random_state=101,shuffle=True,test_size=0.3)"
   ]
  },
  {
   "cell_type": "code",
   "execution_count": null,
   "metadata": {},
   "outputs": [],
   "source": [
    "from sklearn.ensemble import RandomForestClassifier\n",
    "from sklearn.metrics import accuracy_score"
   ]
  },
  {
   "cell_type": "code",
   "execution_count": null,
   "metadata": {},
   "outputs": [],
   "source": [
    "from sklearn.ensemble import AdaBoostClassifier"
   ]
  },
  {
   "cell_type": "code",
   "execution_count": null,
   "metadata": {},
   "outputs": [],
   "source": [
    "abc = AdaBoostClassifier(n_estimators=50,\n",
    "                         learning_rate=1)\n",
    "\n",
    "model = abc.fit(xtrain, ytrain)\n",
    "\n",
    "\n",
    "y_pred = model.predict(xtest)\n",
    "len(y_pred)"
   ]
  },
  {
   "cell_type": "code",
   "execution_count": null,
   "metadata": {},
   "outputs": [],
   "source": [
    "print(accuracy_score(y_pred,ytest))"
   ]
  },
  {
   "cell_type": "code",
   "execution_count": null,
   "metadata": {},
   "outputs": [],
   "source": [
    "from sklearn.model_selection import GridSearchCV\n",
    "from sklearn import svm\n",
    "from sklearn import metrics"
   ]
  },
  {
   "cell_type": "code",
   "execution_count": null,
   "metadata": {},
   "outputs": [],
   "source": [
    "\n",
    "# param_grid = {'C': [0.1, 1, 10, 100],  \n",
    "#               'gamma': [1, 0.1, 0.01, 0.001, 0.0001], \n",
    "#               'gamma':['scale', 'auto'],\n",
    "#               'kernel': ['linear','rbf','poly','sigmoid']} \n",
    "   \n",
    "param_grid={'C': [10], 'degree': [3], 'gamma': ['scale'], 'kernel': ['linear'], 'max_iter': [-1]}\n",
    "grid_svm= GridSearchCV(svm.SVC(), param_grid, refit = True, verbose = 3,n_jobs=-1) \n",
    "   \n",
    "# fitting the model for grid search \n",
    "grid_svm.fit(xtrain, ytrain) \n",
    "\n",
    "# print best parameter after tuning \n",
    "# print(\"best:\",grid.best_params_) \n",
    "grid_svmp = grid_svm.predict(xtest) \n",
    "print(\"accuracy score:\",accuracy_score(ytest, grid_svmp))\n",
    "# print(grid.best_estimator_.get_params())\n",
    "# print classification report \n",
    "# print(\"Classification Matrix:\",metrics.classification_report(ytest, grid_svmp)) \n",
    "\n",
    "\n",
    "# [CV 4/5] END ....C=100, gamma=scale, kernel=rbf;, score=0.965 total time=  17.9s"
   ]
  },
  {
   "cell_type": "code",
   "execution_count": null,
   "metadata": {},
   "outputs": [],
   "source": [
    "from sklearn.linear_model import LogisticRegression\n",
    "lr = LogisticRegression()\n",
    "model = lr.fit(xtrain,ytrain)\n",
    "\n",
    "tr_pred = model.predict(xtrain)\n",
    "ts_pred = model.predict(xtest)\n",
    "\n",
    "from sklearn.metrics import accuracy_score\n",
    "print(accuracy_score(ytrain,tr_pred))\n",
    "print(accuracy_score(ytest,ts_pred))"
   ]
  },
  {
   "cell_type": "code",
   "execution_count": null,
   "metadata": {},
   "outputs": [],
   "source": [
    "from sklearn.neighbors import KNeighborsClassifier\n",
    "tg = {\"n_neighbors\" : range(0,10,1)}\n",
    "\n",
    "knc = KNeighborsClassifier()\n",
    "\n",
    "from sklearn.model_selection import GridSearchCV\n",
    "cv = GridSearchCV (knc,tg,scoring=\"accuracy\",cv=5)\n",
    "cvmodel = cv.fit(x,y)\n",
    "cvmodel.best_params_"
   ]
  },
  {
   "cell_type": "code",
   "execution_count": null,
   "metadata": {},
   "outputs": [],
   "source": [
    "\n",
    "knc = KNeighborsClassifier(n_neighbors=8)\n",
    "model = knc.fit(xtrain,ytrain)\n",
    "\n",
    "tr_pred = model.predict(xtrain)\n",
    "ts_pred = model.predict(xtest)\n",
    "\n",
    "from sklearn.metrics import accuracy_score\n",
    "print(accuracy_score(ytrain,tr_pred))\n",
    "print(accuracy_score(ytest,ts_pred))"
   ]
  },
  {
   "cell_type": "code",
   "execution_count": null,
   "metadata": {},
   "outputs": [],
   "source": [
    "from sklearn.tree import DecisionTreeClassifier\n",
    "dtc = DecisionTreeClassifier (random_state=20,max_depth=8,min_samples_split=88,min_samples_leaf=27)\n",
    "modeltr = dtc.fit(xtrain,ytrain)\n",
    "\n",
    "tr_pred = modeltr.predict(xtrain)\n",
    "ts_pred = modeltr.predict(xtest)\n",
    "\n",
    "from sklearn.metrics import accuracy_score\n",
    "print(accuracy_score(ytrain,tr_pred))\n",
    "print(accuracy_score(ytest,ts_pred))"
   ]
  },
  {
   "cell_type": "code",
   "execution_count": null,
   "metadata": {},
   "outputs": [],
   "source": [
    "# tg = {\"max_depth\": range(0,50,1),\n",
    "#       \"n_estimators\" :[100,200]\n",
    "#      }\n",
    "# rfc = RandomForestClassifier(random_state=20)\n",
    "\n",
    "# from sklearn.model_selection import GridSearchCV\n",
    "# cv = GridSearchCV(rfc,tg,scoring=\"accuracy\",cv=5)\n",
    "# cvmodel = cv.fit(x,y)\n",
    "# cvmodel.best_params_"
   ]
  },
  {
   "cell_type": "code",
   "execution_count": null,
   "metadata": {},
   "outputs": [],
   "source": [
    "from sklearn.ensemble import RandomForestClassifier\n",
    "rfc = RandomForestClassifier(n_estimators=100,random_state=20,max_depth=11)\n",
    "modelr = rfc.fit(xtrain,ytrain)\n",
    "\n",
    "tr_pred = modelr.predict(xtrain)\n",
    "ts_pred = modelr.predict(xtest)\n",
    "\n",
    "from sklearn.metrics import accuracy_score\n",
    "print(accuracy_score(ytrain,tr_pred))\n",
    "print(accuracy_score(ytest,ts_pred))"
   ]
  },
  {
   "cell_type": "code",
   "execution_count": null,
   "metadata": {},
   "outputs": [],
   "source": [
    "from sklearn.neural_network import MLPClassifier\n",
    "MLP = MLPClassifier(random_state=2020 , hidden_layer_sizes=(10))\n",
    "mlp=MLP.fit(xtrain,ytrain)\n",
    "\n",
    "tr_pred = mlp.predict(xtrain)\n",
    "ts_pred = mlp.predict(xtest)\n",
    "\n",
    "from sklearn.metrics import accuracy_score\n",
    "print(accuracy_score(ytrain,tr_pred))\n",
    "print(accuracy_score(ytest,ts_pred))"
   ]
  },
  {
   "cell_type": "code",
   "execution_count": null,
   "metadata": {},
   "outputs": [],
   "source": []
  },
  {
   "cell_type": "code",
   "execution_count": null,
   "metadata": {},
   "outputs": [],
   "source": []
  },
  {
   "cell_type": "code",
   "execution_count": null,
   "metadata": {},
   "outputs": [],
   "source": []
  },
  {
   "cell_type": "code",
   "execution_count": null,
   "metadata": {},
   "outputs": [],
   "source": []
  },
  {
   "cell_type": "code",
   "execution_count": null,
   "metadata": {},
   "outputs": [],
   "source": [
    "dft1['deck'].info()"
   ]
  },
  {
   "cell_type": "code",
   "execution_count": null,
   "metadata": {},
   "outputs": [],
   "source": [
    "x=dft1['Age'].mean()\n",
    "print(x)\n",
    "\n",
    "dft1['Age']=dft1['Age'].fillna(x)"
   ]
  },
  {
   "cell_type": "code",
   "execution_count": null,
   "metadata": {},
   "outputs": [],
   "source": [
    "x=dft1['Total bill'].mean()\n",
    "print(x)\n",
    "\n",
    "dft1['Total bill']=dft1['Total bill'].fillna(x)"
   ]
  },
  {
   "cell_type": "code",
   "execution_count": null,
   "metadata": {},
   "outputs": [],
   "source": [
    "dft1.tail()"
   ]
  },
  {
   "cell_type": "code",
   "execution_count": null,
   "metadata": {},
   "outputs": [],
   "source": [
    "dft1"
   ]
  },
  {
   "cell_type": "code",
   "execution_count": null,
   "metadata": {},
   "outputs": [],
   "source": [
    "from sklearn.ensemble import RandomForestClassifier\n",
    "from sklearn.model_selection import cross_val_score\n",
    "rfc = RandomForestClassifier(random_state=2 ,min_samples_split=10 , max_depth=25)\n",
    "cvres = cross_val_score(rfc, x, y, cv=10)\n",
    "print(cvres)\n",
    "print(cvres.std())\n",
    "print(cvres.mean())"
   ]
  },
  {
   "cell_type": "code",
   "execution_count": null,
   "metadata": {},
   "outputs": [],
   "source": []
  },
  {
   "cell_type": "code",
   "execution_count": null,
   "metadata": {},
   "outputs": [],
   "source": []
  },
  {
   "cell_type": "code",
   "execution_count": null,
   "metadata": {},
   "outputs": [],
   "source": []
  },
  {
   "cell_type": "code",
   "execution_count": null,
   "metadata": {},
   "outputs": [],
   "source": []
  },
  {
   "cell_type": "code",
   "execution_count": null,
   "metadata": {},
   "outputs": [],
   "source": [
    "dft1.to_csv(\"tt.csv\")"
   ]
  },
  {
   "cell_type": "code",
   "execution_count": null,
   "metadata": {},
   "outputs": [],
   "source": [
    "svmpred= modeltr.predict(dft1) "
   ]
  },
  {
   "cell_type": "code",
   "execution_count": null,
   "metadata": {},
   "outputs": [],
   "source": [
    "Counter(svmpred)"
   ]
  },
  {
   "cell_type": "code",
   "execution_count": null,
   "metadata": {},
   "outputs": [],
   "source": [
    "z"
   ]
  },
  {
   "cell_type": "code",
   "execution_count": null,
   "metadata": {},
   "outputs": [],
   "source": [
    "print(len(z))\n",
    "final=pd.DataFrame(z)\n",
    "final['Transported']=svmpred\n",
    "final"
   ]
  },
  {
   "cell_type": "code",
   "execution_count": null,
   "metadata": {},
   "outputs": [],
   "source": [
    "final=pd.DataFrame(dftest['PassengerId'])\n",
    "final['Transported']=svmpred\n",
    "final"
   ]
  },
  {
   "cell_type": "code",
   "execution_count": null,
   "metadata": {},
   "outputs": [],
   "source": [
    "final['Transported']=final['Transported'].replace({0: False, 1: True})"
   ]
  },
  {
   "cell_type": "code",
   "execution_count": null,
   "metadata": {},
   "outputs": [],
   "source": [
    "final.to_csv('treesubmission.csv',index=False)"
   ]
  },
  {
   "cell_type": "code",
   "execution_count": null,
   "metadata": {},
   "outputs": [],
   "source": [
    "Counter(final['Transported'])"
   ]
  }
 ],
 "metadata": {
  "kernelspec": {
   "display_name": "Python 3",
   "language": "python",
   "name": "python3"
  },
  "language_info": {
   "codemirror_mode": {
    "name": "ipython",
    "version": 3
   },
   "file_extension": ".py",
   "mimetype": "text/x-python",
   "name": "python",
   "nbconvert_exporter": "python",
   "pygments_lexer": "ipython3",
   "version": "3.10.7"
  },
  "vscode": {
   "interpreter": {
    "hash": "0f5b89101f92b599a5e39e81f37b9f518560fdde990583af30876e4ca5beed9a"
   }
  }
 },
 "nbformat": 4,
 "nbformat_minor": 2
}
