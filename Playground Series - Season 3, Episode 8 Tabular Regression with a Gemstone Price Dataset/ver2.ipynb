{
 "cells": [
  {
   "cell_type": "code",
   "execution_count": 302,
   "metadata": {},
   "outputs": [],
   "source": [
    "import pandas as pd\n",
    "import numpy as np"
   ]
  },
  {
   "cell_type": "code",
   "execution_count": 303,
   "metadata": {},
   "outputs": [
    {
     "name": "stdout",
     "output_type": "stream",
     "text": [
      "(193573, 11) (129050, 10)\n"
     ]
    }
   ],
   "source": [
    "train=pd.read_csv('train.csv')\n",
    "test=pd.read_csv('test.csv')\n",
    "# p=pd.read_csv('Hotel Reservations.csv')\n",
    "# p.drop(['Booking_ID'],axis=1,inplace=True)\n",
    "# from sklearn.preprocessing import LabelEncoder\n",
    "# le=LabelEncoder()\n",
    "# p['type_of_meal_plan']=le.fit_transform(p['type_of_meal_plan'])\n",
    "# p['room_type_reserved']=le.fit_transform(p['room_type_reserved'])\n",
    "# p['booking_status']=le.fit_transform(p['booking_status'])\n",
    "# p['market_segment_type']=le.fit_transform(p['market_segment_type'])\n",
    "# p.to_csv('p.csv',index=False)\n",
    "print(train.shape,test.shape)"
   ]
  },
  {
   "cell_type": "code",
   "execution_count": 304,
   "metadata": {},
   "outputs": [],
   "source": [
    "test.drop(['id'],axis=1,inplace=True)\n",
    "train.drop(['id'],axis=1,inplace=True)"
   ]
  },
  {
   "cell_type": "code",
   "execution_count": 305,
   "metadata": {},
   "outputs": [
    {
     "data": {
      "text/plain": [
       "carat      0\n",
       "cut        0\n",
       "color      0\n",
       "clarity    0\n",
       "depth      0\n",
       "table      0\n",
       "x          0\n",
       "y          0\n",
       "z          0\n",
       "price      0\n",
       "dtype: int64"
      ]
     },
     "execution_count": 305,
     "metadata": {},
     "output_type": "execute_result"
    }
   ],
   "source": [
    "train.isna().sum()"
   ]
  },
  {
   "cell_type": "code",
   "execution_count": 306,
   "metadata": {},
   "outputs": [
    {
     "data": {
      "text/plain": [
       "carat      0\n",
       "cut        0\n",
       "color      0\n",
       "clarity    0\n",
       "depth      0\n",
       "table      0\n",
       "x          0\n",
       "y          0\n",
       "z          0\n",
       "dtype: int64"
      ]
     },
     "execution_count": 306,
     "metadata": {},
     "output_type": "execute_result"
    }
   ],
   "source": [
    "test.isna().sum()"
   ]
  },
  {
   "cell_type": "code",
   "execution_count": 307,
   "metadata": {},
   "outputs": [
    {
     "data": {
      "text/html": [
       "<div>\n",
       "<style scoped>\n",
       "    .dataframe tbody tr th:only-of-type {\n",
       "        vertical-align: middle;\n",
       "    }\n",
       "\n",
       "    .dataframe tbody tr th {\n",
       "        vertical-align: top;\n",
       "    }\n",
       "\n",
       "    .dataframe thead th {\n",
       "        text-align: right;\n",
       "    }\n",
       "</style>\n",
       "<table border=\"1\" class=\"dataframe\">\n",
       "  <thead>\n",
       "    <tr style=\"text-align: right;\">\n",
       "      <th></th>\n",
       "      <th>carat</th>\n",
       "      <th>cut</th>\n",
       "      <th>color</th>\n",
       "      <th>clarity</th>\n",
       "      <th>depth</th>\n",
       "      <th>table</th>\n",
       "      <th>x</th>\n",
       "      <th>y</th>\n",
       "      <th>z</th>\n",
       "      <th>price</th>\n",
       "    </tr>\n",
       "  </thead>\n",
       "  <tbody>\n",
       "    <tr>\n",
       "      <th>0</th>\n",
       "      <td>1.52</td>\n",
       "      <td>Premium</td>\n",
       "      <td>F</td>\n",
       "      <td>VS2</td>\n",
       "      <td>62.2</td>\n",
       "      <td>58.0</td>\n",
       "      <td>7.27</td>\n",
       "      <td>7.33</td>\n",
       "      <td>4.55</td>\n",
       "      <td>13619</td>\n",
       "    </tr>\n",
       "    <tr>\n",
       "      <th>1</th>\n",
       "      <td>2.03</td>\n",
       "      <td>Very Good</td>\n",
       "      <td>J</td>\n",
       "      <td>SI2</td>\n",
       "      <td>62.0</td>\n",
       "      <td>58.0</td>\n",
       "      <td>8.06</td>\n",
       "      <td>8.12</td>\n",
       "      <td>5.05</td>\n",
       "      <td>13387</td>\n",
       "    </tr>\n",
       "    <tr>\n",
       "      <th>2</th>\n",
       "      <td>0.70</td>\n",
       "      <td>Ideal</td>\n",
       "      <td>G</td>\n",
       "      <td>VS1</td>\n",
       "      <td>61.2</td>\n",
       "      <td>57.0</td>\n",
       "      <td>5.69</td>\n",
       "      <td>5.73</td>\n",
       "      <td>3.50</td>\n",
       "      <td>2772</td>\n",
       "    </tr>\n",
       "    <tr>\n",
       "      <th>3</th>\n",
       "      <td>0.32</td>\n",
       "      <td>Ideal</td>\n",
       "      <td>G</td>\n",
       "      <td>VS1</td>\n",
       "      <td>61.6</td>\n",
       "      <td>56.0</td>\n",
       "      <td>4.38</td>\n",
       "      <td>4.41</td>\n",
       "      <td>2.71</td>\n",
       "      <td>666</td>\n",
       "    </tr>\n",
       "    <tr>\n",
       "      <th>4</th>\n",
       "      <td>1.70</td>\n",
       "      <td>Premium</td>\n",
       "      <td>G</td>\n",
       "      <td>VS2</td>\n",
       "      <td>62.6</td>\n",
       "      <td>59.0</td>\n",
       "      <td>7.65</td>\n",
       "      <td>7.61</td>\n",
       "      <td>4.77</td>\n",
       "      <td>14453</td>\n",
       "    </tr>\n",
       "    <tr>\n",
       "      <th>...</th>\n",
       "      <td>...</td>\n",
       "      <td>...</td>\n",
       "      <td>...</td>\n",
       "      <td>...</td>\n",
       "      <td>...</td>\n",
       "      <td>...</td>\n",
       "      <td>...</td>\n",
       "      <td>...</td>\n",
       "      <td>...</td>\n",
       "      <td>...</td>\n",
       "    </tr>\n",
       "    <tr>\n",
       "      <th>193568</th>\n",
       "      <td>0.31</td>\n",
       "      <td>Ideal</td>\n",
       "      <td>D</td>\n",
       "      <td>VVS2</td>\n",
       "      <td>61.1</td>\n",
       "      <td>56.0</td>\n",
       "      <td>4.35</td>\n",
       "      <td>4.39</td>\n",
       "      <td>2.67</td>\n",
       "      <td>1130</td>\n",
       "    </tr>\n",
       "    <tr>\n",
       "      <th>193569</th>\n",
       "      <td>0.70</td>\n",
       "      <td>Premium</td>\n",
       "      <td>G</td>\n",
       "      <td>VVS2</td>\n",
       "      <td>60.3</td>\n",
       "      <td>58.0</td>\n",
       "      <td>5.75</td>\n",
       "      <td>5.77</td>\n",
       "      <td>3.47</td>\n",
       "      <td>2874</td>\n",
       "    </tr>\n",
       "    <tr>\n",
       "      <th>193570</th>\n",
       "      <td>0.73</td>\n",
       "      <td>Very Good</td>\n",
       "      <td>F</td>\n",
       "      <td>SI1</td>\n",
       "      <td>63.1</td>\n",
       "      <td>57.0</td>\n",
       "      <td>5.72</td>\n",
       "      <td>5.75</td>\n",
       "      <td>3.62</td>\n",
       "      <td>3036</td>\n",
       "    </tr>\n",
       "    <tr>\n",
       "      <th>193571</th>\n",
       "      <td>0.34</td>\n",
       "      <td>Very Good</td>\n",
       "      <td>D</td>\n",
       "      <td>SI1</td>\n",
       "      <td>62.9</td>\n",
       "      <td>55.0</td>\n",
       "      <td>4.45</td>\n",
       "      <td>4.49</td>\n",
       "      <td>2.81</td>\n",
       "      <td>681</td>\n",
       "    </tr>\n",
       "    <tr>\n",
       "      <th>193572</th>\n",
       "      <td>0.71</td>\n",
       "      <td>Good</td>\n",
       "      <td>E</td>\n",
       "      <td>SI2</td>\n",
       "      <td>60.8</td>\n",
       "      <td>64.0</td>\n",
       "      <td>5.73</td>\n",
       "      <td>5.71</td>\n",
       "      <td>3.48</td>\n",
       "      <td>2258</td>\n",
       "    </tr>\n",
       "  </tbody>\n",
       "</table>\n",
       "<p>193573 rows × 10 columns</p>\n",
       "</div>"
      ],
      "text/plain": [
       "        carat        cut color clarity  depth  table     x     y     z  price\n",
       "0        1.52    Premium     F     VS2   62.2   58.0  7.27  7.33  4.55  13619\n",
       "1        2.03  Very Good     J     SI2   62.0   58.0  8.06  8.12  5.05  13387\n",
       "2        0.70      Ideal     G     VS1   61.2   57.0  5.69  5.73  3.50   2772\n",
       "3        0.32      Ideal     G     VS1   61.6   56.0  4.38  4.41  2.71    666\n",
       "4        1.70    Premium     G     VS2   62.6   59.0  7.65  7.61  4.77  14453\n",
       "...       ...        ...   ...     ...    ...    ...   ...   ...   ...    ...\n",
       "193568   0.31      Ideal     D    VVS2   61.1   56.0  4.35  4.39  2.67   1130\n",
       "193569   0.70    Premium     G    VVS2   60.3   58.0  5.75  5.77  3.47   2874\n",
       "193570   0.73  Very Good     F     SI1   63.1   57.0  5.72  5.75  3.62   3036\n",
       "193571   0.34  Very Good     D     SI1   62.9   55.0  4.45  4.49  2.81    681\n",
       "193572   0.71       Good     E     SI2   60.8   64.0  5.73  5.71  3.48   2258\n",
       "\n",
       "[193573 rows x 10 columns]"
      ]
     },
     "execution_count": 307,
     "metadata": {},
     "output_type": "execute_result"
    }
   ],
   "source": [
    "train"
   ]
  },
  {
   "cell_type": "code",
   "execution_count": 308,
   "metadata": {},
   "outputs": [
    {
     "data": {
      "text/html": [
       "<div>\n",
       "<style scoped>\n",
       "    .dataframe tbody tr th:only-of-type {\n",
       "        vertical-align: middle;\n",
       "    }\n",
       "\n",
       "    .dataframe tbody tr th {\n",
       "        vertical-align: top;\n",
       "    }\n",
       "\n",
       "    .dataframe thead th {\n",
       "        text-align: right;\n",
       "    }\n",
       "</style>\n",
       "<table border=\"1\" class=\"dataframe\">\n",
       "  <thead>\n",
       "    <tr style=\"text-align: right;\">\n",
       "      <th></th>\n",
       "      <th>carat</th>\n",
       "      <th>cut</th>\n",
       "      <th>color</th>\n",
       "      <th>clarity</th>\n",
       "      <th>depth</th>\n",
       "      <th>table</th>\n",
       "      <th>x</th>\n",
       "      <th>y</th>\n",
       "      <th>z</th>\n",
       "    </tr>\n",
       "  </thead>\n",
       "  <tbody>\n",
       "    <tr>\n",
       "      <th>0</th>\n",
       "      <td>0.35</td>\n",
       "      <td>Ideal</td>\n",
       "      <td>D</td>\n",
       "      <td>VS2</td>\n",
       "      <td>62.3</td>\n",
       "      <td>56.0</td>\n",
       "      <td>4.51</td>\n",
       "      <td>4.54</td>\n",
       "      <td>2.82</td>\n",
       "    </tr>\n",
       "    <tr>\n",
       "      <th>1</th>\n",
       "      <td>0.77</td>\n",
       "      <td>Very Good</td>\n",
       "      <td>F</td>\n",
       "      <td>SI2</td>\n",
       "      <td>62.8</td>\n",
       "      <td>56.0</td>\n",
       "      <td>5.83</td>\n",
       "      <td>5.87</td>\n",
       "      <td>3.68</td>\n",
       "    </tr>\n",
       "    <tr>\n",
       "      <th>2</th>\n",
       "      <td>0.71</td>\n",
       "      <td>Ideal</td>\n",
       "      <td>I</td>\n",
       "      <td>VS2</td>\n",
       "      <td>61.9</td>\n",
       "      <td>53.0</td>\n",
       "      <td>5.77</td>\n",
       "      <td>5.74</td>\n",
       "      <td>3.55</td>\n",
       "    </tr>\n",
       "    <tr>\n",
       "      <th>3</th>\n",
       "      <td>0.33</td>\n",
       "      <td>Ideal</td>\n",
       "      <td>G</td>\n",
       "      <td>VVS2</td>\n",
       "      <td>61.6</td>\n",
       "      <td>55.0</td>\n",
       "      <td>4.44</td>\n",
       "      <td>4.42</td>\n",
       "      <td>2.73</td>\n",
       "    </tr>\n",
       "    <tr>\n",
       "      <th>4</th>\n",
       "      <td>1.20</td>\n",
       "      <td>Very Good</td>\n",
       "      <td>I</td>\n",
       "      <td>VS2</td>\n",
       "      <td>62.7</td>\n",
       "      <td>56.0</td>\n",
       "      <td>6.75</td>\n",
       "      <td>6.79</td>\n",
       "      <td>4.24</td>\n",
       "    </tr>\n",
       "    <tr>\n",
       "      <th>...</th>\n",
       "      <td>...</td>\n",
       "      <td>...</td>\n",
       "      <td>...</td>\n",
       "      <td>...</td>\n",
       "      <td>...</td>\n",
       "      <td>...</td>\n",
       "      <td>...</td>\n",
       "      <td>...</td>\n",
       "      <td>...</td>\n",
       "    </tr>\n",
       "    <tr>\n",
       "      <th>129045</th>\n",
       "      <td>0.72</td>\n",
       "      <td>Ideal</td>\n",
       "      <td>D</td>\n",
       "      <td>VVS2</td>\n",
       "      <td>62.0</td>\n",
       "      <td>56.0</td>\n",
       "      <td>5.75</td>\n",
       "      <td>5.78</td>\n",
       "      <td>3.57</td>\n",
       "    </tr>\n",
       "    <tr>\n",
       "      <th>129046</th>\n",
       "      <td>0.70</td>\n",
       "      <td>Premium</td>\n",
       "      <td>D</td>\n",
       "      <td>SI1</td>\n",
       "      <td>59.6</td>\n",
       "      <td>62.0</td>\n",
       "      <td>5.77</td>\n",
       "      <td>5.74</td>\n",
       "      <td>3.43</td>\n",
       "    </tr>\n",
       "    <tr>\n",
       "      <th>129047</th>\n",
       "      <td>1.01</td>\n",
       "      <td>Premium</td>\n",
       "      <td>G</td>\n",
       "      <td>VVS2</td>\n",
       "      <td>62.3</td>\n",
       "      <td>58.0</td>\n",
       "      <td>6.44</td>\n",
       "      <td>6.41</td>\n",
       "      <td>4.01</td>\n",
       "    </tr>\n",
       "    <tr>\n",
       "      <th>129048</th>\n",
       "      <td>1.35</td>\n",
       "      <td>Ideal</td>\n",
       "      <td>D</td>\n",
       "      <td>I1</td>\n",
       "      <td>62.0</td>\n",
       "      <td>56.0</td>\n",
       "      <td>7.05</td>\n",
       "      <td>7.08</td>\n",
       "      <td>4.38</td>\n",
       "    </tr>\n",
       "    <tr>\n",
       "      <th>129049</th>\n",
       "      <td>1.07</td>\n",
       "      <td>Premium</td>\n",
       "      <td>H</td>\n",
       "      <td>SI2</td>\n",
       "      <td>62.6</td>\n",
       "      <td>60.0</td>\n",
       "      <td>6.49</td>\n",
       "      <td>6.45</td>\n",
       "      <td>4.06</td>\n",
       "    </tr>\n",
       "  </tbody>\n",
       "</table>\n",
       "<p>129050 rows × 9 columns</p>\n",
       "</div>"
      ],
      "text/plain": [
       "        carat        cut color clarity  depth  table     x     y     z\n",
       "0        0.35      Ideal     D     VS2   62.3   56.0  4.51  4.54  2.82\n",
       "1        0.77  Very Good     F     SI2   62.8   56.0  5.83  5.87  3.68\n",
       "2        0.71      Ideal     I     VS2   61.9   53.0  5.77  5.74  3.55\n",
       "3        0.33      Ideal     G    VVS2   61.6   55.0  4.44  4.42  2.73\n",
       "4        1.20  Very Good     I     VS2   62.7   56.0  6.75  6.79  4.24\n",
       "...       ...        ...   ...     ...    ...    ...   ...   ...   ...\n",
       "129045   0.72      Ideal     D    VVS2   62.0   56.0  5.75  5.78  3.57\n",
       "129046   0.70    Premium     D     SI1   59.6   62.0  5.77  5.74  3.43\n",
       "129047   1.01    Premium     G    VVS2   62.3   58.0  6.44  6.41  4.01\n",
       "129048   1.35      Ideal     D      I1   62.0   56.0  7.05  7.08  4.38\n",
       "129049   1.07    Premium     H     SI2   62.6   60.0  6.49  6.45  4.06\n",
       "\n",
       "[129050 rows x 9 columns]"
      ]
     },
     "execution_count": 308,
     "metadata": {},
     "output_type": "execute_result"
    }
   ],
   "source": [
    "test"
   ]
  },
  {
   "cell_type": "code",
   "execution_count": 309,
   "metadata": {},
   "outputs": [],
   "source": [
    "y=train['price']\n",
    "\n",
    "x=train.drop(['price'],axis=1)"
   ]
  },
  {
   "cell_type": "code",
   "execution_count": 310,
   "metadata": {},
   "outputs": [],
   "source": [
    "from sklearn.preprocessing import LabelEncoder,MinMaxScaler\n",
    "    \n",
    "le=LabelEncoder()\n",
    "m=MinMaxScaler()"
   ]
  },
  {
   "cell_type": "code",
   "execution_count": 311,
   "metadata": {},
   "outputs": [],
   "source": [
    "def pre(x):\n",
    "    x['cut'] = le.fit_transform(x['cut'])\n",
    "    x['color'] = le.fit_transform(x['color'])\n",
    "    x['clarity'] = le.fit_transform(x['clarity'])\n",
    "    x['depth'] = m.fit_transform(x['depth'].values.reshape(-1, 1))\n",
    "    x['table'] = m.fit_transform(x['table'].values.reshape(-1, 1))\n",
    "    x['x'] = m.fit_transform(x['x'].values.reshape(-1, 1))\n",
    "    x['y'] = m.fit_transform(x['y'].values.reshape(-1, 1))\n",
    "    x['z'] = m.fit_transform(x['z'].values.reshape(-1, 1))\n",
    "    return x\n"
   ]
  },
  {
   "cell_type": "code",
   "execution_count": 312,
   "metadata": {},
   "outputs": [],
   "source": [
    "x=pre(x)\n",
    "test=pre(test)"
   ]
  },
  {
   "cell_type": "code",
   "execution_count": 313,
   "metadata": {},
   "outputs": [
    {
     "data": {
      "text/html": [
       "<div>\n",
       "<style scoped>\n",
       "    .dataframe tbody tr th:only-of-type {\n",
       "        vertical-align: middle;\n",
       "    }\n",
       "\n",
       "    .dataframe tbody tr th {\n",
       "        vertical-align: top;\n",
       "    }\n",
       "\n",
       "    .dataframe thead th {\n",
       "        text-align: right;\n",
       "    }\n",
       "</style>\n",
       "<table border=\"1\" class=\"dataframe\">\n",
       "  <thead>\n",
       "    <tr style=\"text-align: right;\">\n",
       "      <th></th>\n",
       "      <th>carat</th>\n",
       "      <th>cut</th>\n",
       "      <th>color</th>\n",
       "      <th>clarity</th>\n",
       "      <th>depth</th>\n",
       "      <th>table</th>\n",
       "      <th>x</th>\n",
       "      <th>y</th>\n",
       "      <th>z</th>\n",
       "    </tr>\n",
       "  </thead>\n",
       "  <tbody>\n",
       "    <tr>\n",
       "      <th>0</th>\n",
       "      <td>1.52</td>\n",
       "      <td>3</td>\n",
       "      <td>2</td>\n",
       "      <td>5</td>\n",
       "      <td>0.517949</td>\n",
       "      <td>0.300000</td>\n",
       "      <td>0.753368</td>\n",
       "      <td>0.732268</td>\n",
       "      <td>0.145367</td>\n",
       "    </tr>\n",
       "    <tr>\n",
       "      <th>1</th>\n",
       "      <td>2.03</td>\n",
       "      <td>4</td>\n",
       "      <td>6</td>\n",
       "      <td>3</td>\n",
       "      <td>0.507692</td>\n",
       "      <td>0.300000</td>\n",
       "      <td>0.835233</td>\n",
       "      <td>0.811189</td>\n",
       "      <td>0.161342</td>\n",
       "    </tr>\n",
       "    <tr>\n",
       "      <th>2</th>\n",
       "      <td>0.70</td>\n",
       "      <td>2</td>\n",
       "      <td>3</td>\n",
       "      <td>4</td>\n",
       "      <td>0.466667</td>\n",
       "      <td>0.266667</td>\n",
       "      <td>0.589637</td>\n",
       "      <td>0.572428</td>\n",
       "      <td>0.111821</td>\n",
       "    </tr>\n",
       "    <tr>\n",
       "      <th>3</th>\n",
       "      <td>0.32</td>\n",
       "      <td>2</td>\n",
       "      <td>3</td>\n",
       "      <td>4</td>\n",
       "      <td>0.487179</td>\n",
       "      <td>0.233333</td>\n",
       "      <td>0.453886</td>\n",
       "      <td>0.440559</td>\n",
       "      <td>0.086581</td>\n",
       "    </tr>\n",
       "    <tr>\n",
       "      <th>4</th>\n",
       "      <td>1.70</td>\n",
       "      <td>3</td>\n",
       "      <td>3</td>\n",
       "      <td>5</td>\n",
       "      <td>0.538462</td>\n",
       "      <td>0.333333</td>\n",
       "      <td>0.792746</td>\n",
       "      <td>0.760240</td>\n",
       "      <td>0.152396</td>\n",
       "    </tr>\n",
       "    <tr>\n",
       "      <th>...</th>\n",
       "      <td>...</td>\n",
       "      <td>...</td>\n",
       "      <td>...</td>\n",
       "      <td>...</td>\n",
       "      <td>...</td>\n",
       "      <td>...</td>\n",
       "      <td>...</td>\n",
       "      <td>...</td>\n",
       "      <td>...</td>\n",
       "    </tr>\n",
       "    <tr>\n",
       "      <th>193568</th>\n",
       "      <td>0.31</td>\n",
       "      <td>2</td>\n",
       "      <td>0</td>\n",
       "      <td>7</td>\n",
       "      <td>0.461538</td>\n",
       "      <td>0.233333</td>\n",
       "      <td>0.450777</td>\n",
       "      <td>0.438561</td>\n",
       "      <td>0.085304</td>\n",
       "    </tr>\n",
       "    <tr>\n",
       "      <th>193569</th>\n",
       "      <td>0.70</td>\n",
       "      <td>3</td>\n",
       "      <td>3</td>\n",
       "      <td>7</td>\n",
       "      <td>0.420513</td>\n",
       "      <td>0.300000</td>\n",
       "      <td>0.595855</td>\n",
       "      <td>0.576424</td>\n",
       "      <td>0.110863</td>\n",
       "    </tr>\n",
       "    <tr>\n",
       "      <th>193570</th>\n",
       "      <td>0.73</td>\n",
       "      <td>4</td>\n",
       "      <td>2</td>\n",
       "      <td>2</td>\n",
       "      <td>0.564103</td>\n",
       "      <td>0.266667</td>\n",
       "      <td>0.592746</td>\n",
       "      <td>0.574426</td>\n",
       "      <td>0.115655</td>\n",
       "    </tr>\n",
       "    <tr>\n",
       "      <th>193571</th>\n",
       "      <td>0.34</td>\n",
       "      <td>4</td>\n",
       "      <td>0</td>\n",
       "      <td>2</td>\n",
       "      <td>0.553846</td>\n",
       "      <td>0.200000</td>\n",
       "      <td>0.461140</td>\n",
       "      <td>0.448551</td>\n",
       "      <td>0.089776</td>\n",
       "    </tr>\n",
       "    <tr>\n",
       "      <th>193572</th>\n",
       "      <td>0.71</td>\n",
       "      <td>1</td>\n",
       "      <td>1</td>\n",
       "      <td>3</td>\n",
       "      <td>0.446154</td>\n",
       "      <td>0.500000</td>\n",
       "      <td>0.593782</td>\n",
       "      <td>0.570430</td>\n",
       "      <td>0.111182</td>\n",
       "    </tr>\n",
       "  </tbody>\n",
       "</table>\n",
       "<p>193573 rows × 9 columns</p>\n",
       "</div>"
      ],
      "text/plain": [
       "        carat  cut  color  clarity     depth     table         x         y  \\\n",
       "0        1.52    3      2        5  0.517949  0.300000  0.753368  0.732268   \n",
       "1        2.03    4      6        3  0.507692  0.300000  0.835233  0.811189   \n",
       "2        0.70    2      3        4  0.466667  0.266667  0.589637  0.572428   \n",
       "3        0.32    2      3        4  0.487179  0.233333  0.453886  0.440559   \n",
       "4        1.70    3      3        5  0.538462  0.333333  0.792746  0.760240   \n",
       "...       ...  ...    ...      ...       ...       ...       ...       ...   \n",
       "193568   0.31    2      0        7  0.461538  0.233333  0.450777  0.438561   \n",
       "193569   0.70    3      3        7  0.420513  0.300000  0.595855  0.576424   \n",
       "193570   0.73    4      2        2  0.564103  0.266667  0.592746  0.574426   \n",
       "193571   0.34    4      0        2  0.553846  0.200000  0.461140  0.448551   \n",
       "193572   0.71    1      1        3  0.446154  0.500000  0.593782  0.570430   \n",
       "\n",
       "               z  \n",
       "0       0.145367  \n",
       "1       0.161342  \n",
       "2       0.111821  \n",
       "3       0.086581  \n",
       "4       0.152396  \n",
       "...          ...  \n",
       "193568  0.085304  \n",
       "193569  0.110863  \n",
       "193570  0.115655  \n",
       "193571  0.089776  \n",
       "193572  0.111182  \n",
       "\n",
       "[193573 rows x 9 columns]"
      ]
     },
     "execution_count": 313,
     "metadata": {},
     "output_type": "execute_result"
    }
   ],
   "source": [
    "x"
   ]
  },
  {
   "cell_type": "code",
   "execution_count": 314,
   "metadata": {},
   "outputs": [
    {
     "data": {
      "text/html": [
       "<div>\n",
       "<style scoped>\n",
       "    .dataframe tbody tr th:only-of-type {\n",
       "        vertical-align: middle;\n",
       "    }\n",
       "\n",
       "    .dataframe tbody tr th {\n",
       "        vertical-align: top;\n",
       "    }\n",
       "\n",
       "    .dataframe thead th {\n",
       "        text-align: right;\n",
       "    }\n",
       "</style>\n",
       "<table border=\"1\" class=\"dataframe\">\n",
       "  <thead>\n",
       "    <tr style=\"text-align: right;\">\n",
       "      <th></th>\n",
       "      <th>carat</th>\n",
       "      <th>cut</th>\n",
       "      <th>color</th>\n",
       "      <th>clarity</th>\n",
       "      <th>depth</th>\n",
       "      <th>table</th>\n",
       "      <th>x</th>\n",
       "      <th>y</th>\n",
       "      <th>z</th>\n",
       "    </tr>\n",
       "  </thead>\n",
       "  <tbody>\n",
       "    <tr>\n",
       "      <th>0</th>\n",
       "      <td>0.35</td>\n",
       "      <td>2</td>\n",
       "      <td>0</td>\n",
       "      <td>5</td>\n",
       "      <td>0.522989</td>\n",
       "      <td>0.263158</td>\n",
       "      <td>0.444773</td>\n",
       "      <td>0.447732</td>\n",
       "      <td>0.088679</td>\n",
       "    </tr>\n",
       "    <tr>\n",
       "      <th>1</th>\n",
       "      <td>0.77</td>\n",
       "      <td>4</td>\n",
       "      <td>2</td>\n",
       "      <td>3</td>\n",
       "      <td>0.551724</td>\n",
       "      <td>0.263158</td>\n",
       "      <td>0.574951</td>\n",
       "      <td>0.578895</td>\n",
       "      <td>0.115723</td>\n",
       "    </tr>\n",
       "    <tr>\n",
       "      <th>2</th>\n",
       "      <td>0.71</td>\n",
       "      <td>2</td>\n",
       "      <td>5</td>\n",
       "      <td>5</td>\n",
       "      <td>0.500000</td>\n",
       "      <td>0.105263</td>\n",
       "      <td>0.569034</td>\n",
       "      <td>0.566075</td>\n",
       "      <td>0.111635</td>\n",
       "    </tr>\n",
       "    <tr>\n",
       "      <th>3</th>\n",
       "      <td>0.33</td>\n",
       "      <td>2</td>\n",
       "      <td>3</td>\n",
       "      <td>7</td>\n",
       "      <td>0.482759</td>\n",
       "      <td>0.210526</td>\n",
       "      <td>0.437870</td>\n",
       "      <td>0.435897</td>\n",
       "      <td>0.085849</td>\n",
       "    </tr>\n",
       "    <tr>\n",
       "      <th>4</th>\n",
       "      <td>1.20</td>\n",
       "      <td>4</td>\n",
       "      <td>5</td>\n",
       "      <td>5</td>\n",
       "      <td>0.545977</td>\n",
       "      <td>0.263158</td>\n",
       "      <td>0.665680</td>\n",
       "      <td>0.669625</td>\n",
       "      <td>0.133333</td>\n",
       "    </tr>\n",
       "    <tr>\n",
       "      <th>...</th>\n",
       "      <td>...</td>\n",
       "      <td>...</td>\n",
       "      <td>...</td>\n",
       "      <td>...</td>\n",
       "      <td>...</td>\n",
       "      <td>...</td>\n",
       "      <td>...</td>\n",
       "      <td>...</td>\n",
       "      <td>...</td>\n",
       "    </tr>\n",
       "    <tr>\n",
       "      <th>129045</th>\n",
       "      <td>0.72</td>\n",
       "      <td>2</td>\n",
       "      <td>0</td>\n",
       "      <td>7</td>\n",
       "      <td>0.505747</td>\n",
       "      <td>0.263158</td>\n",
       "      <td>0.567061</td>\n",
       "      <td>0.570020</td>\n",
       "      <td>0.112264</td>\n",
       "    </tr>\n",
       "    <tr>\n",
       "      <th>129046</th>\n",
       "      <td>0.70</td>\n",
       "      <td>3</td>\n",
       "      <td>0</td>\n",
       "      <td>2</td>\n",
       "      <td>0.367816</td>\n",
       "      <td>0.578947</td>\n",
       "      <td>0.569034</td>\n",
       "      <td>0.566075</td>\n",
       "      <td>0.107862</td>\n",
       "    </tr>\n",
       "    <tr>\n",
       "      <th>129047</th>\n",
       "      <td>1.01</td>\n",
       "      <td>3</td>\n",
       "      <td>3</td>\n",
       "      <td>7</td>\n",
       "      <td>0.522989</td>\n",
       "      <td>0.368421</td>\n",
       "      <td>0.635108</td>\n",
       "      <td>0.632150</td>\n",
       "      <td>0.126101</td>\n",
       "    </tr>\n",
       "    <tr>\n",
       "      <th>129048</th>\n",
       "      <td>1.35</td>\n",
       "      <td>2</td>\n",
       "      <td>0</td>\n",
       "      <td>0</td>\n",
       "      <td>0.505747</td>\n",
       "      <td>0.263158</td>\n",
       "      <td>0.695266</td>\n",
       "      <td>0.698225</td>\n",
       "      <td>0.137736</td>\n",
       "    </tr>\n",
       "    <tr>\n",
       "      <th>129049</th>\n",
       "      <td>1.07</td>\n",
       "      <td>3</td>\n",
       "      <td>4</td>\n",
       "      <td>3</td>\n",
       "      <td>0.540230</td>\n",
       "      <td>0.473684</td>\n",
       "      <td>0.640039</td>\n",
       "      <td>0.636095</td>\n",
       "      <td>0.127673</td>\n",
       "    </tr>\n",
       "  </tbody>\n",
       "</table>\n",
       "<p>129050 rows × 9 columns</p>\n",
       "</div>"
      ],
      "text/plain": [
       "        carat  cut  color  clarity     depth     table         x         y  \\\n",
       "0        0.35    2      0        5  0.522989  0.263158  0.444773  0.447732   \n",
       "1        0.77    4      2        3  0.551724  0.263158  0.574951  0.578895   \n",
       "2        0.71    2      5        5  0.500000  0.105263  0.569034  0.566075   \n",
       "3        0.33    2      3        7  0.482759  0.210526  0.437870  0.435897   \n",
       "4        1.20    4      5        5  0.545977  0.263158  0.665680  0.669625   \n",
       "...       ...  ...    ...      ...       ...       ...       ...       ...   \n",
       "129045   0.72    2      0        7  0.505747  0.263158  0.567061  0.570020   \n",
       "129046   0.70    3      0        2  0.367816  0.578947  0.569034  0.566075   \n",
       "129047   1.01    3      3        7  0.522989  0.368421  0.635108  0.632150   \n",
       "129048   1.35    2      0        0  0.505747  0.263158  0.695266  0.698225   \n",
       "129049   1.07    3      4        3  0.540230  0.473684  0.640039  0.636095   \n",
       "\n",
       "               z  \n",
       "0       0.088679  \n",
       "1       0.115723  \n",
       "2       0.111635  \n",
       "3       0.085849  \n",
       "4       0.133333  \n",
       "...          ...  \n",
       "129045  0.112264  \n",
       "129046  0.107862  \n",
       "129047  0.126101  \n",
       "129048  0.137736  \n",
       "129049  0.127673  \n",
       "\n",
       "[129050 rows x 9 columns]"
      ]
     },
     "execution_count": 314,
     "metadata": {},
     "output_type": "execute_result"
    }
   ],
   "source": [
    "test"
   ]
  },
  {
   "cell_type": "code",
   "execution_count": 315,
   "metadata": {},
   "outputs": [],
   "source": [
    "# from sklearn.feature_selection import SelectKBest, f_classif\n",
    "# import pandas as pd\n",
    "\n",
    "\n",
    "\n",
    "# # Instantiate the SelectKBest class\n",
    "# selector = SelectKBest(f_classif, k=10)\n",
    "\n",
    "# # Fit the selector on the data and transform the data\n",
    "# X_selected = selector.fit_transform(x, y)\n",
    "\n",
    "# # Get the indices of the selected features\n",
    "# selected_indices = selector.get_support(indices=True)\n",
    "\n",
    "# # Get the names of the selected features\n",
    "# selected_features = x.columns[selected_indices]\n",
    "\n",
    "# # Create a new DataFrame with the selected features\n",
    "# x = pd.DataFrame(X_selected, columns=selected_features)\n"
   ]
  },
  {
   "cell_type": "code",
   "execution_count": 316,
   "metadata": {},
   "outputs": [],
   "source": [
    "# selected_indices"
   ]
  },
  {
   "cell_type": "code",
   "execution_count": 317,
   "metadata": {},
   "outputs": [],
   "source": [
    "# selected_features"
   ]
  },
  {
   "cell_type": "code",
   "execution_count": 318,
   "metadata": {},
   "outputs": [],
   "source": [
    "# x"
   ]
  },
  {
   "cell_type": "code",
   "execution_count": 319,
   "metadata": {},
   "outputs": [],
   "source": [
    "\n",
    "# test=test.iloc[:,selected_indices]\n",
    "# test"
   ]
  },
  {
   "cell_type": "code",
   "execution_count": 320,
   "metadata": {},
   "outputs": [],
   "source": [
    "from sklearn.model_selection import train_test_split\n",
    "xtrain,xtest,ytrain,ytest=train_test_split(x,y,test_size=0.2,random_state=42)"
   ]
  },
  {
   "cell_type": "code",
   "execution_count": 321,
   "metadata": {},
   "outputs": [],
   "source": [
    "import os\n",
    "np.set_printoptions(precision=4)\n",
    "import catboost\n",
    "from catboost import *\n",
    "from catboost import CatBoostClassifier\n",
    "import optuna\n",
    "from optuna.samplers import TPESampler\n",
    "import pickle\n",
    "from sklearn.metrics import accuracy_score\n",
    "from sklearn.metrics import classification_report"
   ]
  },
  {
   "cell_type": "code",
   "execution_count": 322,
   "metadata": {},
   "outputs": [],
   "source": [
    "from sklearn.ensemble import VotingRegressor\n",
    "from sklearn.tree import DecisionTreeRegressor\n",
    "from sklearn.linear_model import LinearRegression,SGDRegressor\n",
    "from sklearn.naive_bayes import GaussianNB\n",
    "from sklearn.metrics import mean_squared_error\n",
    "from xgboost import XGBRegressor\n",
    "from sklearn.ensemble import RandomForestRegressor\n",
    "from sklearn.ensemble import GradientBoostingRegressor\n",
    "from sklearn.ensemble import AdaBoostRegressor\n",
    "from sklearn.ensemble import BaggingRegressor\n",
    "from sklearn.ensemble import ExtraTreesRegressor\n",
    "from sklearn.neighbors import KNeighborsRegressor\n",
    "#gridsearch\n",
    "import lightgbm as lgb\n",
    "from sklearn.model_selection import GridSearchCV\n",
    "# MultiOutputRegressor\n",
    "from sklearn.multioutput import MultiOutputRegressor"
   ]
  },
  {
   "cell_type": "code",
   "execution_count": 323,
   "metadata": {},
   "outputs": [
    {
     "name": "stdout",
     "output_type": "stream",
     "text": [
      "Mean Squared Error: 580.8236957987046\n"
     ]
    }
   ],
   "source": [
    "ll = lgb.LGBMRegressor()\n",
    "ll.fit(xtrain,ytrain)\n",
    "y_pred=ll.predict(xtest)\n",
    "mse = np.sqrt(mean_squared_error(ytest, y_pred))\n",
    "print(f\"Mean Squared Error: {mse}\")"
   ]
  },
  {
   "cell_type": "code",
   "execution_count": 324,
   "metadata": {},
   "outputs": [
    {
     "name": "stderr",
     "output_type": "stream",
     "text": [
      "\u001b[32m[I 2023-02-24 15:02:11,840]\u001b[0m A new study created in memory with name: no-name-95779e0b-ffda-4de5-8409-bcc89db73b3d\u001b[0m\n",
      "c:\\Users\\xfini\\anaconda3\\lib\\site-packages\\optuna\\progress_bar.py:56: ExperimentalWarning: Progress bar is experimental (supported from v1.2.0). The interface can change in the future.\n",
      "  self._init_valid()\n"
     ]
    },
    {
     "data": {
      "application/vnd.jupyter.widget-view+json": {
       "model_id": "19c699389f7c4f5da7a8103c9363fee4",
       "version_major": 2,
       "version_minor": 0
      },
      "text/plain": [
       "  0%|          | 0/100 [00:00<?, ?it/s]"
      ]
     },
     "metadata": {},
     "output_type": "display_data"
    },
    {
     "name": "stdout",
     "output_type": "stream",
     "text": [
      "[LightGBM] [Warning] feature_fraction is set=0.6445612286394168, colsample_bytree=1.0 will be ignored. Current value: feature_fraction=0.6445612286394168\n",
      "[LightGBM] [Warning] bagging_fraction is set=0.9840264980850831, subsample=1.0 will be ignored. Current value: bagging_fraction=0.9840264980850831\n",
      "[LightGBM] [Warning] bagging_freq is set=3, subsample_freq=0 will be ignored. Current value: bagging_freq=3\n"
     ]
    },
    {
     "name": "stderr",
     "output_type": "stream",
     "text": [
      "C:\\Users\\xfini\\AppData\\Local\\Temp\\ipykernel_20184\\981819043.py:18: FutureWarning: suggest_loguniform has been deprecated in v3.0.0. This feature will be removed in v6.0.0. See https://github.com/optuna/optuna/releases/tag/v3.0.0. Use :func:`~optuna.trial.Trial.suggest_float` instead.\n",
      "  'learning_rate': trial.suggest_loguniform('learning_rate', 0.001, 0.1),\n",
      "C:\\Users\\xfini\\AppData\\Local\\Temp\\ipykernel_20184\\981819043.py:21: FutureWarning: suggest_uniform has been deprecated in v3.0.0. This feature will be removed in v6.0.0. See https://github.com/optuna/optuna/releases/tag/v3.0.0. Use :func:`~optuna.trial.Trial.suggest_float` instead.\n",
      "  'feature_fraction': trial.suggest_uniform('feature_fraction', 0.1, 1.0),\n",
      "C:\\Users\\xfini\\AppData\\Local\\Temp\\ipykernel_20184\\981819043.py:22: FutureWarning: suggest_uniform has been deprecated in v3.0.0. This feature will be removed in v6.0.0. See https://github.com/optuna/optuna/releases/tag/v3.0.0. Use :func:`~optuna.trial.Trial.suggest_float` instead.\n",
      "  'bagging_fraction': trial.suggest_uniform('bagging_fraction', 0.1, 1.0),\n",
      "c:\\Users\\xfini\\anaconda3\\lib\\site-packages\\lightgbm\\sklearn.py:726: UserWarning: 'early_stopping_rounds' argument is deprecated and will be removed in a future release of LightGBM. Pass 'early_stopping()' callback via 'callbacks' argument instead.\n",
      "  _log_warning(\"'early_stopping_rounds' argument is deprecated and will be removed in a future release of LightGBM. \"\n",
      "c:\\Users\\xfini\\anaconda3\\lib\\site-packages\\lightgbm\\sklearn.py:736: UserWarning: 'verbose' argument is deprecated and will be removed in a future release of LightGBM. Pass 'log_evaluation()' callback via 'callbacks' argument instead.\n",
      "  _log_warning(\"'verbose' argument is deprecated and will be removed in a future release of LightGBM. \"\n"
     ]
    },
    {
     "name": "stdout",
     "output_type": "stream",
     "text": [
      "\u001b[32m[I 2023-02-24 15:02:12,108]\u001b[0m Trial 0 finished with value: 3055.298112609313 and parameters: {'learning_rate': 0.00310408717203958, 'num_leaves': 65, 'max_depth': 3, 'feature_fraction': 0.6445612286394168, 'bagging_fraction': 0.9840264980850831, 'bagging_freq': 3, 'min_child_samples': 6}. Best is trial 0 with value: 3055.298112609313.\u001b[0m\n",
      "[LightGBM] [Warning] feature_fraction is set=0.6451208249498638, colsample_bytree=1.0 will be ignored. Current value: feature_fraction=0.6451208249498638\n",
      "[LightGBM] [Warning] bagging_fraction is set=0.11447511732510124, subsample=1.0 will be ignored. Current value: bagging_fraction=0.11447511732510124\n",
      "[LightGBM] [Warning] bagging_freq is set=9, subsample_freq=0 will be ignored. Current value: bagging_freq=9\n"
     ]
    },
    {
     "name": "stderr",
     "output_type": "stream",
     "text": [
      "C:\\Users\\xfini\\AppData\\Local\\Temp\\ipykernel_20184\\981819043.py:18: FutureWarning: suggest_loguniform has been deprecated in v3.0.0. This feature will be removed in v6.0.0. See https://github.com/optuna/optuna/releases/tag/v3.0.0. Use :func:`~optuna.trial.Trial.suggest_float` instead.\n",
      "  'learning_rate': trial.suggest_loguniform('learning_rate', 0.001, 0.1),\n",
      "C:\\Users\\xfini\\AppData\\Local\\Temp\\ipykernel_20184\\981819043.py:21: FutureWarning: suggest_uniform has been deprecated in v3.0.0. This feature will be removed in v6.0.0. See https://github.com/optuna/optuna/releases/tag/v3.0.0. Use :func:`~optuna.trial.Trial.suggest_float` instead.\n",
      "  'feature_fraction': trial.suggest_uniform('feature_fraction', 0.1, 1.0),\n",
      "C:\\Users\\xfini\\AppData\\Local\\Temp\\ipykernel_20184\\981819043.py:22: FutureWarning: suggest_uniform has been deprecated in v3.0.0. This feature will be removed in v6.0.0. See https://github.com/optuna/optuna/releases/tag/v3.0.0. Use :func:`~optuna.trial.Trial.suggest_float` instead.\n",
      "  'bagging_fraction': trial.suggest_uniform('bagging_fraction', 0.1, 1.0),\n",
      "c:\\Users\\xfini\\anaconda3\\lib\\site-packages\\lightgbm\\sklearn.py:726: UserWarning: 'early_stopping_rounds' argument is deprecated and will be removed in a future release of LightGBM. Pass 'early_stopping()' callback via 'callbacks' argument instead.\n",
      "  _log_warning(\"'early_stopping_rounds' argument is deprecated and will be removed in a future release of LightGBM. \"\n",
      "c:\\Users\\xfini\\anaconda3\\lib\\site-packages\\lightgbm\\sklearn.py:736: UserWarning: 'verbose' argument is deprecated and will be removed in a future release of LightGBM. Pass 'log_evaluation()' callback via 'callbacks' argument instead.\n",
      "  _log_warning(\"'verbose' argument is deprecated and will be removed in a future release of LightGBM. \"\n"
     ]
    },
    {
     "name": "stdout",
     "output_type": "stream",
     "text": [
      "\u001b[32m[I 2023-02-24 15:02:12,767]\u001b[0m Trial 1 finished with value: 3370.2962795197896 and parameters: {'learning_rate': 0.0018770160292135266, 'num_leaves': 166, 'max_depth': 11, 'feature_fraction': 0.6451208249498638, 'bagging_fraction': 0.11447511732510124, 'bagging_freq': 9, 'min_child_samples': 93}. Best is trial 0 with value: 3055.298112609313.\u001b[0m\n",
      "[LightGBM] [Warning] feature_fraction is set=0.795297523867513, colsample_bytree=1.0 will be ignored. Current value: feature_fraction=0.795297523867513\n",
      "[LightGBM] [Warning] bagging_fraction is set=0.17246067697673476, subsample=1.0 will be ignored. Current value: bagging_fraction=0.17246067697673476\n",
      "[LightGBM] [Warning] bagging_freq is set=6, subsample_freq=0 will be ignored. Current value: bagging_freq=6\n"
     ]
    },
    {
     "name": "stderr",
     "output_type": "stream",
     "text": [
      "C:\\Users\\xfini\\AppData\\Local\\Temp\\ipykernel_20184\\981819043.py:18: FutureWarning: suggest_loguniform has been deprecated in v3.0.0. This feature will be removed in v6.0.0. See https://github.com/optuna/optuna/releases/tag/v3.0.0. Use :func:`~optuna.trial.Trial.suggest_float` instead.\n",
      "  'learning_rate': trial.suggest_loguniform('learning_rate', 0.001, 0.1),\n",
      "C:\\Users\\xfini\\AppData\\Local\\Temp\\ipykernel_20184\\981819043.py:21: FutureWarning: suggest_uniform has been deprecated in v3.0.0. This feature will be removed in v6.0.0. See https://github.com/optuna/optuna/releases/tag/v3.0.0. Use :func:`~optuna.trial.Trial.suggest_float` instead.\n",
      "  'feature_fraction': trial.suggest_uniform('feature_fraction', 0.1, 1.0),\n",
      "C:\\Users\\xfini\\AppData\\Local\\Temp\\ipykernel_20184\\981819043.py:22: FutureWarning: suggest_uniform has been deprecated in v3.0.0. This feature will be removed in v6.0.0. See https://github.com/optuna/optuna/releases/tag/v3.0.0. Use :func:`~optuna.trial.Trial.suggest_float` instead.\n",
      "  'bagging_fraction': trial.suggest_uniform('bagging_fraction', 0.1, 1.0),\n",
      "c:\\Users\\xfini\\anaconda3\\lib\\site-packages\\lightgbm\\sklearn.py:726: UserWarning: 'early_stopping_rounds' argument is deprecated and will be removed in a future release of LightGBM. Pass 'early_stopping()' callback via 'callbacks' argument instead.\n",
      "  _log_warning(\"'early_stopping_rounds' argument is deprecated and will be removed in a future release of LightGBM. \"\n",
      "c:\\Users\\xfini\\anaconda3\\lib\\site-packages\\lightgbm\\sklearn.py:736: UserWarning: 'verbose' argument is deprecated and will be removed in a future release of LightGBM. Pass 'log_evaluation()' callback via 'callbacks' argument instead.\n",
      "  _log_warning(\"'verbose' argument is deprecated and will be removed in a future release of LightGBM. \"\n"
     ]
    },
    {
     "name": "stdout",
     "output_type": "stream",
     "text": [
      "\u001b[32m[I 2023-02-24 15:02:13,166]\u001b[0m Trial 2 finished with value: 2776.189672196193 and parameters: {'learning_rate': 0.003957333973661972, 'num_leaves': 147, 'max_depth': 6, 'feature_fraction': 0.795297523867513, 'bagging_fraction': 0.17246067697673476, 'bagging_freq': 6, 'min_child_samples': 52}. Best is trial 2 with value: 2776.189672196193.\u001b[0m\n",
      "[LightGBM] [Warning] feature_fraction is set=0.1684536707240738, colsample_bytree=1.0 will be ignored. Current value: feature_fraction=0.1684536707240738\n",
      "[LightGBM] [Warning] bagging_fraction is set=0.5278163725962735, subsample=1.0 will be ignored. Current value: bagging_fraction=0.5278163725962735\n",
      "[LightGBM] [Warning] bagging_freq is set=2, subsample_freq=0 will be ignored. Current value: bagging_freq=2\n"
     ]
    },
    {
     "name": "stderr",
     "output_type": "stream",
     "text": [
      "C:\\Users\\xfini\\AppData\\Local\\Temp\\ipykernel_20184\\981819043.py:18: FutureWarning: suggest_loguniform has been deprecated in v3.0.0. This feature will be removed in v6.0.0. See https://github.com/optuna/optuna/releases/tag/v3.0.0. Use :func:`~optuna.trial.Trial.suggest_float` instead.\n",
      "  'learning_rate': trial.suggest_loguniform('learning_rate', 0.001, 0.1),\n",
      "C:\\Users\\xfini\\AppData\\Local\\Temp\\ipykernel_20184\\981819043.py:21: FutureWarning: suggest_uniform has been deprecated in v3.0.0. This feature will be removed in v6.0.0. See https://github.com/optuna/optuna/releases/tag/v3.0.0. Use :func:`~optuna.trial.Trial.suggest_float` instead.\n",
      "  'feature_fraction': trial.suggest_uniform('feature_fraction', 0.1, 1.0),\n",
      "C:\\Users\\xfini\\AppData\\Local\\Temp\\ipykernel_20184\\981819043.py:22: FutureWarning: suggest_uniform has been deprecated in v3.0.0. This feature will be removed in v6.0.0. See https://github.com/optuna/optuna/releases/tag/v3.0.0. Use :func:`~optuna.trial.Trial.suggest_float` instead.\n",
      "  'bagging_fraction': trial.suggest_uniform('bagging_fraction', 0.1, 1.0),\n",
      "c:\\Users\\xfini\\anaconda3\\lib\\site-packages\\lightgbm\\sklearn.py:726: UserWarning: 'early_stopping_rounds' argument is deprecated and will be removed in a future release of LightGBM. Pass 'early_stopping()' callback via 'callbacks' argument instead.\n",
      "  _log_warning(\"'early_stopping_rounds' argument is deprecated and will be removed in a future release of LightGBM. \"\n",
      "c:\\Users\\xfini\\anaconda3\\lib\\site-packages\\lightgbm\\sklearn.py:736: UserWarning: 'verbose' argument is deprecated and will be removed in a future release of LightGBM. Pass 'log_evaluation()' callback via 'callbacks' argument instead.\n",
      "  _log_warning(\"'verbose' argument is deprecated and will be removed in a future release of LightGBM. \"\n"
     ]
    },
    {
     "name": "stdout",
     "output_type": "stream",
     "text": [
      "\u001b[32m[I 2023-02-24 15:02:13,586]\u001b[0m Trial 3 finished with value: 3421.5397803289156 and parameters: {'learning_rate': 0.0027231928236485813, 'num_leaves': 30, 'max_depth': 12, 'feature_fraction': 0.1684536707240738, 'bagging_fraction': 0.5278163725962735, 'bagging_freq': 2, 'min_child_samples': 36}. Best is trial 2 with value: 2776.189672196193.\u001b[0m\n",
      "[LightGBM] [Warning] feature_fraction is set=0.15502949625507723, colsample_bytree=1.0 will be ignored. Current value: feature_fraction=0.15502949625507723\n",
      "[LightGBM] [Warning] bagging_fraction is set=0.24760536878147382, subsample=1.0 will be ignored. Current value: bagging_fraction=0.24760536878147382\n",
      "[LightGBM] [Warning] bagging_freq is set=1, subsample_freq=0 will be ignored. Current value: bagging_freq=1\n"
     ]
    },
    {
     "name": "stderr",
     "output_type": "stream",
     "text": [
      "C:\\Users\\xfini\\AppData\\Local\\Temp\\ipykernel_20184\\981819043.py:18: FutureWarning: suggest_loguniform has been deprecated in v3.0.0. This feature will be removed in v6.0.0. See https://github.com/optuna/optuna/releases/tag/v3.0.0. Use :func:`~optuna.trial.Trial.suggest_float` instead.\n",
      "  'learning_rate': trial.suggest_loguniform('learning_rate', 0.001, 0.1),\n",
      "C:\\Users\\xfini\\AppData\\Local\\Temp\\ipykernel_20184\\981819043.py:21: FutureWarning: suggest_uniform has been deprecated in v3.0.0. This feature will be removed in v6.0.0. See https://github.com/optuna/optuna/releases/tag/v3.0.0. Use :func:`~optuna.trial.Trial.suggest_float` instead.\n",
      "  'feature_fraction': trial.suggest_uniform('feature_fraction', 0.1, 1.0),\n",
      "C:\\Users\\xfini\\AppData\\Local\\Temp\\ipykernel_20184\\981819043.py:22: FutureWarning: suggest_uniform has been deprecated in v3.0.0. This feature will be removed in v6.0.0. See https://github.com/optuna/optuna/releases/tag/v3.0.0. Use :func:`~optuna.trial.Trial.suggest_float` instead.\n",
      "  'bagging_fraction': trial.suggest_uniform('bagging_fraction', 0.1, 1.0),\n",
      "c:\\Users\\xfini\\anaconda3\\lib\\site-packages\\lightgbm\\sklearn.py:726: UserWarning: 'early_stopping_rounds' argument is deprecated and will be removed in a future release of LightGBM. Pass 'early_stopping()' callback via 'callbacks' argument instead.\n",
      "  _log_warning(\"'early_stopping_rounds' argument is deprecated and will be removed in a future release of LightGBM. \"\n",
      "c:\\Users\\xfini\\anaconda3\\lib\\site-packages\\lightgbm\\sklearn.py:736: UserWarning: 'verbose' argument is deprecated and will be removed in a future release of LightGBM. Pass 'log_evaluation()' callback via 'callbacks' argument instead.\n",
      "  _log_warning(\"'verbose' argument is deprecated and will be removed in a future release of LightGBM. \"\n"
     ]
    },
    {
     "name": "stdout",
     "output_type": "stream",
     "text": [
      "\u001b[32m[I 2023-02-24 15:02:13,853]\u001b[0m Trial 4 finished with value: 1410.0224400590528 and parameters: {'learning_rate': 0.036969779092132345, 'num_leaves': 45, 'max_depth': 9, 'feature_fraction': 0.15502949625507723, 'bagging_fraction': 0.24760536878147382, 'bagging_freq': 1, 'min_child_samples': 60}. Best is trial 4 with value: 1410.0224400590528.\u001b[0m\n",
      "[LightGBM] [Warning] feature_fraction is set=0.7866461864180377, colsample_bytree=1.0 will be ignored. Current value: feature_fraction=0.7866461864180377\n",
      "[LightGBM] [Warning] bagging_fraction is set=0.5007903461724984, subsample=1.0 will be ignored. Current value: bagging_fraction=0.5007903461724984\n",
      "[LightGBM] [Warning] bagging_freq is set=4, subsample_freq=0 will be ignored. Current value: bagging_freq=4\n"
     ]
    },
    {
     "name": "stderr",
     "output_type": "stream",
     "text": [
      "C:\\Users\\xfini\\AppData\\Local\\Temp\\ipykernel_20184\\981819043.py:18: FutureWarning: suggest_loguniform has been deprecated in v3.0.0. This feature will be removed in v6.0.0. See https://github.com/optuna/optuna/releases/tag/v3.0.0. Use :func:`~optuna.trial.Trial.suggest_float` instead.\n",
      "  'learning_rate': trial.suggest_loguniform('learning_rate', 0.001, 0.1),\n",
      "C:\\Users\\xfini\\AppData\\Local\\Temp\\ipykernel_20184\\981819043.py:21: FutureWarning: suggest_uniform has been deprecated in v3.0.0. This feature will be removed in v6.0.0. See https://github.com/optuna/optuna/releases/tag/v3.0.0. Use :func:`~optuna.trial.Trial.suggest_float` instead.\n",
      "  'feature_fraction': trial.suggest_uniform('feature_fraction', 0.1, 1.0),\n",
      "C:\\Users\\xfini\\AppData\\Local\\Temp\\ipykernel_20184\\981819043.py:22: FutureWarning: suggest_uniform has been deprecated in v3.0.0. This feature will be removed in v6.0.0. See https://github.com/optuna/optuna/releases/tag/v3.0.0. Use :func:`~optuna.trial.Trial.suggest_float` instead.\n",
      "  'bagging_fraction': trial.suggest_uniform('bagging_fraction', 0.1, 1.0),\n",
      "c:\\Users\\xfini\\anaconda3\\lib\\site-packages\\lightgbm\\sklearn.py:726: UserWarning: 'early_stopping_rounds' argument is deprecated and will be removed in a future release of LightGBM. Pass 'early_stopping()' callback via 'callbacks' argument instead.\n",
      "  _log_warning(\"'early_stopping_rounds' argument is deprecated and will be removed in a future release of LightGBM. \"\n",
      "c:\\Users\\xfini\\anaconda3\\lib\\site-packages\\lightgbm\\sklearn.py:736: UserWarning: 'verbose' argument is deprecated and will be removed in a future release of LightGBM. Pass 'log_evaluation()' callback via 'callbacks' argument instead.\n",
      "  _log_warning(\"'verbose' argument is deprecated and will be removed in a future release of LightGBM. \"\n"
     ]
    },
    {
     "name": "stdout",
     "output_type": "stream",
     "text": [
      "\u001b[32m[I 2023-02-24 15:02:14,894]\u001b[0m Trial 5 finished with value: 3189.984268112635 and parameters: {'learning_rate': 0.0024293900242885053, 'num_leaves': 217, 'max_depth': 12, 'feature_fraction': 0.7866461864180377, 'bagging_fraction': 0.5007903461724984, 'bagging_freq': 4, 'min_child_samples': 42}. Best is trial 4 with value: 1410.0224400590528.\u001b[0m\n",
      "[LightGBM] [Warning] feature_fraction is set=0.6372977532464692, colsample_bytree=1.0 will be ignored. Current value: feature_fraction=0.6372977532464692\n",
      "[LightGBM] [Warning] bagging_fraction is set=0.2833065876750398, subsample=1.0 will be ignored. Current value: bagging_fraction=0.2833065876750398\n",
      "[LightGBM] [Warning] bagging_freq is set=1, subsample_freq=0 will be ignored. Current value: bagging_freq=1\n"
     ]
    },
    {
     "name": "stderr",
     "output_type": "stream",
     "text": [
      "C:\\Users\\xfini\\AppData\\Local\\Temp\\ipykernel_20184\\981819043.py:18: FutureWarning: suggest_loguniform has been deprecated in v3.0.0. This feature will be removed in v6.0.0. See https://github.com/optuna/optuna/releases/tag/v3.0.0. Use :func:`~optuna.trial.Trial.suggest_float` instead.\n",
      "  'learning_rate': trial.suggest_loguniform('learning_rate', 0.001, 0.1),\n",
      "C:\\Users\\xfini\\AppData\\Local\\Temp\\ipykernel_20184\\981819043.py:21: FutureWarning: suggest_uniform has been deprecated in v3.0.0. This feature will be removed in v6.0.0. See https://github.com/optuna/optuna/releases/tag/v3.0.0. Use :func:`~optuna.trial.Trial.suggest_float` instead.\n",
      "  'feature_fraction': trial.suggest_uniform('feature_fraction', 0.1, 1.0),\n",
      "C:\\Users\\xfini\\AppData\\Local\\Temp\\ipykernel_20184\\981819043.py:22: FutureWarning: suggest_uniform has been deprecated in v3.0.0. This feature will be removed in v6.0.0. See https://github.com/optuna/optuna/releases/tag/v3.0.0. Use :func:`~optuna.trial.Trial.suggest_float` instead.\n",
      "  'bagging_fraction': trial.suggest_uniform('bagging_fraction', 0.1, 1.0),\n",
      "c:\\Users\\xfini\\anaconda3\\lib\\site-packages\\lightgbm\\sklearn.py:726: UserWarning: 'early_stopping_rounds' argument is deprecated and will be removed in a future release of LightGBM. Pass 'early_stopping()' callback via 'callbacks' argument instead.\n",
      "  _log_warning(\"'early_stopping_rounds' argument is deprecated and will be removed in a future release of LightGBM. \"\n",
      "c:\\Users\\xfini\\anaconda3\\lib\\site-packages\\lightgbm\\sklearn.py:736: UserWarning: 'verbose' argument is deprecated and will be removed in a future release of LightGBM. Pass 'log_evaluation()' callback via 'callbacks' argument instead.\n",
      "  _log_warning(\"'verbose' argument is deprecated and will be removed in a future release of LightGBM. \"\n"
     ]
    },
    {
     "name": "stdout",
     "output_type": "stream",
     "text": [
      "\u001b[32m[I 2023-02-24 15:02:15,536]\u001b[0m Trial 6 finished with value: 689.6105323615726 and parameters: {'learning_rate': 0.02810917343898324, 'num_leaves': 171, 'max_depth': 12, 'feature_fraction': 0.6372977532464692, 'bagging_fraction': 0.2833065876750398, 'bagging_freq': 1, 'min_child_samples': 86}. Best is trial 6 with value: 689.6105323615726.\u001b[0m\n",
      "[LightGBM] [Warning] feature_fraction is set=0.9909622887785929, colsample_bytree=1.0 will be ignored. Current value: feature_fraction=0.9909622887785929\n",
      "[LightGBM] [Warning] bagging_fraction is set=0.43604465118773417, subsample=1.0 will be ignored. Current value: bagging_fraction=0.43604465118773417\n",
      "[LightGBM] [Warning] bagging_freq is set=6, subsample_freq=0 will be ignored. Current value: bagging_freq=6\n"
     ]
    },
    {
     "name": "stderr",
     "output_type": "stream",
     "text": [
      "C:\\Users\\xfini\\AppData\\Local\\Temp\\ipykernel_20184\\981819043.py:18: FutureWarning: suggest_loguniform has been deprecated in v3.0.0. This feature will be removed in v6.0.0. See https://github.com/optuna/optuna/releases/tag/v3.0.0. Use :func:`~optuna.trial.Trial.suggest_float` instead.\n",
      "  'learning_rate': trial.suggest_loguniform('learning_rate', 0.001, 0.1),\n",
      "C:\\Users\\xfini\\AppData\\Local\\Temp\\ipykernel_20184\\981819043.py:21: FutureWarning: suggest_uniform has been deprecated in v3.0.0. This feature will be removed in v6.0.0. See https://github.com/optuna/optuna/releases/tag/v3.0.0. Use :func:`~optuna.trial.Trial.suggest_float` instead.\n",
      "  'feature_fraction': trial.suggest_uniform('feature_fraction', 0.1, 1.0),\n",
      "C:\\Users\\xfini\\AppData\\Local\\Temp\\ipykernel_20184\\981819043.py:22: FutureWarning: suggest_uniform has been deprecated in v3.0.0. This feature will be removed in v6.0.0. See https://github.com/optuna/optuna/releases/tag/v3.0.0. Use :func:`~optuna.trial.Trial.suggest_float` instead.\n",
      "  'bagging_fraction': trial.suggest_uniform('bagging_fraction', 0.1, 1.0),\n",
      "c:\\Users\\xfini\\anaconda3\\lib\\site-packages\\lightgbm\\sklearn.py:726: UserWarning: 'early_stopping_rounds' argument is deprecated and will be removed in a future release of LightGBM. Pass 'early_stopping()' callback via 'callbacks' argument instead.\n",
      "  _log_warning(\"'early_stopping_rounds' argument is deprecated and will be removed in a future release of LightGBM. \"\n",
      "c:\\Users\\xfini\\anaconda3\\lib\\site-packages\\lightgbm\\sklearn.py:736: UserWarning: 'verbose' argument is deprecated and will be removed in a future release of LightGBM. Pass 'log_evaluation()' callback via 'callbacks' argument instead.\n",
      "  _log_warning(\"'verbose' argument is deprecated and will be removed in a future release of LightGBM. \"\n"
     ]
    },
    {
     "name": "stdout",
     "output_type": "stream",
     "text": [
      "\u001b[32m[I 2023-02-24 15:02:15,821]\u001b[0m Trial 7 finished with value: 596.933849126537 and parameters: {'learning_rate': 0.06318918084378417, 'num_leaves': 210, 'max_depth': 5, 'feature_fraction': 0.9909622887785929, 'bagging_fraction': 0.43604465118773417, 'bagging_freq': 6, 'min_child_samples': 37}. Best is trial 7 with value: 596.933849126537.\u001b[0m\n",
      "[LightGBM] [Warning] feature_fraction is set=0.5019104212282812, colsample_bytree=1.0 will be ignored. Current value: feature_fraction=0.5019104212282812\n",
      "[LightGBM] [Warning] bagging_fraction is set=0.8905566563863188, subsample=1.0 will be ignored. Current value: bagging_fraction=0.8905566563863188\n",
      "[LightGBM] [Warning] bagging_freq is set=8, subsample_freq=0 will be ignored. Current value: bagging_freq=8\n"
     ]
    },
    {
     "name": "stderr",
     "output_type": "stream",
     "text": [
      "C:\\Users\\xfini\\AppData\\Local\\Temp\\ipykernel_20184\\981819043.py:18: FutureWarning: suggest_loguniform has been deprecated in v3.0.0. This feature will be removed in v6.0.0. See https://github.com/optuna/optuna/releases/tag/v3.0.0. Use :func:`~optuna.trial.Trial.suggest_float` instead.\n",
      "  'learning_rate': trial.suggest_loguniform('learning_rate', 0.001, 0.1),\n",
      "C:\\Users\\xfini\\AppData\\Local\\Temp\\ipykernel_20184\\981819043.py:21: FutureWarning: suggest_uniform has been deprecated in v3.0.0. This feature will be removed in v6.0.0. See https://github.com/optuna/optuna/releases/tag/v3.0.0. Use :func:`~optuna.trial.Trial.suggest_float` instead.\n",
      "  'feature_fraction': trial.suggest_uniform('feature_fraction', 0.1, 1.0),\n",
      "C:\\Users\\xfini\\AppData\\Local\\Temp\\ipykernel_20184\\981819043.py:22: FutureWarning: suggest_uniform has been deprecated in v3.0.0. This feature will be removed in v6.0.0. See https://github.com/optuna/optuna/releases/tag/v3.0.0. Use :func:`~optuna.trial.Trial.suggest_float` instead.\n",
      "  'bagging_fraction': trial.suggest_uniform('bagging_fraction', 0.1, 1.0),\n",
      "c:\\Users\\xfini\\anaconda3\\lib\\site-packages\\lightgbm\\sklearn.py:726: UserWarning: 'early_stopping_rounds' argument is deprecated and will be removed in a future release of LightGBM. Pass 'early_stopping()' callback via 'callbacks' argument instead.\n",
      "  _log_warning(\"'early_stopping_rounds' argument is deprecated and will be removed in a future release of LightGBM. \"\n",
      "c:\\Users\\xfini\\anaconda3\\lib\\site-packages\\lightgbm\\sklearn.py:736: UserWarning: 'verbose' argument is deprecated and will be removed in a future release of LightGBM. Pass 'log_evaluation()' callback via 'callbacks' argument instead.\n",
      "  _log_warning(\"'verbose' argument is deprecated and will be removed in a future release of LightGBM. \"\n"
     ]
    },
    {
     "name": "stdout",
     "output_type": "stream",
     "text": [
      "\u001b[32m[I 2023-02-24 15:02:16,503]\u001b[0m Trial 8 finished with value: 3356.795761249663 and parameters: {'learning_rate': 0.0019178038941994517, 'num_leaves': 127, 'max_depth': 11, 'feature_fraction': 0.5019104212282812, 'bagging_fraction': 0.8905566563863188, 'bagging_freq': 8, 'min_child_samples': 32}. Best is trial 7 with value: 596.933849126537.\u001b[0m\n",
      "[LightGBM] [Warning] feature_fraction is set=0.25720915018350554, colsample_bytree=1.0 will be ignored. Current value: feature_fraction=0.25720915018350554\n",
      "[LightGBM] [Warning] bagging_fraction is set=0.26079876660136275, subsample=1.0 will be ignored. Current value: bagging_fraction=0.26079876660136275\n",
      "[LightGBM] [Warning] bagging_freq is set=2, subsample_freq=0 will be ignored. Current value: bagging_freq=2\n"
     ]
    },
    {
     "name": "stderr",
     "output_type": "stream",
     "text": [
      "C:\\Users\\xfini\\AppData\\Local\\Temp\\ipykernel_20184\\981819043.py:18: FutureWarning: suggest_loguniform has been deprecated in v3.0.0. This feature will be removed in v6.0.0. See https://github.com/optuna/optuna/releases/tag/v3.0.0. Use :func:`~optuna.trial.Trial.suggest_float` instead.\n",
      "  'learning_rate': trial.suggest_loguniform('learning_rate', 0.001, 0.1),\n",
      "C:\\Users\\xfini\\AppData\\Local\\Temp\\ipykernel_20184\\981819043.py:21: FutureWarning: suggest_uniform has been deprecated in v3.0.0. This feature will be removed in v6.0.0. See https://github.com/optuna/optuna/releases/tag/v3.0.0. Use :func:`~optuna.trial.Trial.suggest_float` instead.\n",
      "  'feature_fraction': trial.suggest_uniform('feature_fraction', 0.1, 1.0),\n",
      "C:\\Users\\xfini\\AppData\\Local\\Temp\\ipykernel_20184\\981819043.py:22: FutureWarning: suggest_uniform has been deprecated in v3.0.0. This feature will be removed in v6.0.0. See https://github.com/optuna/optuna/releases/tag/v3.0.0. Use :func:`~optuna.trial.Trial.suggest_float` instead.\n",
      "  'bagging_fraction': trial.suggest_uniform('bagging_fraction', 0.1, 1.0),\n",
      "c:\\Users\\xfini\\anaconda3\\lib\\site-packages\\lightgbm\\sklearn.py:726: UserWarning: 'early_stopping_rounds' argument is deprecated and will be removed in a future release of LightGBM. Pass 'early_stopping()' callback via 'callbacks' argument instead.\n",
      "  _log_warning(\"'early_stopping_rounds' argument is deprecated and will be removed in a future release of LightGBM. \"\n",
      "c:\\Users\\xfini\\anaconda3\\lib\\site-packages\\lightgbm\\sklearn.py:736: UserWarning: 'verbose' argument is deprecated and will be removed in a future release of LightGBM. Pass 'log_evaluation()' callback via 'callbacks' argument instead.\n",
      "  _log_warning(\"'verbose' argument is deprecated and will be removed in a future release of LightGBM. \"\n"
     ]
    },
    {
     "name": "stdout",
     "output_type": "stream",
     "text": [
      "\u001b[32m[I 2023-02-24 15:02:17,074]\u001b[0m Trial 9 finished with value: 3268.5115568272054 and parameters: {'learning_rate': 0.0035061980844903954, 'num_leaves': 240, 'max_depth': 9, 'feature_fraction': 0.25720915018350554, 'bagging_fraction': 0.26079876660136275, 'bagging_freq': 2, 'min_child_samples': 77}. Best is trial 7 with value: 596.933849126537.\u001b[0m\n",
      "[LightGBM] [Warning] feature_fraction is set=0.9991351464640443, colsample_bytree=1.0 will be ignored. Current value: feature_fraction=0.9991351464640443\n",
      "[LightGBM] [Warning] bagging_fraction is set=0.7390948755401832, subsample=1.0 will be ignored. Current value: bagging_fraction=0.7390948755401832\n",
      "[LightGBM] [Warning] bagging_freq is set=6, subsample_freq=0 will be ignored. Current value: bagging_freq=6\n"
     ]
    },
    {
     "name": "stderr",
     "output_type": "stream",
     "text": [
      "C:\\Users\\xfini\\AppData\\Local\\Temp\\ipykernel_20184\\981819043.py:18: FutureWarning: suggest_loguniform has been deprecated in v3.0.0. This feature will be removed in v6.0.0. See https://github.com/optuna/optuna/releases/tag/v3.0.0. Use :func:`~optuna.trial.Trial.suggest_float` instead.\n",
      "  'learning_rate': trial.suggest_loguniform('learning_rate', 0.001, 0.1),\n",
      "C:\\Users\\xfini\\AppData\\Local\\Temp\\ipykernel_20184\\981819043.py:21: FutureWarning: suggest_uniform has been deprecated in v3.0.0. This feature will be removed in v6.0.0. See https://github.com/optuna/optuna/releases/tag/v3.0.0. Use :func:`~optuna.trial.Trial.suggest_float` instead.\n",
      "  'feature_fraction': trial.suggest_uniform('feature_fraction', 0.1, 1.0),\n",
      "C:\\Users\\xfini\\AppData\\Local\\Temp\\ipykernel_20184\\981819043.py:22: FutureWarning: suggest_uniform has been deprecated in v3.0.0. This feature will be removed in v6.0.0. See https://github.com/optuna/optuna/releases/tag/v3.0.0. Use :func:`~optuna.trial.Trial.suggest_float` instead.\n",
      "  'bagging_fraction': trial.suggest_uniform('bagging_fraction', 0.1, 1.0),\n",
      "c:\\Users\\xfini\\anaconda3\\lib\\site-packages\\lightgbm\\sklearn.py:726: UserWarning: 'early_stopping_rounds' argument is deprecated and will be removed in a future release of LightGBM. Pass 'early_stopping()' callback via 'callbacks' argument instead.\n",
      "  _log_warning(\"'early_stopping_rounds' argument is deprecated and will be removed in a future release of LightGBM. \"\n",
      "c:\\Users\\xfini\\anaconda3\\lib\\site-packages\\lightgbm\\sklearn.py:736: UserWarning: 'verbose' argument is deprecated and will be removed in a future release of LightGBM. Pass 'log_evaluation()' callback via 'callbacks' argument instead.\n",
      "  _log_warning(\"'verbose' argument is deprecated and will be removed in a future release of LightGBM. \"\n"
     ]
    },
    {
     "name": "stdout",
     "output_type": "stream",
     "text": [
      "\u001b[32m[I 2023-02-24 15:02:17,298]\u001b[0m Trial 10 finished with value: 651.8811416982275 and parameters: {'learning_rate': 0.09707148414070307, 'num_leaves': 205, 'max_depth': 3, 'feature_fraction': 0.9991351464640443, 'bagging_fraction': 0.7390948755401832, 'bagging_freq': 6, 'min_child_samples': 10}. Best is trial 7 with value: 596.933849126537.\u001b[0m\n",
      "[LightGBM] [Warning] feature_fraction is set=0.9988188538882892, colsample_bytree=1.0 will be ignored. Current value: feature_fraction=0.9988188538882892\n",
      "[LightGBM] [Warning] bagging_fraction is set=0.7208645919981489, subsample=1.0 will be ignored. Current value: bagging_fraction=0.7208645919981489\n",
      "[LightGBM] [Warning] bagging_freq is set=6, subsample_freq=0 will be ignored. Current value: bagging_freq=6\n"
     ]
    },
    {
     "name": "stderr",
     "output_type": "stream",
     "text": [
      "C:\\Users\\xfini\\AppData\\Local\\Temp\\ipykernel_20184\\981819043.py:18: FutureWarning: suggest_loguniform has been deprecated in v3.0.0. This feature will be removed in v6.0.0. See https://github.com/optuna/optuna/releases/tag/v3.0.0. Use :func:`~optuna.trial.Trial.suggest_float` instead.\n",
      "  'learning_rate': trial.suggest_loguniform('learning_rate', 0.001, 0.1),\n",
      "C:\\Users\\xfini\\AppData\\Local\\Temp\\ipykernel_20184\\981819043.py:21: FutureWarning: suggest_uniform has been deprecated in v3.0.0. This feature will be removed in v6.0.0. See https://github.com/optuna/optuna/releases/tag/v3.0.0. Use :func:`~optuna.trial.Trial.suggest_float` instead.\n",
      "  'feature_fraction': trial.suggest_uniform('feature_fraction', 0.1, 1.0),\n",
      "C:\\Users\\xfini\\AppData\\Local\\Temp\\ipykernel_20184\\981819043.py:22: FutureWarning: suggest_uniform has been deprecated in v3.0.0. This feature will be removed in v6.0.0. See https://github.com/optuna/optuna/releases/tag/v3.0.0. Use :func:`~optuna.trial.Trial.suggest_float` instead.\n",
      "  'bagging_fraction': trial.suggest_uniform('bagging_fraction', 0.1, 1.0),\n",
      "c:\\Users\\xfini\\anaconda3\\lib\\site-packages\\lightgbm\\sklearn.py:726: UserWarning: 'early_stopping_rounds' argument is deprecated and will be removed in a future release of LightGBM. Pass 'early_stopping()' callback via 'callbacks' argument instead.\n",
      "  _log_warning(\"'early_stopping_rounds' argument is deprecated and will be removed in a future release of LightGBM. \"\n",
      "c:\\Users\\xfini\\anaconda3\\lib\\site-packages\\lightgbm\\sklearn.py:736: UserWarning: 'verbose' argument is deprecated and will be removed in a future release of LightGBM. Pass 'log_evaluation()' callback via 'callbacks' argument instead.\n",
      "  _log_warning(\"'verbose' argument is deprecated and will be removed in a future release of LightGBM. \"\n"
     ]
    },
    {
     "name": "stdout",
     "output_type": "stream",
     "text": [
      "\u001b[32m[I 2023-02-24 15:02:17,541]\u001b[0m Trial 11 finished with value: 651.1063277891491 and parameters: {'learning_rate': 0.09371170692290737, 'num_leaves': 207, 'max_depth': 3, 'feature_fraction': 0.9988188538882892, 'bagging_fraction': 0.7208645919981489, 'bagging_freq': 6, 'min_child_samples': 6}. Best is trial 7 with value: 596.933849126537.\u001b[0m\n",
      "[LightGBM] [Warning] feature_fraction is set=0.9959378392479245, colsample_bytree=1.0 will be ignored. Current value: feature_fraction=0.9959378392479245\n",
      "[LightGBM] [Warning] bagging_fraction is set=0.6706579929981056, subsample=1.0 will be ignored. Current value: bagging_fraction=0.6706579929981056\n",
      "[LightGBM] [Warning] bagging_freq is set=7, subsample_freq=0 will be ignored. Current value: bagging_freq=7\n"
     ]
    },
    {
     "name": "stderr",
     "output_type": "stream",
     "text": [
      "C:\\Users\\xfini\\AppData\\Local\\Temp\\ipykernel_20184\\981819043.py:18: FutureWarning: suggest_loguniform has been deprecated in v3.0.0. This feature will be removed in v6.0.0. See https://github.com/optuna/optuna/releases/tag/v3.0.0. Use :func:`~optuna.trial.Trial.suggest_float` instead.\n",
      "  'learning_rate': trial.suggest_loguniform('learning_rate', 0.001, 0.1),\n",
      "C:\\Users\\xfini\\AppData\\Local\\Temp\\ipykernel_20184\\981819043.py:21: FutureWarning: suggest_uniform has been deprecated in v3.0.0. This feature will be removed in v6.0.0. See https://github.com/optuna/optuna/releases/tag/v3.0.0. Use :func:`~optuna.trial.Trial.suggest_float` instead.\n",
      "  'feature_fraction': trial.suggest_uniform('feature_fraction', 0.1, 1.0),\n",
      "C:\\Users\\xfini\\AppData\\Local\\Temp\\ipykernel_20184\\981819043.py:22: FutureWarning: suggest_uniform has been deprecated in v3.0.0. This feature will be removed in v6.0.0. See https://github.com/optuna/optuna/releases/tag/v3.0.0. Use :func:`~optuna.trial.Trial.suggest_float` instead.\n",
      "  'bagging_fraction': trial.suggest_uniform('bagging_fraction', 0.1, 1.0),\n",
      "c:\\Users\\xfini\\anaconda3\\lib\\site-packages\\lightgbm\\sklearn.py:726: UserWarning: 'early_stopping_rounds' argument is deprecated and will be removed in a future release of LightGBM. Pass 'early_stopping()' callback via 'callbacks' argument instead.\n",
      "  _log_warning(\"'early_stopping_rounds' argument is deprecated and will be removed in a future release of LightGBM. \"\n",
      "c:\\Users\\xfini\\anaconda3\\lib\\site-packages\\lightgbm\\sklearn.py:736: UserWarning: 'verbose' argument is deprecated and will be removed in a future release of LightGBM. Pass 'log_evaluation()' callback via 'callbacks' argument instead.\n",
      "  _log_warning(\"'verbose' argument is deprecated and will be removed in a future release of LightGBM. \"\n"
     ]
    },
    {
     "name": "stdout",
     "output_type": "stream",
     "text": [
      "\u001b[32m[I 2023-02-24 15:02:17,919]\u001b[0m Trial 12 finished with value: 580.6304219516476 and parameters: {'learning_rate': 0.09278950216393766, 'num_leaves': 253, 'max_depth': 6, 'feature_fraction': 0.9959378392479245, 'bagging_fraction': 0.6706579929981056, 'bagging_freq': 7, 'min_child_samples': 24}. Best is trial 12 with value: 580.6304219516476.\u001b[0m\n",
      "[LightGBM] [Warning] feature_fraction is set=0.8873484424790385, colsample_bytree=1.0 will be ignored. Current value: feature_fraction=0.8873484424790385\n",
      "[LightGBM] [Warning] bagging_fraction is set=0.4419221855389487, subsample=1.0 will be ignored. Current value: bagging_fraction=0.4419221855389487\n",
      "[LightGBM] [Warning] bagging_freq is set=8, subsample_freq=0 will be ignored. Current value: bagging_freq=8\n"
     ]
    },
    {
     "name": "stderr",
     "output_type": "stream",
     "text": [
      "C:\\Users\\xfini\\AppData\\Local\\Temp\\ipykernel_20184\\981819043.py:18: FutureWarning: suggest_loguniform has been deprecated in v3.0.0. This feature will be removed in v6.0.0. See https://github.com/optuna/optuna/releases/tag/v3.0.0. Use :func:`~optuna.trial.Trial.suggest_float` instead.\n",
      "  'learning_rate': trial.suggest_loguniform('learning_rate', 0.001, 0.1),\n",
      "C:\\Users\\xfini\\AppData\\Local\\Temp\\ipykernel_20184\\981819043.py:21: FutureWarning: suggest_uniform has been deprecated in v3.0.0. This feature will be removed in v6.0.0. See https://github.com/optuna/optuna/releases/tag/v3.0.0. Use :func:`~optuna.trial.Trial.suggest_float` instead.\n",
      "  'feature_fraction': trial.suggest_uniform('feature_fraction', 0.1, 1.0),\n",
      "C:\\Users\\xfini\\AppData\\Local\\Temp\\ipykernel_20184\\981819043.py:22: FutureWarning: suggest_uniform has been deprecated in v3.0.0. This feature will be removed in v6.0.0. See https://github.com/optuna/optuna/releases/tag/v3.0.0. Use :func:`~optuna.trial.Trial.suggest_float` instead.\n",
      "  'bagging_fraction': trial.suggest_uniform('bagging_fraction', 0.1, 1.0),\n",
      "c:\\Users\\xfini\\anaconda3\\lib\\site-packages\\lightgbm\\sklearn.py:726: UserWarning: 'early_stopping_rounds' argument is deprecated and will be removed in a future release of LightGBM. Pass 'early_stopping()' callback via 'callbacks' argument instead.\n",
      "  _log_warning(\"'early_stopping_rounds' argument is deprecated and will be removed in a future release of LightGBM. \"\n",
      "c:\\Users\\xfini\\anaconda3\\lib\\site-packages\\lightgbm\\sklearn.py:736: UserWarning: 'verbose' argument is deprecated and will be removed in a future release of LightGBM. Pass 'log_evaluation()' callback via 'callbacks' argument instead.\n",
      "  _log_warning(\"'verbose' argument is deprecated and will be removed in a future release of LightGBM. \"\n"
     ]
    },
    {
     "name": "stdout",
     "output_type": "stream",
     "text": [
      "\u001b[32m[I 2023-02-24 15:02:18,316]\u001b[0m Trial 13 finished with value: 603.7110706476515 and parameters: {'learning_rate': 0.040049593710242526, 'num_leaves': 255, 'max_depth': 6, 'feature_fraction': 0.8873484424790385, 'bagging_fraction': 0.4419221855389487, 'bagging_freq': 8, 'min_child_samples': 22}. Best is trial 12 with value: 580.6304219516476.\u001b[0m\n",
      "[LightGBM] [Warning] feature_fraction is set=0.8589670332322915, colsample_bytree=1.0 will be ignored. Current value: feature_fraction=0.8589670332322915\n",
      "[LightGBM] [Warning] bagging_fraction is set=0.6273575007192846, subsample=1.0 will be ignored. Current value: bagging_fraction=0.6273575007192846\n",
      "[LightGBM] [Warning] bagging_freq is set=10, subsample_freq=0 will be ignored. Current value: bagging_freq=10\n"
     ]
    },
    {
     "name": "stderr",
     "output_type": "stream",
     "text": [
      "C:\\Users\\xfini\\AppData\\Local\\Temp\\ipykernel_20184\\981819043.py:18: FutureWarning: suggest_loguniform has been deprecated in v3.0.0. This feature will be removed in v6.0.0. See https://github.com/optuna/optuna/releases/tag/v3.0.0. Use :func:`~optuna.trial.Trial.suggest_float` instead.\n",
      "  'learning_rate': trial.suggest_loguniform('learning_rate', 0.001, 0.1),\n",
      "C:\\Users\\xfini\\AppData\\Local\\Temp\\ipykernel_20184\\981819043.py:21: FutureWarning: suggest_uniform has been deprecated in v3.0.0. This feature will be removed in v6.0.0. See https://github.com/optuna/optuna/releases/tag/v3.0.0. Use :func:`~optuna.trial.Trial.suggest_float` instead.\n",
      "  'feature_fraction': trial.suggest_uniform('feature_fraction', 0.1, 1.0),\n",
      "C:\\Users\\xfini\\AppData\\Local\\Temp\\ipykernel_20184\\981819043.py:22: FutureWarning: suggest_uniform has been deprecated in v3.0.0. This feature will be removed in v6.0.0. See https://github.com/optuna/optuna/releases/tag/v3.0.0. Use :func:`~optuna.trial.Trial.suggest_float` instead.\n",
      "  'bagging_fraction': trial.suggest_uniform('bagging_fraction', 0.1, 1.0),\n",
      "c:\\Users\\xfini\\anaconda3\\lib\\site-packages\\lightgbm\\sklearn.py:726: UserWarning: 'early_stopping_rounds' argument is deprecated and will be removed in a future release of LightGBM. Pass 'early_stopping()' callback via 'callbacks' argument instead.\n",
      "  _log_warning(\"'early_stopping_rounds' argument is deprecated and will be removed in a future release of LightGBM. \"\n",
      "c:\\Users\\xfini\\anaconda3\\lib\\site-packages\\lightgbm\\sklearn.py:736: UserWarning: 'verbose' argument is deprecated and will be removed in a future release of LightGBM. Pass 'log_evaluation()' callback via 'callbacks' argument instead.\n",
      "  _log_warning(\"'verbose' argument is deprecated and will be removed in a future release of LightGBM. \"\n"
     ]
    },
    {
     "name": "stdout",
     "output_type": "stream",
     "text": [
      "\u001b[32m[I 2023-02-24 15:02:18,760]\u001b[0m Trial 14 finished with value: 1248.3262598188694 and parameters: {'learning_rate': 0.013446133699612834, 'num_leaves': 102, 'max_depth': 6, 'feature_fraction': 0.8589670332322915, 'bagging_fraction': 0.6273575007192846, 'bagging_freq': 10, 'min_child_samples': 24}. Best is trial 12 with value: 580.6304219516476.\u001b[0m\n",
      "[LightGBM] [Warning] feature_fraction is set=0.9482892342057451, colsample_bytree=1.0 will be ignored. Current value: feature_fraction=0.9482892342057451\n",
      "[LightGBM] [Warning] bagging_fraction is set=0.4064323986932116, subsample=1.0 will be ignored. Current value: bagging_fraction=0.4064323986932116\n",
      "[LightGBM] [Warning] bagging_freq is set=5, subsample_freq=0 will be ignored. Current value: bagging_freq=5\n"
     ]
    },
    {
     "name": "stderr",
     "output_type": "stream",
     "text": [
      "C:\\Users\\xfini\\AppData\\Local\\Temp\\ipykernel_20184\\981819043.py:18: FutureWarning: suggest_loguniform has been deprecated in v3.0.0. This feature will be removed in v6.0.0. See https://github.com/optuna/optuna/releases/tag/v3.0.0. Use :func:`~optuna.trial.Trial.suggest_float` instead.\n",
      "  'learning_rate': trial.suggest_loguniform('learning_rate', 0.001, 0.1),\n",
      "C:\\Users\\xfini\\AppData\\Local\\Temp\\ipykernel_20184\\981819043.py:21: FutureWarning: suggest_uniform has been deprecated in v3.0.0. This feature will be removed in v6.0.0. See https://github.com/optuna/optuna/releases/tag/v3.0.0. Use :func:`~optuna.trial.Trial.suggest_float` instead.\n",
      "  'feature_fraction': trial.suggest_uniform('feature_fraction', 0.1, 1.0),\n",
      "C:\\Users\\xfini\\AppData\\Local\\Temp\\ipykernel_20184\\981819043.py:22: FutureWarning: suggest_uniform has been deprecated in v3.0.0. This feature will be removed in v6.0.0. See https://github.com/optuna/optuna/releases/tag/v3.0.0. Use :func:`~optuna.trial.Trial.suggest_float` instead.\n",
      "  'bagging_fraction': trial.suggest_uniform('bagging_fraction', 0.1, 1.0),\n",
      "c:\\Users\\xfini\\anaconda3\\lib\\site-packages\\lightgbm\\sklearn.py:726: UserWarning: 'early_stopping_rounds' argument is deprecated and will be removed in a future release of LightGBM. Pass 'early_stopping()' callback via 'callbacks' argument instead.\n",
      "  _log_warning(\"'early_stopping_rounds' argument is deprecated and will be removed in a future release of LightGBM. \"\n",
      "c:\\Users\\xfini\\anaconda3\\lib\\site-packages\\lightgbm\\sklearn.py:736: UserWarning: 'verbose' argument is deprecated and will be removed in a future release of LightGBM. Pass 'log_evaluation()' callback via 'callbacks' argument instead.\n",
      "  _log_warning(\"'verbose' argument is deprecated and will be removed in a future release of LightGBM. \"\n"
     ]
    },
    {
     "name": "stdout",
     "output_type": "stream",
     "text": [
      "\u001b[32m[I 2023-02-24 15:02:19,204]\u001b[0m Trial 15 finished with value: 584.206290549086 and parameters: {'learning_rate': 0.06748276082728105, 'num_leaves': 227, 'max_depth': 7, 'feature_fraction': 0.9482892342057451, 'bagging_fraction': 0.4064323986932116, 'bagging_freq': 5, 'min_child_samples': 60}. Best is trial 12 with value: 580.6304219516476.\u001b[0m\n",
      "[LightGBM] [Warning] feature_fraction is set=0.8959112039303967, colsample_bytree=1.0 will be ignored. Current value: feature_fraction=0.8959112039303967\n",
      "[LightGBM] [Warning] bagging_fraction is set=0.3992070553614242, subsample=1.0 will be ignored. Current value: bagging_fraction=0.3992070553614242\n",
      "[LightGBM] [Warning] bagging_freq is set=4, subsample_freq=0 will be ignored. Current value: bagging_freq=4\n"
     ]
    },
    {
     "name": "stderr",
     "output_type": "stream",
     "text": [
      "C:\\Users\\xfini\\AppData\\Local\\Temp\\ipykernel_20184\\981819043.py:18: FutureWarning: suggest_loguniform has been deprecated in v3.0.0. This feature will be removed in v6.0.0. See https://github.com/optuna/optuna/releases/tag/v3.0.0. Use :func:`~optuna.trial.Trial.suggest_float` instead.\n",
      "  'learning_rate': trial.suggest_loguniform('learning_rate', 0.001, 0.1),\n",
      "C:\\Users\\xfini\\AppData\\Local\\Temp\\ipykernel_20184\\981819043.py:21: FutureWarning: suggest_uniform has been deprecated in v3.0.0. This feature will be removed in v6.0.0. See https://github.com/optuna/optuna/releases/tag/v3.0.0. Use :func:`~optuna.trial.Trial.suggest_float` instead.\n",
      "  'feature_fraction': trial.suggest_uniform('feature_fraction', 0.1, 1.0),\n",
      "C:\\Users\\xfini\\AppData\\Local\\Temp\\ipykernel_20184\\981819043.py:22: FutureWarning: suggest_uniform has been deprecated in v3.0.0. This feature will be removed in v6.0.0. See https://github.com/optuna/optuna/releases/tag/v3.0.0. Use :func:`~optuna.trial.Trial.suggest_float` instead.\n",
      "  'bagging_fraction': trial.suggest_uniform('bagging_fraction', 0.1, 1.0),\n",
      "c:\\Users\\xfini\\anaconda3\\lib\\site-packages\\lightgbm\\sklearn.py:726: UserWarning: 'early_stopping_rounds' argument is deprecated and will be removed in a future release of LightGBM. Pass 'early_stopping()' callback via 'callbacks' argument instead.\n",
      "  _log_warning(\"'early_stopping_rounds' argument is deprecated and will be removed in a future release of LightGBM. \"\n",
      "c:\\Users\\xfini\\anaconda3\\lib\\site-packages\\lightgbm\\sklearn.py:736: UserWarning: 'verbose' argument is deprecated and will be removed in a future release of LightGBM. Pass 'log_evaluation()' callback via 'callbacks' argument instead.\n",
      "  _log_warning(\"'verbose' argument is deprecated and will be removed in a future release of LightGBM. \"\n"
     ]
    },
    {
     "name": "stdout",
     "output_type": "stream",
     "text": [
      "\u001b[32m[I 2023-02-24 15:02:20,155]\u001b[0m Trial 16 finished with value: 993.3670223448496 and parameters: {'learning_rate': 0.01643881413628229, 'num_leaves': 255, 'max_depth': 15, 'feature_fraction': 0.8959112039303967, 'bagging_fraction': 0.3992070553614242, 'bagging_freq': 4, 'min_child_samples': 66}. Best is trial 12 with value: 580.6304219516476.\u001b[0m\n",
      "[LightGBM] [Warning] feature_fraction is set=0.7541946378129474, colsample_bytree=1.0 will be ignored. Current value: feature_fraction=0.7541946378129474\n",
      "[LightGBM] [Warning] bagging_fraction is set=0.6248272826046043, subsample=1.0 will be ignored. Current value: bagging_fraction=0.6248272826046043\n",
      "[LightGBM] [Warning] bagging_freq is set=8, subsample_freq=0 will be ignored. Current value: bagging_freq=8\n"
     ]
    },
    {
     "name": "stderr",
     "output_type": "stream",
     "text": [
      "C:\\Users\\xfini\\AppData\\Local\\Temp\\ipykernel_20184\\981819043.py:18: FutureWarning: suggest_loguniform has been deprecated in v3.0.0. This feature will be removed in v6.0.0. See https://github.com/optuna/optuna/releases/tag/v3.0.0. Use :func:`~optuna.trial.Trial.suggest_float` instead.\n",
      "  'learning_rate': trial.suggest_loguniform('learning_rate', 0.001, 0.1),\n",
      "C:\\Users\\xfini\\AppData\\Local\\Temp\\ipykernel_20184\\981819043.py:21: FutureWarning: suggest_uniform has been deprecated in v3.0.0. This feature will be removed in v6.0.0. See https://github.com/optuna/optuna/releases/tag/v3.0.0. Use :func:`~optuna.trial.Trial.suggest_float` instead.\n",
      "  'feature_fraction': trial.suggest_uniform('feature_fraction', 0.1, 1.0),\n",
      "C:\\Users\\xfini\\AppData\\Local\\Temp\\ipykernel_20184\\981819043.py:22: FutureWarning: suggest_uniform has been deprecated in v3.0.0. This feature will be removed in v6.0.0. See https://github.com/optuna/optuna/releases/tag/v3.0.0. Use :func:`~optuna.trial.Trial.suggest_float` instead.\n",
      "  'bagging_fraction': trial.suggest_uniform('bagging_fraction', 0.1, 1.0),\n",
      "c:\\Users\\xfini\\anaconda3\\lib\\site-packages\\lightgbm\\sklearn.py:726: UserWarning: 'early_stopping_rounds' argument is deprecated and will be removed in a future release of LightGBM. Pass 'early_stopping()' callback via 'callbacks' argument instead.\n",
      "  _log_warning(\"'early_stopping_rounds' argument is deprecated and will be removed in a future release of LightGBM. \"\n",
      "c:\\Users\\xfini\\anaconda3\\lib\\site-packages\\lightgbm\\sklearn.py:736: UserWarning: 'verbose' argument is deprecated and will be removed in a future release of LightGBM. Pass 'log_evaluation()' callback via 'callbacks' argument instead.\n",
      "  _log_warning(\"'verbose' argument is deprecated and will be removed in a future release of LightGBM. \"\n"
     ]
    },
    {
     "name": "stdout",
     "output_type": "stream",
     "text": [
      "\u001b[32m[I 2023-02-24 15:02:20,369]\u001b[0m Trial 17 finished with value: 739.0092232328963 and parameters: {'learning_rate': 0.057136688799531654, 'num_leaves': 5, 'max_depth': 8, 'feature_fraction': 0.7541946378129474, 'bagging_fraction': 0.6248272826046043, 'bagging_freq': 8, 'min_child_samples': 50}. Best is trial 12 with value: 580.6304219516476.\u001b[0m\n",
      "[LightGBM] [Warning] feature_fraction is set=0.9166076701405245, colsample_bytree=1.0 will be ignored. Current value: feature_fraction=0.9166076701405245\n",
      "[LightGBM] [Warning] bagging_fraction is set=0.3497035386655843, subsample=1.0 will be ignored. Current value: bagging_fraction=0.3497035386655843\n",
      "[LightGBM] [Warning] bagging_freq is set=5, subsample_freq=0 will be ignored. Current value: bagging_freq=5\n"
     ]
    },
    {
     "name": "stderr",
     "output_type": "stream",
     "text": [
      "C:\\Users\\xfini\\AppData\\Local\\Temp\\ipykernel_20184\\981819043.py:18: FutureWarning: suggest_loguniform has been deprecated in v3.0.0. This feature will be removed in v6.0.0. See https://github.com/optuna/optuna/releases/tag/v3.0.0. Use :func:`~optuna.trial.Trial.suggest_float` instead.\n",
      "  'learning_rate': trial.suggest_loguniform('learning_rate', 0.001, 0.1),\n",
      "C:\\Users\\xfini\\AppData\\Local\\Temp\\ipykernel_20184\\981819043.py:21: FutureWarning: suggest_uniform has been deprecated in v3.0.0. This feature will be removed in v6.0.0. See https://github.com/optuna/optuna/releases/tag/v3.0.0. Use :func:`~optuna.trial.Trial.suggest_float` instead.\n",
      "  'feature_fraction': trial.suggest_uniform('feature_fraction', 0.1, 1.0),\n",
      "C:\\Users\\xfini\\AppData\\Local\\Temp\\ipykernel_20184\\981819043.py:22: FutureWarning: suggest_uniform has been deprecated in v3.0.0. This feature will be removed in v6.0.0. See https://github.com/optuna/optuna/releases/tag/v3.0.0. Use :func:`~optuna.trial.Trial.suggest_float` instead.\n",
      "  'bagging_fraction': trial.suggest_uniform('bagging_fraction', 0.1, 1.0),\n",
      "c:\\Users\\xfini\\anaconda3\\lib\\site-packages\\lightgbm\\sklearn.py:726: UserWarning: 'early_stopping_rounds' argument is deprecated and will be removed in a future release of LightGBM. Pass 'early_stopping()' callback via 'callbacks' argument instead.\n",
      "  _log_warning(\"'early_stopping_rounds' argument is deprecated and will be removed in a future release of LightGBM. \"\n",
      "c:\\Users\\xfini\\anaconda3\\lib\\site-packages\\lightgbm\\sklearn.py:736: UserWarning: 'verbose' argument is deprecated and will be removed in a future release of LightGBM. Pass 'log_evaluation()' callback via 'callbacks' argument instead.\n",
      "  _log_warning(\"'verbose' argument is deprecated and will be removed in a future release of LightGBM. \"\n"
     ]
    },
    {
     "name": "stdout",
     "output_type": "stream",
     "text": [
      "\u001b[32m[I 2023-02-24 15:02:21,005]\u001b[0m Trial 18 finished with value: 702.6082646159151 and parameters: {'learning_rate': 0.025000138496395395, 'num_leaves': 178, 'max_depth': 8, 'feature_fraction': 0.9166076701405245, 'bagging_fraction': 0.3497035386655843, 'bagging_freq': 5, 'min_child_samples': 70}. Best is trial 12 with value: 580.6304219516476.\u001b[0m\n",
      "[LightGBM] [Warning] feature_fraction is set=0.4795175060249306, colsample_bytree=1.0 will be ignored. Current value: feature_fraction=0.4795175060249306\n",
      "[LightGBM] [Warning] bagging_fraction is set=0.5844004040970984, subsample=1.0 will be ignored. Current value: bagging_fraction=0.5844004040970984\n",
      "[LightGBM] [Warning] bagging_freq is set=7, subsample_freq=0 will be ignored. Current value: bagging_freq=7\n"
     ]
    },
    {
     "name": "stderr",
     "output_type": "stream",
     "text": [
      "C:\\Users\\xfini\\AppData\\Local\\Temp\\ipykernel_20184\\981819043.py:18: FutureWarning: suggest_loguniform has been deprecated in v3.0.0. This feature will be removed in v6.0.0. See https://github.com/optuna/optuna/releases/tag/v3.0.0. Use :func:`~optuna.trial.Trial.suggest_float` instead.\n",
      "  'learning_rate': trial.suggest_loguniform('learning_rate', 0.001, 0.1),\n",
      "C:\\Users\\xfini\\AppData\\Local\\Temp\\ipykernel_20184\\981819043.py:21: FutureWarning: suggest_uniform has been deprecated in v3.0.0. This feature will be removed in v6.0.0. See https://github.com/optuna/optuna/releases/tag/v3.0.0. Use :func:`~optuna.trial.Trial.suggest_float` instead.\n",
      "  'feature_fraction': trial.suggest_uniform('feature_fraction', 0.1, 1.0),\n",
      "C:\\Users\\xfini\\AppData\\Local\\Temp\\ipykernel_20184\\981819043.py:22: FutureWarning: suggest_uniform has been deprecated in v3.0.0. This feature will be removed in v6.0.0. See https://github.com/optuna/optuna/releases/tag/v3.0.0. Use :func:`~optuna.trial.Trial.suggest_float` instead.\n",
      "  'bagging_fraction': trial.suggest_uniform('bagging_fraction', 0.1, 1.0),\n",
      "c:\\Users\\xfini\\anaconda3\\lib\\site-packages\\lightgbm\\sklearn.py:726: UserWarning: 'early_stopping_rounds' argument is deprecated and will be removed in a future release of LightGBM. Pass 'early_stopping()' callback via 'callbacks' argument instead.\n",
      "  _log_warning(\"'early_stopping_rounds' argument is deprecated and will be removed in a future release of LightGBM. \"\n",
      "c:\\Users\\xfini\\anaconda3\\lib\\site-packages\\lightgbm\\sklearn.py:736: UserWarning: 'verbose' argument is deprecated and will be removed in a future release of LightGBM. Pass 'log_evaluation()' callback via 'callbacks' argument instead.\n",
      "  _log_warning(\"'verbose' argument is deprecated and will be removed in a future release of LightGBM. \"\n"
     ]
    },
    {
     "name": "stdout",
     "output_type": "stream",
     "text": [
      "\u001b[32m[I 2023-02-24 15:02:21,306]\u001b[0m Trial 19 finished with value: 2085.297705038248 and parameters: {'learning_rate': 0.007665312578759136, 'num_leaves': 232, 'max_depth': 5, 'feature_fraction': 0.4795175060249306, 'bagging_fraction': 0.5844004040970984, 'bagging_freq': 7, 'min_child_samples': 21}. Best is trial 12 with value: 580.6304219516476.\u001b[0m\n",
      "[LightGBM] [Warning] feature_fraction is set=0.7652928609184897, colsample_bytree=1.0 will be ignored. Current value: feature_fraction=0.7652928609184897\n",
      "[LightGBM] [Warning] bagging_fraction is set=0.3402591672862953, subsample=1.0 will be ignored. Current value: bagging_fraction=0.3402591672862953\n",
      "[LightGBM] [Warning] bagging_freq is set=4, subsample_freq=0 will be ignored. Current value: bagging_freq=4\n"
     ]
    },
    {
     "name": "stderr",
     "output_type": "stream",
     "text": [
      "C:\\Users\\xfini\\AppData\\Local\\Temp\\ipykernel_20184\\981819043.py:18: FutureWarning: suggest_loguniform has been deprecated in v3.0.0. This feature will be removed in v6.0.0. See https://github.com/optuna/optuna/releases/tag/v3.0.0. Use :func:`~optuna.trial.Trial.suggest_float` instead.\n",
      "  'learning_rate': trial.suggest_loguniform('learning_rate', 0.001, 0.1),\n",
      "C:\\Users\\xfini\\AppData\\Local\\Temp\\ipykernel_20184\\981819043.py:21: FutureWarning: suggest_uniform has been deprecated in v3.0.0. This feature will be removed in v6.0.0. See https://github.com/optuna/optuna/releases/tag/v3.0.0. Use :func:`~optuna.trial.Trial.suggest_float` instead.\n",
      "  'feature_fraction': trial.suggest_uniform('feature_fraction', 0.1, 1.0),\n",
      "C:\\Users\\xfini\\AppData\\Local\\Temp\\ipykernel_20184\\981819043.py:22: FutureWarning: suggest_uniform has been deprecated in v3.0.0. This feature will be removed in v6.0.0. See https://github.com/optuna/optuna/releases/tag/v3.0.0. Use :func:`~optuna.trial.Trial.suggest_float` instead.\n",
      "  'bagging_fraction': trial.suggest_uniform('bagging_fraction', 0.1, 1.0),\n",
      "c:\\Users\\xfini\\anaconda3\\lib\\site-packages\\lightgbm\\sklearn.py:726: UserWarning: 'early_stopping_rounds' argument is deprecated and will be removed in a future release of LightGBM. Pass 'early_stopping()' callback via 'callbacks' argument instead.\n",
      "  _log_warning(\"'early_stopping_rounds' argument is deprecated and will be removed in a future release of LightGBM. \"\n",
      "c:\\Users\\xfini\\anaconda3\\lib\\site-packages\\lightgbm\\sklearn.py:736: UserWarning: 'verbose' argument is deprecated and will be removed in a future release of LightGBM. Pass 'log_evaluation()' callback via 'callbacks' argument instead.\n",
      "  _log_warning(\"'verbose' argument is deprecated and will be removed in a future release of LightGBM. \"\n"
     ]
    },
    {
     "name": "stdout",
     "output_type": "stream",
     "text": [
      "\u001b[32m[I 2023-02-24 15:02:21,792]\u001b[0m Trial 20 finished with value: 3621.942518803143 and parameters: {'learning_rate': 0.0010959773707934978, 'num_leaves': 91, 'max_depth': 7, 'feature_fraction': 0.7652928609184897, 'bagging_fraction': 0.3402591672862953, 'bagging_freq': 4, 'min_child_samples': 60}. Best is trial 12 with value: 580.6304219516476.\u001b[0m\n",
      "[LightGBM] [Warning] feature_fraction is set=0.9992853720634567, colsample_bytree=1.0 will be ignored. Current value: feature_fraction=0.9992853720634567\n",
      "[LightGBM] [Warning] bagging_fraction is set=0.46935030705282454, subsample=1.0 will be ignored. Current value: bagging_fraction=0.46935030705282454\n",
      "[LightGBM] [Warning] bagging_freq is set=7, subsample_freq=0 will be ignored. Current value: bagging_freq=7\n"
     ]
    },
    {
     "name": "stderr",
     "output_type": "stream",
     "text": [
      "C:\\Users\\xfini\\AppData\\Local\\Temp\\ipykernel_20184\\981819043.py:18: FutureWarning: suggest_loguniform has been deprecated in v3.0.0. This feature will be removed in v6.0.0. See https://github.com/optuna/optuna/releases/tag/v3.0.0. Use :func:`~optuna.trial.Trial.suggest_float` instead.\n",
      "  'learning_rate': trial.suggest_loguniform('learning_rate', 0.001, 0.1),\n",
      "C:\\Users\\xfini\\AppData\\Local\\Temp\\ipykernel_20184\\981819043.py:21: FutureWarning: suggest_uniform has been deprecated in v3.0.0. This feature will be removed in v6.0.0. See https://github.com/optuna/optuna/releases/tag/v3.0.0. Use :func:`~optuna.trial.Trial.suggest_float` instead.\n",
      "  'feature_fraction': trial.suggest_uniform('feature_fraction', 0.1, 1.0),\n",
      "C:\\Users\\xfini\\AppData\\Local\\Temp\\ipykernel_20184\\981819043.py:22: FutureWarning: suggest_uniform has been deprecated in v3.0.0. This feature will be removed in v6.0.0. See https://github.com/optuna/optuna/releases/tag/v3.0.0. Use :func:`~optuna.trial.Trial.suggest_float` instead.\n",
      "  'bagging_fraction': trial.suggest_uniform('bagging_fraction', 0.1, 1.0),\n",
      "c:\\Users\\xfini\\anaconda3\\lib\\site-packages\\lightgbm\\sklearn.py:726: UserWarning: 'early_stopping_rounds' argument is deprecated and will be removed in a future release of LightGBM. Pass 'early_stopping()' callback via 'callbacks' argument instead.\n",
      "  _log_warning(\"'early_stopping_rounds' argument is deprecated and will be removed in a future release of LightGBM. \"\n",
      "c:\\Users\\xfini\\anaconda3\\lib\\site-packages\\lightgbm\\sklearn.py:736: UserWarning: 'verbose' argument is deprecated and will be removed in a future release of LightGBM. Pass 'log_evaluation()' callback via 'callbacks' argument instead.\n",
      "  _log_warning(\"'verbose' argument is deprecated and will be removed in a future release of LightGBM. \"\n"
     ]
    },
    {
     "name": "stdout",
     "output_type": "stream",
     "text": [
      "\u001b[32m[I 2023-02-24 15:02:22,094]\u001b[0m Trial 21 finished with value: 591.4081007798064 and parameters: {'learning_rate': 0.07642332242779416, 'num_leaves': 194, 'max_depth': 5, 'feature_fraction': 0.9992853720634567, 'bagging_fraction': 0.46935030705282454, 'bagging_freq': 7, 'min_child_samples': 44}. Best is trial 12 with value: 580.6304219516476.\u001b[0m\n",
      "[LightGBM] [Warning] feature_fraction is set=0.9287842651376799, colsample_bytree=1.0 will be ignored. Current value: feature_fraction=0.9287842651376799\n",
      "[LightGBM] [Warning] bagging_fraction is set=0.4997191500986381, subsample=1.0 will be ignored. Current value: bagging_fraction=0.4997191500986381\n",
      "[LightGBM] [Warning] bagging_freq is set=7, subsample_freq=0 will be ignored. Current value: bagging_freq=7\n"
     ]
    },
    {
     "name": "stderr",
     "output_type": "stream",
     "text": [
      "C:\\Users\\xfini\\AppData\\Local\\Temp\\ipykernel_20184\\981819043.py:18: FutureWarning: suggest_loguniform has been deprecated in v3.0.0. This feature will be removed in v6.0.0. See https://github.com/optuna/optuna/releases/tag/v3.0.0. Use :func:`~optuna.trial.Trial.suggest_float` instead.\n",
      "  'learning_rate': trial.suggest_loguniform('learning_rate', 0.001, 0.1),\n",
      "C:\\Users\\xfini\\AppData\\Local\\Temp\\ipykernel_20184\\981819043.py:21: FutureWarning: suggest_uniform has been deprecated in v3.0.0. This feature will be removed in v6.0.0. See https://github.com/optuna/optuna/releases/tag/v3.0.0. Use :func:`~optuna.trial.Trial.suggest_float` instead.\n",
      "  'feature_fraction': trial.suggest_uniform('feature_fraction', 0.1, 1.0),\n",
      "C:\\Users\\xfini\\AppData\\Local\\Temp\\ipykernel_20184\\981819043.py:22: FutureWarning: suggest_uniform has been deprecated in v3.0.0. This feature will be removed in v6.0.0. See https://github.com/optuna/optuna/releases/tag/v3.0.0. Use :func:`~optuna.trial.Trial.suggest_float` instead.\n",
      "  'bagging_fraction': trial.suggest_uniform('bagging_fraction', 0.1, 1.0),\n",
      "c:\\Users\\xfini\\anaconda3\\lib\\site-packages\\lightgbm\\sklearn.py:726: UserWarning: 'early_stopping_rounds' argument is deprecated and will be removed in a future release of LightGBM. Pass 'early_stopping()' callback via 'callbacks' argument instead.\n",
      "  _log_warning(\"'early_stopping_rounds' argument is deprecated and will be removed in a future release of LightGBM. \"\n",
      "c:\\Users\\xfini\\anaconda3\\lib\\site-packages\\lightgbm\\sklearn.py:736: UserWarning: 'verbose' argument is deprecated and will be removed in a future release of LightGBM. Pass 'log_evaluation()' callback via 'callbacks' argument instead.\n",
      "  _log_warning(\"'verbose' argument is deprecated and will be removed in a future release of LightGBM. \"\n"
     ]
    },
    {
     "name": "stdout",
     "output_type": "stream",
     "text": [
      "\u001b[32m[I 2023-02-24 15:02:22,408]\u001b[0m Trial 22 finished with value: 601.4614917454244 and parameters: {'learning_rate': 0.05858977993982383, 'num_leaves': 188, 'max_depth': 5, 'feature_fraction': 0.9287842651376799, 'bagging_fraction': 0.4997191500986381, 'bagging_freq': 7, 'min_child_samples': 44}. Best is trial 12 with value: 580.6304219516476.\u001b[0m\n",
      "[LightGBM] [Warning] feature_fraction is set=0.8631094549595348, colsample_bytree=1.0 will be ignored. Current value: feature_fraction=0.8631094549595348\n",
      "[LightGBM] [Warning] bagging_fraction is set=0.4318285417142073, subsample=1.0 will be ignored. Current value: bagging_fraction=0.4318285417142073\n",
      "[LightGBM] [Warning] bagging_freq is set=5, subsample_freq=0 will be ignored. Current value: bagging_freq=5\n"
     ]
    },
    {
     "name": "stderr",
     "output_type": "stream",
     "text": [
      "C:\\Users\\xfini\\AppData\\Local\\Temp\\ipykernel_20184\\981819043.py:18: FutureWarning: suggest_loguniform has been deprecated in v3.0.0. This feature will be removed in v6.0.0. See https://github.com/optuna/optuna/releases/tag/v3.0.0. Use :func:`~optuna.trial.Trial.suggest_float` instead.\n",
      "  'learning_rate': trial.suggest_loguniform('learning_rate', 0.001, 0.1),\n",
      "C:\\Users\\xfini\\AppData\\Local\\Temp\\ipykernel_20184\\981819043.py:21: FutureWarning: suggest_uniform has been deprecated in v3.0.0. This feature will be removed in v6.0.0. See https://github.com/optuna/optuna/releases/tag/v3.0.0. Use :func:`~optuna.trial.Trial.suggest_float` instead.\n",
      "  'feature_fraction': trial.suggest_uniform('feature_fraction', 0.1, 1.0),\n",
      "C:\\Users\\xfini\\AppData\\Local\\Temp\\ipykernel_20184\\981819043.py:22: FutureWarning: suggest_uniform has been deprecated in v3.0.0. This feature will be removed in v6.0.0. See https://github.com/optuna/optuna/releases/tag/v3.0.0. Use :func:`~optuna.trial.Trial.suggest_float` instead.\n",
      "  'bagging_fraction': trial.suggest_uniform('bagging_fraction', 0.1, 1.0),\n",
      "c:\\Users\\xfini\\anaconda3\\lib\\site-packages\\lightgbm\\sklearn.py:726: UserWarning: 'early_stopping_rounds' argument is deprecated and will be removed in a future release of LightGBM. Pass 'early_stopping()' callback via 'callbacks' argument instead.\n",
      "  _log_warning(\"'early_stopping_rounds' argument is deprecated and will be removed in a future release of LightGBM. \"\n",
      "c:\\Users\\xfini\\anaconda3\\lib\\site-packages\\lightgbm\\sklearn.py:736: UserWarning: 'verbose' argument is deprecated and will be removed in a future release of LightGBM. Pass 'log_evaluation()' callback via 'callbacks' argument instead.\n",
      "  _log_warning(\"'verbose' argument is deprecated and will be removed in a future release of LightGBM. \"\n"
     ]
    },
    {
     "name": "stdout",
     "output_type": "stream",
     "text": [
      "\u001b[32m[I 2023-02-24 15:02:22,657]\u001b[0m Trial 23 finished with value: 602.70357207897 and parameters: {'learning_rate': 0.09326398609866139, 'num_leaves': 233, 'max_depth': 4, 'feature_fraction': 0.8631094549595348, 'bagging_fraction': 0.4318285417142073, 'bagging_freq': 5, 'min_child_samples': 30}. Best is trial 12 with value: 580.6304219516476.\u001b[0m\n",
      "[LightGBM] [Warning] feature_fraction is set=0.999890622641057, colsample_bytree=1.0 will be ignored. Current value: feature_fraction=0.999890622641057\n",
      "[LightGBM] [Warning] bagging_fraction is set=0.5597540805824673, subsample=1.0 will be ignored. Current value: bagging_fraction=0.5597540805824673\n",
      "[LightGBM] [Warning] bagging_freq is set=9, subsample_freq=0 will be ignored. Current value: bagging_freq=9\n"
     ]
    },
    {
     "name": "stderr",
     "output_type": "stream",
     "text": [
      "C:\\Users\\xfini\\AppData\\Local\\Temp\\ipykernel_20184\\981819043.py:18: FutureWarning: suggest_loguniform has been deprecated in v3.0.0. This feature will be removed in v6.0.0. See https://github.com/optuna/optuna/releases/tag/v3.0.0. Use :func:`~optuna.trial.Trial.suggest_float` instead.\n",
      "  'learning_rate': trial.suggest_loguniform('learning_rate', 0.001, 0.1),\n",
      "C:\\Users\\xfini\\AppData\\Local\\Temp\\ipykernel_20184\\981819043.py:21: FutureWarning: suggest_uniform has been deprecated in v3.0.0. This feature will be removed in v6.0.0. See https://github.com/optuna/optuna/releases/tag/v3.0.0. Use :func:`~optuna.trial.Trial.suggest_float` instead.\n",
      "  'feature_fraction': trial.suggest_uniform('feature_fraction', 0.1, 1.0),\n",
      "C:\\Users\\xfini\\AppData\\Local\\Temp\\ipykernel_20184\\981819043.py:22: FutureWarning: suggest_uniform has been deprecated in v3.0.0. This feature will be removed in v6.0.0. See https://github.com/optuna/optuna/releases/tag/v3.0.0. Use :func:`~optuna.trial.Trial.suggest_float` instead.\n",
      "  'bagging_fraction': trial.suggest_uniform('bagging_fraction', 0.1, 1.0),\n",
      "c:\\Users\\xfini\\anaconda3\\lib\\site-packages\\lightgbm\\sklearn.py:726: UserWarning: 'early_stopping_rounds' argument is deprecated and will be removed in a future release of LightGBM. Pass 'early_stopping()' callback via 'callbacks' argument instead.\n",
      "  _log_warning(\"'early_stopping_rounds' argument is deprecated and will be removed in a future release of LightGBM. \"\n",
      "c:\\Users\\xfini\\anaconda3\\lib\\site-packages\\lightgbm\\sklearn.py:736: UserWarning: 'verbose' argument is deprecated and will be removed in a future release of LightGBM. Pass 'log_evaluation()' callback via 'callbacks' argument instead.\n",
      "  _log_warning(\"'verbose' argument is deprecated and will be removed in a future release of LightGBM. \"\n"
     ]
    },
    {
     "name": "stdout",
     "output_type": "stream",
     "text": [
      "\u001b[32m[I 2023-02-24 15:02:23,138]\u001b[0m Trial 24 finished with value: 581.5155475351158 and parameters: {'learning_rate': 0.06012229465895925, 'num_leaves': 194, 'max_depth': 7, 'feature_fraction': 0.999890622641057, 'bagging_fraction': 0.5597540805824673, 'bagging_freq': 9, 'min_child_samples': 47}. Best is trial 12 with value: 580.6304219516476.\u001b[0m\n",
      "[LightGBM] [Warning] feature_fraction is set=0.9295574436579302, colsample_bytree=1.0 will be ignored. Current value: feature_fraction=0.9295574436579302\n",
      "[LightGBM] [Warning] bagging_fraction is set=0.5601904191977674, subsample=1.0 will be ignored. Current value: bagging_fraction=0.5601904191977674\n",
      "[LightGBM] [Warning] bagging_freq is set=10, subsample_freq=0 will be ignored. Current value: bagging_freq=10\n"
     ]
    },
    {
     "name": "stderr",
     "output_type": "stream",
     "text": [
      "C:\\Users\\xfini\\AppData\\Local\\Temp\\ipykernel_20184\\981819043.py:18: FutureWarning: suggest_loguniform has been deprecated in v3.0.0. This feature will be removed in v6.0.0. See https://github.com/optuna/optuna/releases/tag/v3.0.0. Use :func:`~optuna.trial.Trial.suggest_float` instead.\n",
      "  'learning_rate': trial.suggest_loguniform('learning_rate', 0.001, 0.1),\n",
      "C:\\Users\\xfini\\AppData\\Local\\Temp\\ipykernel_20184\\981819043.py:21: FutureWarning: suggest_uniform has been deprecated in v3.0.0. This feature will be removed in v6.0.0. See https://github.com/optuna/optuna/releases/tag/v3.0.0. Use :func:`~optuna.trial.Trial.suggest_float` instead.\n",
      "  'feature_fraction': trial.suggest_uniform('feature_fraction', 0.1, 1.0),\n",
      "C:\\Users\\xfini\\AppData\\Local\\Temp\\ipykernel_20184\\981819043.py:22: FutureWarning: suggest_uniform has been deprecated in v3.0.0. This feature will be removed in v6.0.0. See https://github.com/optuna/optuna/releases/tag/v3.0.0. Use :func:`~optuna.trial.Trial.suggest_float` instead.\n",
      "  'bagging_fraction': trial.suggest_uniform('bagging_fraction', 0.1, 1.0),\n",
      "c:\\Users\\xfini\\anaconda3\\lib\\site-packages\\lightgbm\\sklearn.py:726: UserWarning: 'early_stopping_rounds' argument is deprecated and will be removed in a future release of LightGBM. Pass 'early_stopping()' callback via 'callbacks' argument instead.\n",
      "  _log_warning(\"'early_stopping_rounds' argument is deprecated and will be removed in a future release of LightGBM. \"\n",
      "c:\\Users\\xfini\\anaconda3\\lib\\site-packages\\lightgbm\\sklearn.py:736: UserWarning: 'verbose' argument is deprecated and will be removed in a future release of LightGBM. Pass 'log_evaluation()' callback via 'callbacks' argument instead.\n",
      "  _log_warning(\"'verbose' argument is deprecated and will be removed in a future release of LightGBM. \"\n"
     ]
    },
    {
     "name": "stdout",
     "output_type": "stream",
     "text": [
      "\u001b[32m[I 2023-02-24 15:02:23,787]\u001b[0m Trial 25 finished with value: 589.6844670141837 and parameters: {'learning_rate': 0.046511940347882856, 'num_leaves': 225, 'max_depth': 8, 'feature_fraction': 0.9295574436579302, 'bagging_fraction': 0.5601904191977674, 'bagging_freq': 10, 'min_child_samples': 77}. Best is trial 12 with value: 580.6304219516476.\u001b[0m\n",
      "[LightGBM] [Warning] feature_fraction is set=0.8234570469538294, colsample_bytree=1.0 will be ignored. Current value: feature_fraction=0.8234570469538294\n",
      "[LightGBM] [Warning] bagging_fraction is set=0.6890130444672354, subsample=1.0 will be ignored. Current value: bagging_fraction=0.6890130444672354\n",
      "[LightGBM] [Warning] bagging_freq is set=9, subsample_freq=0 will be ignored. Current value: bagging_freq=9\n"
     ]
    },
    {
     "name": "stderr",
     "output_type": "stream",
     "text": [
      "C:\\Users\\xfini\\AppData\\Local\\Temp\\ipykernel_20184\\981819043.py:18: FutureWarning: suggest_loguniform has been deprecated in v3.0.0. This feature will be removed in v6.0.0. See https://github.com/optuna/optuna/releases/tag/v3.0.0. Use :func:`~optuna.trial.Trial.suggest_float` instead.\n",
      "  'learning_rate': trial.suggest_loguniform('learning_rate', 0.001, 0.1),\n",
      "C:\\Users\\xfini\\AppData\\Local\\Temp\\ipykernel_20184\\981819043.py:21: FutureWarning: suggest_uniform has been deprecated in v3.0.0. This feature will be removed in v6.0.0. See https://github.com/optuna/optuna/releases/tag/v3.0.0. Use :func:`~optuna.trial.Trial.suggest_float` instead.\n",
      "  'feature_fraction': trial.suggest_uniform('feature_fraction', 0.1, 1.0),\n",
      "C:\\Users\\xfini\\AppData\\Local\\Temp\\ipykernel_20184\\981819043.py:22: FutureWarning: suggest_uniform has been deprecated in v3.0.0. This feature will be removed in v6.0.0. See https://github.com/optuna/optuna/releases/tag/v3.0.0. Use :func:`~optuna.trial.Trial.suggest_float` instead.\n",
      "  'bagging_fraction': trial.suggest_uniform('bagging_fraction', 0.1, 1.0),\n",
      "c:\\Users\\xfini\\anaconda3\\lib\\site-packages\\lightgbm\\sklearn.py:726: UserWarning: 'early_stopping_rounds' argument is deprecated and will be removed in a future release of LightGBM. Pass 'early_stopping()' callback via 'callbacks' argument instead.\n",
      "  _log_warning(\"'early_stopping_rounds' argument is deprecated and will be removed in a future release of LightGBM. \"\n",
      "c:\\Users\\xfini\\anaconda3\\lib\\site-packages\\lightgbm\\sklearn.py:736: UserWarning: 'verbose' argument is deprecated and will be removed in a future release of LightGBM. Pass 'log_evaluation()' callback via 'callbacks' argument instead.\n",
      "  _log_warning(\"'verbose' argument is deprecated and will be removed in a future release of LightGBM. \"\n"
     ]
    },
    {
     "name": "stdout",
     "output_type": "stream",
     "text": [
      "\u001b[32m[I 2023-02-24 15:02:24,283]\u001b[0m Trial 26 finished with value: 579.6780302417325 and parameters: {'learning_rate': 0.06508233222115148, 'num_leaves': 147, 'max_depth': 7, 'feature_fraction': 0.8234570469538294, 'bagging_fraction': 0.6890130444672354, 'bagging_freq': 9, 'min_child_samples': 14}. Best is trial 26 with value: 579.6780302417325.\u001b[0m\n",
      "[LightGBM] [Warning] feature_fraction is set=0.8532249632109623, colsample_bytree=1.0 will be ignored. Current value: feature_fraction=0.8532249632109623\n",
      "[LightGBM] [Warning] bagging_fraction is set=0.7888465834678527, subsample=1.0 will be ignored. Current value: bagging_fraction=0.7888465834678527\n",
      "[LightGBM] [Warning] bagging_freq is set=9, subsample_freq=0 will be ignored. Current value: bagging_freq=9\n"
     ]
    },
    {
     "name": "stderr",
     "output_type": "stream",
     "text": [
      "C:\\Users\\xfini\\AppData\\Local\\Temp\\ipykernel_20184\\981819043.py:18: FutureWarning: suggest_loguniform has been deprecated in v3.0.0. This feature will be removed in v6.0.0. See https://github.com/optuna/optuna/releases/tag/v3.0.0. Use :func:`~optuna.trial.Trial.suggest_float` instead.\n",
      "  'learning_rate': trial.suggest_loguniform('learning_rate', 0.001, 0.1),\n",
      "C:\\Users\\xfini\\AppData\\Local\\Temp\\ipykernel_20184\\981819043.py:21: FutureWarning: suggest_uniform has been deprecated in v3.0.0. This feature will be removed in v6.0.0. See https://github.com/optuna/optuna/releases/tag/v3.0.0. Use :func:`~optuna.trial.Trial.suggest_float` instead.\n",
      "  'feature_fraction': trial.suggest_uniform('feature_fraction', 0.1, 1.0),\n",
      "C:\\Users\\xfini\\AppData\\Local\\Temp\\ipykernel_20184\\981819043.py:22: FutureWarning: suggest_uniform has been deprecated in v3.0.0. This feature will be removed in v6.0.0. See https://github.com/optuna/optuna/releases/tag/v3.0.0. Use :func:`~optuna.trial.Trial.suggest_float` instead.\n",
      "  'bagging_fraction': trial.suggest_uniform('bagging_fraction', 0.1, 1.0),\n",
      "c:\\Users\\xfini\\anaconda3\\lib\\site-packages\\lightgbm\\sklearn.py:726: UserWarning: 'early_stopping_rounds' argument is deprecated and will be removed in a future release of LightGBM. Pass 'early_stopping()' callback via 'callbacks' argument instead.\n",
      "  _log_warning(\"'early_stopping_rounds' argument is deprecated and will be removed in a future release of LightGBM. \"\n",
      "c:\\Users\\xfini\\anaconda3\\lib\\site-packages\\lightgbm\\sklearn.py:736: UserWarning: 'verbose' argument is deprecated and will be removed in a future release of LightGBM. Pass 'log_evaluation()' callback via 'callbacks' argument instead.\n",
      "  _log_warning(\"'verbose' argument is deprecated and will be removed in a future release of LightGBM. \"\n"
     ]
    },
    {
     "name": "stdout",
     "output_type": "stream",
     "text": [
      "\u001b[32m[I 2023-02-24 15:02:24,975]\u001b[0m Trial 27 finished with value: 582.6368862471162 and parameters: {'learning_rate': 0.043469718951095235, 'num_leaves': 141, 'max_depth': 10, 'feature_fraction': 0.8532249632109623, 'bagging_fraction': 0.7888465834678527, 'bagging_freq': 9, 'min_child_samples': 15}. Best is trial 26 with value: 579.6780302417325.\u001b[0m\n",
      "[LightGBM] [Warning] feature_fraction is set=0.8272449023631567, colsample_bytree=1.0 will be ignored. Current value: feature_fraction=0.8272449023631567\n",
      "[LightGBM] [Warning] bagging_fraction is set=0.674652610931587, subsample=1.0 will be ignored. Current value: bagging_fraction=0.674652610931587\n",
      "[LightGBM] [Warning] bagging_freq is set=9, subsample_freq=0 will be ignored. Current value: bagging_freq=9\n"
     ]
    },
    {
     "name": "stderr",
     "output_type": "stream",
     "text": [
      "C:\\Users\\xfini\\AppData\\Local\\Temp\\ipykernel_20184\\981819043.py:18: FutureWarning: suggest_loguniform has been deprecated in v3.0.0. This feature will be removed in v6.0.0. See https://github.com/optuna/optuna/releases/tag/v3.0.0. Use :func:`~optuna.trial.Trial.suggest_float` instead.\n",
      "  'learning_rate': trial.suggest_loguniform('learning_rate', 0.001, 0.1),\n",
      "C:\\Users\\xfini\\AppData\\Local\\Temp\\ipykernel_20184\\981819043.py:21: FutureWarning: suggest_uniform has been deprecated in v3.0.0. This feature will be removed in v6.0.0. See https://github.com/optuna/optuna/releases/tag/v3.0.0. Use :func:`~optuna.trial.Trial.suggest_float` instead.\n",
      "  'feature_fraction': trial.suggest_uniform('feature_fraction', 0.1, 1.0),\n",
      "C:\\Users\\xfini\\AppData\\Local\\Temp\\ipykernel_20184\\981819043.py:22: FutureWarning: suggest_uniform has been deprecated in v3.0.0. This feature will be removed in v6.0.0. See https://github.com/optuna/optuna/releases/tag/v3.0.0. Use :func:`~optuna.trial.Trial.suggest_float` instead.\n",
      "  'bagging_fraction': trial.suggest_uniform('bagging_fraction', 0.1, 1.0),\n",
      "c:\\Users\\xfini\\anaconda3\\lib\\site-packages\\lightgbm\\sklearn.py:726: UserWarning: 'early_stopping_rounds' argument is deprecated and will be removed in a future release of LightGBM. Pass 'early_stopping()' callback via 'callbacks' argument instead.\n",
      "  _log_warning(\"'early_stopping_rounds' argument is deprecated and will be removed in a future release of LightGBM. \"\n",
      "c:\\Users\\xfini\\anaconda3\\lib\\site-packages\\lightgbm\\sklearn.py:736: UserWarning: 'verbose' argument is deprecated and will be removed in a future release of LightGBM. Pass 'log_evaluation()' callback via 'callbacks' argument instead.\n",
      "  _log_warning(\"'verbose' argument is deprecated and will be removed in a future release of LightGBM. \"\n"
     ]
    },
    {
     "name": "stdout",
     "output_type": "stream",
     "text": [
      "\u001b[32m[I 2023-02-24 15:02:25,573]\u001b[0m Trial 28 finished with value: 657.1369508059676 and parameters: {'learning_rate': 0.027819944859968304, 'num_leaves': 121, 'max_depth': 7, 'feature_fraction': 0.8272449023631567, 'bagging_fraction': 0.674652610931587, 'bagging_freq': 9, 'min_child_samples': 15}. Best is trial 26 with value: 579.6780302417325.\u001b[0m\n",
      "[LightGBM] [Warning] feature_fraction is set=0.7129405980129915, colsample_bytree=1.0 will be ignored. Current value: feature_fraction=0.7129405980129915\n",
      "[LightGBM] [Warning] bagging_fraction is set=0.8070745162290737, subsample=1.0 will be ignored. Current value: bagging_fraction=0.8070745162290737\n",
      "[LightGBM] [Warning] bagging_freq is set=10, subsample_freq=0 will be ignored. Current value: bagging_freq=10\n"
     ]
    },
    {
     "name": "stderr",
     "output_type": "stream",
     "text": [
      "C:\\Users\\xfini\\AppData\\Local\\Temp\\ipykernel_20184\\981819043.py:18: FutureWarning: suggest_loguniform has been deprecated in v3.0.0. This feature will be removed in v6.0.0. See https://github.com/optuna/optuna/releases/tag/v3.0.0. Use :func:`~optuna.trial.Trial.suggest_float` instead.\n",
      "  'learning_rate': trial.suggest_loguniform('learning_rate', 0.001, 0.1),\n",
      "C:\\Users\\xfini\\AppData\\Local\\Temp\\ipykernel_20184\\981819043.py:21: FutureWarning: suggest_uniform has been deprecated in v3.0.0. This feature will be removed in v6.0.0. See https://github.com/optuna/optuna/releases/tag/v3.0.0. Use :func:`~optuna.trial.Trial.suggest_float` instead.\n",
      "  'feature_fraction': trial.suggest_uniform('feature_fraction', 0.1, 1.0),\n",
      "C:\\Users\\xfini\\AppData\\Local\\Temp\\ipykernel_20184\\981819043.py:22: FutureWarning: suggest_uniform has been deprecated in v3.0.0. This feature will be removed in v6.0.0. See https://github.com/optuna/optuna/releases/tag/v3.0.0. Use :func:`~optuna.trial.Trial.suggest_float` instead.\n",
      "  'bagging_fraction': trial.suggest_uniform('bagging_fraction', 0.1, 1.0),\n",
      "c:\\Users\\xfini\\anaconda3\\lib\\site-packages\\lightgbm\\sklearn.py:726: UserWarning: 'early_stopping_rounds' argument is deprecated and will be removed in a future release of LightGBM. Pass 'early_stopping()' callback via 'callbacks' argument instead.\n",
      "  _log_warning(\"'early_stopping_rounds' argument is deprecated and will be removed in a future release of LightGBM. \"\n",
      "c:\\Users\\xfini\\anaconda3\\lib\\site-packages\\lightgbm\\sklearn.py:736: UserWarning: 'verbose' argument is deprecated and will be removed in a future release of LightGBM. Pass 'log_evaluation()' callback via 'callbacks' argument instead.\n",
      "  _log_warning(\"'verbose' argument is deprecated and will be removed in a future release of LightGBM. \"\n"
     ]
    },
    {
     "name": "stdout",
     "output_type": "stream",
     "text": [
      "\u001b[32m[I 2023-02-24 15:02:26,396]\u001b[0m Trial 29 finished with value: 575.607487408935 and parameters: {'learning_rate': 0.07033339043650011, 'num_leaves': 161, 'max_depth': 9, 'feature_fraction': 0.7129405980129915, 'bagging_fraction': 0.8070745162290737, 'bagging_freq': 10, 'min_child_samples': 26}. Best is trial 29 with value: 575.607487408935.\u001b[0m\n",
      "[LightGBM] [Warning] feature_fraction is set=0.7202668769427029, colsample_bytree=1.0 will be ignored. Current value: feature_fraction=0.7202668769427029\n",
      "[LightGBM] [Warning] bagging_fraction is set=0.8382082968612717, subsample=1.0 will be ignored. Current value: bagging_fraction=0.8382082968612717\n",
      "[LightGBM] [Warning] bagging_freq is set=10, subsample_freq=0 will be ignored. Current value: bagging_freq=10\n"
     ]
    },
    {
     "name": "stderr",
     "output_type": "stream",
     "text": [
      "C:\\Users\\xfini\\AppData\\Local\\Temp\\ipykernel_20184\\981819043.py:18: FutureWarning: suggest_loguniform has been deprecated in v3.0.0. This feature will be removed in v6.0.0. See https://github.com/optuna/optuna/releases/tag/v3.0.0. Use :func:`~optuna.trial.Trial.suggest_float` instead.\n",
      "  'learning_rate': trial.suggest_loguniform('learning_rate', 0.001, 0.1),\n",
      "C:\\Users\\xfini\\AppData\\Local\\Temp\\ipykernel_20184\\981819043.py:21: FutureWarning: suggest_uniform has been deprecated in v3.0.0. This feature will be removed in v6.0.0. See https://github.com/optuna/optuna/releases/tag/v3.0.0. Use :func:`~optuna.trial.Trial.suggest_float` instead.\n",
      "  'feature_fraction': trial.suggest_uniform('feature_fraction', 0.1, 1.0),\n",
      "C:\\Users\\xfini\\AppData\\Local\\Temp\\ipykernel_20184\\981819043.py:22: FutureWarning: suggest_uniform has been deprecated in v3.0.0. This feature will be removed in v6.0.0. See https://github.com/optuna/optuna/releases/tag/v3.0.0. Use :func:`~optuna.trial.Trial.suggest_float` instead.\n",
      "  'bagging_fraction': trial.suggest_uniform('bagging_fraction', 0.1, 1.0),\n",
      "c:\\Users\\xfini\\anaconda3\\lib\\site-packages\\lightgbm\\sklearn.py:726: UserWarning: 'early_stopping_rounds' argument is deprecated and will be removed in a future release of LightGBM. Pass 'early_stopping()' callback via 'callbacks' argument instead.\n",
      "  _log_warning(\"'early_stopping_rounds' argument is deprecated and will be removed in a future release of LightGBM. \"\n",
      "c:\\Users\\xfini\\anaconda3\\lib\\site-packages\\lightgbm\\sklearn.py:736: UserWarning: 'verbose' argument is deprecated and will be removed in a future release of LightGBM. Pass 'log_evaluation()' callback via 'callbacks' argument instead.\n",
      "  _log_warning(\"'verbose' argument is deprecated and will be removed in a future release of LightGBM. \"\n"
     ]
    },
    {
     "name": "stdout",
     "output_type": "stream",
     "text": [
      "\u001b[32m[I 2023-02-24 15:02:27,001]\u001b[0m Trial 30 finished with value: 577.4227357999258 and parameters: {'learning_rate': 0.09993262105512231, 'num_leaves': 93, 'max_depth': 10, 'feature_fraction': 0.7202668769427029, 'bagging_fraction': 0.8382082968612717, 'bagging_freq': 10, 'min_child_samples': 26}. Best is trial 29 with value: 575.607487408935.\u001b[0m\n",
      "[LightGBM] [Warning] feature_fraction is set=0.6901534321563894, colsample_bytree=1.0 will be ignored. Current value: feature_fraction=0.6901534321563894\n",
      "[LightGBM] [Warning] bagging_fraction is set=0.8347072234570363, subsample=1.0 will be ignored. Current value: bagging_fraction=0.8347072234570363\n",
      "[LightGBM] [Warning] bagging_freq is set=10, subsample_freq=0 will be ignored. Current value: bagging_freq=10\n"
     ]
    },
    {
     "name": "stderr",
     "output_type": "stream",
     "text": [
      "C:\\Users\\xfini\\AppData\\Local\\Temp\\ipykernel_20184\\981819043.py:18: FutureWarning: suggest_loguniform has been deprecated in v3.0.0. This feature will be removed in v6.0.0. See https://github.com/optuna/optuna/releases/tag/v3.0.0. Use :func:`~optuna.trial.Trial.suggest_float` instead.\n",
      "  'learning_rate': trial.suggest_loguniform('learning_rate', 0.001, 0.1),\n",
      "C:\\Users\\xfini\\AppData\\Local\\Temp\\ipykernel_20184\\981819043.py:21: FutureWarning: suggest_uniform has been deprecated in v3.0.0. This feature will be removed in v6.0.0. See https://github.com/optuna/optuna/releases/tag/v3.0.0. Use :func:`~optuna.trial.Trial.suggest_float` instead.\n",
      "  'feature_fraction': trial.suggest_uniform('feature_fraction', 0.1, 1.0),\n",
      "C:\\Users\\xfini\\AppData\\Local\\Temp\\ipykernel_20184\\981819043.py:22: FutureWarning: suggest_uniform has been deprecated in v3.0.0. This feature will be removed in v6.0.0. See https://github.com/optuna/optuna/releases/tag/v3.0.0. Use :func:`~optuna.trial.Trial.suggest_float` instead.\n",
      "  'bagging_fraction': trial.suggest_uniform('bagging_fraction', 0.1, 1.0),\n",
      "c:\\Users\\xfini\\anaconda3\\lib\\site-packages\\lightgbm\\sklearn.py:726: UserWarning: 'early_stopping_rounds' argument is deprecated and will be removed in a future release of LightGBM. Pass 'early_stopping()' callback via 'callbacks' argument instead.\n",
      "  _log_warning(\"'early_stopping_rounds' argument is deprecated and will be removed in a future release of LightGBM. \"\n",
      "c:\\Users\\xfini\\anaconda3\\lib\\site-packages\\lightgbm\\sklearn.py:736: UserWarning: 'verbose' argument is deprecated and will be removed in a future release of LightGBM. Pass 'log_evaluation()' callback via 'callbacks' argument instead.\n",
      "  _log_warning(\"'verbose' argument is deprecated and will be removed in a future release of LightGBM. \"\n"
     ]
    },
    {
     "name": "stdout",
     "output_type": "stream",
     "text": [
      "\u001b[32m[I 2023-02-24 15:02:27,702]\u001b[0m Trial 31 finished with value: 575.9494001958935 and parameters: {'learning_rate': 0.09790925554925035, 'num_leaves': 79, 'max_depth': 10, 'feature_fraction': 0.6901534321563894, 'bagging_fraction': 0.8347072234570363, 'bagging_freq': 10, 'min_child_samples': 26}. Best is trial 29 with value: 575.607487408935.\u001b[0m\n",
      "[LightGBM] [Warning] feature_fraction is set=0.7174721680074703, colsample_bytree=1.0 will be ignored. Current value: feature_fraction=0.7174721680074703\n",
      "[LightGBM] [Warning] bagging_fraction is set=0.8450016489639521, subsample=1.0 will be ignored. Current value: bagging_fraction=0.8450016489639521\n",
      "[LightGBM] [Warning] bagging_freq is set=10, subsample_freq=0 will be ignored. Current value: bagging_freq=10\n"
     ]
    },
    {
     "name": "stderr",
     "output_type": "stream",
     "text": [
      "C:\\Users\\xfini\\AppData\\Local\\Temp\\ipykernel_20184\\981819043.py:18: FutureWarning: suggest_loguniform has been deprecated in v3.0.0. This feature will be removed in v6.0.0. See https://github.com/optuna/optuna/releases/tag/v3.0.0. Use :func:`~optuna.trial.Trial.suggest_float` instead.\n",
      "  'learning_rate': trial.suggest_loguniform('learning_rate', 0.001, 0.1),\n",
      "C:\\Users\\xfini\\AppData\\Local\\Temp\\ipykernel_20184\\981819043.py:21: FutureWarning: suggest_uniform has been deprecated in v3.0.0. This feature will be removed in v6.0.0. See https://github.com/optuna/optuna/releases/tag/v3.0.0. Use :func:`~optuna.trial.Trial.suggest_float` instead.\n",
      "  'feature_fraction': trial.suggest_uniform('feature_fraction', 0.1, 1.0),\n",
      "C:\\Users\\xfini\\AppData\\Local\\Temp\\ipykernel_20184\\981819043.py:22: FutureWarning: suggest_uniform has been deprecated in v3.0.0. This feature will be removed in v6.0.0. See https://github.com/optuna/optuna/releases/tag/v3.0.0. Use :func:`~optuna.trial.Trial.suggest_float` instead.\n",
      "  'bagging_fraction': trial.suggest_uniform('bagging_fraction', 0.1, 1.0),\n",
      "c:\\Users\\xfini\\anaconda3\\lib\\site-packages\\lightgbm\\sklearn.py:726: UserWarning: 'early_stopping_rounds' argument is deprecated and will be removed in a future release of LightGBM. Pass 'early_stopping()' callback via 'callbacks' argument instead.\n",
      "  _log_warning(\"'early_stopping_rounds' argument is deprecated and will be removed in a future release of LightGBM. \"\n",
      "c:\\Users\\xfini\\anaconda3\\lib\\site-packages\\lightgbm\\sklearn.py:736: UserWarning: 'verbose' argument is deprecated and will be removed in a future release of LightGBM. Pass 'log_evaluation()' callback via 'callbacks' argument instead.\n",
      "  _log_warning(\"'verbose' argument is deprecated and will be removed in a future release of LightGBM. \"\n"
     ]
    },
    {
     "name": "stdout",
     "output_type": "stream",
     "text": [
      "\u001b[32m[I 2023-02-24 15:02:28,395]\u001b[0m Trial 32 finished with value: 578.878389704052 and parameters: {'learning_rate': 0.07438924974147755, 'num_leaves': 82, 'max_depth': 10, 'feature_fraction': 0.7174721680074703, 'bagging_fraction': 0.8450016489639521, 'bagging_freq': 10, 'min_child_samples': 15}. Best is trial 29 with value: 575.607487408935.\u001b[0m\n",
      "[LightGBM] [Warning] feature_fraction is set=0.6622854633043873, colsample_bytree=1.0 will be ignored. Current value: feature_fraction=0.6622854633043873\n",
      "[LightGBM] [Warning] bagging_fraction is set=0.9861243908188682, subsample=1.0 will be ignored. Current value: bagging_fraction=0.9861243908188682\n",
      "[LightGBM] [Warning] bagging_freq is set=10, subsample_freq=0 will be ignored. Current value: bagging_freq=10\n"
     ]
    },
    {
     "name": "stderr",
     "output_type": "stream",
     "text": [
      "C:\\Users\\xfini\\AppData\\Local\\Temp\\ipykernel_20184\\981819043.py:18: FutureWarning: suggest_loguniform has been deprecated in v3.0.0. This feature will be removed in v6.0.0. See https://github.com/optuna/optuna/releases/tag/v3.0.0. Use :func:`~optuna.trial.Trial.suggest_float` instead.\n",
      "  'learning_rate': trial.suggest_loguniform('learning_rate', 0.001, 0.1),\n",
      "C:\\Users\\xfini\\AppData\\Local\\Temp\\ipykernel_20184\\981819043.py:21: FutureWarning: suggest_uniform has been deprecated in v3.0.0. This feature will be removed in v6.0.0. See https://github.com/optuna/optuna/releases/tag/v3.0.0. Use :func:`~optuna.trial.Trial.suggest_float` instead.\n",
      "  'feature_fraction': trial.suggest_uniform('feature_fraction', 0.1, 1.0),\n",
      "C:\\Users\\xfini\\AppData\\Local\\Temp\\ipykernel_20184\\981819043.py:22: FutureWarning: suggest_uniform has been deprecated in v3.0.0. This feature will be removed in v6.0.0. See https://github.com/optuna/optuna/releases/tag/v3.0.0. Use :func:`~optuna.trial.Trial.suggest_float` instead.\n",
      "  'bagging_fraction': trial.suggest_uniform('bagging_fraction', 0.1, 1.0),\n",
      "c:\\Users\\xfini\\anaconda3\\lib\\site-packages\\lightgbm\\sklearn.py:726: UserWarning: 'early_stopping_rounds' argument is deprecated and will be removed in a future release of LightGBM. Pass 'early_stopping()' callback via 'callbacks' argument instead.\n",
      "  _log_warning(\"'early_stopping_rounds' argument is deprecated and will be removed in a future release of LightGBM. \"\n",
      "c:\\Users\\xfini\\anaconda3\\lib\\site-packages\\lightgbm\\sklearn.py:736: UserWarning: 'verbose' argument is deprecated and will be removed in a future release of LightGBM. Pass 'log_evaluation()' callback via 'callbacks' argument instead.\n",
      "  _log_warning(\"'verbose' argument is deprecated and will be removed in a future release of LightGBM. \"\n"
     ]
    },
    {
     "name": "stdout",
     "output_type": "stream",
     "text": [
      "\u001b[32m[I 2023-02-24 15:02:29,130]\u001b[0m Trial 33 finished with value: 575.7240189769005 and parameters: {'learning_rate': 0.07633777411622053, 'num_leaves': 79, 'max_depth': 10, 'feature_fraction': 0.6622854633043873, 'bagging_fraction': 0.9861243908188682, 'bagging_freq': 10, 'min_child_samples': 30}. Best is trial 29 with value: 575.607487408935.\u001b[0m\n",
      "[LightGBM] [Warning] feature_fraction is set=0.6790368236639647, colsample_bytree=1.0 will be ignored. Current value: feature_fraction=0.6790368236639647\n",
      "[LightGBM] [Warning] bagging_fraction is set=0.9991496344995932, subsample=1.0 will be ignored. Current value: bagging_fraction=0.9991496344995932\n",
      "[LightGBM] [Warning] bagging_freq is set=10, subsample_freq=0 will be ignored. Current value: bagging_freq=10\n"
     ]
    },
    {
     "name": "stderr",
     "output_type": "stream",
     "text": [
      "C:\\Users\\xfini\\AppData\\Local\\Temp\\ipykernel_20184\\981819043.py:18: FutureWarning: suggest_loguniform has been deprecated in v3.0.0. This feature will be removed in v6.0.0. See https://github.com/optuna/optuna/releases/tag/v3.0.0. Use :func:`~optuna.trial.Trial.suggest_float` instead.\n",
      "  'learning_rate': trial.suggest_loguniform('learning_rate', 0.001, 0.1),\n",
      "C:\\Users\\xfini\\AppData\\Local\\Temp\\ipykernel_20184\\981819043.py:21: FutureWarning: suggest_uniform has been deprecated in v3.0.0. This feature will be removed in v6.0.0. See https://github.com/optuna/optuna/releases/tag/v3.0.0. Use :func:`~optuna.trial.Trial.suggest_float` instead.\n",
      "  'feature_fraction': trial.suggest_uniform('feature_fraction', 0.1, 1.0),\n",
      "C:\\Users\\xfini\\AppData\\Local\\Temp\\ipykernel_20184\\981819043.py:22: FutureWarning: suggest_uniform has been deprecated in v3.0.0. This feature will be removed in v6.0.0. See https://github.com/optuna/optuna/releases/tag/v3.0.0. Use :func:`~optuna.trial.Trial.suggest_float` instead.\n",
      "  'bagging_fraction': trial.suggest_uniform('bagging_fraction', 0.1, 1.0),\n",
      "c:\\Users\\xfini\\anaconda3\\lib\\site-packages\\lightgbm\\sklearn.py:726: UserWarning: 'early_stopping_rounds' argument is deprecated and will be removed in a future release of LightGBM. Pass 'early_stopping()' callback via 'callbacks' argument instead.\n",
      "  _log_warning(\"'early_stopping_rounds' argument is deprecated and will be removed in a future release of LightGBM. \"\n",
      "c:\\Users\\xfini\\anaconda3\\lib\\site-packages\\lightgbm\\sklearn.py:736: UserWarning: 'verbose' argument is deprecated and will be removed in a future release of LightGBM. Pass 'log_evaluation()' callback via 'callbacks' argument instead.\n",
      "  _log_warning(\"'verbose' argument is deprecated and will be removed in a future release of LightGBM. \"\n"
     ]
    },
    {
     "name": "stdout",
     "output_type": "stream",
     "text": [
      "\u001b[32m[I 2023-02-24 15:02:29,777]\u001b[0m Trial 34 finished with value: 583.3792743712722 and parameters: {'learning_rate': 0.04991700963520165, 'num_leaves': 64, 'max_depth': 10, 'feature_fraction': 0.6790368236639647, 'bagging_fraction': 0.9991496344995932, 'bagging_freq': 10, 'min_child_samples': 31}. Best is trial 29 with value: 575.607487408935.\u001b[0m\n",
      "[LightGBM] [Warning] feature_fraction is set=0.6516506128677311, colsample_bytree=1.0 will be ignored. Current value: feature_fraction=0.6516506128677311\n",
      "[LightGBM] [Warning] bagging_fraction is set=0.9274647446979224, subsample=1.0 will be ignored. Current value: bagging_fraction=0.9274647446979224\n",
      "[LightGBM] [Warning] bagging_freq is set=10, subsample_freq=0 will be ignored. Current value: bagging_freq=10\n"
     ]
    },
    {
     "name": "stderr",
     "output_type": "stream",
     "text": [
      "C:\\Users\\xfini\\AppData\\Local\\Temp\\ipykernel_20184\\981819043.py:18: FutureWarning: suggest_loguniform has been deprecated in v3.0.0. This feature will be removed in v6.0.0. See https://github.com/optuna/optuna/releases/tag/v3.0.0. Use :func:`~optuna.trial.Trial.suggest_float` instead.\n",
      "  'learning_rate': trial.suggest_loguniform('learning_rate', 0.001, 0.1),\n",
      "C:\\Users\\xfini\\AppData\\Local\\Temp\\ipykernel_20184\\981819043.py:21: FutureWarning: suggest_uniform has been deprecated in v3.0.0. This feature will be removed in v6.0.0. See https://github.com/optuna/optuna/releases/tag/v3.0.0. Use :func:`~optuna.trial.Trial.suggest_float` instead.\n",
      "  'feature_fraction': trial.suggest_uniform('feature_fraction', 0.1, 1.0),\n",
      "C:\\Users\\xfini\\AppData\\Local\\Temp\\ipykernel_20184\\981819043.py:22: FutureWarning: suggest_uniform has been deprecated in v3.0.0. This feature will be removed in v6.0.0. See https://github.com/optuna/optuna/releases/tag/v3.0.0. Use :func:`~optuna.trial.Trial.suggest_float` instead.\n",
      "  'bagging_fraction': trial.suggest_uniform('bagging_fraction', 0.1, 1.0),\n",
      "c:\\Users\\xfini\\anaconda3\\lib\\site-packages\\lightgbm\\sklearn.py:726: UserWarning: 'early_stopping_rounds' argument is deprecated and will be removed in a future release of LightGBM. Pass 'early_stopping()' callback via 'callbacks' argument instead.\n",
      "  _log_warning(\"'early_stopping_rounds' argument is deprecated and will be removed in a future release of LightGBM. \"\n",
      "c:\\Users\\xfini\\anaconda3\\lib\\site-packages\\lightgbm\\sklearn.py:736: UserWarning: 'verbose' argument is deprecated and will be removed in a future release of LightGBM. Pass 'log_evaluation()' callback via 'callbacks' argument instead.\n",
      "  _log_warning(\"'verbose' argument is deprecated and will be removed in a future release of LightGBM. \"\n"
     ]
    },
    {
     "name": "stdout",
     "output_type": "stream",
     "text": [
      "\u001b[32m[I 2023-02-24 15:02:30,523]\u001b[0m Trial 35 finished with value: 576.410697933659 and parameters: {'learning_rate': 0.09937020608523062, 'num_leaves': 68, 'max_depth': 14, 'feature_fraction': 0.6516506128677311, 'bagging_fraction': 0.9274647446979224, 'bagging_freq': 10, 'min_child_samples': 37}. Best is trial 29 with value: 575.607487408935.\u001b[0m\n",
      "[LightGBM] [Warning] feature_fraction is set=0.610580395389403, colsample_bytree=1.0 will be ignored. Current value: feature_fraction=0.610580395389403\n",
      "[LightGBM] [Warning] bagging_fraction is set=0.9285508205269328, subsample=1.0 will be ignored. Current value: bagging_fraction=0.9285508205269328\n",
      "[LightGBM] [Warning] bagging_freq is set=10, subsample_freq=0 will be ignored. Current value: bagging_freq=10\n"
     ]
    },
    {
     "name": "stderr",
     "output_type": "stream",
     "text": [
      "C:\\Users\\xfini\\AppData\\Local\\Temp\\ipykernel_20184\\981819043.py:18: FutureWarning: suggest_loguniform has been deprecated in v3.0.0. This feature will be removed in v6.0.0. See https://github.com/optuna/optuna/releases/tag/v3.0.0. Use :func:`~optuna.trial.Trial.suggest_float` instead.\n",
      "  'learning_rate': trial.suggest_loguniform('learning_rate', 0.001, 0.1),\n",
      "C:\\Users\\xfini\\AppData\\Local\\Temp\\ipykernel_20184\\981819043.py:21: FutureWarning: suggest_uniform has been deprecated in v3.0.0. This feature will be removed in v6.0.0. See https://github.com/optuna/optuna/releases/tag/v3.0.0. Use :func:`~optuna.trial.Trial.suggest_float` instead.\n",
      "  'feature_fraction': trial.suggest_uniform('feature_fraction', 0.1, 1.0),\n",
      "C:\\Users\\xfini\\AppData\\Local\\Temp\\ipykernel_20184\\981819043.py:22: FutureWarning: suggest_uniform has been deprecated in v3.0.0. This feature will be removed in v6.0.0. See https://github.com/optuna/optuna/releases/tag/v3.0.0. Use :func:`~optuna.trial.Trial.suggest_float` instead.\n",
      "  'bagging_fraction': trial.suggest_uniform('bagging_fraction', 0.1, 1.0),\n",
      "c:\\Users\\xfini\\anaconda3\\lib\\site-packages\\lightgbm\\sklearn.py:726: UserWarning: 'early_stopping_rounds' argument is deprecated and will be removed in a future release of LightGBM. Pass 'early_stopping()' callback via 'callbacks' argument instead.\n",
      "  _log_warning(\"'early_stopping_rounds' argument is deprecated and will be removed in a future release of LightGBM. \"\n",
      "c:\\Users\\xfini\\anaconda3\\lib\\site-packages\\lightgbm\\sklearn.py:736: UserWarning: 'verbose' argument is deprecated and will be removed in a future release of LightGBM. Pass 'log_evaluation()' callback via 'callbacks' argument instead.\n",
      "  _log_warning(\"'verbose' argument is deprecated and will be removed in a future release of LightGBM. \"\n"
     ]
    },
    {
     "name": "stdout",
     "output_type": "stream",
     "text": [
      "\u001b[32m[I 2023-02-24 15:02:31,208]\u001b[0m Trial 36 finished with value: 628.4706663156658 and parameters: {'learning_rate': 0.035098881745076554, 'num_leaves': 58, 'max_depth': 15, 'feature_fraction': 0.610580395389403, 'bagging_fraction': 0.9285508205269328, 'bagging_freq': 10, 'min_child_samples': 38}. Best is trial 29 with value: 575.607487408935.\u001b[0m\n",
      "[LightGBM] [Warning] feature_fraction is set=0.5889125154188675, colsample_bytree=1.0 will be ignored. Current value: feature_fraction=0.5889125154188675\n",
      "[LightGBM] [Warning] bagging_fraction is set=0.9464296134503333, subsample=1.0 will be ignored. Current value: bagging_fraction=0.9464296134503333\n",
      "[LightGBM] [Warning] bagging_freq is set=8, subsample_freq=0 will be ignored. Current value: bagging_freq=8\n"
     ]
    },
    {
     "name": "stderr",
     "output_type": "stream",
     "text": [
      "C:\\Users\\xfini\\AppData\\Local\\Temp\\ipykernel_20184\\981819043.py:18: FutureWarning: suggest_loguniform has been deprecated in v3.0.0. This feature will be removed in v6.0.0. See https://github.com/optuna/optuna/releases/tag/v3.0.0. Use :func:`~optuna.trial.Trial.suggest_float` instead.\n",
      "  'learning_rate': trial.suggest_loguniform('learning_rate', 0.001, 0.1),\n",
      "C:\\Users\\xfini\\AppData\\Local\\Temp\\ipykernel_20184\\981819043.py:21: FutureWarning: suggest_uniform has been deprecated in v3.0.0. This feature will be removed in v6.0.0. See https://github.com/optuna/optuna/releases/tag/v3.0.0. Use :func:`~optuna.trial.Trial.suggest_float` instead.\n",
      "  'feature_fraction': trial.suggest_uniform('feature_fraction', 0.1, 1.0),\n",
      "C:\\Users\\xfini\\AppData\\Local\\Temp\\ipykernel_20184\\981819043.py:22: FutureWarning: suggest_uniform has been deprecated in v3.0.0. This feature will be removed in v6.0.0. See https://github.com/optuna/optuna/releases/tag/v3.0.0. Use :func:`~optuna.trial.Trial.suggest_float` instead.\n",
      "  'bagging_fraction': trial.suggest_uniform('bagging_fraction', 0.1, 1.0),\n",
      "c:\\Users\\xfini\\anaconda3\\lib\\site-packages\\lightgbm\\sklearn.py:726: UserWarning: 'early_stopping_rounds' argument is deprecated and will be removed in a future release of LightGBM. Pass 'early_stopping()' callback via 'callbacks' argument instead.\n",
      "  _log_warning(\"'early_stopping_rounds' argument is deprecated and will be removed in a future release of LightGBM. \"\n",
      "c:\\Users\\xfini\\anaconda3\\lib\\site-packages\\lightgbm\\sklearn.py:736: UserWarning: 'verbose' argument is deprecated and will be removed in a future release of LightGBM. Pass 'log_evaluation()' callback via 'callbacks' argument instead.\n",
      "  _log_warning(\"'verbose' argument is deprecated and will be removed in a future release of LightGBM. \"\n"
     ]
    },
    {
     "name": "stdout",
     "output_type": "stream",
     "text": [
      "\u001b[32m[I 2023-02-24 15:02:31,738]\u001b[0m Trial 37 finished with value: 584.6347887601813 and parameters: {'learning_rate': 0.0760993718438859, 'num_leaves': 30, 'max_depth': 14, 'feature_fraction': 0.5889125154188675, 'bagging_fraction': 0.9464296134503333, 'bagging_freq': 8, 'min_child_samples': 99}. Best is trial 29 with value: 575.607487408935.\u001b[0m\n",
      "[LightGBM] [Warning] feature_fraction is set=0.684643912094664, colsample_bytree=1.0 will be ignored. Current value: feature_fraction=0.684643912094664\n",
      "[LightGBM] [Warning] bagging_fraction is set=0.9779559535601111, subsample=1.0 will be ignored. Current value: bagging_fraction=0.9779559535601111\n",
      "[LightGBM] [Warning] bagging_freq is set=9, subsample_freq=0 will be ignored. Current value: bagging_freq=9\n"
     ]
    },
    {
     "name": "stderr",
     "output_type": "stream",
     "text": [
      "C:\\Users\\xfini\\AppData\\Local\\Temp\\ipykernel_20184\\981819043.py:18: FutureWarning: suggest_loguniform has been deprecated in v3.0.0. This feature will be removed in v6.0.0. See https://github.com/optuna/optuna/releases/tag/v3.0.0. Use :func:`~optuna.trial.Trial.suggest_float` instead.\n",
      "  'learning_rate': trial.suggest_loguniform('learning_rate', 0.001, 0.1),\n",
      "C:\\Users\\xfini\\AppData\\Local\\Temp\\ipykernel_20184\\981819043.py:21: FutureWarning: suggest_uniform has been deprecated in v3.0.0. This feature will be removed in v6.0.0. See https://github.com/optuna/optuna/releases/tag/v3.0.0. Use :func:`~optuna.trial.Trial.suggest_float` instead.\n",
      "  'feature_fraction': trial.suggest_uniform('feature_fraction', 0.1, 1.0),\n",
      "C:\\Users\\xfini\\AppData\\Local\\Temp\\ipykernel_20184\\981819043.py:22: FutureWarning: suggest_uniform has been deprecated in v3.0.0. This feature will be removed in v6.0.0. See https://github.com/optuna/optuna/releases/tag/v3.0.0. Use :func:`~optuna.trial.Trial.suggest_float` instead.\n",
      "  'bagging_fraction': trial.suggest_uniform('bagging_fraction', 0.1, 1.0),\n",
      "c:\\Users\\xfini\\anaconda3\\lib\\site-packages\\lightgbm\\sklearn.py:726: UserWarning: 'early_stopping_rounds' argument is deprecated and will be removed in a future release of LightGBM. Pass 'early_stopping()' callback via 'callbacks' argument instead.\n",
      "  _log_warning(\"'early_stopping_rounds' argument is deprecated and will be removed in a future release of LightGBM. \"\n",
      "c:\\Users\\xfini\\anaconda3\\lib\\site-packages\\lightgbm\\sklearn.py:736: UserWarning: 'verbose' argument is deprecated and will be removed in a future release of LightGBM. Pass 'log_evaluation()' callback via 'callbacks' argument instead.\n",
      "  _log_warning(\"'verbose' argument is deprecated and will be removed in a future release of LightGBM. \"\n"
     ]
    },
    {
     "name": "stdout",
     "output_type": "stream",
     "text": [
      "\u001b[32m[I 2023-02-24 15:02:32,518]\u001b[0m Trial 38 finished with value: 582.1532091230345 and parameters: {'learning_rate': 0.05023295787095143, 'num_leaves': 76, 'max_depth': 13, 'feature_fraction': 0.684643912094664, 'bagging_fraction': 0.9779559535601111, 'bagging_freq': 9, 'min_child_samples': 39}. Best is trial 29 with value: 575.607487408935.\u001b[0m\n",
      "[LightGBM] [Warning] feature_fraction is set=0.5527256379003224, colsample_bytree=1.0 will be ignored. Current value: feature_fraction=0.5527256379003224\n",
      "[LightGBM] [Warning] bagging_fraction is set=0.8982999976828074, subsample=1.0 will be ignored. Current value: bagging_fraction=0.8982999976828074\n",
      "[LightGBM] [Warning] bagging_freq is set=10, subsample_freq=0 will be ignored. Current value: bagging_freq=10\n"
     ]
    },
    {
     "name": "stderr",
     "output_type": "stream",
     "text": [
      "C:\\Users\\xfini\\AppData\\Local\\Temp\\ipykernel_20184\\981819043.py:18: FutureWarning: suggest_loguniform has been deprecated in v3.0.0. This feature will be removed in v6.0.0. See https://github.com/optuna/optuna/releases/tag/v3.0.0. Use :func:`~optuna.trial.Trial.suggest_float` instead.\n",
      "  'learning_rate': trial.suggest_loguniform('learning_rate', 0.001, 0.1),\n",
      "C:\\Users\\xfini\\AppData\\Local\\Temp\\ipykernel_20184\\981819043.py:21: FutureWarning: suggest_uniform has been deprecated in v3.0.0. This feature will be removed in v6.0.0. See https://github.com/optuna/optuna/releases/tag/v3.0.0. Use :func:`~optuna.trial.Trial.suggest_float` instead.\n",
      "  'feature_fraction': trial.suggest_uniform('feature_fraction', 0.1, 1.0),\n",
      "C:\\Users\\xfini\\AppData\\Local\\Temp\\ipykernel_20184\\981819043.py:22: FutureWarning: suggest_uniform has been deprecated in v3.0.0. This feature will be removed in v6.0.0. See https://github.com/optuna/optuna/releases/tag/v3.0.0. Use :func:`~optuna.trial.Trial.suggest_float` instead.\n",
      "  'bagging_fraction': trial.suggest_uniform('bagging_fraction', 0.1, 1.0),\n",
      "c:\\Users\\xfini\\anaconda3\\lib\\site-packages\\lightgbm\\sklearn.py:726: UserWarning: 'early_stopping_rounds' argument is deprecated and will be removed in a future release of LightGBM. Pass 'early_stopping()' callback via 'callbacks' argument instead.\n",
      "  _log_warning(\"'early_stopping_rounds' argument is deprecated and will be removed in a future release of LightGBM. \"\n",
      "c:\\Users\\xfini\\anaconda3\\lib\\site-packages\\lightgbm\\sklearn.py:736: UserWarning: 'verbose' argument is deprecated and will be removed in a future release of LightGBM. Pass 'log_evaluation()' callback via 'callbacks' argument instead.\n",
      "  _log_warning(\"'verbose' argument is deprecated and will be removed in a future release of LightGBM. \"\n"
     ]
    },
    {
     "name": "stdout",
     "output_type": "stream",
     "text": [
      "\u001b[32m[I 2023-02-24 15:02:33,348]\u001b[0m Trial 39 finished with value: 608.6172627438169 and parameters: {'learning_rate': 0.03767757482750493, 'num_leaves': 117, 'max_depth': 11, 'feature_fraction': 0.5527256379003224, 'bagging_fraction': 0.8982999976828074, 'bagging_freq': 10, 'min_child_samples': 32}. Best is trial 29 with value: 575.607487408935.\u001b[0m\n",
      "[LightGBM] [Warning] feature_fraction is set=0.6572486397227499, colsample_bytree=1.0 will be ignored. Current value: feature_fraction=0.6572486397227499\n",
      "[LightGBM] [Warning] bagging_fraction is set=0.8544127827421619, subsample=1.0 will be ignored. Current value: bagging_fraction=0.8544127827421619\n",
      "[LightGBM] [Warning] bagging_freq is set=9, subsample_freq=0 will be ignored. Current value: bagging_freq=9\n"
     ]
    },
    {
     "name": "stderr",
     "output_type": "stream",
     "text": [
      "C:\\Users\\xfini\\AppData\\Local\\Temp\\ipykernel_20184\\981819043.py:18: FutureWarning: suggest_loguniform has been deprecated in v3.0.0. This feature will be removed in v6.0.0. See https://github.com/optuna/optuna/releases/tag/v3.0.0. Use :func:`~optuna.trial.Trial.suggest_float` instead.\n",
      "  'learning_rate': trial.suggest_loguniform('learning_rate', 0.001, 0.1),\n",
      "C:\\Users\\xfini\\AppData\\Local\\Temp\\ipykernel_20184\\981819043.py:21: FutureWarning: suggest_uniform has been deprecated in v3.0.0. This feature will be removed in v6.0.0. See https://github.com/optuna/optuna/releases/tag/v3.0.0. Use :func:`~optuna.trial.Trial.suggest_float` instead.\n",
      "  'feature_fraction': trial.suggest_uniform('feature_fraction', 0.1, 1.0),\n",
      "C:\\Users\\xfini\\AppData\\Local\\Temp\\ipykernel_20184\\981819043.py:22: FutureWarning: suggest_uniform has been deprecated in v3.0.0. This feature will be removed in v6.0.0. See https://github.com/optuna/optuna/releases/tag/v3.0.0. Use :func:`~optuna.trial.Trial.suggest_float` instead.\n",
      "  'bagging_fraction': trial.suggest_uniform('bagging_fraction', 0.1, 1.0),\n",
      "c:\\Users\\xfini\\anaconda3\\lib\\site-packages\\lightgbm\\sklearn.py:726: UserWarning: 'early_stopping_rounds' argument is deprecated and will be removed in a future release of LightGBM. Pass 'early_stopping()' callback via 'callbacks' argument instead.\n",
      "  _log_warning(\"'early_stopping_rounds' argument is deprecated and will be removed in a future release of LightGBM. \"\n",
      "c:\\Users\\xfini\\anaconda3\\lib\\site-packages\\lightgbm\\sklearn.py:736: UserWarning: 'verbose' argument is deprecated and will be removed in a future release of LightGBM. Pass 'log_evaluation()' callback via 'callbacks' argument instead.\n",
      "  _log_warning(\"'verbose' argument is deprecated and will be removed in a future release of LightGBM. \"\n"
     ]
    },
    {
     "name": "stdout",
     "output_type": "stream",
     "text": [
      "\u001b[32m[I 2023-02-24 15:02:34,035]\u001b[0m Trial 40 finished with value: 578.5098414862663 and parameters: {'learning_rate': 0.07419117087433671, 'num_leaves': 46, 'max_depth': 13, 'feature_fraction': 0.6572486397227499, 'bagging_fraction': 0.8544127827421619, 'bagging_freq': 9, 'min_child_samples': 28}. Best is trial 29 with value: 575.607487408935.\u001b[0m\n",
      "[LightGBM] [Warning] feature_fraction is set=0.7300276918814266, colsample_bytree=1.0 will be ignored. Current value: feature_fraction=0.7300276918814266\n",
      "[LightGBM] [Warning] bagging_fraction is set=0.814005928396463, subsample=1.0 will be ignored. Current value: bagging_fraction=0.814005928396463\n",
      "[LightGBM] [Warning] bagging_freq is set=10, subsample_freq=0 will be ignored. Current value: bagging_freq=10\n"
     ]
    },
    {
     "name": "stderr",
     "output_type": "stream",
     "text": [
      "C:\\Users\\xfini\\AppData\\Local\\Temp\\ipykernel_20184\\981819043.py:18: FutureWarning: suggest_loguniform has been deprecated in v3.0.0. This feature will be removed in v6.0.0. See https://github.com/optuna/optuna/releases/tag/v3.0.0. Use :func:`~optuna.trial.Trial.suggest_float` instead.\n",
      "  'learning_rate': trial.suggest_loguniform('learning_rate', 0.001, 0.1),\n",
      "C:\\Users\\xfini\\AppData\\Local\\Temp\\ipykernel_20184\\981819043.py:21: FutureWarning: suggest_uniform has been deprecated in v3.0.0. This feature will be removed in v6.0.0. See https://github.com/optuna/optuna/releases/tag/v3.0.0. Use :func:`~optuna.trial.Trial.suggest_float` instead.\n",
      "  'feature_fraction': trial.suggest_uniform('feature_fraction', 0.1, 1.0),\n",
      "C:\\Users\\xfini\\AppData\\Local\\Temp\\ipykernel_20184\\981819043.py:22: FutureWarning: suggest_uniform has been deprecated in v3.0.0. This feature will be removed in v6.0.0. See https://github.com/optuna/optuna/releases/tag/v3.0.0. Use :func:`~optuna.trial.Trial.suggest_float` instead.\n",
      "  'bagging_fraction': trial.suggest_uniform('bagging_fraction', 0.1, 1.0),\n",
      "c:\\Users\\xfini\\anaconda3\\lib\\site-packages\\lightgbm\\sklearn.py:726: UserWarning: 'early_stopping_rounds' argument is deprecated and will be removed in a future release of LightGBM. Pass 'early_stopping()' callback via 'callbacks' argument instead.\n",
      "  _log_warning(\"'early_stopping_rounds' argument is deprecated and will be removed in a future release of LightGBM. \"\n",
      "c:\\Users\\xfini\\anaconda3\\lib\\site-packages\\lightgbm\\sklearn.py:736: UserWarning: 'verbose' argument is deprecated and will be removed in a future release of LightGBM. Pass 'log_evaluation()' callback via 'callbacks' argument instead.\n",
      "  _log_warning(\"'verbose' argument is deprecated and will be removed in a future release of LightGBM. \"\n"
     ]
    },
    {
     "name": "stdout",
     "output_type": "stream",
     "text": [
      "\u001b[32m[I 2023-02-24 15:02:34,784]\u001b[0m Trial 41 finished with value: 577.4787535927658 and parameters: {'learning_rate': 0.08506589479448101, 'num_leaves': 106, 'max_depth': 9, 'feature_fraction': 0.7300276918814266, 'bagging_fraction': 0.814005928396463, 'bagging_freq': 10, 'min_child_samples': 20}. Best is trial 29 with value: 575.607487408935.\u001b[0m\n",
      "[LightGBM] [Warning] feature_fraction is set=0.7233449729629029, colsample_bytree=1.0 will be ignored. Current value: feature_fraction=0.7233449729629029\n",
      "[LightGBM] [Warning] bagging_fraction is set=0.9383808770167644, subsample=1.0 will be ignored. Current value: bagging_fraction=0.9383808770167644\n",
      "[LightGBM] [Warning] bagging_freq is set=10, subsample_freq=0 will be ignored. Current value: bagging_freq=10\n"
     ]
    },
    {
     "name": "stderr",
     "output_type": "stream",
     "text": [
      "C:\\Users\\xfini\\AppData\\Local\\Temp\\ipykernel_20184\\981819043.py:18: FutureWarning: suggest_loguniform has been deprecated in v3.0.0. This feature will be removed in v6.0.0. See https://github.com/optuna/optuna/releases/tag/v3.0.0. Use :func:`~optuna.trial.Trial.suggest_float` instead.\n",
      "  'learning_rate': trial.suggest_loguniform('learning_rate', 0.001, 0.1),\n",
      "C:\\Users\\xfini\\AppData\\Local\\Temp\\ipykernel_20184\\981819043.py:21: FutureWarning: suggest_uniform has been deprecated in v3.0.0. This feature will be removed in v6.0.0. See https://github.com/optuna/optuna/releases/tag/v3.0.0. Use :func:`~optuna.trial.Trial.suggest_float` instead.\n",
      "  'feature_fraction': trial.suggest_uniform('feature_fraction', 0.1, 1.0),\n",
      "C:\\Users\\xfini\\AppData\\Local\\Temp\\ipykernel_20184\\981819043.py:22: FutureWarning: suggest_uniform has been deprecated in v3.0.0. This feature will be removed in v6.0.0. See https://github.com/optuna/optuna/releases/tag/v3.0.0. Use :func:`~optuna.trial.Trial.suggest_float` instead.\n",
      "  'bagging_fraction': trial.suggest_uniform('bagging_fraction', 0.1, 1.0),\n",
      "c:\\Users\\xfini\\anaconda3\\lib\\site-packages\\lightgbm\\sklearn.py:726: UserWarning: 'early_stopping_rounds' argument is deprecated and will be removed in a future release of LightGBM. Pass 'early_stopping()' callback via 'callbacks' argument instead.\n",
      "  _log_warning(\"'early_stopping_rounds' argument is deprecated and will be removed in a future release of LightGBM. \"\n",
      "c:\\Users\\xfini\\anaconda3\\lib\\site-packages\\lightgbm\\sklearn.py:736: UserWarning: 'verbose' argument is deprecated and will be removed in a future release of LightGBM. Pass 'log_evaluation()' callback via 'callbacks' argument instead.\n",
      "  _log_warning(\"'verbose' argument is deprecated and will be removed in a future release of LightGBM. \"\n"
     ]
    },
    {
     "name": "stdout",
     "output_type": "stream",
     "text": [
      "\u001b[32m[I 2023-02-24 15:02:35,478]\u001b[0m Trial 42 finished with value: 576.6941899582279 and parameters: {'learning_rate': 0.09411552601491269, 'num_leaves': 75, 'max_depth': 11, 'feature_fraction': 0.7233449729629029, 'bagging_fraction': 0.9383808770167644, 'bagging_freq': 10, 'min_child_samples': 34}. Best is trial 29 with value: 575.607487408935.\u001b[0m\n",
      "[LightGBM] [Warning] feature_fraction is set=0.787229949378121, colsample_bytree=1.0 will be ignored. Current value: feature_fraction=0.787229949378121\n",
      "[LightGBM] [Warning] bagging_fraction is set=0.9473957250374904, subsample=1.0 will be ignored. Current value: bagging_fraction=0.9473957250374904\n",
      "[LightGBM] [Warning] bagging_freq is set=9, subsample_freq=0 will be ignored. Current value: bagging_freq=9\n"
     ]
    },
    {
     "name": "stderr",
     "output_type": "stream",
     "text": [
      "C:\\Users\\xfini\\AppData\\Local\\Temp\\ipykernel_20184\\981819043.py:18: FutureWarning: suggest_loguniform has been deprecated in v3.0.0. This feature will be removed in v6.0.0. See https://github.com/optuna/optuna/releases/tag/v3.0.0. Use :func:`~optuna.trial.Trial.suggest_float` instead.\n",
      "  'learning_rate': trial.suggest_loguniform('learning_rate', 0.001, 0.1),\n",
      "C:\\Users\\xfini\\AppData\\Local\\Temp\\ipykernel_20184\\981819043.py:21: FutureWarning: suggest_uniform has been deprecated in v3.0.0. This feature will be removed in v6.0.0. See https://github.com/optuna/optuna/releases/tag/v3.0.0. Use :func:`~optuna.trial.Trial.suggest_float` instead.\n",
      "  'feature_fraction': trial.suggest_uniform('feature_fraction', 0.1, 1.0),\n",
      "C:\\Users\\xfini\\AppData\\Local\\Temp\\ipykernel_20184\\981819043.py:22: FutureWarning: suggest_uniform has been deprecated in v3.0.0. This feature will be removed in v6.0.0. See https://github.com/optuna/optuna/releases/tag/v3.0.0. Use :func:`~optuna.trial.Trial.suggest_float` instead.\n",
      "  'bagging_fraction': trial.suggest_uniform('bagging_fraction', 0.1, 1.0),\n",
      "c:\\Users\\xfini\\anaconda3\\lib\\site-packages\\lightgbm\\sklearn.py:726: UserWarning: 'early_stopping_rounds' argument is deprecated and will be removed in a future release of LightGBM. Pass 'early_stopping()' callback via 'callbacks' argument instead.\n",
      "  _log_warning(\"'early_stopping_rounds' argument is deprecated and will be removed in a future release of LightGBM. \"\n",
      "c:\\Users\\xfini\\anaconda3\\lib\\site-packages\\lightgbm\\sklearn.py:736: UserWarning: 'verbose' argument is deprecated and will be removed in a future release of LightGBM. Pass 'log_evaluation()' callback via 'callbacks' argument instead.\n",
      "  _log_warning(\"'verbose' argument is deprecated and will be removed in a future release of LightGBM. \"\n"
     ]
    },
    {
     "name": "stdout",
     "output_type": "stream",
     "text": [
      "\u001b[32m[I 2023-02-24 15:02:36,240]\u001b[0m Trial 43 finished with value: 578.0932206579349 and parameters: {'learning_rate': 0.05474808097991515, 'num_leaves': 74, 'max_depth': 11, 'feature_fraction': 0.787229949378121, 'bagging_fraction': 0.9473957250374904, 'bagging_freq': 9, 'min_child_samples': 35}. Best is trial 29 with value: 575.607487408935.\u001b[0m\n",
      "[LightGBM] [Warning] feature_fraction is set=0.6372760991508151, colsample_bytree=1.0 will be ignored. Current value: feature_fraction=0.6372760991508151\n",
      "[LightGBM] [Warning] bagging_fraction is set=0.8926176789095084, subsample=1.0 will be ignored. Current value: bagging_fraction=0.8926176789095084\n",
      "[LightGBM] [Warning] bagging_freq is set=8, subsample_freq=0 will be ignored. Current value: bagging_freq=8\n"
     ]
    },
    {
     "name": "stderr",
     "output_type": "stream",
     "text": [
      "C:\\Users\\xfini\\AppData\\Local\\Temp\\ipykernel_20184\\981819043.py:18: FutureWarning: suggest_loguniform has been deprecated in v3.0.0. This feature will be removed in v6.0.0. See https://github.com/optuna/optuna/releases/tag/v3.0.0. Use :func:`~optuna.trial.Trial.suggest_float` instead.\n",
      "  'learning_rate': trial.suggest_loguniform('learning_rate', 0.001, 0.1),\n",
      "C:\\Users\\xfini\\AppData\\Local\\Temp\\ipykernel_20184\\981819043.py:21: FutureWarning: suggest_uniform has been deprecated in v3.0.0. This feature will be removed in v6.0.0. See https://github.com/optuna/optuna/releases/tag/v3.0.0. Use :func:`~optuna.trial.Trial.suggest_float` instead.\n",
      "  'feature_fraction': trial.suggest_uniform('feature_fraction', 0.1, 1.0),\n",
      "C:\\Users\\xfini\\AppData\\Local\\Temp\\ipykernel_20184\\981819043.py:22: FutureWarning: suggest_uniform has been deprecated in v3.0.0. This feature will be removed in v6.0.0. See https://github.com/optuna/optuna/releases/tag/v3.0.0. Use :func:`~optuna.trial.Trial.suggest_float` instead.\n",
      "  'bagging_fraction': trial.suggest_uniform('bagging_fraction', 0.1, 1.0),\n",
      "c:\\Users\\xfini\\anaconda3\\lib\\site-packages\\lightgbm\\sklearn.py:726: UserWarning: 'early_stopping_rounds' argument is deprecated and will be removed in a future release of LightGBM. Pass 'early_stopping()' callback via 'callbacks' argument instead.\n",
      "  _log_warning(\"'early_stopping_rounds' argument is deprecated and will be removed in a future release of LightGBM. \"\n",
      "c:\\Users\\xfini\\anaconda3\\lib\\site-packages\\lightgbm\\sklearn.py:736: UserWarning: 'verbose' argument is deprecated and will be removed in a future release of LightGBM. Pass 'log_evaluation()' callback via 'callbacks' argument instead.\n",
      "  _log_warning(\"'verbose' argument is deprecated and will be removed in a future release of LightGBM. \"\n"
     ]
    },
    {
     "name": "stdout",
     "output_type": "stream",
     "text": [
      "\u001b[32m[I 2023-02-24 15:02:36,852]\u001b[0m Trial 44 finished with value: 577.4691780592146 and parameters: {'learning_rate': 0.09899120450339355, 'num_leaves': 49, 'max_depth': 12, 'feature_fraction': 0.6372760991508151, 'bagging_fraction': 0.8926176789095084, 'bagging_freq': 8, 'min_child_samples': 53}. Best is trial 29 with value: 575.607487408935.\u001b[0m\n",
      "[LightGBM] [Warning] feature_fraction is set=0.6936394686365364, colsample_bytree=1.0 will be ignored. Current value: feature_fraction=0.6936394686365364\n",
      "[LightGBM] [Warning] bagging_fraction is set=0.9999148288056761, subsample=1.0 will be ignored. Current value: bagging_fraction=0.9999148288056761\n",
      "[LightGBM] [Warning] bagging_freq is set=10, subsample_freq=0 will be ignored. Current value: bagging_freq=10\n"
     ]
    },
    {
     "name": "stderr",
     "output_type": "stream",
     "text": [
      "C:\\Users\\xfini\\AppData\\Local\\Temp\\ipykernel_20184\\981819043.py:18: FutureWarning: suggest_loguniform has been deprecated in v3.0.0. This feature will be removed in v6.0.0. See https://github.com/optuna/optuna/releases/tag/v3.0.0. Use :func:`~optuna.trial.Trial.suggest_float` instead.\n",
      "  'learning_rate': trial.suggest_loguniform('learning_rate', 0.001, 0.1),\n",
      "C:\\Users\\xfini\\AppData\\Local\\Temp\\ipykernel_20184\\981819043.py:21: FutureWarning: suggest_uniform has been deprecated in v3.0.0. This feature will be removed in v6.0.0. See https://github.com/optuna/optuna/releases/tag/v3.0.0. Use :func:`~optuna.trial.Trial.suggest_float` instead.\n",
      "  'feature_fraction': trial.suggest_uniform('feature_fraction', 0.1, 1.0),\n",
      "C:\\Users\\xfini\\AppData\\Local\\Temp\\ipykernel_20184\\981819043.py:22: FutureWarning: suggest_uniform has been deprecated in v3.0.0. This feature will be removed in v6.0.0. See https://github.com/optuna/optuna/releases/tag/v3.0.0. Use :func:`~optuna.trial.Trial.suggest_float` instead.\n",
      "  'bagging_fraction': trial.suggest_uniform('bagging_fraction', 0.1, 1.0),\n",
      "c:\\Users\\xfini\\anaconda3\\lib\\site-packages\\lightgbm\\sklearn.py:726: UserWarning: 'early_stopping_rounds' argument is deprecated and will be removed in a future release of LightGBM. Pass 'early_stopping()' callback via 'callbacks' argument instead.\n",
      "  _log_warning(\"'early_stopping_rounds' argument is deprecated and will be removed in a future release of LightGBM. \"\n",
      "c:\\Users\\xfini\\anaconda3\\lib\\site-packages\\lightgbm\\sklearn.py:736: UserWarning: 'verbose' argument is deprecated and will be removed in a future release of LightGBM. Pass 'log_evaluation()' callback via 'callbacks' argument instead.\n",
      "  _log_warning(\"'verbose' argument is deprecated and will be removed in a future release of LightGBM. \"\n"
     ]
    },
    {
     "name": "stdout",
     "output_type": "stream",
     "text": [
      "\u001b[32m[I 2023-02-24 15:02:37,930]\u001b[0m Trial 45 finished with value: 576.4555920947804 and parameters: {'learning_rate': 0.07214534114041476, 'num_leaves': 156, 'max_depth': 13, 'feature_fraction': 0.6936394686365364, 'bagging_fraction': 0.9999148288056761, 'bagging_freq': 10, 'min_child_samples': 35}. Best is trial 29 with value: 575.607487408935.\u001b[0m\n",
      "[LightGBM] [Warning] feature_fraction is set=0.6735226087630272, colsample_bytree=1.0 will be ignored. Current value: feature_fraction=0.6735226087630272\n",
      "[LightGBM] [Warning] bagging_fraction is set=0.9990278436364625, subsample=1.0 will be ignored. Current value: bagging_fraction=0.9990278436364625\n",
      "[LightGBM] [Warning] bagging_freq is set=9, subsample_freq=0 will be ignored. Current value: bagging_freq=9\n"
     ]
    },
    {
     "name": "stderr",
     "output_type": "stream",
     "text": [
      "C:\\Users\\xfini\\AppData\\Local\\Temp\\ipykernel_20184\\981819043.py:18: FutureWarning: suggest_loguniform has been deprecated in v3.0.0. This feature will be removed in v6.0.0. See https://github.com/optuna/optuna/releases/tag/v3.0.0. Use :func:`~optuna.trial.Trial.suggest_float` instead.\n",
      "  'learning_rate': trial.suggest_loguniform('learning_rate', 0.001, 0.1),\n",
      "C:\\Users\\xfini\\AppData\\Local\\Temp\\ipykernel_20184\\981819043.py:21: FutureWarning: suggest_uniform has been deprecated in v3.0.0. This feature will be removed in v6.0.0. See https://github.com/optuna/optuna/releases/tag/v3.0.0. Use :func:`~optuna.trial.Trial.suggest_float` instead.\n",
      "  'feature_fraction': trial.suggest_uniform('feature_fraction', 0.1, 1.0),\n",
      "C:\\Users\\xfini\\AppData\\Local\\Temp\\ipykernel_20184\\981819043.py:22: FutureWarning: suggest_uniform has been deprecated in v3.0.0. This feature will be removed in v6.0.0. See https://github.com/optuna/optuna/releases/tag/v3.0.0. Use :func:`~optuna.trial.Trial.suggest_float` instead.\n",
      "  'bagging_fraction': trial.suggest_uniform('bagging_fraction', 0.1, 1.0),\n",
      "c:\\Users\\xfini\\anaconda3\\lib\\site-packages\\lightgbm\\sklearn.py:726: UserWarning: 'early_stopping_rounds' argument is deprecated and will be removed in a future release of LightGBM. Pass 'early_stopping()' callback via 'callbacks' argument instead.\n",
      "  _log_warning(\"'early_stopping_rounds' argument is deprecated and will be removed in a future release of LightGBM. \"\n",
      "c:\\Users\\xfini\\anaconda3\\lib\\site-packages\\lightgbm\\sklearn.py:736: UserWarning: 'verbose' argument is deprecated and will be removed in a future release of LightGBM. Pass 'log_evaluation()' callback via 'callbacks' argument instead.\n",
      "  _log_warning(\"'verbose' argument is deprecated and will be removed in a future release of LightGBM. \"\n"
     ]
    },
    {
     "name": "stdout",
     "output_type": "stream",
     "text": [
      "\u001b[32m[I 2023-02-24 15:02:38,945]\u001b[0m Trial 46 finished with value: 578.5872703133485 and parameters: {'learning_rate': 0.06853262739765296, 'num_leaves': 159, 'max_depth': 14, 'feature_fraction': 0.6735226087630272, 'bagging_fraction': 0.9990278436364625, 'bagging_freq': 9, 'min_child_samples': 19}. Best is trial 29 with value: 575.607487408935.\u001b[0m\n",
      "[LightGBM] [Warning] feature_fraction is set=0.5892990605182877, colsample_bytree=1.0 will be ignored. Current value: feature_fraction=0.5892990605182877\n",
      "[LightGBM] [Warning] bagging_fraction is set=0.8750823662213875, subsample=1.0 will be ignored. Current value: bagging_fraction=0.8750823662213875\n",
      "[LightGBM] [Warning] bagging_freq is set=10, subsample_freq=0 will be ignored. Current value: bagging_freq=10\n"
     ]
    },
    {
     "name": "stderr",
     "output_type": "stream",
     "text": [
      "C:\\Users\\xfini\\AppData\\Local\\Temp\\ipykernel_20184\\981819043.py:18: FutureWarning: suggest_loguniform has been deprecated in v3.0.0. This feature will be removed in v6.0.0. See https://github.com/optuna/optuna/releases/tag/v3.0.0. Use :func:`~optuna.trial.Trial.suggest_float` instead.\n",
      "  'learning_rate': trial.suggest_loguniform('learning_rate', 0.001, 0.1),\n",
      "C:\\Users\\xfini\\AppData\\Local\\Temp\\ipykernel_20184\\981819043.py:21: FutureWarning: suggest_uniform has been deprecated in v3.0.0. This feature will be removed in v6.0.0. See https://github.com/optuna/optuna/releases/tag/v3.0.0. Use :func:`~optuna.trial.Trial.suggest_float` instead.\n",
      "  'feature_fraction': trial.suggest_uniform('feature_fraction', 0.1, 1.0),\n",
      "C:\\Users\\xfini\\AppData\\Local\\Temp\\ipykernel_20184\\981819043.py:22: FutureWarning: suggest_uniform has been deprecated in v3.0.0. This feature will be removed in v6.0.0. See https://github.com/optuna/optuna/releases/tag/v3.0.0. Use :func:`~optuna.trial.Trial.suggest_float` instead.\n",
      "  'bagging_fraction': trial.suggest_uniform('bagging_fraction', 0.1, 1.0),\n",
      "c:\\Users\\xfini\\anaconda3\\lib\\site-packages\\lightgbm\\sklearn.py:726: UserWarning: 'early_stopping_rounds' argument is deprecated and will be removed in a future release of LightGBM. Pass 'early_stopping()' callback via 'callbacks' argument instead.\n",
      "  _log_warning(\"'early_stopping_rounds' argument is deprecated and will be removed in a future release of LightGBM. \"\n",
      "c:\\Users\\xfini\\anaconda3\\lib\\site-packages\\lightgbm\\sklearn.py:736: UserWarning: 'verbose' argument is deprecated and will be removed in a future release of LightGBM. Pass 'log_evaluation()' callback via 'callbacks' argument instead.\n",
      "  _log_warning(\"'verbose' argument is deprecated and will be removed in a future release of LightGBM. \"\n"
     ]
    },
    {
     "name": "stdout",
     "output_type": "stream",
     "text": [
      "\u001b[32m[I 2023-02-24 15:02:39,878]\u001b[0m Trial 47 finished with value: 578.272450353981 and parameters: {'learning_rate': 0.07831645904507338, 'num_leaves': 138, 'max_depth': 13, 'feature_fraction': 0.5892990605182877, 'bagging_fraction': 0.8750823662213875, 'bagging_freq': 10, 'min_child_samples': 39}. Best is trial 29 with value: 575.607487408935.\u001b[0m\n",
      "[LightGBM] [Warning] feature_fraction is set=0.6200775934813453, colsample_bytree=1.0 will be ignored. Current value: feature_fraction=0.6200775934813453\n",
      "[LightGBM] [Warning] bagging_fraction is set=0.7977899272887201, subsample=1.0 will be ignored. Current value: bagging_fraction=0.7977899272887201\n",
      "[LightGBM] [Warning] bagging_freq is set=10, subsample_freq=0 will be ignored. Current value: bagging_freq=10\n"
     ]
    },
    {
     "name": "stderr",
     "output_type": "stream",
     "text": [
      "C:\\Users\\xfini\\AppData\\Local\\Temp\\ipykernel_20184\\981819043.py:18: FutureWarning: suggest_loguniform has been deprecated in v3.0.0. This feature will be removed in v6.0.0. See https://github.com/optuna/optuna/releases/tag/v3.0.0. Use :func:`~optuna.trial.Trial.suggest_float` instead.\n",
      "  'learning_rate': trial.suggest_loguniform('learning_rate', 0.001, 0.1),\n",
      "C:\\Users\\xfini\\AppData\\Local\\Temp\\ipykernel_20184\\981819043.py:21: FutureWarning: suggest_uniform has been deprecated in v3.0.0. This feature will be removed in v6.0.0. See https://github.com/optuna/optuna/releases/tag/v3.0.0. Use :func:`~optuna.trial.Trial.suggest_float` instead.\n",
      "  'feature_fraction': trial.suggest_uniform('feature_fraction', 0.1, 1.0),\n",
      "C:\\Users\\xfini\\AppData\\Local\\Temp\\ipykernel_20184\\981819043.py:22: FutureWarning: suggest_uniform has been deprecated in v3.0.0. This feature will be removed in v6.0.0. See https://github.com/optuna/optuna/releases/tag/v3.0.0. Use :func:`~optuna.trial.Trial.suggest_float` instead.\n",
      "  'bagging_fraction': trial.suggest_uniform('bagging_fraction', 0.1, 1.0),\n",
      "c:\\Users\\xfini\\anaconda3\\lib\\site-packages\\lightgbm\\sklearn.py:726: UserWarning: 'early_stopping_rounds' argument is deprecated and will be removed in a future release of LightGBM. Pass 'early_stopping()' callback via 'callbacks' argument instead.\n",
      "  _log_warning(\"'early_stopping_rounds' argument is deprecated and will be removed in a future release of LightGBM. \"\n",
      "c:\\Users\\xfini\\anaconda3\\lib\\site-packages\\lightgbm\\sklearn.py:736: UserWarning: 'verbose' argument is deprecated and will be removed in a future release of LightGBM. Pass 'log_evaluation()' callback via 'callbacks' argument instead.\n",
      "  _log_warning(\"'verbose' argument is deprecated and will be removed in a future release of LightGBM. \"\n"
     ]
    },
    {
     "name": "stdout",
     "output_type": "stream",
     "text": [
      "\u001b[32m[I 2023-02-24 15:02:40,868]\u001b[0m Trial 48 finished with value: 576.4471647084143 and parameters: {'learning_rate': 0.06062924807858292, 'num_leaves': 159, 'max_depth': 9, 'feature_fraction': 0.6200775934813453, 'bagging_fraction': 0.7977899272887201, 'bagging_freq': 10, 'min_child_samples': 27}. Best is trial 29 with value: 575.607487408935.\u001b[0m\n",
      "[LightGBM] [Warning] feature_fraction is set=0.6349836717212369, colsample_bytree=1.0 will be ignored. Current value: feature_fraction=0.6349836717212369\n",
      "[LightGBM] [Warning] bagging_fraction is set=0.8127810450276898, subsample=1.0 will be ignored. Current value: bagging_fraction=0.8127810450276898\n",
      "[LightGBM] [Warning] bagging_freq is set=8, subsample_freq=0 will be ignored. Current value: bagging_freq=8\n"
     ]
    },
    {
     "name": "stderr",
     "output_type": "stream",
     "text": [
      "C:\\Users\\xfini\\AppData\\Local\\Temp\\ipykernel_20184\\981819043.py:18: FutureWarning: suggest_loguniform has been deprecated in v3.0.0. This feature will be removed in v6.0.0. See https://github.com/optuna/optuna/releases/tag/v3.0.0. Use :func:`~optuna.trial.Trial.suggest_float` instead.\n",
      "  'learning_rate': trial.suggest_loguniform('learning_rate', 0.001, 0.1),\n",
      "C:\\Users\\xfini\\AppData\\Local\\Temp\\ipykernel_20184\\981819043.py:21: FutureWarning: suggest_uniform has been deprecated in v3.0.0. This feature will be removed in v6.0.0. See https://github.com/optuna/optuna/releases/tag/v3.0.0. Use :func:`~optuna.trial.Trial.suggest_float` instead.\n",
      "  'feature_fraction': trial.suggest_uniform('feature_fraction', 0.1, 1.0),\n",
      "C:\\Users\\xfini\\AppData\\Local\\Temp\\ipykernel_20184\\981819043.py:22: FutureWarning: suggest_uniform has been deprecated in v3.0.0. This feature will be removed in v6.0.0. See https://github.com/optuna/optuna/releases/tag/v3.0.0. Use :func:`~optuna.trial.Trial.suggest_float` instead.\n",
      "  'bagging_fraction': trial.suggest_uniform('bagging_fraction', 0.1, 1.0),\n",
      "c:\\Users\\xfini\\anaconda3\\lib\\site-packages\\lightgbm\\sklearn.py:726: UserWarning: 'early_stopping_rounds' argument is deprecated and will be removed in a future release of LightGBM. Pass 'early_stopping()' callback via 'callbacks' argument instead.\n",
      "  _log_warning(\"'early_stopping_rounds' argument is deprecated and will be removed in a future release of LightGBM. \"\n",
      "c:\\Users\\xfini\\anaconda3\\lib\\site-packages\\lightgbm\\sklearn.py:736: UserWarning: 'verbose' argument is deprecated and will be removed in a future release of LightGBM. Pass 'log_evaluation()' callback via 'callbacks' argument instead.\n",
      "  _log_warning(\"'verbose' argument is deprecated and will be removed in a future release of LightGBM. \"\n"
     ]
    },
    {
     "name": "stdout",
     "output_type": "stream",
     "text": [
      "\u001b[32m[I 2023-02-24 15:02:41,727]\u001b[0m Trial 49 finished with value: 580.1732256330071 and parameters: {'learning_rate': 0.05039735023331802, 'num_leaves': 111, 'max_depth': 9, 'feature_fraction': 0.6349836717212369, 'bagging_fraction': 0.8127810450276898, 'bagging_freq': 8, 'min_child_samples': 28}. Best is trial 29 with value: 575.607487408935.\u001b[0m\n",
      "[LightGBM] [Warning] feature_fraction is set=0.5366668537226886, colsample_bytree=1.0 will be ignored. Current value: feature_fraction=0.5366668537226886\n",
      "[LightGBM] [Warning] bagging_fraction is set=0.763932402219037, subsample=1.0 will be ignored. Current value: bagging_fraction=0.763932402219037\n",
      "[LightGBM] [Warning] bagging_freq is set=9, subsample_freq=0 will be ignored. Current value: bagging_freq=9\n"
     ]
    },
    {
     "name": "stderr",
     "output_type": "stream",
     "text": [
      "C:\\Users\\xfini\\AppData\\Local\\Temp\\ipykernel_20184\\981819043.py:18: FutureWarning: suggest_loguniform has been deprecated in v3.0.0. This feature will be removed in v6.0.0. See https://github.com/optuna/optuna/releases/tag/v3.0.0. Use :func:`~optuna.trial.Trial.suggest_float` instead.\n",
      "  'learning_rate': trial.suggest_loguniform('learning_rate', 0.001, 0.1),\n",
      "C:\\Users\\xfini\\AppData\\Local\\Temp\\ipykernel_20184\\981819043.py:21: FutureWarning: suggest_uniform has been deprecated in v3.0.0. This feature will be removed in v6.0.0. See https://github.com/optuna/optuna/releases/tag/v3.0.0. Use :func:`~optuna.trial.Trial.suggest_float` instead.\n",
      "  'feature_fraction': trial.suggest_uniform('feature_fraction', 0.1, 1.0),\n",
      "C:\\Users\\xfini\\AppData\\Local\\Temp\\ipykernel_20184\\981819043.py:22: FutureWarning: suggest_uniform has been deprecated in v3.0.0. This feature will be removed in v6.0.0. See https://github.com/optuna/optuna/releases/tag/v3.0.0. Use :func:`~optuna.trial.Trial.suggest_float` instead.\n",
      "  'bagging_fraction': trial.suggest_uniform('bagging_fraction', 0.1, 1.0),\n",
      "c:\\Users\\xfini\\anaconda3\\lib\\site-packages\\lightgbm\\sklearn.py:726: UserWarning: 'early_stopping_rounds' argument is deprecated and will be removed in a future release of LightGBM. Pass 'early_stopping()' callback via 'callbacks' argument instead.\n",
      "  _log_warning(\"'early_stopping_rounds' argument is deprecated and will be removed in a future release of LightGBM. \"\n",
      "c:\\Users\\xfini\\anaconda3\\lib\\site-packages\\lightgbm\\sklearn.py:736: UserWarning: 'verbose' argument is deprecated and will be removed in a future release of LightGBM. Pass 'log_evaluation()' callback via 'callbacks' argument instead.\n",
      "  _log_warning(\"'verbose' argument is deprecated and will be removed in a future release of LightGBM. \"\n"
     ]
    },
    {
     "name": "stdout",
     "output_type": "stream",
     "text": [
      "\u001b[32m[I 2023-02-24 15:02:42,232]\u001b[0m Trial 50 finished with value: 623.0363992096862 and parameters: {'learning_rate': 0.040780714032362796, 'num_leaves': 31, 'max_depth': 9, 'feature_fraction': 0.5366668537226886, 'bagging_fraction': 0.763932402219037, 'bagging_freq': 9, 'min_child_samples': 7}. Best is trial 29 with value: 575.607487408935.\u001b[0m\n",
      "[LightGBM] [Warning] feature_fraction is set=0.6949894849694246, colsample_bytree=1.0 will be ignored. Current value: feature_fraction=0.6949894849694246\n",
      "[LightGBM] [Warning] bagging_fraction is set=0.9043275026207305, subsample=1.0 will be ignored. Current value: bagging_fraction=0.9043275026207305\n",
      "[LightGBM] [Warning] bagging_freq is set=10, subsample_freq=0 will be ignored. Current value: bagging_freq=10\n"
     ]
    },
    {
     "name": "stderr",
     "output_type": "stream",
     "text": [
      "C:\\Users\\xfini\\AppData\\Local\\Temp\\ipykernel_20184\\981819043.py:18: FutureWarning: suggest_loguniform has been deprecated in v3.0.0. This feature will be removed in v6.0.0. See https://github.com/optuna/optuna/releases/tag/v3.0.0. Use :func:`~optuna.trial.Trial.suggest_float` instead.\n",
      "  'learning_rate': trial.suggest_loguniform('learning_rate', 0.001, 0.1),\n",
      "C:\\Users\\xfini\\AppData\\Local\\Temp\\ipykernel_20184\\981819043.py:21: FutureWarning: suggest_uniform has been deprecated in v3.0.0. This feature will be removed in v6.0.0. See https://github.com/optuna/optuna/releases/tag/v3.0.0. Use :func:`~optuna.trial.Trial.suggest_float` instead.\n",
      "  'feature_fraction': trial.suggest_uniform('feature_fraction', 0.1, 1.0),\n",
      "C:\\Users\\xfini\\AppData\\Local\\Temp\\ipykernel_20184\\981819043.py:22: FutureWarning: suggest_uniform has been deprecated in v3.0.0. This feature will be removed in v6.0.0. See https://github.com/optuna/optuna/releases/tag/v3.0.0. Use :func:`~optuna.trial.Trial.suggest_float` instead.\n",
      "  'bagging_fraction': trial.suggest_uniform('bagging_fraction', 0.1, 1.0),\n",
      "c:\\Users\\xfini\\anaconda3\\lib\\site-packages\\lightgbm\\sklearn.py:726: UserWarning: 'early_stopping_rounds' argument is deprecated and will be removed in a future release of LightGBM. Pass 'early_stopping()' callback via 'callbacks' argument instead.\n",
      "  _log_warning(\"'early_stopping_rounds' argument is deprecated and will be removed in a future release of LightGBM. \"\n",
      "c:\\Users\\xfini\\anaconda3\\lib\\site-packages\\lightgbm\\sklearn.py:736: UserWarning: 'verbose' argument is deprecated and will be removed in a future release of LightGBM. Pass 'log_evaluation()' callback via 'callbacks' argument instead.\n",
      "  _log_warning(\"'verbose' argument is deprecated and will be removed in a future release of LightGBM. \"\n"
     ]
    },
    {
     "name": "stdout",
     "output_type": "stream",
     "text": [
      "\u001b[32m[I 2023-02-24 15:02:43,447]\u001b[0m Trial 51 finished with value: 579.3793432897176 and parameters: {'learning_rate': 0.061902349852273185, 'num_leaves': 167, 'max_depth': 14, 'feature_fraction': 0.6949894849694246, 'bagging_fraction': 0.9043275026207305, 'bagging_freq': 10, 'min_child_samples': 24}. Best is trial 29 with value: 575.607487408935.\u001b[0m\n",
      "[LightGBM] [Warning] feature_fraction is set=0.7746455650996423, colsample_bytree=1.0 will be ignored. Current value: feature_fraction=0.7746455650996423\n",
      "[LightGBM] [Warning] bagging_fraction is set=0.9571003181427253, subsample=1.0 will be ignored. Current value: bagging_fraction=0.9571003181427253\n",
      "[LightGBM] [Warning] bagging_freq is set=10, subsample_freq=0 will be ignored. Current value: bagging_freq=10\n"
     ]
    },
    {
     "name": "stderr",
     "output_type": "stream",
     "text": [
      "C:\\Users\\xfini\\AppData\\Local\\Temp\\ipykernel_20184\\981819043.py:18: FutureWarning: suggest_loguniform has been deprecated in v3.0.0. This feature will be removed in v6.0.0. See https://github.com/optuna/optuna/releases/tag/v3.0.0. Use :func:`~optuna.trial.Trial.suggest_float` instead.\n",
      "  'learning_rate': trial.suggest_loguniform('learning_rate', 0.001, 0.1),\n",
      "C:\\Users\\xfini\\AppData\\Local\\Temp\\ipykernel_20184\\981819043.py:21: FutureWarning: suggest_uniform has been deprecated in v3.0.0. This feature will be removed in v6.0.0. See https://github.com/optuna/optuna/releases/tag/v3.0.0. Use :func:`~optuna.trial.Trial.suggest_float` instead.\n",
      "  'feature_fraction': trial.suggest_uniform('feature_fraction', 0.1, 1.0),\n",
      "C:\\Users\\xfini\\AppData\\Local\\Temp\\ipykernel_20184\\981819043.py:22: FutureWarning: suggest_uniform has been deprecated in v3.0.0. This feature will be removed in v6.0.0. See https://github.com/optuna/optuna/releases/tag/v3.0.0. Use :func:`~optuna.trial.Trial.suggest_float` instead.\n",
      "  'bagging_fraction': trial.suggest_uniform('bagging_fraction', 0.1, 1.0),\n",
      "c:\\Users\\xfini\\anaconda3\\lib\\site-packages\\lightgbm\\sklearn.py:726: UserWarning: 'early_stopping_rounds' argument is deprecated and will be removed in a future release of LightGBM. Pass 'early_stopping()' callback via 'callbacks' argument instead.\n",
      "  _log_warning(\"'early_stopping_rounds' argument is deprecated and will be removed in a future release of LightGBM. \"\n",
      "c:\\Users\\xfini\\anaconda3\\lib\\site-packages\\lightgbm\\sklearn.py:736: UserWarning: 'verbose' argument is deprecated and will be removed in a future release of LightGBM. Pass 'log_evaluation()' callback via 'callbacks' argument instead.\n",
      "  _log_warning(\"'verbose' argument is deprecated and will be removed in a future release of LightGBM. \"\n"
     ]
    },
    {
     "name": "stdout",
     "output_type": "stream",
     "text": [
      "\u001b[32m[I 2023-02-24 15:02:44,612]\u001b[0m Trial 52 finished with value: 576.6027430233339 and parameters: {'learning_rate': 0.08179138250448074, 'num_leaves': 156, 'max_depth': 10, 'feature_fraction': 0.7746455650996423, 'bagging_fraction': 0.9571003181427253, 'bagging_freq': 10, 'min_child_samples': 41}. Best is trial 29 with value: 575.607487408935.\u001b[0m\n",
      "[LightGBM] [Warning] feature_fraction is set=0.6516264620319451, colsample_bytree=1.0 will be ignored. Current value: feature_fraction=0.6516264620319451\n",
      "[LightGBM] [Warning] bagging_fraction is set=0.9179722799265715, subsample=1.0 will be ignored. Current value: bagging_fraction=0.9179722799265715\n",
      "[LightGBM] [Warning] bagging_freq is set=9, subsample_freq=0 will be ignored. Current value: bagging_freq=9\n"
     ]
    },
    {
     "name": "stderr",
     "output_type": "stream",
     "text": [
      "C:\\Users\\xfini\\AppData\\Local\\Temp\\ipykernel_20184\\981819043.py:18: FutureWarning: suggest_loguniform has been deprecated in v3.0.0. This feature will be removed in v6.0.0. See https://github.com/optuna/optuna/releases/tag/v3.0.0. Use :func:`~optuna.trial.Trial.suggest_float` instead.\n",
      "  'learning_rate': trial.suggest_loguniform('learning_rate', 0.001, 0.1),\n",
      "C:\\Users\\xfini\\AppData\\Local\\Temp\\ipykernel_20184\\981819043.py:21: FutureWarning: suggest_uniform has been deprecated in v3.0.0. This feature will be removed in v6.0.0. See https://github.com/optuna/optuna/releases/tag/v3.0.0. Use :func:`~optuna.trial.Trial.suggest_float` instead.\n",
      "  'feature_fraction': trial.suggest_uniform('feature_fraction', 0.1, 1.0),\n",
      "C:\\Users\\xfini\\AppData\\Local\\Temp\\ipykernel_20184\\981819043.py:22: FutureWarning: suggest_uniform has been deprecated in v3.0.0. This feature will be removed in v6.0.0. See https://github.com/optuna/optuna/releases/tag/v3.0.0. Use :func:`~optuna.trial.Trial.suggest_float` instead.\n",
      "  'bagging_fraction': trial.suggest_uniform('bagging_fraction', 0.1, 1.0),\n",
      "c:\\Users\\xfini\\anaconda3\\lib\\site-packages\\lightgbm\\sklearn.py:726: UserWarning: 'early_stopping_rounds' argument is deprecated and will be removed in a future release of LightGBM. Pass 'early_stopping()' callback via 'callbacks' argument instead.\n",
      "  _log_warning(\"'early_stopping_rounds' argument is deprecated and will be removed in a future release of LightGBM. \"\n",
      "c:\\Users\\xfini\\anaconda3\\lib\\site-packages\\lightgbm\\sklearn.py:736: UserWarning: 'verbose' argument is deprecated and will be removed in a future release of LightGBM. Pass 'log_evaluation()' callback via 'callbacks' argument instead.\n",
      "  _log_warning(\"'verbose' argument is deprecated and will be removed in a future release of LightGBM. \"\n"
     ]
    },
    {
     "name": "stdout",
     "output_type": "stream",
     "text": [
      "\u001b[32m[I 2023-02-24 15:02:45,924]\u001b[0m Trial 53 finished with value: 575.0116311563753 and parameters: {'learning_rate': 0.06659236914545379, 'num_leaves': 179, 'max_depth': 8, 'feature_fraction': 0.6516264620319451, 'bagging_fraction': 0.9179722799265715, 'bagging_freq': 9, 'min_child_samples': 35}. Best is trial 53 with value: 575.0116311563753.\u001b[0m\n",
      "[LightGBM] [Warning] feature_fraction is set=0.6412922532609817, colsample_bytree=1.0 will be ignored. Current value: feature_fraction=0.6412922532609817\n",
      "[LightGBM] [Warning] bagging_fraction is set=0.7691199207035169, subsample=1.0 will be ignored. Current value: bagging_fraction=0.7691199207035169\n",
      "[LightGBM] [Warning] bagging_freq is set=9, subsample_freq=0 will be ignored. Current value: bagging_freq=9\n"
     ]
    },
    {
     "name": "stderr",
     "output_type": "stream",
     "text": [
      "C:\\Users\\xfini\\AppData\\Local\\Temp\\ipykernel_20184\\981819043.py:18: FutureWarning: suggest_loguniform has been deprecated in v3.0.0. This feature will be removed in v6.0.0. See https://github.com/optuna/optuna/releases/tag/v3.0.0. Use :func:`~optuna.trial.Trial.suggest_float` instead.\n",
      "  'learning_rate': trial.suggest_loguniform('learning_rate', 0.001, 0.1),\n",
      "C:\\Users\\xfini\\AppData\\Local\\Temp\\ipykernel_20184\\981819043.py:21: FutureWarning: suggest_uniform has been deprecated in v3.0.0. This feature will be removed in v6.0.0. See https://github.com/optuna/optuna/releases/tag/v3.0.0. Use :func:`~optuna.trial.Trial.suggest_float` instead.\n",
      "  'feature_fraction': trial.suggest_uniform('feature_fraction', 0.1, 1.0),\n",
      "C:\\Users\\xfini\\AppData\\Local\\Temp\\ipykernel_20184\\981819043.py:22: FutureWarning: suggest_uniform has been deprecated in v3.0.0. This feature will be removed in v6.0.0. See https://github.com/optuna/optuna/releases/tag/v3.0.0. Use :func:`~optuna.trial.Trial.suggest_float` instead.\n",
      "  'bagging_fraction': trial.suggest_uniform('bagging_fraction', 0.1, 1.0),\n",
      "c:\\Users\\xfini\\anaconda3\\lib\\site-packages\\lightgbm\\sklearn.py:726: UserWarning: 'early_stopping_rounds' argument is deprecated and will be removed in a future release of LightGBM. Pass 'early_stopping()' callback via 'callbacks' argument instead.\n",
      "  _log_warning(\"'early_stopping_rounds' argument is deprecated and will be removed in a future release of LightGBM. \"\n",
      "c:\\Users\\xfini\\anaconda3\\lib\\site-packages\\lightgbm\\sklearn.py:736: UserWarning: 'verbose' argument is deprecated and will be removed in a future release of LightGBM. Pass 'log_evaluation()' callback via 'callbacks' argument instead.\n",
      "  _log_warning(\"'verbose' argument is deprecated and will be removed in a future release of LightGBM. \"\n"
     ]
    },
    {
     "name": "stdout",
     "output_type": "stream",
     "text": [
      "\u001b[32m[I 2023-02-24 15:02:47,337]\u001b[0m Trial 54 finished with value: 580.3712401995729 and parameters: {'learning_rate': 0.0536691333406132, 'num_leaves': 176, 'max_depth': 8, 'feature_fraction': 0.6412922532609817, 'bagging_fraction': 0.7691199207035169, 'bagging_freq': 9, 'min_child_samples': 55}. Best is trial 53 with value: 575.0116311563753.\u001b[0m\n",
      "[LightGBM] [Warning] feature_fraction is set=0.7446422330320963, colsample_bytree=1.0 will be ignored. Current value: feature_fraction=0.7446422330320963\n",
      "[LightGBM] [Warning] bagging_fraction is set=0.9167921393682215, subsample=1.0 will be ignored. Current value: bagging_fraction=0.9167921393682215\n",
      "[LightGBM] [Warning] bagging_freq is set=9, subsample_freq=0 will be ignored. Current value: bagging_freq=9\n"
     ]
    },
    {
     "name": "stderr",
     "output_type": "stream",
     "text": [
      "C:\\Users\\xfini\\AppData\\Local\\Temp\\ipykernel_20184\\981819043.py:18: FutureWarning: suggest_loguniform has been deprecated in v3.0.0. This feature will be removed in v6.0.0. See https://github.com/optuna/optuna/releases/tag/v3.0.0. Use :func:`~optuna.trial.Trial.suggest_float` instead.\n",
      "  'learning_rate': trial.suggest_loguniform('learning_rate', 0.001, 0.1),\n",
      "C:\\Users\\xfini\\AppData\\Local\\Temp\\ipykernel_20184\\981819043.py:21: FutureWarning: suggest_uniform has been deprecated in v3.0.0. This feature will be removed in v6.0.0. See https://github.com/optuna/optuna/releases/tag/v3.0.0. Use :func:`~optuna.trial.Trial.suggest_float` instead.\n",
      "  'feature_fraction': trial.suggest_uniform('feature_fraction', 0.1, 1.0),\n",
      "C:\\Users\\xfini\\AppData\\Local\\Temp\\ipykernel_20184\\981819043.py:22: FutureWarning: suggest_uniform has been deprecated in v3.0.0. This feature will be removed in v6.0.0. See https://github.com/optuna/optuna/releases/tag/v3.0.0. Use :func:`~optuna.trial.Trial.suggest_float` instead.\n",
      "  'bagging_fraction': trial.suggest_uniform('bagging_fraction', 0.1, 1.0),\n",
      "c:\\Users\\xfini\\anaconda3\\lib\\site-packages\\lightgbm\\sklearn.py:726: UserWarning: 'early_stopping_rounds' argument is deprecated and will be removed in a future release of LightGBM. Pass 'early_stopping()' callback via 'callbacks' argument instead.\n",
      "  _log_warning(\"'early_stopping_rounds' argument is deprecated and will be removed in a future release of LightGBM. \"\n",
      "c:\\Users\\xfini\\anaconda3\\lib\\site-packages\\lightgbm\\sklearn.py:736: UserWarning: 'verbose' argument is deprecated and will be removed in a future release of LightGBM. Pass 'log_evaluation()' callback via 'callbacks' argument instead.\n",
      "  _log_warning(\"'verbose' argument is deprecated and will be removed in a future release of LightGBM. \"\n"
     ]
    },
    {
     "name": "stdout",
     "output_type": "stream",
     "text": [
      "\u001b[32m[I 2023-02-24 15:02:47,799]\u001b[0m Trial 55 finished with value: 697.6535533526263 and parameters: {'learning_rate': 0.03349111935745371, 'num_leaves': 15, 'max_depth': 8, 'feature_fraction': 0.7446422330320963, 'bagging_fraction': 0.9167921393682215, 'bagging_freq': 9, 'min_child_samples': 27}. Best is trial 53 with value: 575.0116311563753.\u001b[0m\n",
      "[LightGBM] [Warning] feature_fraction is set=0.6077213959214501, colsample_bytree=1.0 will be ignored. Current value: feature_fraction=0.6077213959214501\n",
      "[LightGBM] [Warning] bagging_fraction is set=0.8639784841461905, subsample=1.0 will be ignored. Current value: bagging_fraction=0.8639784841461905\n",
      "[LightGBM] [Warning] bagging_freq is set=8, subsample_freq=0 will be ignored. Current value: bagging_freq=8\n"
     ]
    },
    {
     "name": "stderr",
     "output_type": "stream",
     "text": [
      "C:\\Users\\xfini\\AppData\\Local\\Temp\\ipykernel_20184\\981819043.py:18: FutureWarning: suggest_loguniform has been deprecated in v3.0.0. This feature will be removed in v6.0.0. See https://github.com/optuna/optuna/releases/tag/v3.0.0. Use :func:`~optuna.trial.Trial.suggest_float` instead.\n",
      "  'learning_rate': trial.suggest_loguniform('learning_rate', 0.001, 0.1),\n",
      "C:\\Users\\xfini\\AppData\\Local\\Temp\\ipykernel_20184\\981819043.py:21: FutureWarning: suggest_uniform has been deprecated in v3.0.0. This feature will be removed in v6.0.0. See https://github.com/optuna/optuna/releases/tag/v3.0.0. Use :func:`~optuna.trial.Trial.suggest_float` instead.\n",
      "  'feature_fraction': trial.suggest_uniform('feature_fraction', 0.1, 1.0),\n",
      "C:\\Users\\xfini\\AppData\\Local\\Temp\\ipykernel_20184\\981819043.py:22: FutureWarning: suggest_uniform has been deprecated in v3.0.0. This feature will be removed in v6.0.0. See https://github.com/optuna/optuna/releases/tag/v3.0.0. Use :func:`~optuna.trial.Trial.suggest_float` instead.\n",
      "  'bagging_fraction': trial.suggest_uniform('bagging_fraction', 0.1, 1.0),\n",
      "c:\\Users\\xfini\\anaconda3\\lib\\site-packages\\lightgbm\\sklearn.py:726: UserWarning: 'early_stopping_rounds' argument is deprecated and will be removed in a future release of LightGBM. Pass 'early_stopping()' callback via 'callbacks' argument instead.\n",
      "  _log_warning(\"'early_stopping_rounds' argument is deprecated and will be removed in a future release of LightGBM. \"\n",
      "c:\\Users\\xfini\\anaconda3\\lib\\site-packages\\lightgbm\\sklearn.py:736: UserWarning: 'verbose' argument is deprecated and will be removed in a future release of LightGBM. Pass 'log_evaluation()' callback via 'callbacks' argument instead.\n",
      "  _log_warning(\"'verbose' argument is deprecated and will be removed in a future release of LightGBM. \"\n"
     ]
    },
    {
     "name": "stdout",
     "output_type": "stream",
     "text": [
      "\u001b[32m[I 2023-02-24 15:02:48,632]\u001b[0m Trial 56 finished with value: 580.6832745882257 and parameters: {'learning_rate': 0.08475285040536583, 'num_leaves': 129, 'max_depth': 9, 'feature_fraction': 0.6077213959214501, 'bagging_fraction': 0.8639784841461905, 'bagging_freq': 8, 'min_child_samples': 19}. Best is trial 53 with value: 575.0116311563753.\u001b[0m\n",
      "[LightGBM] [Warning] feature_fraction is set=0.6669465621617776, colsample_bytree=1.0 will be ignored. Current value: feature_fraction=0.6669465621617776\n",
      "[LightGBM] [Warning] bagging_fraction is set=0.8817243885360126, subsample=1.0 will be ignored. Current value: bagging_fraction=0.8817243885360126\n",
      "[LightGBM] [Warning] bagging_freq is set=10, subsample_freq=0 will be ignored. Current value: bagging_freq=10\n"
     ]
    },
    {
     "name": "stderr",
     "output_type": "stream",
     "text": [
      "C:\\Users\\xfini\\AppData\\Local\\Temp\\ipykernel_20184\\981819043.py:18: FutureWarning: suggest_loguniform has been deprecated in v3.0.0. This feature will be removed in v6.0.0. See https://github.com/optuna/optuna/releases/tag/v3.0.0. Use :func:`~optuna.trial.Trial.suggest_float` instead.\n",
      "  'learning_rate': trial.suggest_loguniform('learning_rate', 0.001, 0.1),\n",
      "C:\\Users\\xfini\\AppData\\Local\\Temp\\ipykernel_20184\\981819043.py:21: FutureWarning: suggest_uniform has been deprecated in v3.0.0. This feature will be removed in v6.0.0. See https://github.com/optuna/optuna/releases/tag/v3.0.0. Use :func:`~optuna.trial.Trial.suggest_float` instead.\n",
      "  'feature_fraction': trial.suggest_uniform('feature_fraction', 0.1, 1.0),\n",
      "C:\\Users\\xfini\\AppData\\Local\\Temp\\ipykernel_20184\\981819043.py:22: FutureWarning: suggest_uniform has been deprecated in v3.0.0. This feature will be removed in v6.0.0. See https://github.com/optuna/optuna/releases/tag/v3.0.0. Use :func:`~optuna.trial.Trial.suggest_float` instead.\n",
      "  'bagging_fraction': trial.suggest_uniform('bagging_fraction', 0.1, 1.0),\n",
      "c:\\Users\\xfini\\anaconda3\\lib\\site-packages\\lightgbm\\sklearn.py:726: UserWarning: 'early_stopping_rounds' argument is deprecated and will be removed in a future release of LightGBM. Pass 'early_stopping()' callback via 'callbacks' argument instead.\n",
      "  _log_warning(\"'early_stopping_rounds' argument is deprecated and will be removed in a future release of LightGBM. \"\n",
      "c:\\Users\\xfini\\anaconda3\\lib\\site-packages\\lightgbm\\sklearn.py:736: UserWarning: 'verbose' argument is deprecated and will be removed in a future release of LightGBM. Pass 'log_evaluation()' callback via 'callbacks' argument instead.\n",
      "  _log_warning(\"'verbose' argument is deprecated and will be removed in a future release of LightGBM. \"\n"
     ]
    },
    {
     "name": "stdout",
     "output_type": "stream",
     "text": [
      "\u001b[32m[I 2023-02-24 15:02:49,442]\u001b[0m Trial 57 finished with value: 586.6602547145649 and parameters: {'learning_rate': 0.04454622645616296, 'num_leaves': 89, 'max_depth': 9, 'feature_fraction': 0.6669465621617776, 'bagging_fraction': 0.8817243885360126, 'bagging_freq': 10, 'min_child_samples': 48}. Best is trial 53 with value: 575.0116311563753.\u001b[0m\n",
      "[LightGBM] [Warning] feature_fraction is set=0.764375900446713, colsample_bytree=1.0 will be ignored. Current value: feature_fraction=0.764375900446713\n",
      "[LightGBM] [Warning] bagging_fraction is set=0.9663966567065492, subsample=1.0 will be ignored. Current value: bagging_fraction=0.9663966567065492\n",
      "[LightGBM] [Warning] bagging_freq is set=3, subsample_freq=0 will be ignored. Current value: bagging_freq=3\n"
     ]
    },
    {
     "name": "stderr",
     "output_type": "stream",
     "text": [
      "C:\\Users\\xfini\\AppData\\Local\\Temp\\ipykernel_20184\\981819043.py:18: FutureWarning: suggest_loguniform has been deprecated in v3.0.0. This feature will be removed in v6.0.0. See https://github.com/optuna/optuna/releases/tag/v3.0.0. Use :func:`~optuna.trial.Trial.suggest_float` instead.\n",
      "  'learning_rate': trial.suggest_loguniform('learning_rate', 0.001, 0.1),\n",
      "C:\\Users\\xfini\\AppData\\Local\\Temp\\ipykernel_20184\\981819043.py:21: FutureWarning: suggest_uniform has been deprecated in v3.0.0. This feature will be removed in v6.0.0. See https://github.com/optuna/optuna/releases/tag/v3.0.0. Use :func:`~optuna.trial.Trial.suggest_float` instead.\n",
      "  'feature_fraction': trial.suggest_uniform('feature_fraction', 0.1, 1.0),\n",
      "C:\\Users\\xfini\\AppData\\Local\\Temp\\ipykernel_20184\\981819043.py:22: FutureWarning: suggest_uniform has been deprecated in v3.0.0. This feature will be removed in v6.0.0. See https://github.com/optuna/optuna/releases/tag/v3.0.0. Use :func:`~optuna.trial.Trial.suggest_float` instead.\n",
      "  'bagging_fraction': trial.suggest_uniform('bagging_fraction', 0.1, 1.0),\n",
      "c:\\Users\\xfini\\anaconda3\\lib\\site-packages\\lightgbm\\sklearn.py:726: UserWarning: 'early_stopping_rounds' argument is deprecated and will be removed in a future release of LightGBM. Pass 'early_stopping()' callback via 'callbacks' argument instead.\n",
      "  _log_warning(\"'early_stopping_rounds' argument is deprecated and will be removed in a future release of LightGBM. \"\n",
      "c:\\Users\\xfini\\anaconda3\\lib\\site-packages\\lightgbm\\sklearn.py:736: UserWarning: 'verbose' argument is deprecated and will be removed in a future release of LightGBM. Pass 'log_evaluation()' callback via 'callbacks' argument instead.\n",
      "  _log_warning(\"'verbose' argument is deprecated and will be removed in a future release of LightGBM. \"\n"
     ]
    },
    {
     "name": "stdout",
     "output_type": "stream",
     "text": [
      "\u001b[32m[I 2023-02-24 15:02:50,700]\u001b[0m Trial 58 finished with value: 576.2803864282537 and parameters: {'learning_rate': 0.06861146633781127, 'num_leaves': 182, 'max_depth': 12, 'feature_fraction': 0.764375900446713, 'bagging_fraction': 0.9663966567065492, 'bagging_freq': 3, 'min_child_samples': 43}. Best is trial 53 with value: 575.0116311563753.\u001b[0m\n",
      "[LightGBM] [Warning] feature_fraction is set=0.762110158024844, colsample_bytree=1.0 will be ignored. Current value: feature_fraction=0.762110158024844\n",
      "[LightGBM] [Warning] bagging_fraction is set=0.913553913564258, subsample=1.0 will be ignored. Current value: bagging_fraction=0.913553913564258\n",
      "[LightGBM] [Warning] bagging_freq is set=2, subsample_freq=0 will be ignored. Current value: bagging_freq=2\n"
     ]
    },
    {
     "name": "stderr",
     "output_type": "stream",
     "text": [
      "C:\\Users\\xfini\\AppData\\Local\\Temp\\ipykernel_20184\\981819043.py:18: FutureWarning: suggest_loguniform has been deprecated in v3.0.0. This feature will be removed in v6.0.0. See https://github.com/optuna/optuna/releases/tag/v3.0.0. Use :func:`~optuna.trial.Trial.suggest_float` instead.\n",
      "  'learning_rate': trial.suggest_loguniform('learning_rate', 0.001, 0.1),\n",
      "C:\\Users\\xfini\\AppData\\Local\\Temp\\ipykernel_20184\\981819043.py:21: FutureWarning: suggest_uniform has been deprecated in v3.0.0. This feature will be removed in v6.0.0. See https://github.com/optuna/optuna/releases/tag/v3.0.0. Use :func:`~optuna.trial.Trial.suggest_float` instead.\n",
      "  'feature_fraction': trial.suggest_uniform('feature_fraction', 0.1, 1.0),\n",
      "C:\\Users\\xfini\\AppData\\Local\\Temp\\ipykernel_20184\\981819043.py:22: FutureWarning: suggest_uniform has been deprecated in v3.0.0. This feature will be removed in v6.0.0. See https://github.com/optuna/optuna/releases/tag/v3.0.0. Use :func:`~optuna.trial.Trial.suggest_float` instead.\n",
      "  'bagging_fraction': trial.suggest_uniform('bagging_fraction', 0.1, 1.0),\n",
      "c:\\Users\\xfini\\anaconda3\\lib\\site-packages\\lightgbm\\sklearn.py:726: UserWarning: 'early_stopping_rounds' argument is deprecated and will be removed in a future release of LightGBM. Pass 'early_stopping()' callback via 'callbacks' argument instead.\n",
      "  _log_warning(\"'early_stopping_rounds' argument is deprecated and will be removed in a future release of LightGBM. \"\n",
      "c:\\Users\\xfini\\anaconda3\\lib\\site-packages\\lightgbm\\sklearn.py:736: UserWarning: 'verbose' argument is deprecated and will be removed in a future release of LightGBM. Pass 'log_evaluation()' callback via 'callbacks' argument instead.\n",
      "  _log_warning(\"'verbose' argument is deprecated and will be removed in a future release of LightGBM. \"\n"
     ]
    },
    {
     "name": "stdout",
     "output_type": "stream",
     "text": [
      "\u001b[32m[I 2023-02-24 15:02:51,797]\u001b[0m Trial 59 finished with value: 575.9589765792317 and parameters: {'learning_rate': 0.08354235672772307, 'num_leaves': 188, 'max_depth': 12, 'feature_fraction': 0.762110158024844, 'bagging_fraction': 0.913553913564258, 'bagging_freq': 2, 'min_child_samples': 44}. Best is trial 53 with value: 575.0116311563753.\u001b[0m\n",
      "[LightGBM] [Warning] feature_fraction is set=0.8005536691954503, colsample_bytree=1.0 will be ignored. Current value: feature_fraction=0.8005536691954503\n",
      "[LightGBM] [Warning] bagging_fraction is set=0.953241318636315, subsample=1.0 will be ignored. Current value: bagging_fraction=0.953241318636315\n",
      "[LightGBM] [Warning] bagging_freq is set=2, subsample_freq=0 will be ignored. Current value: bagging_freq=2\n"
     ]
    },
    {
     "name": "stderr",
     "output_type": "stream",
     "text": [
      "C:\\Users\\xfini\\AppData\\Local\\Temp\\ipykernel_20184\\981819043.py:18: FutureWarning: suggest_loguniform has been deprecated in v3.0.0. This feature will be removed in v6.0.0. See https://github.com/optuna/optuna/releases/tag/v3.0.0. Use :func:`~optuna.trial.Trial.suggest_float` instead.\n",
      "  'learning_rate': trial.suggest_loguniform('learning_rate', 0.001, 0.1),\n",
      "C:\\Users\\xfini\\AppData\\Local\\Temp\\ipykernel_20184\\981819043.py:21: FutureWarning: suggest_uniform has been deprecated in v3.0.0. This feature will be removed in v6.0.0. See https://github.com/optuna/optuna/releases/tag/v3.0.0. Use :func:`~optuna.trial.Trial.suggest_float` instead.\n",
      "  'feature_fraction': trial.suggest_uniform('feature_fraction', 0.1, 1.0),\n",
      "C:\\Users\\xfini\\AppData\\Local\\Temp\\ipykernel_20184\\981819043.py:22: FutureWarning: suggest_uniform has been deprecated in v3.0.0. This feature will be removed in v6.0.0. See https://github.com/optuna/optuna/releases/tag/v3.0.0. Use :func:`~optuna.trial.Trial.suggest_float` instead.\n",
      "  'bagging_fraction': trial.suggest_uniform('bagging_fraction', 0.1, 1.0),\n",
      "c:\\Users\\xfini\\anaconda3\\lib\\site-packages\\lightgbm\\sklearn.py:726: UserWarning: 'early_stopping_rounds' argument is deprecated and will be removed in a future release of LightGBM. Pass 'early_stopping()' callback via 'callbacks' argument instead.\n",
      "  _log_warning(\"'early_stopping_rounds' argument is deprecated and will be removed in a future release of LightGBM. \"\n",
      "c:\\Users\\xfini\\anaconda3\\lib\\site-packages\\lightgbm\\sklearn.py:736: UserWarning: 'verbose' argument is deprecated and will be removed in a future release of LightGBM. Pass 'log_evaluation()' callback via 'callbacks' argument instead.\n",
      "  _log_warning(\"'verbose' argument is deprecated and will be removed in a future release of LightGBM. \"\n"
     ]
    },
    {
     "name": "stdout",
     "output_type": "stream",
     "text": [
      "\u001b[32m[I 2023-02-24 15:02:53,055]\u001b[0m Trial 60 finished with value: 575.7603559041901 and parameters: {'learning_rate': 0.06840079976660847, 'num_leaves': 189, 'max_depth': 12, 'feature_fraction': 0.8005536691954503, 'bagging_fraction': 0.953241318636315, 'bagging_freq': 2, 'min_child_samples': 45}. Best is trial 53 with value: 575.0116311563753.\u001b[0m\n",
      "[LightGBM] [Warning] feature_fraction is set=0.8075369939748644, colsample_bytree=1.0 will be ignored. Current value: feature_fraction=0.8075369939748644\n",
      "[LightGBM] [Warning] bagging_fraction is set=0.9738615862393635, subsample=1.0 will be ignored. Current value: bagging_fraction=0.9738615862393635\n",
      "[LightGBM] [Warning] bagging_freq is set=2, subsample_freq=0 will be ignored. Current value: bagging_freq=2\n"
     ]
    },
    {
     "name": "stderr",
     "output_type": "stream",
     "text": [
      "C:\\Users\\xfini\\AppData\\Local\\Temp\\ipykernel_20184\\981819043.py:18: FutureWarning: suggest_loguniform has been deprecated in v3.0.0. This feature will be removed in v6.0.0. See https://github.com/optuna/optuna/releases/tag/v3.0.0. Use :func:`~optuna.trial.Trial.suggest_float` instead.\n",
      "  'learning_rate': trial.suggest_loguniform('learning_rate', 0.001, 0.1),\n",
      "C:\\Users\\xfini\\AppData\\Local\\Temp\\ipykernel_20184\\981819043.py:21: FutureWarning: suggest_uniform has been deprecated in v3.0.0. This feature will be removed in v6.0.0. See https://github.com/optuna/optuna/releases/tag/v3.0.0. Use :func:`~optuna.trial.Trial.suggest_float` instead.\n",
      "  'feature_fraction': trial.suggest_uniform('feature_fraction', 0.1, 1.0),\n",
      "C:\\Users\\xfini\\AppData\\Local\\Temp\\ipykernel_20184\\981819043.py:22: FutureWarning: suggest_uniform has been deprecated in v3.0.0. This feature will be removed in v6.0.0. See https://github.com/optuna/optuna/releases/tag/v3.0.0. Use :func:`~optuna.trial.Trial.suggest_float` instead.\n",
      "  'bagging_fraction': trial.suggest_uniform('bagging_fraction', 0.1, 1.0),\n",
      "c:\\Users\\xfini\\anaconda3\\lib\\site-packages\\lightgbm\\sklearn.py:726: UserWarning: 'early_stopping_rounds' argument is deprecated and will be removed in a future release of LightGBM. Pass 'early_stopping()' callback via 'callbacks' argument instead.\n",
      "  _log_warning(\"'early_stopping_rounds' argument is deprecated and will be removed in a future release of LightGBM. \"\n",
      "c:\\Users\\xfini\\anaconda3\\lib\\site-packages\\lightgbm\\sklearn.py:736: UserWarning: 'verbose' argument is deprecated and will be removed in a future release of LightGBM. Pass 'log_evaluation()' callback via 'callbacks' argument instead.\n",
      "  _log_warning(\"'verbose' argument is deprecated and will be removed in a future release of LightGBM. \"\n"
     ]
    },
    {
     "name": "stdout",
     "output_type": "stream",
     "text": [
      "\u001b[32m[I 2023-02-24 15:02:54,149]\u001b[0m Trial 61 finished with value: 576.6164635068559 and parameters: {'learning_rate': 0.06657066529296017, 'num_leaves': 184, 'max_depth': 12, 'feature_fraction': 0.8075369939748644, 'bagging_fraction': 0.9738615862393635, 'bagging_freq': 2, 'min_child_samples': 42}. Best is trial 53 with value: 575.0116311563753.\u001b[0m\n",
      "[LightGBM] [Warning] feature_fraction is set=0.7568122266501508, colsample_bytree=1.0 will be ignored. Current value: feature_fraction=0.7568122266501508\n",
      "[LightGBM] [Warning] bagging_fraction is set=0.9642588043182855, subsample=1.0 will be ignored. Current value: bagging_fraction=0.9642588043182855\n",
      "[LightGBM] [Warning] bagging_freq is set=3, subsample_freq=0 will be ignored. Current value: bagging_freq=3\n"
     ]
    },
    {
     "name": "stderr",
     "output_type": "stream",
     "text": [
      "C:\\Users\\xfini\\AppData\\Local\\Temp\\ipykernel_20184\\981819043.py:18: FutureWarning: suggest_loguniform has been deprecated in v3.0.0. This feature will be removed in v6.0.0. See https://github.com/optuna/optuna/releases/tag/v3.0.0. Use :func:`~optuna.trial.Trial.suggest_float` instead.\n",
      "  'learning_rate': trial.suggest_loguniform('learning_rate', 0.001, 0.1),\n",
      "C:\\Users\\xfini\\AppData\\Local\\Temp\\ipykernel_20184\\981819043.py:21: FutureWarning: suggest_uniform has been deprecated in v3.0.0. This feature will be removed in v6.0.0. See https://github.com/optuna/optuna/releases/tag/v3.0.0. Use :func:`~optuna.trial.Trial.suggest_float` instead.\n",
      "  'feature_fraction': trial.suggest_uniform('feature_fraction', 0.1, 1.0),\n",
      "C:\\Users\\xfini\\AppData\\Local\\Temp\\ipykernel_20184\\981819043.py:22: FutureWarning: suggest_uniform has been deprecated in v3.0.0. This feature will be removed in v6.0.0. See https://github.com/optuna/optuna/releases/tag/v3.0.0. Use :func:`~optuna.trial.Trial.suggest_float` instead.\n",
      "  'bagging_fraction': trial.suggest_uniform('bagging_fraction', 0.1, 1.0),\n",
      "c:\\Users\\xfini\\anaconda3\\lib\\site-packages\\lightgbm\\sklearn.py:726: UserWarning: 'early_stopping_rounds' argument is deprecated and will be removed in a future release of LightGBM. Pass 'early_stopping()' callback via 'callbacks' argument instead.\n",
      "  _log_warning(\"'early_stopping_rounds' argument is deprecated and will be removed in a future release of LightGBM. \"\n",
      "c:\\Users\\xfini\\anaconda3\\lib\\site-packages\\lightgbm\\sklearn.py:736: UserWarning: 'verbose' argument is deprecated and will be removed in a future release of LightGBM. Pass 'log_evaluation()' callback via 'callbacks' argument instead.\n",
      "  _log_warning(\"'verbose' argument is deprecated and will be removed in a future release of LightGBM. \"\n"
     ]
    },
    {
     "name": "stdout",
     "output_type": "stream",
     "text": [
      "\u001b[32m[I 2023-02-24 15:02:55,292]\u001b[0m Trial 62 finished with value: 577.0860436989335 and parameters: {'learning_rate': 0.0822044411570132, 'num_leaves': 213, 'max_depth': 12, 'feature_fraction': 0.7568122266501508, 'bagging_fraction': 0.9642588043182855, 'bagging_freq': 3, 'min_child_samples': 47}. Best is trial 53 with value: 575.0116311563753.\u001b[0m\n",
      "[LightGBM] [Warning] feature_fraction is set=0.7856017159184857, colsample_bytree=1.0 will be ignored. Current value: feature_fraction=0.7856017159184857\n",
      "[LightGBM] [Warning] bagging_fraction is set=0.9115457995790963, subsample=1.0 will be ignored. Current value: bagging_fraction=0.9115457995790963\n",
      "[LightGBM] [Warning] bagging_freq is set=2, subsample_freq=0 will be ignored. Current value: bagging_freq=2\n"
     ]
    },
    {
     "name": "stderr",
     "output_type": "stream",
     "text": [
      "C:\\Users\\xfini\\AppData\\Local\\Temp\\ipykernel_20184\\981819043.py:18: FutureWarning: suggest_loguniform has been deprecated in v3.0.0. This feature will be removed in v6.0.0. See https://github.com/optuna/optuna/releases/tag/v3.0.0. Use :func:`~optuna.trial.Trial.suggest_float` instead.\n",
      "  'learning_rate': trial.suggest_loguniform('learning_rate', 0.001, 0.1),\n",
      "C:\\Users\\xfini\\AppData\\Local\\Temp\\ipykernel_20184\\981819043.py:21: FutureWarning: suggest_uniform has been deprecated in v3.0.0. This feature will be removed in v6.0.0. See https://github.com/optuna/optuna/releases/tag/v3.0.0. Use :func:`~optuna.trial.Trial.suggest_float` instead.\n",
      "  'feature_fraction': trial.suggest_uniform('feature_fraction', 0.1, 1.0),\n",
      "C:\\Users\\xfini\\AppData\\Local\\Temp\\ipykernel_20184\\981819043.py:22: FutureWarning: suggest_uniform has been deprecated in v3.0.0. This feature will be removed in v6.0.0. See https://github.com/optuna/optuna/releases/tag/v3.0.0. Use :func:`~optuna.trial.Trial.suggest_float` instead.\n",
      "  'bagging_fraction': trial.suggest_uniform('bagging_fraction', 0.1, 1.0),\n",
      "c:\\Users\\xfini\\anaconda3\\lib\\site-packages\\lightgbm\\sklearn.py:726: UserWarning: 'early_stopping_rounds' argument is deprecated and will be removed in a future release of LightGBM. Pass 'early_stopping()' callback via 'callbacks' argument instead.\n",
      "  _log_warning(\"'early_stopping_rounds' argument is deprecated and will be removed in a future release of LightGBM. \"\n",
      "c:\\Users\\xfini\\anaconda3\\lib\\site-packages\\lightgbm\\sklearn.py:736: UserWarning: 'verbose' argument is deprecated and will be removed in a future release of LightGBM. Pass 'log_evaluation()' callback via 'callbacks' argument instead.\n",
      "  _log_warning(\"'verbose' argument is deprecated and will be removed in a future release of LightGBM. \"\n"
     ]
    },
    {
     "name": "stdout",
     "output_type": "stream",
     "text": [
      "\u001b[32m[I 2023-02-24 15:02:56,436]\u001b[0m Trial 63 finished with value: 577.7086504590446 and parameters: {'learning_rate': 0.05707749330910043, 'num_leaves': 205, 'max_depth': 11, 'feature_fraction': 0.7856017159184857, 'bagging_fraction': 0.9115457995790963, 'bagging_freq': 2, 'min_child_samples': 56}. Best is trial 53 with value: 575.0116311563753.\u001b[0m\n",
      "[LightGBM] [Warning] feature_fraction is set=0.7491521859322631, colsample_bytree=1.0 will be ignored. Current value: feature_fraction=0.7491521859322631\n",
      "[LightGBM] [Warning] bagging_fraction is set=0.8396940110597548, subsample=1.0 will be ignored. Current value: bagging_fraction=0.8396940110597548\n",
      "[LightGBM] [Warning] bagging_freq is set=1, subsample_freq=0 will be ignored. Current value: bagging_freq=1\n"
     ]
    },
    {
     "name": "stderr",
     "output_type": "stream",
     "text": [
      "C:\\Users\\xfini\\AppData\\Local\\Temp\\ipykernel_20184\\981819043.py:18: FutureWarning: suggest_loguniform has been deprecated in v3.0.0. This feature will be removed in v6.0.0. See https://github.com/optuna/optuna/releases/tag/v3.0.0. Use :func:`~optuna.trial.Trial.suggest_float` instead.\n",
      "  'learning_rate': trial.suggest_loguniform('learning_rate', 0.001, 0.1),\n",
      "C:\\Users\\xfini\\AppData\\Local\\Temp\\ipykernel_20184\\981819043.py:21: FutureWarning: suggest_uniform has been deprecated in v3.0.0. This feature will be removed in v6.0.0. See https://github.com/optuna/optuna/releases/tag/v3.0.0. Use :func:`~optuna.trial.Trial.suggest_float` instead.\n",
      "  'feature_fraction': trial.suggest_uniform('feature_fraction', 0.1, 1.0),\n",
      "C:\\Users\\xfini\\AppData\\Local\\Temp\\ipykernel_20184\\981819043.py:22: FutureWarning: suggest_uniform has been deprecated in v3.0.0. This feature will be removed in v6.0.0. See https://github.com/optuna/optuna/releases/tag/v3.0.0. Use :func:`~optuna.trial.Trial.suggest_float` instead.\n",
      "  'bagging_fraction': trial.suggest_uniform('bagging_fraction', 0.1, 1.0),\n",
      "c:\\Users\\xfini\\anaconda3\\lib\\site-packages\\lightgbm\\sklearn.py:726: UserWarning: 'early_stopping_rounds' argument is deprecated and will be removed in a future release of LightGBM. Pass 'early_stopping()' callback via 'callbacks' argument instead.\n",
      "  _log_warning(\"'early_stopping_rounds' argument is deprecated and will be removed in a future release of LightGBM. \"\n",
      "c:\\Users\\xfini\\anaconda3\\lib\\site-packages\\lightgbm\\sklearn.py:736: UserWarning: 'verbose' argument is deprecated and will be removed in a future release of LightGBM. Pass 'log_evaluation()' callback via 'callbacks' argument instead.\n",
      "  _log_warning(\"'verbose' argument is deprecated and will be removed in a future release of LightGBM. \"\n"
     ]
    },
    {
     "name": "stdout",
     "output_type": "stream",
     "text": [
      "\u001b[32m[I 2023-02-24 15:02:57,481]\u001b[0m Trial 64 finished with value: 576.7454536919666 and parameters: {'learning_rate': 0.0650371749703025, 'num_leaves': 174, 'max_depth': 12, 'feature_fraction': 0.7491521859322631, 'bagging_fraction': 0.8396940110597548, 'bagging_freq': 1, 'min_child_samples': 45}. Best is trial 53 with value: 575.0116311563753.\u001b[0m\n",
      "[LightGBM] [Warning] feature_fraction is set=0.8121456700858689, colsample_bytree=1.0 will be ignored. Current value: feature_fraction=0.8121456700858689\n",
      "[LightGBM] [Warning] bagging_fraction is set=0.9640318602723817, subsample=1.0 will be ignored. Current value: bagging_fraction=0.9640318602723817\n",
      "[LightGBM] [Warning] bagging_freq is set=3, subsample_freq=0 will be ignored. Current value: bagging_freq=3\n"
     ]
    },
    {
     "name": "stderr",
     "output_type": "stream",
     "text": [
      "C:\\Users\\xfini\\AppData\\Local\\Temp\\ipykernel_20184\\981819043.py:18: FutureWarning: suggest_loguniform has been deprecated in v3.0.0. This feature will be removed in v6.0.0. See https://github.com/optuna/optuna/releases/tag/v3.0.0. Use :func:`~optuna.trial.Trial.suggest_float` instead.\n",
      "  'learning_rate': trial.suggest_loguniform('learning_rate', 0.001, 0.1),\n",
      "C:\\Users\\xfini\\AppData\\Local\\Temp\\ipykernel_20184\\981819043.py:21: FutureWarning: suggest_uniform has been deprecated in v3.0.0. This feature will be removed in v6.0.0. See https://github.com/optuna/optuna/releases/tag/v3.0.0. Use :func:`~optuna.trial.Trial.suggest_float` instead.\n",
      "  'feature_fraction': trial.suggest_uniform('feature_fraction', 0.1, 1.0),\n",
      "C:\\Users\\xfini\\AppData\\Local\\Temp\\ipykernel_20184\\981819043.py:22: FutureWarning: suggest_uniform has been deprecated in v3.0.0. This feature will be removed in v6.0.0. See https://github.com/optuna/optuna/releases/tag/v3.0.0. Use :func:`~optuna.trial.Trial.suggest_float` instead.\n",
      "  'bagging_fraction': trial.suggest_uniform('bagging_fraction', 0.1, 1.0),\n",
      "c:\\Users\\xfini\\anaconda3\\lib\\site-packages\\lightgbm\\sklearn.py:726: UserWarning: 'early_stopping_rounds' argument is deprecated and will be removed in a future release of LightGBM. Pass 'early_stopping()' callback via 'callbacks' argument instead.\n",
      "  _log_warning(\"'early_stopping_rounds' argument is deprecated and will be removed in a future release of LightGBM. \"\n",
      "c:\\Users\\xfini\\anaconda3\\lib\\site-packages\\lightgbm\\sklearn.py:736: UserWarning: 'verbose' argument is deprecated and will be removed in a future release of LightGBM. Pass 'log_evaluation()' callback via 'callbacks' argument instead.\n",
      "  _log_warning(\"'verbose' argument is deprecated and will be removed in a future release of LightGBM. \"\n"
     ]
    },
    {
     "name": "stdout",
     "output_type": "stream",
     "text": [
      "\u001b[32m[I 2023-02-24 15:02:58,780]\u001b[0m Trial 65 finished with value: 579.8103479385238 and parameters: {'learning_rate': 0.04900961050291998, 'num_leaves': 201, 'max_depth': 11, 'feature_fraction': 0.8121456700858689, 'bagging_fraction': 0.9640318602723817, 'bagging_freq': 3, 'min_child_samples': 33}. Best is trial 53 with value: 575.0116311563753.\u001b[0m\n",
      "[LightGBM] [Warning] feature_fraction is set=0.7759459571331205, colsample_bytree=1.0 will be ignored. Current value: feature_fraction=0.7759459571331205\n",
      "[LightGBM] [Warning] bagging_fraction is set=0.8846842361334786, subsample=1.0 will be ignored. Current value: bagging_fraction=0.8846842361334786\n",
      "[LightGBM] [Warning] bagging_freq is set=2, subsample_freq=0 will be ignored. Current value: bagging_freq=2\n"
     ]
    },
    {
     "name": "stderr",
     "output_type": "stream",
     "text": [
      "C:\\Users\\xfini\\AppData\\Local\\Temp\\ipykernel_20184\\981819043.py:18: FutureWarning: suggest_loguniform has been deprecated in v3.0.0. This feature will be removed in v6.0.0. See https://github.com/optuna/optuna/releases/tag/v3.0.0. Use :func:`~optuna.trial.Trial.suggest_float` instead.\n",
      "  'learning_rate': trial.suggest_loguniform('learning_rate', 0.001, 0.1),\n",
      "C:\\Users\\xfini\\AppData\\Local\\Temp\\ipykernel_20184\\981819043.py:21: FutureWarning: suggest_uniform has been deprecated in v3.0.0. This feature will be removed in v6.0.0. See https://github.com/optuna/optuna/releases/tag/v3.0.0. Use :func:`~optuna.trial.Trial.suggest_float` instead.\n",
      "  'feature_fraction': trial.suggest_uniform('feature_fraction', 0.1, 1.0),\n",
      "C:\\Users\\xfini\\AppData\\Local\\Temp\\ipykernel_20184\\981819043.py:22: FutureWarning: suggest_uniform has been deprecated in v3.0.0. This feature will be removed in v6.0.0. See https://github.com/optuna/optuna/releases/tag/v3.0.0. Use :func:`~optuna.trial.Trial.suggest_float` instead.\n",
      "  'bagging_fraction': trial.suggest_uniform('bagging_fraction', 0.1, 1.0),\n",
      "c:\\Users\\xfini\\anaconda3\\lib\\site-packages\\lightgbm\\sklearn.py:726: UserWarning: 'early_stopping_rounds' argument is deprecated and will be removed in a future release of LightGBM. Pass 'early_stopping()' callback via 'callbacks' argument instead.\n",
      "  _log_warning(\"'early_stopping_rounds' argument is deprecated and will be removed in a future release of LightGBM. \"\n",
      "c:\\Users\\xfini\\anaconda3\\lib\\site-packages\\lightgbm\\sklearn.py:736: UserWarning: 'verbose' argument is deprecated and will be removed in a future release of LightGBM. Pass 'log_evaluation()' callback via 'callbacks' argument instead.\n",
      "  _log_warning(\"'verbose' argument is deprecated and will be removed in a future release of LightGBM. \"\n"
     ]
    },
    {
     "name": "stdout",
     "output_type": "stream",
     "text": [
      "\u001b[32m[I 2023-02-24 15:03:00,212]\u001b[0m Trial 66 finished with value: 576.1826466780651 and parameters: {'learning_rate': 0.0697806289591591, 'num_leaves': 187, 'max_depth': 10, 'feature_fraction': 0.7759459571331205, 'bagging_fraction': 0.8846842361334786, 'bagging_freq': 2, 'min_child_samples': 50}. Best is trial 53 with value: 575.0116311563753.\u001b[0m\n",
      "[LightGBM] [Warning] feature_fraction is set=0.7069024611451813, colsample_bytree=1.0 will be ignored. Current value: feature_fraction=0.7069024611451813\n",
      "[LightGBM] [Warning] bagging_fraction is set=0.8678008382380648, subsample=1.0 will be ignored. Current value: bagging_fraction=0.8678008382380648\n",
      "[LightGBM] [Warning] bagging_freq is set=2, subsample_freq=0 will be ignored. Current value: bagging_freq=2\n"
     ]
    },
    {
     "name": "stderr",
     "output_type": "stream",
     "text": [
      "C:\\Users\\xfini\\AppData\\Local\\Temp\\ipykernel_20184\\981819043.py:18: FutureWarning: suggest_loguniform has been deprecated in v3.0.0. This feature will be removed in v6.0.0. See https://github.com/optuna/optuna/releases/tag/v3.0.0. Use :func:`~optuna.trial.Trial.suggest_float` instead.\n",
      "  'learning_rate': trial.suggest_loguniform('learning_rate', 0.001, 0.1),\n",
      "C:\\Users\\xfini\\AppData\\Local\\Temp\\ipykernel_20184\\981819043.py:21: FutureWarning: suggest_uniform has been deprecated in v3.0.0. This feature will be removed in v6.0.0. See https://github.com/optuna/optuna/releases/tag/v3.0.0. Use :func:`~optuna.trial.Trial.suggest_float` instead.\n",
      "  'feature_fraction': trial.suggest_uniform('feature_fraction', 0.1, 1.0),\n",
      "C:\\Users\\xfini\\AppData\\Local\\Temp\\ipykernel_20184\\981819043.py:22: FutureWarning: suggest_uniform has been deprecated in v3.0.0. This feature will be removed in v6.0.0. See https://github.com/optuna/optuna/releases/tag/v3.0.0. Use :func:`~optuna.trial.Trial.suggest_float` instead.\n",
      "  'bagging_fraction': trial.suggest_uniform('bagging_fraction', 0.1, 1.0),\n",
      "c:\\Users\\xfini\\anaconda3\\lib\\site-packages\\lightgbm\\sklearn.py:726: UserWarning: 'early_stopping_rounds' argument is deprecated and will be removed in a future release of LightGBM. Pass 'early_stopping()' callback via 'callbacks' argument instead.\n",
      "  _log_warning(\"'early_stopping_rounds' argument is deprecated and will be removed in a future release of LightGBM. \"\n",
      "c:\\Users\\xfini\\anaconda3\\lib\\site-packages\\lightgbm\\sklearn.py:736: UserWarning: 'verbose' argument is deprecated and will be removed in a future release of LightGBM. Pass 'log_evaluation()' callback via 'callbacks' argument instead.\n",
      "  _log_warning(\"'verbose' argument is deprecated and will be removed in a future release of LightGBM. \"\n"
     ]
    },
    {
     "name": "stdout",
     "output_type": "stream",
     "text": [
      "\u001b[32m[I 2023-02-24 15:03:01,559]\u001b[0m Trial 67 finished with value: 575.8901319824434 and parameters: {'learning_rate': 0.08648348106704479, 'num_leaves': 219, 'max_depth': 10, 'feature_fraction': 0.7069024611451813, 'bagging_fraction': 0.8678008382380648, 'bagging_freq': 2, 'min_child_samples': 51}. Best is trial 53 with value: 575.0116311563753.\u001b[0m\n",
      "[LightGBM] [Warning] feature_fraction is set=0.7135051306095898, colsample_bytree=1.0 will be ignored. Current value: feature_fraction=0.7135051306095898\n",
      "[LightGBM] [Warning] bagging_fraction is set=0.8247486137849632, subsample=1.0 will be ignored. Current value: bagging_fraction=0.8247486137849632\n",
      "[LightGBM] [Warning] bagging_freq is set=1, subsample_freq=0 will be ignored. Current value: bagging_freq=1\n"
     ]
    },
    {
     "name": "stderr",
     "output_type": "stream",
     "text": [
      "C:\\Users\\xfini\\AppData\\Local\\Temp\\ipykernel_20184\\981819043.py:18: FutureWarning: suggest_loguniform has been deprecated in v3.0.0. This feature will be removed in v6.0.0. See https://github.com/optuna/optuna/releases/tag/v3.0.0. Use :func:`~optuna.trial.Trial.suggest_float` instead.\n",
      "  'learning_rate': trial.suggest_loguniform('learning_rate', 0.001, 0.1),\n",
      "C:\\Users\\xfini\\AppData\\Local\\Temp\\ipykernel_20184\\981819043.py:21: FutureWarning: suggest_uniform has been deprecated in v3.0.0. This feature will be removed in v6.0.0. See https://github.com/optuna/optuna/releases/tag/v3.0.0. Use :func:`~optuna.trial.Trial.suggest_float` instead.\n",
      "  'feature_fraction': trial.suggest_uniform('feature_fraction', 0.1, 1.0),\n",
      "C:\\Users\\xfini\\AppData\\Local\\Temp\\ipykernel_20184\\981819043.py:22: FutureWarning: suggest_uniform has been deprecated in v3.0.0. This feature will be removed in v6.0.0. See https://github.com/optuna/optuna/releases/tag/v3.0.0. Use :func:`~optuna.trial.Trial.suggest_float` instead.\n",
      "  'bagging_fraction': trial.suggest_uniform('bagging_fraction', 0.1, 1.0),\n",
      "c:\\Users\\xfini\\anaconda3\\lib\\site-packages\\lightgbm\\sklearn.py:726: UserWarning: 'early_stopping_rounds' argument is deprecated and will be removed in a future release of LightGBM. Pass 'early_stopping()' callback via 'callbacks' argument instead.\n",
      "  _log_warning(\"'early_stopping_rounds' argument is deprecated and will be removed in a future release of LightGBM. \"\n",
      "c:\\Users\\xfini\\anaconda3\\lib\\site-packages\\lightgbm\\sklearn.py:736: UserWarning: 'verbose' argument is deprecated and will be removed in a future release of LightGBM. Pass 'log_evaluation()' callback via 'callbacks' argument instead.\n",
      "  _log_warning(\"'verbose' argument is deprecated and will be removed in a future release of LightGBM. \"\n"
     ]
    },
    {
     "name": "stdout",
     "output_type": "stream",
     "text": [
      "\u001b[32m[I 2023-02-24 15:03:02,765]\u001b[0m Trial 68 finished with value: 575.6566006974084 and parameters: {'learning_rate': 0.08453101363717597, 'num_leaves': 241, 'max_depth': 10, 'feature_fraction': 0.7135051306095898, 'bagging_fraction': 0.8247486137849632, 'bagging_freq': 1, 'min_child_samples': 67}. Best is trial 53 with value: 575.0116311563753.\u001b[0m\n",
      "[LightGBM] [Warning] feature_fraction is set=0.7026896495431942, colsample_bytree=1.0 will be ignored. Current value: feature_fraction=0.7026896495431942\n",
      "[LightGBM] [Warning] bagging_fraction is set=0.8312037805405381, subsample=1.0 will be ignored. Current value: bagging_fraction=0.8312037805405381\n",
      "[LightGBM] [Warning] bagging_freq is set=1, subsample_freq=0 will be ignored. Current value: bagging_freq=1\n"
     ]
    },
    {
     "name": "stderr",
     "output_type": "stream",
     "text": [
      "C:\\Users\\xfini\\AppData\\Local\\Temp\\ipykernel_20184\\981819043.py:18: FutureWarning: suggest_loguniform has been deprecated in v3.0.0. This feature will be removed in v6.0.0. See https://github.com/optuna/optuna/releases/tag/v3.0.0. Use :func:`~optuna.trial.Trial.suggest_float` instead.\n",
      "  'learning_rate': trial.suggest_loguniform('learning_rate', 0.001, 0.1),\n",
      "C:\\Users\\xfini\\AppData\\Local\\Temp\\ipykernel_20184\\981819043.py:21: FutureWarning: suggest_uniform has been deprecated in v3.0.0. This feature will be removed in v6.0.0. See https://github.com/optuna/optuna/releases/tag/v3.0.0. Use :func:`~optuna.trial.Trial.suggest_float` instead.\n",
      "  'feature_fraction': trial.suggest_uniform('feature_fraction', 0.1, 1.0),\n",
      "C:\\Users\\xfini\\AppData\\Local\\Temp\\ipykernel_20184\\981819043.py:22: FutureWarning: suggest_uniform has been deprecated in v3.0.0. This feature will be removed in v6.0.0. See https://github.com/optuna/optuna/releases/tag/v3.0.0. Use :func:`~optuna.trial.Trial.suggest_float` instead.\n",
      "  'bagging_fraction': trial.suggest_uniform('bagging_fraction', 0.1, 1.0),\n",
      "c:\\Users\\xfini\\anaconda3\\lib\\site-packages\\lightgbm\\sklearn.py:726: UserWarning: 'early_stopping_rounds' argument is deprecated and will be removed in a future release of LightGBM. Pass 'early_stopping()' callback via 'callbacks' argument instead.\n",
      "  _log_warning(\"'early_stopping_rounds' argument is deprecated and will be removed in a future release of LightGBM. \"\n",
      "c:\\Users\\xfini\\anaconda3\\lib\\site-packages\\lightgbm\\sklearn.py:736: UserWarning: 'verbose' argument is deprecated and will be removed in a future release of LightGBM. Pass 'log_evaluation()' callback via 'callbacks' argument instead.\n",
      "  _log_warning(\"'verbose' argument is deprecated and will be removed in a future release of LightGBM. \"\n"
     ]
    },
    {
     "name": "stdout",
     "output_type": "stream",
     "text": [
      "\u001b[32m[I 2023-02-24 15:03:03,680]\u001b[0m Trial 69 finished with value: 575.8582354052074 and parameters: {'learning_rate': 0.08837183260422489, 'num_leaves': 221, 'max_depth': 10, 'feature_fraction': 0.7026896495431942, 'bagging_fraction': 0.8312037805405381, 'bagging_freq': 1, 'min_child_samples': 64}. Best is trial 53 with value: 575.0116311563753.\u001b[0m\n",
      "[LightGBM] [Warning] feature_fraction is set=0.7301500399490318, colsample_bytree=1.0 will be ignored. Current value: feature_fraction=0.7301500399490318\n",
      "[LightGBM] [Warning] bagging_fraction is set=0.7191738746377848, subsample=1.0 will be ignored. Current value: bagging_fraction=0.7191738746377848\n",
      "[LightGBM] [Warning] bagging_freq is set=1, subsample_freq=0 will be ignored. Current value: bagging_freq=1\n"
     ]
    },
    {
     "name": "stderr",
     "output_type": "stream",
     "text": [
      "C:\\Users\\xfini\\AppData\\Local\\Temp\\ipykernel_20184\\981819043.py:18: FutureWarning: suggest_loguniform has been deprecated in v3.0.0. This feature will be removed in v6.0.0. See https://github.com/optuna/optuna/releases/tag/v3.0.0. Use :func:`~optuna.trial.Trial.suggest_float` instead.\n",
      "  'learning_rate': trial.suggest_loguniform('learning_rate', 0.001, 0.1),\n",
      "C:\\Users\\xfini\\AppData\\Local\\Temp\\ipykernel_20184\\981819043.py:21: FutureWarning: suggest_uniform has been deprecated in v3.0.0. This feature will be removed in v6.0.0. See https://github.com/optuna/optuna/releases/tag/v3.0.0. Use :func:`~optuna.trial.Trial.suggest_float` instead.\n",
      "  'feature_fraction': trial.suggest_uniform('feature_fraction', 0.1, 1.0),\n",
      "C:\\Users\\xfini\\AppData\\Local\\Temp\\ipykernel_20184\\981819043.py:22: FutureWarning: suggest_uniform has been deprecated in v3.0.0. This feature will be removed in v6.0.0. See https://github.com/optuna/optuna/releases/tag/v3.0.0. Use :func:`~optuna.trial.Trial.suggest_float` instead.\n",
      "  'bagging_fraction': trial.suggest_uniform('bagging_fraction', 0.1, 1.0),\n",
      "c:\\Users\\xfini\\anaconda3\\lib\\site-packages\\lightgbm\\sklearn.py:726: UserWarning: 'early_stopping_rounds' argument is deprecated and will be removed in a future release of LightGBM. Pass 'early_stopping()' callback via 'callbacks' argument instead.\n",
      "  _log_warning(\"'early_stopping_rounds' argument is deprecated and will be removed in a future release of LightGBM. \"\n",
      "c:\\Users\\xfini\\anaconda3\\lib\\site-packages\\lightgbm\\sklearn.py:736: UserWarning: 'verbose' argument is deprecated and will be removed in a future release of LightGBM. Pass 'log_evaluation()' callback via 'callbacks' argument instead.\n",
      "  _log_warning(\"'verbose' argument is deprecated and will be removed in a future release of LightGBM. \"\n"
     ]
    },
    {
     "name": "stdout",
     "output_type": "stream",
     "text": [
      "\u001b[32m[I 2023-02-24 15:03:04,642]\u001b[0m Trial 70 finished with value: 587.280535744595 and parameters: {'learning_rate': 0.042759402003238474, 'num_leaves': 242, 'max_depth': 8, 'feature_fraction': 0.7301500399490318, 'bagging_fraction': 0.7191738746377848, 'bagging_freq': 1, 'min_child_samples': 69}. Best is trial 53 with value: 575.0116311563753.\u001b[0m\n",
      "[LightGBM] [Warning] feature_fraction is set=0.7098769529406687, colsample_bytree=1.0 will be ignored. Current value: feature_fraction=0.7098769529406687\n",
      "[LightGBM] [Warning] bagging_fraction is set=0.8274865961702674, subsample=1.0 will be ignored. Current value: bagging_fraction=0.8274865961702674\n",
      "[LightGBM] [Warning] bagging_freq is set=1, subsample_freq=0 will be ignored. Current value: bagging_freq=1\n"
     ]
    },
    {
     "name": "stderr",
     "output_type": "stream",
     "text": [
      "C:\\Users\\xfini\\AppData\\Local\\Temp\\ipykernel_20184\\981819043.py:18: FutureWarning: suggest_loguniform has been deprecated in v3.0.0. This feature will be removed in v6.0.0. See https://github.com/optuna/optuna/releases/tag/v3.0.0. Use :func:`~optuna.trial.Trial.suggest_float` instead.\n",
      "  'learning_rate': trial.suggest_loguniform('learning_rate', 0.001, 0.1),\n",
      "C:\\Users\\xfini\\AppData\\Local\\Temp\\ipykernel_20184\\981819043.py:21: FutureWarning: suggest_uniform has been deprecated in v3.0.0. This feature will be removed in v6.0.0. See https://github.com/optuna/optuna/releases/tag/v3.0.0. Use :func:`~optuna.trial.Trial.suggest_float` instead.\n",
      "  'feature_fraction': trial.suggest_uniform('feature_fraction', 0.1, 1.0),\n",
      "C:\\Users\\xfini\\AppData\\Local\\Temp\\ipykernel_20184\\981819043.py:22: FutureWarning: suggest_uniform has been deprecated in v3.0.0. This feature will be removed in v6.0.0. See https://github.com/optuna/optuna/releases/tag/v3.0.0. Use :func:`~optuna.trial.Trial.suggest_float` instead.\n",
      "  'bagging_fraction': trial.suggest_uniform('bagging_fraction', 0.1, 1.0),\n",
      "c:\\Users\\xfini\\anaconda3\\lib\\site-packages\\lightgbm\\sklearn.py:726: UserWarning: 'early_stopping_rounds' argument is deprecated and will be removed in a future release of LightGBM. Pass 'early_stopping()' callback via 'callbacks' argument instead.\n",
      "  _log_warning(\"'early_stopping_rounds' argument is deprecated and will be removed in a future release of LightGBM. \"\n",
      "c:\\Users\\xfini\\anaconda3\\lib\\site-packages\\lightgbm\\sklearn.py:736: UserWarning: 'verbose' argument is deprecated and will be removed in a future release of LightGBM. Pass 'log_evaluation()' callback via 'callbacks' argument instead.\n",
      "  _log_warning(\"'verbose' argument is deprecated and will be removed in a future release of LightGBM. \"\n"
     ]
    },
    {
     "name": "stdout",
     "output_type": "stream",
     "text": [
      "\u001b[32m[I 2023-02-24 15:03:05,503]\u001b[0m Trial 71 finished with value: 576.5261339345479 and parameters: {'learning_rate': 0.08785812480428358, 'num_leaves': 217, 'max_depth': 10, 'feature_fraction': 0.7098769529406687, 'bagging_fraction': 0.8274865961702674, 'bagging_freq': 1, 'min_child_samples': 63}. Best is trial 53 with value: 575.0116311563753.\u001b[0m\n",
      "[LightGBM] [Warning] feature_fraction is set=0.7024612113997222, colsample_bytree=1.0 will be ignored. Current value: feature_fraction=0.7024612113997222\n",
      "[LightGBM] [Warning] bagging_fraction is set=0.8586589511201471, subsample=1.0 will be ignored. Current value: bagging_fraction=0.8586589511201471\n",
      "[LightGBM] [Warning] bagging_freq is set=1, subsample_freq=0 will be ignored. Current value: bagging_freq=1\n"
     ]
    },
    {
     "name": "stderr",
     "output_type": "stream",
     "text": [
      "C:\\Users\\xfini\\AppData\\Local\\Temp\\ipykernel_20184\\981819043.py:18: FutureWarning: suggest_loguniform has been deprecated in v3.0.0. This feature will be removed in v6.0.0. See https://github.com/optuna/optuna/releases/tag/v3.0.0. Use :func:`~optuna.trial.Trial.suggest_float` instead.\n",
      "  'learning_rate': trial.suggest_loguniform('learning_rate', 0.001, 0.1),\n",
      "C:\\Users\\xfini\\AppData\\Local\\Temp\\ipykernel_20184\\981819043.py:21: FutureWarning: suggest_uniform has been deprecated in v3.0.0. This feature will be removed in v6.0.0. See https://github.com/optuna/optuna/releases/tag/v3.0.0. Use :func:`~optuna.trial.Trial.suggest_float` instead.\n",
      "  'feature_fraction': trial.suggest_uniform('feature_fraction', 0.1, 1.0),\n",
      "C:\\Users\\xfini\\AppData\\Local\\Temp\\ipykernel_20184\\981819043.py:22: FutureWarning: suggest_uniform has been deprecated in v3.0.0. This feature will be removed in v6.0.0. See https://github.com/optuna/optuna/releases/tag/v3.0.0. Use :func:`~optuna.trial.Trial.suggest_float` instead.\n",
      "  'bagging_fraction': trial.suggest_uniform('bagging_fraction', 0.1, 1.0),\n",
      "c:\\Users\\xfini\\anaconda3\\lib\\site-packages\\lightgbm\\sklearn.py:726: UserWarning: 'early_stopping_rounds' argument is deprecated and will be removed in a future release of LightGBM. Pass 'early_stopping()' callback via 'callbacks' argument instead.\n",
      "  _log_warning(\"'early_stopping_rounds' argument is deprecated and will be removed in a future release of LightGBM. \"\n",
      "c:\\Users\\xfini\\anaconda3\\lib\\site-packages\\lightgbm\\sklearn.py:736: UserWarning: 'verbose' argument is deprecated and will be removed in a future release of LightGBM. Pass 'log_evaluation()' callback via 'callbacks' argument instead.\n",
      "  _log_warning(\"'verbose' argument is deprecated and will be removed in a future release of LightGBM. \"\n"
     ]
    },
    {
     "name": "stdout",
     "output_type": "stream",
     "text": [
      "\u001b[32m[I 2023-02-24 15:03:06,795]\u001b[0m Trial 72 finished with value: 578.716361787673 and parameters: {'learning_rate': 0.057876215924032096, 'num_leaves': 243, 'max_depth': 10, 'feature_fraction': 0.7024612113997222, 'bagging_fraction': 0.8586589511201471, 'bagging_freq': 1, 'min_child_samples': 72}. Best is trial 53 with value: 575.0116311563753.\u001b[0m\n",
      "[LightGBM] [Warning] feature_fraction is set=0.6624875079696315, colsample_bytree=1.0 will be ignored. Current value: feature_fraction=0.6624875079696315\n",
      "[LightGBM] [Warning] bagging_fraction is set=0.8257112169773139, subsample=1.0 will be ignored. Current value: bagging_fraction=0.8257112169773139\n",
      "[LightGBM] [Warning] bagging_freq is set=1, subsample_freq=0 will be ignored. Current value: bagging_freq=1\n"
     ]
    },
    {
     "name": "stderr",
     "output_type": "stream",
     "text": [
      "C:\\Users\\xfini\\AppData\\Local\\Temp\\ipykernel_20184\\981819043.py:18: FutureWarning: suggest_loguniform has been deprecated in v3.0.0. This feature will be removed in v6.0.0. See https://github.com/optuna/optuna/releases/tag/v3.0.0. Use :func:`~optuna.trial.Trial.suggest_float` instead.\n",
      "  'learning_rate': trial.suggest_loguniform('learning_rate', 0.001, 0.1),\n",
      "C:\\Users\\xfini\\AppData\\Local\\Temp\\ipykernel_20184\\981819043.py:21: FutureWarning: suggest_uniform has been deprecated in v3.0.0. This feature will be removed in v6.0.0. See https://github.com/optuna/optuna/releases/tag/v3.0.0. Use :func:`~optuna.trial.Trial.suggest_float` instead.\n",
      "  'feature_fraction': trial.suggest_uniform('feature_fraction', 0.1, 1.0),\n",
      "C:\\Users\\xfini\\AppData\\Local\\Temp\\ipykernel_20184\\981819043.py:22: FutureWarning: suggest_uniform has been deprecated in v3.0.0. This feature will be removed in v6.0.0. See https://github.com/optuna/optuna/releases/tag/v3.0.0. Use :func:`~optuna.trial.Trial.suggest_float` instead.\n",
      "  'bagging_fraction': trial.suggest_uniform('bagging_fraction', 0.1, 1.0),\n",
      "c:\\Users\\xfini\\anaconda3\\lib\\site-packages\\lightgbm\\sklearn.py:726: UserWarning: 'early_stopping_rounds' argument is deprecated and will be removed in a future release of LightGBM. Pass 'early_stopping()' callback via 'callbacks' argument instead.\n",
      "  _log_warning(\"'early_stopping_rounds' argument is deprecated and will be removed in a future release of LightGBM. \"\n",
      "c:\\Users\\xfini\\anaconda3\\lib\\site-packages\\lightgbm\\sklearn.py:736: UserWarning: 'verbose' argument is deprecated and will be removed in a future release of LightGBM. Pass 'log_evaluation()' callback via 'callbacks' argument instead.\n",
      "  _log_warning(\"'verbose' argument is deprecated and will be removed in a future release of LightGBM. \"\n"
     ]
    },
    {
     "name": "stdout",
     "output_type": "stream",
     "text": [
      "\u001b[32m[I 2023-02-24 15:03:07,839]\u001b[0m Trial 73 finished with value: 576.4236475287685 and parameters: {'learning_rate': 0.09898054044393358, 'num_leaves': 233, 'max_depth': 10, 'feature_fraction': 0.6624875079696315, 'bagging_fraction': 0.8257112169773139, 'bagging_freq': 1, 'min_child_samples': 84}. Best is trial 53 with value: 575.0116311563753.\u001b[0m\n",
      "[LightGBM] [Warning] feature_fraction is set=0.6957865799030039, colsample_bytree=1.0 will be ignored. Current value: feature_fraction=0.6957865799030039\n",
      "[LightGBM] [Warning] bagging_fraction is set=0.8681237345730459, subsample=1.0 will be ignored. Current value: bagging_fraction=0.8681237345730459\n",
      "[LightGBM] [Warning] bagging_freq is set=1, subsample_freq=0 will be ignored. Current value: bagging_freq=1\n"
     ]
    },
    {
     "name": "stderr",
     "output_type": "stream",
     "text": [
      "C:\\Users\\xfini\\AppData\\Local\\Temp\\ipykernel_20184\\981819043.py:18: FutureWarning: suggest_loguniform has been deprecated in v3.0.0. This feature will be removed in v6.0.0. See https://github.com/optuna/optuna/releases/tag/v3.0.0. Use :func:`~optuna.trial.Trial.suggest_float` instead.\n",
      "  'learning_rate': trial.suggest_loguniform('learning_rate', 0.001, 0.1),\n",
      "C:\\Users\\xfini\\AppData\\Local\\Temp\\ipykernel_20184\\981819043.py:21: FutureWarning: suggest_uniform has been deprecated in v3.0.0. This feature will be removed in v6.0.0. See https://github.com/optuna/optuna/releases/tag/v3.0.0. Use :func:`~optuna.trial.Trial.suggest_float` instead.\n",
      "  'feature_fraction': trial.suggest_uniform('feature_fraction', 0.1, 1.0),\n",
      "C:\\Users\\xfini\\AppData\\Local\\Temp\\ipykernel_20184\\981819043.py:22: FutureWarning: suggest_uniform has been deprecated in v3.0.0. This feature will be removed in v6.0.0. See https://github.com/optuna/optuna/releases/tag/v3.0.0. Use :func:`~optuna.trial.Trial.suggest_float` instead.\n",
      "  'bagging_fraction': trial.suggest_uniform('bagging_fraction', 0.1, 1.0),\n",
      "c:\\Users\\xfini\\anaconda3\\lib\\site-packages\\lightgbm\\sklearn.py:726: UserWarning: 'early_stopping_rounds' argument is deprecated and will be removed in a future release of LightGBM. Pass 'early_stopping()' callback via 'callbacks' argument instead.\n",
      "  _log_warning(\"'early_stopping_rounds' argument is deprecated and will be removed in a future release of LightGBM. \"\n",
      "c:\\Users\\xfini\\anaconda3\\lib\\site-packages\\lightgbm\\sklearn.py:736: UserWarning: 'verbose' argument is deprecated and will be removed in a future release of LightGBM. Pass 'log_evaluation()' callback via 'callbacks' argument instead.\n",
      "  _log_warning(\"'verbose' argument is deprecated and will be removed in a future release of LightGBM. \"\n"
     ]
    },
    {
     "name": "stdout",
     "output_type": "stream",
     "text": [
      "\u001b[32m[I 2023-02-24 15:03:08,759]\u001b[0m Trial 74 finished with value: 576.9561884043729 and parameters: {'learning_rate': 0.08621265148011494, 'num_leaves': 199, 'max_depth': 11, 'feature_fraction': 0.6957865799030039, 'bagging_fraction': 0.8681237345730459, 'bagging_freq': 1, 'min_child_samples': 59}. Best is trial 53 with value: 575.0116311563753.\u001b[0m\n",
      "[LightGBM] [Warning] feature_fraction is set=0.7281881297504996, colsample_bytree=1.0 will be ignored. Current value: feature_fraction=0.7281881297504996\n",
      "[LightGBM] [Warning] bagging_fraction is set=0.9283105053563857, subsample=1.0 will be ignored. Current value: bagging_fraction=0.9283105053563857\n",
      "[LightGBM] [Warning] bagging_freq is set=2, subsample_freq=0 will be ignored. Current value: bagging_freq=2\n"
     ]
    },
    {
     "name": "stderr",
     "output_type": "stream",
     "text": [
      "C:\\Users\\xfini\\AppData\\Local\\Temp\\ipykernel_20184\\981819043.py:18: FutureWarning: suggest_loguniform has been deprecated in v3.0.0. This feature will be removed in v6.0.0. See https://github.com/optuna/optuna/releases/tag/v3.0.0. Use :func:`~optuna.trial.Trial.suggest_float` instead.\n",
      "  'learning_rate': trial.suggest_loguniform('learning_rate', 0.001, 0.1),\n",
      "C:\\Users\\xfini\\AppData\\Local\\Temp\\ipykernel_20184\\981819043.py:21: FutureWarning: suggest_uniform has been deprecated in v3.0.0. This feature will be removed in v6.0.0. See https://github.com/optuna/optuna/releases/tag/v3.0.0. Use :func:`~optuna.trial.Trial.suggest_float` instead.\n",
      "  'feature_fraction': trial.suggest_uniform('feature_fraction', 0.1, 1.0),\n",
      "C:\\Users\\xfini\\AppData\\Local\\Temp\\ipykernel_20184\\981819043.py:22: FutureWarning: suggest_uniform has been deprecated in v3.0.0. This feature will be removed in v6.0.0. See https://github.com/optuna/optuna/releases/tag/v3.0.0. Use :func:`~optuna.trial.Trial.suggest_float` instead.\n",
      "  'bagging_fraction': trial.suggest_uniform('bagging_fraction', 0.1, 1.0),\n",
      "c:\\Users\\xfini\\anaconda3\\lib\\site-packages\\lightgbm\\sklearn.py:726: UserWarning: 'early_stopping_rounds' argument is deprecated and will be removed in a future release of LightGBM. Pass 'early_stopping()' callback via 'callbacks' argument instead.\n",
      "  _log_warning(\"'early_stopping_rounds' argument is deprecated and will be removed in a future release of LightGBM. \"\n",
      "c:\\Users\\xfini\\anaconda3\\lib\\site-packages\\lightgbm\\sklearn.py:736: UserWarning: 'verbose' argument is deprecated and will be removed in a future release of LightGBM. Pass 'log_evaluation()' callback via 'callbacks' argument instead.\n",
      "  _log_warning(\"'verbose' argument is deprecated and will be removed in a future release of LightGBM. \"\n"
     ]
    },
    {
     "name": "stdout",
     "output_type": "stream",
     "text": [
      "\u001b[32m[I 2023-02-24 15:03:09,676]\u001b[0m Trial 75 finished with value: 577.0258539718096 and parameters: {'learning_rate': 0.07304489392018619, 'num_leaves': 225, 'max_depth': 8, 'feature_fraction': 0.7281881297504996, 'bagging_fraction': 0.9283105053563857, 'bagging_freq': 2, 'min_child_samples': 80}. Best is trial 53 with value: 575.0116311563753.\u001b[0m\n",
      "[LightGBM] [Warning] feature_fraction is set=0.6750111467722554, colsample_bytree=1.0 will be ignored. Current value: feature_fraction=0.6750111467722554\n",
      "[LightGBM] [Warning] bagging_fraction is set=0.8385316305578512, subsample=1.0 will be ignored. Current value: bagging_fraction=0.8385316305578512\n",
      "[LightGBM] [Warning] bagging_freq is set=3, subsample_freq=0 will be ignored. Current value: bagging_freq=3\n"
     ]
    },
    {
     "name": "stderr",
     "output_type": "stream",
     "text": [
      "C:\\Users\\xfini\\AppData\\Local\\Temp\\ipykernel_20184\\981819043.py:18: FutureWarning: suggest_loguniform has been deprecated in v3.0.0. This feature will be removed in v6.0.0. See https://github.com/optuna/optuna/releases/tag/v3.0.0. Use :func:`~optuna.trial.Trial.suggest_float` instead.\n",
      "  'learning_rate': trial.suggest_loguniform('learning_rate', 0.001, 0.1),\n",
      "C:\\Users\\xfini\\AppData\\Local\\Temp\\ipykernel_20184\\981819043.py:21: FutureWarning: suggest_uniform has been deprecated in v3.0.0. This feature will be removed in v6.0.0. See https://github.com/optuna/optuna/releases/tag/v3.0.0. Use :func:`~optuna.trial.Trial.suggest_float` instead.\n",
      "  'feature_fraction': trial.suggest_uniform('feature_fraction', 0.1, 1.0),\n",
      "C:\\Users\\xfini\\AppData\\Local\\Temp\\ipykernel_20184\\981819043.py:22: FutureWarning: suggest_uniform has been deprecated in v3.0.0. This feature will be removed in v6.0.0. See https://github.com/optuna/optuna/releases/tag/v3.0.0. Use :func:`~optuna.trial.Trial.suggest_float` instead.\n",
      "  'bagging_fraction': trial.suggest_uniform('bagging_fraction', 0.1, 1.0),\n",
      "c:\\Users\\xfini\\anaconda3\\lib\\site-packages\\lightgbm\\sklearn.py:726: UserWarning: 'early_stopping_rounds' argument is deprecated and will be removed in a future release of LightGBM. Pass 'early_stopping()' callback via 'callbacks' argument instead.\n",
      "  _log_warning(\"'early_stopping_rounds' argument is deprecated and will be removed in a future release of LightGBM. \"\n",
      "c:\\Users\\xfini\\anaconda3\\lib\\site-packages\\lightgbm\\sklearn.py:736: UserWarning: 'verbose' argument is deprecated and will be removed in a future release of LightGBM. Pass 'log_evaluation()' callback via 'callbacks' argument instead.\n",
      "  _log_warning(\"'verbose' argument is deprecated and will be removed in a future release of LightGBM. \"\n"
     ]
    },
    {
     "name": "stdout",
     "output_type": "stream",
     "text": [
      "\u001b[32m[I 2023-02-24 15:03:10,614]\u001b[0m Trial 76 finished with value: 576.610828611329 and parameters: {'learning_rate': 0.07698210742606929, 'num_leaves': 219, 'max_depth': 9, 'feature_fraction': 0.6750111467722554, 'bagging_fraction': 0.8385316305578512, 'bagging_freq': 3, 'min_child_samples': 65}. Best is trial 53 with value: 575.0116311563753.\u001b[0m\n",
      "[LightGBM] [Warning] feature_fraction is set=0.8255898061463471, colsample_bytree=1.0 will be ignored. Current value: feature_fraction=0.8255898061463471\n",
      "[LightGBM] [Warning] bagging_fraction is set=0.7893284287080021, subsample=1.0 will be ignored. Current value: bagging_fraction=0.7893284287080021\n",
      "[LightGBM] [Warning] bagging_freq is set=4, subsample_freq=0 will be ignored. Current value: bagging_freq=4\n"
     ]
    },
    {
     "name": "stderr",
     "output_type": "stream",
     "text": [
      "C:\\Users\\xfini\\AppData\\Local\\Temp\\ipykernel_20184\\981819043.py:18: FutureWarning: suggest_loguniform has been deprecated in v3.0.0. This feature will be removed in v6.0.0. See https://github.com/optuna/optuna/releases/tag/v3.0.0. Use :func:`~optuna.trial.Trial.suggest_float` instead.\n",
      "  'learning_rate': trial.suggest_loguniform('learning_rate', 0.001, 0.1),\n",
      "C:\\Users\\xfini\\AppData\\Local\\Temp\\ipykernel_20184\\981819043.py:21: FutureWarning: suggest_uniform has been deprecated in v3.0.0. This feature will be removed in v6.0.0. See https://github.com/optuna/optuna/releases/tag/v3.0.0. Use :func:`~optuna.trial.Trial.suggest_float` instead.\n",
      "  'feature_fraction': trial.suggest_uniform('feature_fraction', 0.1, 1.0),\n",
      "C:\\Users\\xfini\\AppData\\Local\\Temp\\ipykernel_20184\\981819043.py:22: FutureWarning: suggest_uniform has been deprecated in v3.0.0. This feature will be removed in v6.0.0. See https://github.com/optuna/optuna/releases/tag/v3.0.0. Use :func:`~optuna.trial.Trial.suggest_float` instead.\n",
      "  'bagging_fraction': trial.suggest_uniform('bagging_fraction', 0.1, 1.0),\n",
      "c:\\Users\\xfini\\anaconda3\\lib\\site-packages\\lightgbm\\sklearn.py:726: UserWarning: 'early_stopping_rounds' argument is deprecated and will be removed in a future release of LightGBM. Pass 'early_stopping()' callback via 'callbacks' argument instead.\n",
      "  _log_warning(\"'early_stopping_rounds' argument is deprecated and will be removed in a future release of LightGBM. \"\n",
      "c:\\Users\\xfini\\anaconda3\\lib\\site-packages\\lightgbm\\sklearn.py:736: UserWarning: 'verbose' argument is deprecated and will be removed in a future release of LightGBM. Pass 'log_evaluation()' callback via 'callbacks' argument instead.\n",
      "  _log_warning(\"'verbose' argument is deprecated and will be removed in a future release of LightGBM. \"\n"
     ]
    },
    {
     "name": "stdout",
     "output_type": "stream",
     "text": [
      "\u001b[32m[I 2023-02-24 15:03:11,834]\u001b[0m Trial 77 finished with value: 578.757904837325 and parameters: {'learning_rate': 0.054317997332611556, 'num_leaves': 212, 'max_depth': 10, 'feature_fraction': 0.8255898061463471, 'bagging_fraction': 0.7893284287080021, 'bagging_freq': 4, 'min_child_samples': 75}. Best is trial 53 with value: 575.0116311563753.\u001b[0m\n",
      "[LightGBM] [Warning] feature_fraction is set=0.7966242057601951, colsample_bytree=1.0 will be ignored. Current value: feature_fraction=0.7966242057601951\n",
      "[LightGBM] [Warning] bagging_fraction is set=0.8982814753684447, subsample=1.0 will be ignored. Current value: bagging_fraction=0.8982814753684447\n",
      "[LightGBM] [Warning] bagging_freq is set=2, subsample_freq=0 will be ignored. Current value: bagging_freq=2\n"
     ]
    },
    {
     "name": "stderr",
     "output_type": "stream",
     "text": [
      "C:\\Users\\xfini\\AppData\\Local\\Temp\\ipykernel_20184\\981819043.py:18: FutureWarning: suggest_loguniform has been deprecated in v3.0.0. This feature will be removed in v6.0.0. See https://github.com/optuna/optuna/releases/tag/v3.0.0. Use :func:`~optuna.trial.Trial.suggest_float` instead.\n",
      "  'learning_rate': trial.suggest_loguniform('learning_rate', 0.001, 0.1),\n",
      "C:\\Users\\xfini\\AppData\\Local\\Temp\\ipykernel_20184\\981819043.py:21: FutureWarning: suggest_uniform has been deprecated in v3.0.0. This feature will be removed in v6.0.0. See https://github.com/optuna/optuna/releases/tag/v3.0.0. Use :func:`~optuna.trial.Trial.suggest_float` instead.\n",
      "  'feature_fraction': trial.suggest_uniform('feature_fraction', 0.1, 1.0),\n",
      "C:\\Users\\xfini\\AppData\\Local\\Temp\\ipykernel_20184\\981819043.py:22: FutureWarning: suggest_uniform has been deprecated in v3.0.0. This feature will be removed in v6.0.0. See https://github.com/optuna/optuna/releases/tag/v3.0.0. Use :func:`~optuna.trial.Trial.suggest_float` instead.\n",
      "  'bagging_fraction': trial.suggest_uniform('bagging_fraction', 0.1, 1.0),\n",
      "c:\\Users\\xfini\\anaconda3\\lib\\site-packages\\lightgbm\\sklearn.py:726: UserWarning: 'early_stopping_rounds' argument is deprecated and will be removed in a future release of LightGBM. Pass 'early_stopping()' callback via 'callbacks' argument instead.\n",
      "  _log_warning(\"'early_stopping_rounds' argument is deprecated and will be removed in a future release of LightGBM. \"\n",
      "c:\\Users\\xfini\\anaconda3\\lib\\site-packages\\lightgbm\\sklearn.py:736: UserWarning: 'verbose' argument is deprecated and will be removed in a future release of LightGBM. Pass 'log_evaluation()' callback via 'callbacks' argument instead.\n",
      "  _log_warning(\"'verbose' argument is deprecated and will be removed in a future release of LightGBM. \"\n"
     ]
    },
    {
     "name": "stdout",
     "output_type": "stream",
     "text": [
      "\u001b[32m[I 2023-02-24 15:03:12,888]\u001b[0m Trial 78 finished with value: 577.2515008054129 and parameters: {'learning_rate': 0.08982827566340995, 'num_leaves': 246, 'max_depth': 11, 'feature_fraction': 0.7966242057601951, 'bagging_fraction': 0.8982814753684447, 'bagging_freq': 2, 'min_child_samples': 62}. Best is trial 53 with value: 575.0116311563753.\u001b[0m\n",
      "[LightGBM] [Warning] feature_fraction is set=0.7132776183399111, colsample_bytree=1.0 will be ignored. Current value: feature_fraction=0.7132776183399111\n",
      "[LightGBM] [Warning] bagging_fraction is set=0.9395355259273054, subsample=1.0 will be ignored. Current value: bagging_fraction=0.9395355259273054\n",
      "[LightGBM] [Warning] bagging_freq is set=1, subsample_freq=0 will be ignored. Current value: bagging_freq=1\n"
     ]
    },
    {
     "name": "stderr",
     "output_type": "stream",
     "text": [
      "C:\\Users\\xfini\\AppData\\Local\\Temp\\ipykernel_20184\\981819043.py:18: FutureWarning: suggest_loguniform has been deprecated in v3.0.0. This feature will be removed in v6.0.0. See https://github.com/optuna/optuna/releases/tag/v3.0.0. Use :func:`~optuna.trial.Trial.suggest_float` instead.\n",
      "  'learning_rate': trial.suggest_loguniform('learning_rate', 0.001, 0.1),\n",
      "C:\\Users\\xfini\\AppData\\Local\\Temp\\ipykernel_20184\\981819043.py:21: FutureWarning: suggest_uniform has been deprecated in v3.0.0. This feature will be removed in v6.0.0. See https://github.com/optuna/optuna/releases/tag/v3.0.0. Use :func:`~optuna.trial.Trial.suggest_float` instead.\n",
      "  'feature_fraction': trial.suggest_uniform('feature_fraction', 0.1, 1.0),\n",
      "C:\\Users\\xfini\\AppData\\Local\\Temp\\ipykernel_20184\\981819043.py:22: FutureWarning: suggest_uniform has been deprecated in v3.0.0. This feature will be removed in v6.0.0. See https://github.com/optuna/optuna/releases/tag/v3.0.0. Use :func:`~optuna.trial.Trial.suggest_float` instead.\n",
      "  'bagging_fraction': trial.suggest_uniform('bagging_fraction', 0.1, 1.0),\n",
      "c:\\Users\\xfini\\anaconda3\\lib\\site-packages\\lightgbm\\sklearn.py:726: UserWarning: 'early_stopping_rounds' argument is deprecated and will be removed in a future release of LightGBM. Pass 'early_stopping()' callback via 'callbacks' argument instead.\n",
      "  _log_warning(\"'early_stopping_rounds' argument is deprecated and will be removed in a future release of LightGBM. \"\n",
      "c:\\Users\\xfini\\anaconda3\\lib\\site-packages\\lightgbm\\sklearn.py:736: UserWarning: 'verbose' argument is deprecated and will be removed in a future release of LightGBM. Pass 'log_evaluation()' callback via 'callbacks' argument instead.\n",
      "  _log_warning(\"'verbose' argument is deprecated and will be removed in a future release of LightGBM. \"\n"
     ]
    },
    {
     "name": "stdout",
     "output_type": "stream",
     "text": [
      "\u001b[32m[I 2023-02-24 15:03:14,026]\u001b[0m Trial 79 finished with value: 575.4810950417002 and parameters: {'learning_rate': 0.061144606182534096, 'num_leaves': 250, 'max_depth': 9, 'feature_fraction': 0.7132776183399111, 'bagging_fraction': 0.9395355259273054, 'bagging_freq': 1, 'min_child_samples': 57}. Best is trial 53 with value: 575.0116311563753.\u001b[0m\n",
      "[LightGBM] [Warning] feature_fraction is set=0.7093287189179439, colsample_bytree=1.0 will be ignored. Current value: feature_fraction=0.7093287189179439\n",
      "[LightGBM] [Warning] bagging_fraction is set=0.9329967171825775, subsample=1.0 will be ignored. Current value: bagging_fraction=0.9329967171825775\n",
      "[LightGBM] [Warning] bagging_freq is set=1, subsample_freq=0 will be ignored. Current value: bagging_freq=1\n"
     ]
    },
    {
     "name": "stderr",
     "output_type": "stream",
     "text": [
      "C:\\Users\\xfini\\AppData\\Local\\Temp\\ipykernel_20184\\981819043.py:18: FutureWarning: suggest_loguniform has been deprecated in v3.0.0. This feature will be removed in v6.0.0. See https://github.com/optuna/optuna/releases/tag/v3.0.0. Use :func:`~optuna.trial.Trial.suggest_float` instead.\n",
      "  'learning_rate': trial.suggest_loguniform('learning_rate', 0.001, 0.1),\n",
      "C:\\Users\\xfini\\AppData\\Local\\Temp\\ipykernel_20184\\981819043.py:21: FutureWarning: suggest_uniform has been deprecated in v3.0.0. This feature will be removed in v6.0.0. See https://github.com/optuna/optuna/releases/tag/v3.0.0. Use :func:`~optuna.trial.Trial.suggest_float` instead.\n",
      "  'feature_fraction': trial.suggest_uniform('feature_fraction', 0.1, 1.0),\n",
      "C:\\Users\\xfini\\AppData\\Local\\Temp\\ipykernel_20184\\981819043.py:22: FutureWarning: suggest_uniform has been deprecated in v3.0.0. This feature will be removed in v6.0.0. See https://github.com/optuna/optuna/releases/tag/v3.0.0. Use :func:`~optuna.trial.Trial.suggest_float` instead.\n",
      "  'bagging_fraction': trial.suggest_uniform('bagging_fraction', 0.1, 1.0),\n",
      "c:\\Users\\xfini\\anaconda3\\lib\\site-packages\\lightgbm\\sklearn.py:726: UserWarning: 'early_stopping_rounds' argument is deprecated and will be removed in a future release of LightGBM. Pass 'early_stopping()' callback via 'callbacks' argument instead.\n",
      "  _log_warning(\"'early_stopping_rounds' argument is deprecated and will be removed in a future release of LightGBM. \"\n",
      "c:\\Users\\xfini\\anaconda3\\lib\\site-packages\\lightgbm\\sklearn.py:736: UserWarning: 'verbose' argument is deprecated and will be removed in a future release of LightGBM. Pass 'log_evaluation()' callback via 'callbacks' argument instead.\n",
      "  _log_warning(\"'verbose' argument is deprecated and will be removed in a future release of LightGBM. \"\n"
     ]
    },
    {
     "name": "stdout",
     "output_type": "stream",
     "text": [
      "\u001b[32m[I 2023-02-24 15:03:14,717]\u001b[0m Trial 80 finished with value: 577.5389441870448 and parameters: {'learning_rate': 0.06385680081835397, 'num_leaves': 248, 'max_depth': 7, 'feature_fraction': 0.7093287189179439, 'bagging_fraction': 0.9329967171825775, 'bagging_freq': 1, 'min_child_samples': 57}. Best is trial 53 with value: 575.0116311563753.\u001b[0m\n",
      "[LightGBM] [Warning] feature_fraction is set=0.7419395923349802, colsample_bytree=1.0 will be ignored. Current value: feature_fraction=0.7419395923349802\n",
      "[LightGBM] [Warning] bagging_fraction is set=0.8686489108596571, subsample=1.0 will be ignored. Current value: bagging_fraction=0.8686489108596571\n",
      "[LightGBM] [Warning] bagging_freq is set=2, subsample_freq=0 will be ignored. Current value: bagging_freq=2\n"
     ]
    },
    {
     "name": "stderr",
     "output_type": "stream",
     "text": [
      "C:\\Users\\xfini\\AppData\\Local\\Temp\\ipykernel_20184\\981819043.py:18: FutureWarning: suggest_loguniform has been deprecated in v3.0.0. This feature will be removed in v6.0.0. See https://github.com/optuna/optuna/releases/tag/v3.0.0. Use :func:`~optuna.trial.Trial.suggest_float` instead.\n",
      "  'learning_rate': trial.suggest_loguniform('learning_rate', 0.001, 0.1),\n",
      "C:\\Users\\xfini\\AppData\\Local\\Temp\\ipykernel_20184\\981819043.py:21: FutureWarning: suggest_uniform has been deprecated in v3.0.0. This feature will be removed in v6.0.0. See https://github.com/optuna/optuna/releases/tag/v3.0.0. Use :func:`~optuna.trial.Trial.suggest_float` instead.\n",
      "  'feature_fraction': trial.suggest_uniform('feature_fraction', 0.1, 1.0),\n",
      "C:\\Users\\xfini\\AppData\\Local\\Temp\\ipykernel_20184\\981819043.py:22: FutureWarning: suggest_uniform has been deprecated in v3.0.0. This feature will be removed in v6.0.0. See https://github.com/optuna/optuna/releases/tag/v3.0.0. Use :func:`~optuna.trial.Trial.suggest_float` instead.\n",
      "  'bagging_fraction': trial.suggest_uniform('bagging_fraction', 0.1, 1.0),\n",
      "c:\\Users\\xfini\\anaconda3\\lib\\site-packages\\lightgbm\\sklearn.py:726: UserWarning: 'early_stopping_rounds' argument is deprecated and will be removed in a future release of LightGBM. Pass 'early_stopping()' callback via 'callbacks' argument instead.\n",
      "  _log_warning(\"'early_stopping_rounds' argument is deprecated and will be removed in a future release of LightGBM. \"\n",
      "c:\\Users\\xfini\\anaconda3\\lib\\site-packages\\lightgbm\\sklearn.py:736: UserWarning: 'verbose' argument is deprecated and will be removed in a future release of LightGBM. Pass 'log_evaluation()' callback via 'callbacks' argument instead.\n",
      "  _log_warning(\"'verbose' argument is deprecated and will be removed in a future release of LightGBM. \"\n"
     ]
    },
    {
     "name": "stdout",
     "output_type": "stream",
     "text": [
      "\u001b[32m[I 2023-02-24 15:03:16,081]\u001b[0m Trial 81 finished with value: 575.2679618730982 and parameters: {'learning_rate': 0.07629600299101273, 'num_leaves': 233, 'max_depth': 9, 'feature_fraction': 0.7419395923349802, 'bagging_fraction': 0.8686489108596571, 'bagging_freq': 2, 'min_child_samples': 52}. Best is trial 53 with value: 575.0116311563753.\u001b[0m\n",
      "[LightGBM] [Warning] feature_fraction is set=0.7344923459047977, colsample_bytree=1.0 will be ignored. Current value: feature_fraction=0.7344923459047977\n",
      "[LightGBM] [Warning] bagging_fraction is set=0.877548441976749, subsample=1.0 will be ignored. Current value: bagging_fraction=0.877548441976749\n",
      "[LightGBM] [Warning] bagging_freq is set=2, subsample_freq=0 will be ignored. Current value: bagging_freq=2\n"
     ]
    },
    {
     "name": "stderr",
     "output_type": "stream",
     "text": [
      "C:\\Users\\xfini\\AppData\\Local\\Temp\\ipykernel_20184\\981819043.py:18: FutureWarning: suggest_loguniform has been deprecated in v3.0.0. This feature will be removed in v6.0.0. See https://github.com/optuna/optuna/releases/tag/v3.0.0. Use :func:`~optuna.trial.Trial.suggest_float` instead.\n",
      "  'learning_rate': trial.suggest_loguniform('learning_rate', 0.001, 0.1),\n",
      "C:\\Users\\xfini\\AppData\\Local\\Temp\\ipykernel_20184\\981819043.py:21: FutureWarning: suggest_uniform has been deprecated in v3.0.0. This feature will be removed in v6.0.0. See https://github.com/optuna/optuna/releases/tag/v3.0.0. Use :func:`~optuna.trial.Trial.suggest_float` instead.\n",
      "  'feature_fraction': trial.suggest_uniform('feature_fraction', 0.1, 1.0),\n",
      "C:\\Users\\xfini\\AppData\\Local\\Temp\\ipykernel_20184\\981819043.py:22: FutureWarning: suggest_uniform has been deprecated in v3.0.0. This feature will be removed in v6.0.0. See https://github.com/optuna/optuna/releases/tag/v3.0.0. Use :func:`~optuna.trial.Trial.suggest_float` instead.\n",
      "  'bagging_fraction': trial.suggest_uniform('bagging_fraction', 0.1, 1.0),\n",
      "c:\\Users\\xfini\\anaconda3\\lib\\site-packages\\lightgbm\\sklearn.py:726: UserWarning: 'early_stopping_rounds' argument is deprecated and will be removed in a future release of LightGBM. Pass 'early_stopping()' callback via 'callbacks' argument instead.\n",
      "  _log_warning(\"'early_stopping_rounds' argument is deprecated and will be removed in a future release of LightGBM. \"\n",
      "c:\\Users\\xfini\\anaconda3\\lib\\site-packages\\lightgbm\\sklearn.py:736: UserWarning: 'verbose' argument is deprecated and will be removed in a future release of LightGBM. Pass 'log_evaluation()' callback via 'callbacks' argument instead.\n",
      "  _log_warning(\"'verbose' argument is deprecated and will be removed in a future release of LightGBM. \"\n"
     ]
    },
    {
     "name": "stdout",
     "output_type": "stream",
     "text": [
      "\u001b[32m[I 2023-02-24 15:03:17,578]\u001b[0m Trial 82 finished with value: 575.8542323846052 and parameters: {'learning_rate': 0.061463788267704725, 'num_leaves': 256, 'max_depth': 9, 'feature_fraction': 0.7344923459047977, 'bagging_fraction': 0.877548441976749, 'bagging_freq': 2, 'min_child_samples': 53}. Best is trial 53 with value: 575.0116311563753.\u001b[0m\n",
      "[LightGBM] [Warning] feature_fraction is set=0.6595351278277535, colsample_bytree=1.0 will be ignored. Current value: feature_fraction=0.6595351278277535\n",
      "[LightGBM] [Warning] bagging_fraction is set=0.944391184785915, subsample=1.0 will be ignored. Current value: bagging_fraction=0.944391184785915\n",
      "[LightGBM] [Warning] bagging_freq is set=2, subsample_freq=0 will be ignored. Current value: bagging_freq=2\n"
     ]
    },
    {
     "name": "stderr",
     "output_type": "stream",
     "text": [
      "C:\\Users\\xfini\\AppData\\Local\\Temp\\ipykernel_20184\\981819043.py:18: FutureWarning: suggest_loguniform has been deprecated in v3.0.0. This feature will be removed in v6.0.0. See https://github.com/optuna/optuna/releases/tag/v3.0.0. Use :func:`~optuna.trial.Trial.suggest_float` instead.\n",
      "  'learning_rate': trial.suggest_loguniform('learning_rate', 0.001, 0.1),\n",
      "C:\\Users\\xfini\\AppData\\Local\\Temp\\ipykernel_20184\\981819043.py:21: FutureWarning: suggest_uniform has been deprecated in v3.0.0. This feature will be removed in v6.0.0. See https://github.com/optuna/optuna/releases/tag/v3.0.0. Use :func:`~optuna.trial.Trial.suggest_float` instead.\n",
      "  'feature_fraction': trial.suggest_uniform('feature_fraction', 0.1, 1.0),\n",
      "C:\\Users\\xfini\\AppData\\Local\\Temp\\ipykernel_20184\\981819043.py:22: FutureWarning: suggest_uniform has been deprecated in v3.0.0. This feature will be removed in v6.0.0. See https://github.com/optuna/optuna/releases/tag/v3.0.0. Use :func:`~optuna.trial.Trial.suggest_float` instead.\n",
      "  'bagging_fraction': trial.suggest_uniform('bagging_fraction', 0.1, 1.0),\n",
      "c:\\Users\\xfini\\anaconda3\\lib\\site-packages\\lightgbm\\sklearn.py:726: UserWarning: 'early_stopping_rounds' argument is deprecated and will be removed in a future release of LightGBM. Pass 'early_stopping()' callback via 'callbacks' argument instead.\n",
      "  _log_warning(\"'early_stopping_rounds' argument is deprecated and will be removed in a future release of LightGBM. \"\n",
      "c:\\Users\\xfini\\anaconda3\\lib\\site-packages\\lightgbm\\sklearn.py:736: UserWarning: 'verbose' argument is deprecated and will be removed in a future release of LightGBM. Pass 'log_evaluation()' callback via 'callbacks' argument instead.\n",
      "  _log_warning(\"'verbose' argument is deprecated and will be removed in a future release of LightGBM. \"\n"
     ]
    },
    {
     "name": "stdout",
     "output_type": "stream",
     "text": [
      "\u001b[32m[I 2023-02-24 15:03:18,913]\u001b[0m Trial 83 finished with value: 584.3984332484417 and parameters: {'learning_rate': 0.04566046344706034, 'num_leaves': 236, 'max_depth': 8, 'feature_fraction': 0.6595351278277535, 'bagging_fraction': 0.944391184785915, 'bagging_freq': 2, 'min_child_samples': 58}. Best is trial 53 with value: 575.0116311563753.\u001b[0m\n",
      "[LightGBM] [Warning] feature_fraction is set=0.7382579048969572, colsample_bytree=1.0 will be ignored. Current value: feature_fraction=0.7382579048969572\n",
      "[LightGBM] [Warning] bagging_fraction is set=0.9799415786796116, subsample=1.0 will be ignored. Current value: bagging_fraction=0.9799415786796116\n",
      "[LightGBM] [Warning] bagging_freq is set=1, subsample_freq=0 will be ignored. Current value: bagging_freq=1\n"
     ]
    },
    {
     "name": "stderr",
     "output_type": "stream",
     "text": [
      "C:\\Users\\xfini\\AppData\\Local\\Temp\\ipykernel_20184\\981819043.py:18: FutureWarning: suggest_loguniform has been deprecated in v3.0.0. This feature will be removed in v6.0.0. See https://github.com/optuna/optuna/releases/tag/v3.0.0. Use :func:`~optuna.trial.Trial.suggest_float` instead.\n",
      "  'learning_rate': trial.suggest_loguniform('learning_rate', 0.001, 0.1),\n",
      "C:\\Users\\xfini\\AppData\\Local\\Temp\\ipykernel_20184\\981819043.py:21: FutureWarning: suggest_uniform has been deprecated in v3.0.0. This feature will be removed in v6.0.0. See https://github.com/optuna/optuna/releases/tag/v3.0.0. Use :func:`~optuna.trial.Trial.suggest_float` instead.\n",
      "  'feature_fraction': trial.suggest_uniform('feature_fraction', 0.1, 1.0),\n",
      "C:\\Users\\xfini\\AppData\\Local\\Temp\\ipykernel_20184\\981819043.py:22: FutureWarning: suggest_uniform has been deprecated in v3.0.0. This feature will be removed in v6.0.0. See https://github.com/optuna/optuna/releases/tag/v3.0.0. Use :func:`~optuna.trial.Trial.suggest_float` instead.\n",
      "  'bagging_fraction': trial.suggest_uniform('bagging_fraction', 0.1, 1.0),\n",
      "c:\\Users\\xfini\\anaconda3\\lib\\site-packages\\lightgbm\\sklearn.py:726: UserWarning: 'early_stopping_rounds' argument is deprecated and will be removed in a future release of LightGBM. Pass 'early_stopping()' callback via 'callbacks' argument instead.\n",
      "  _log_warning(\"'early_stopping_rounds' argument is deprecated and will be removed in a future release of LightGBM. \"\n",
      "c:\\Users\\xfini\\anaconda3\\lib\\site-packages\\lightgbm\\sklearn.py:736: UserWarning: 'verbose' argument is deprecated and will be removed in a future release of LightGBM. Pass 'log_evaluation()' callback via 'callbacks' argument instead.\n",
      "  _log_warning(\"'verbose' argument is deprecated and will be removed in a future release of LightGBM. \"\n"
     ]
    },
    {
     "name": "stdout",
     "output_type": "stream",
     "text": [
      "\u001b[32m[I 2023-02-24 15:03:19,970]\u001b[0m Trial 84 finished with value: 576.5538518000725 and parameters: {'learning_rate': 0.06184977093764767, 'num_leaves': 256, 'max_depth': 9, 'feature_fraction': 0.7382579048969572, 'bagging_fraction': 0.9799415786796116, 'bagging_freq': 1, 'min_child_samples': 67}. Best is trial 53 with value: 575.0116311563753.\u001b[0m\n",
      "[LightGBM] [Warning] feature_fraction is set=0.8488478449805812, colsample_bytree=1.0 will be ignored. Current value: feature_fraction=0.8488478449805812\n",
      "[LightGBM] [Warning] bagging_fraction is set=0.8913230970896705, subsample=1.0 will be ignored. Current value: bagging_fraction=0.8913230970896705\n",
      "[LightGBM] [Warning] bagging_freq is set=1, subsample_freq=0 will be ignored. Current value: bagging_freq=1\n"
     ]
    },
    {
     "name": "stderr",
     "output_type": "stream",
     "text": [
      "C:\\Users\\xfini\\AppData\\Local\\Temp\\ipykernel_20184\\981819043.py:18: FutureWarning: suggest_loguniform has been deprecated in v3.0.0. This feature will be removed in v6.0.0. See https://github.com/optuna/optuna/releases/tag/v3.0.0. Use :func:`~optuna.trial.Trial.suggest_float` instead.\n",
      "  'learning_rate': trial.suggest_loguniform('learning_rate', 0.001, 0.1),\n",
      "C:\\Users\\xfini\\AppData\\Local\\Temp\\ipykernel_20184\\981819043.py:21: FutureWarning: suggest_uniform has been deprecated in v3.0.0. This feature will be removed in v6.0.0. See https://github.com/optuna/optuna/releases/tag/v3.0.0. Use :func:`~optuna.trial.Trial.suggest_float` instead.\n",
      "  'feature_fraction': trial.suggest_uniform('feature_fraction', 0.1, 1.0),\n",
      "C:\\Users\\xfini\\AppData\\Local\\Temp\\ipykernel_20184\\981819043.py:22: FutureWarning: suggest_uniform has been deprecated in v3.0.0. This feature will be removed in v6.0.0. See https://github.com/optuna/optuna/releases/tag/v3.0.0. Use :func:`~optuna.trial.Trial.suggest_float` instead.\n",
      "  'bagging_fraction': trial.suggest_uniform('bagging_fraction', 0.1, 1.0),\n",
      "c:\\Users\\xfini\\anaconda3\\lib\\site-packages\\lightgbm\\sklearn.py:726: UserWarning: 'early_stopping_rounds' argument is deprecated and will be removed in a future release of LightGBM. Pass 'early_stopping()' callback via 'callbacks' argument instead.\n",
      "  _log_warning(\"'early_stopping_rounds' argument is deprecated and will be removed in a future release of LightGBM. \"\n",
      "c:\\Users\\xfini\\anaconda3\\lib\\site-packages\\lightgbm\\sklearn.py:736: UserWarning: 'verbose' argument is deprecated and will be removed in a future release of LightGBM. Pass 'log_evaluation()' callback via 'callbacks' argument instead.\n",
      "  _log_warning(\"'verbose' argument is deprecated and will be removed in a future release of LightGBM. \"\n"
     ]
    },
    {
     "name": "stdout",
     "output_type": "stream",
     "text": [
      "\u001b[32m[I 2023-02-24 15:03:21,124]\u001b[0m Trial 85 finished with value: 576.4019894355891 and parameters: {'learning_rate': 0.05472952068756551, 'num_leaves': 249, 'max_depth': 9, 'feature_fraction': 0.8488478449805812, 'bagging_fraction': 0.8913230970896705, 'bagging_freq': 1, 'min_child_samples': 53}. Best is trial 53 with value: 575.0116311563753.\u001b[0m\n",
      "[LightGBM] [Warning] feature_fraction is set=0.7461530350614192, colsample_bytree=1.0 will be ignored. Current value: feature_fraction=0.7461530350614192\n",
      "[LightGBM] [Warning] bagging_fraction is set=0.9161839138663777, subsample=1.0 will be ignored. Current value: bagging_fraction=0.9161839138663777\n",
      "[LightGBM] [Warning] bagging_freq is set=3, subsample_freq=0 will be ignored. Current value: bagging_freq=3\n"
     ]
    },
    {
     "name": "stderr",
     "output_type": "stream",
     "text": [
      "C:\\Users\\xfini\\AppData\\Local\\Temp\\ipykernel_20184\\981819043.py:18: FutureWarning: suggest_loguniform has been deprecated in v3.0.0. This feature will be removed in v6.0.0. See https://github.com/optuna/optuna/releases/tag/v3.0.0. Use :func:`~optuna.trial.Trial.suggest_float` instead.\n",
      "  'learning_rate': trial.suggest_loguniform('learning_rate', 0.001, 0.1),\n",
      "C:\\Users\\xfini\\AppData\\Local\\Temp\\ipykernel_20184\\981819043.py:21: FutureWarning: suggest_uniform has been deprecated in v3.0.0. This feature will be removed in v6.0.0. See https://github.com/optuna/optuna/releases/tag/v3.0.0. Use :func:`~optuna.trial.Trial.suggest_float` instead.\n",
      "  'feature_fraction': trial.suggest_uniform('feature_fraction', 0.1, 1.0),\n",
      "C:\\Users\\xfini\\AppData\\Local\\Temp\\ipykernel_20184\\981819043.py:22: FutureWarning: suggest_uniform has been deprecated in v3.0.0. This feature will be removed in v6.0.0. See https://github.com/optuna/optuna/releases/tag/v3.0.0. Use :func:`~optuna.trial.Trial.suggest_float` instead.\n",
      "  'bagging_fraction': trial.suggest_uniform('bagging_fraction', 0.1, 1.0),\n",
      "c:\\Users\\xfini\\anaconda3\\lib\\site-packages\\lightgbm\\sklearn.py:726: UserWarning: 'early_stopping_rounds' argument is deprecated and will be removed in a future release of LightGBM. Pass 'early_stopping()' callback via 'callbacks' argument instead.\n",
      "  _log_warning(\"'early_stopping_rounds' argument is deprecated and will be removed in a future release of LightGBM. \"\n",
      "c:\\Users\\xfini\\anaconda3\\lib\\site-packages\\lightgbm\\sklearn.py:736: UserWarning: 'verbose' argument is deprecated and will be removed in a future release of LightGBM. Pass 'log_evaluation()' callback via 'callbacks' argument instead.\n",
      "  _log_warning(\"'verbose' argument is deprecated and will be removed in a future release of LightGBM. \"\n"
     ]
    },
    {
     "name": "stdout",
     "output_type": "stream",
     "text": [
      "\u001b[32m[I 2023-02-24 15:03:22,047]\u001b[0m Trial 86 finished with value: 576.4341323712283 and parameters: {'learning_rate': 0.07593827907064071, 'num_leaves': 238, 'max_depth': 8, 'feature_fraction': 0.7461530350614192, 'bagging_fraction': 0.9161839138663777, 'bagging_freq': 3, 'min_child_samples': 63}. Best is trial 53 with value: 575.0116311563753.\u001b[0m\n",
      "[LightGBM] [Warning] feature_fraction is set=0.7747010684482775, colsample_bytree=1.0 will be ignored. Current value: feature_fraction=0.7747010684482775\n",
      "[LightGBM] [Warning] bagging_fraction is set=0.854638964193173, subsample=1.0 will be ignored. Current value: bagging_fraction=0.854638964193173\n",
      "[LightGBM] [Warning] bagging_freq is set=6, subsample_freq=0 will be ignored. Current value: bagging_freq=6\n"
     ]
    },
    {
     "name": "stderr",
     "output_type": "stream",
     "text": [
      "C:\\Users\\xfini\\AppData\\Local\\Temp\\ipykernel_20184\\981819043.py:18: FutureWarning: suggest_loguniform has been deprecated in v3.0.0. This feature will be removed in v6.0.0. See https://github.com/optuna/optuna/releases/tag/v3.0.0. Use :func:`~optuna.trial.Trial.suggest_float` instead.\n",
      "  'learning_rate': trial.suggest_loguniform('learning_rate', 0.001, 0.1),\n",
      "C:\\Users\\xfini\\AppData\\Local\\Temp\\ipykernel_20184\\981819043.py:21: FutureWarning: suggest_uniform has been deprecated in v3.0.0. This feature will be removed in v6.0.0. See https://github.com/optuna/optuna/releases/tag/v3.0.0. Use :func:`~optuna.trial.Trial.suggest_float` instead.\n",
      "  'feature_fraction': trial.suggest_uniform('feature_fraction', 0.1, 1.0),\n",
      "C:\\Users\\xfini\\AppData\\Local\\Temp\\ipykernel_20184\\981819043.py:22: FutureWarning: suggest_uniform has been deprecated in v3.0.0. This feature will be removed in v6.0.0. See https://github.com/optuna/optuna/releases/tag/v3.0.0. Use :func:`~optuna.trial.Trial.suggest_float` instead.\n",
      "  'bagging_fraction': trial.suggest_uniform('bagging_fraction', 0.1, 1.0),\n",
      "c:\\Users\\xfini\\anaconda3\\lib\\site-packages\\lightgbm\\sklearn.py:726: UserWarning: 'early_stopping_rounds' argument is deprecated and will be removed in a future release of LightGBM. Pass 'early_stopping()' callback via 'callbacks' argument instead.\n",
      "  _log_warning(\"'early_stopping_rounds' argument is deprecated and will be removed in a future release of LightGBM. \"\n",
      "c:\\Users\\xfini\\anaconda3\\lib\\site-packages\\lightgbm\\sklearn.py:736: UserWarning: 'verbose' argument is deprecated and will be removed in a future release of LightGBM. Pass 'log_evaluation()' callback via 'callbacks' argument instead.\n",
      "  _log_warning(\"'verbose' argument is deprecated and will be removed in a future release of LightGBM. \"\n"
     ]
    },
    {
     "name": "stdout",
     "output_type": "stream",
     "text": [
      "\u001b[32m[I 2023-02-24 15:03:23,083]\u001b[0m Trial 87 finished with value: 577.9280170760536 and parameters: {'learning_rate': 0.050423177181317294, 'num_leaves': 229, 'max_depth': 8, 'feature_fraction': 0.7747010684482775, 'bagging_fraction': 0.854638964193173, 'bagging_freq': 6, 'min_child_samples': 49}. Best is trial 53 with value: 575.0116311563753.\u001b[0m\n",
      "[LightGBM] [Warning] feature_fraction is set=0.7963856410508123, colsample_bytree=1.0 will be ignored. Current value: feature_fraction=0.7963856410508123\n",
      "[LightGBM] [Warning] bagging_fraction is set=0.9419685982138012, subsample=1.0 will be ignored. Current value: bagging_fraction=0.9419685982138012\n",
      "[LightGBM] [Warning] bagging_freq is set=2, subsample_freq=0 will be ignored. Current value: bagging_freq=2\n"
     ]
    },
    {
     "name": "stderr",
     "output_type": "stream",
     "text": [
      "C:\\Users\\xfini\\AppData\\Local\\Temp\\ipykernel_20184\\981819043.py:18: FutureWarning: suggest_loguniform has been deprecated in v3.0.0. This feature will be removed in v6.0.0. See https://github.com/optuna/optuna/releases/tag/v3.0.0. Use :func:`~optuna.trial.Trial.suggest_float` instead.\n",
      "  'learning_rate': trial.suggest_loguniform('learning_rate', 0.001, 0.1),\n",
      "C:\\Users\\xfini\\AppData\\Local\\Temp\\ipykernel_20184\\981819043.py:21: FutureWarning: suggest_uniform has been deprecated in v3.0.0. This feature will be removed in v6.0.0. See https://github.com/optuna/optuna/releases/tag/v3.0.0. Use :func:`~optuna.trial.Trial.suggest_float` instead.\n",
      "  'feature_fraction': trial.suggest_uniform('feature_fraction', 0.1, 1.0),\n",
      "C:\\Users\\xfini\\AppData\\Local\\Temp\\ipykernel_20184\\981819043.py:22: FutureWarning: suggest_uniform has been deprecated in v3.0.0. This feature will be removed in v6.0.0. See https://github.com/optuna/optuna/releases/tag/v3.0.0. Use :func:`~optuna.trial.Trial.suggest_float` instead.\n",
      "  'bagging_fraction': trial.suggest_uniform('bagging_fraction', 0.1, 1.0),\n",
      "c:\\Users\\xfini\\anaconda3\\lib\\site-packages\\lightgbm\\sklearn.py:726: UserWarning: 'early_stopping_rounds' argument is deprecated and will be removed in a future release of LightGBM. Pass 'early_stopping()' callback via 'callbacks' argument instead.\n",
      "  _log_warning(\"'early_stopping_rounds' argument is deprecated and will be removed in a future release of LightGBM. \"\n",
      "c:\\Users\\xfini\\anaconda3\\lib\\site-packages\\lightgbm\\sklearn.py:736: UserWarning: 'verbose' argument is deprecated and will be removed in a future release of LightGBM. Pass 'log_evaluation()' callback via 'callbacks' argument instead.\n",
      "  _log_warning(\"'verbose' argument is deprecated and will be removed in a future release of LightGBM. \"\n"
     ]
    },
    {
     "name": "stdout",
     "output_type": "stream",
     "text": [
      "\u001b[32m[I 2023-02-24 15:03:24,241]\u001b[0m Trial 88 finished with value: 576.8814671287993 and parameters: {'learning_rate': 0.06829655197411888, 'num_leaves': 223, 'max_depth': 9, 'feature_fraction': 0.7963856410508123, 'bagging_fraction': 0.9419685982138012, 'bagging_freq': 2, 'min_child_samples': 72}. Best is trial 53 with value: 575.0116311563753.\u001b[0m\n",
      "[LightGBM] [Warning] feature_fraction is set=0.6796206452276555, colsample_bytree=1.0 will be ignored. Current value: feature_fraction=0.6796206452276555\n",
      "[LightGBM] [Warning] bagging_fraction is set=0.8806142797861234, subsample=1.0 will be ignored. Current value: bagging_fraction=0.8806142797861234\n",
      "[LightGBM] [Warning] bagging_freq is set=4, subsample_freq=0 will be ignored. Current value: bagging_freq=4\n"
     ]
    },
    {
     "name": "stderr",
     "output_type": "stream",
     "text": [
      "C:\\Users\\xfini\\AppData\\Local\\Temp\\ipykernel_20184\\981819043.py:18: FutureWarning: suggest_loguniform has been deprecated in v3.0.0. This feature will be removed in v6.0.0. See https://github.com/optuna/optuna/releases/tag/v3.0.0. Use :func:`~optuna.trial.Trial.suggest_float` instead.\n",
      "  'learning_rate': trial.suggest_loguniform('learning_rate', 0.001, 0.1),\n",
      "C:\\Users\\xfini\\AppData\\Local\\Temp\\ipykernel_20184\\981819043.py:21: FutureWarning: suggest_uniform has been deprecated in v3.0.0. This feature will be removed in v6.0.0. See https://github.com/optuna/optuna/releases/tag/v3.0.0. Use :func:`~optuna.trial.Trial.suggest_float` instead.\n",
      "  'feature_fraction': trial.suggest_uniform('feature_fraction', 0.1, 1.0),\n",
      "C:\\Users\\xfini\\AppData\\Local\\Temp\\ipykernel_20184\\981819043.py:22: FutureWarning: suggest_uniform has been deprecated in v3.0.0. This feature will be removed in v6.0.0. See https://github.com/optuna/optuna/releases/tag/v3.0.0. Use :func:`~optuna.trial.Trial.suggest_float` instead.\n",
      "  'bagging_fraction': trial.suggest_uniform('bagging_fraction', 0.1, 1.0),\n",
      "c:\\Users\\xfini\\anaconda3\\lib\\site-packages\\lightgbm\\sklearn.py:726: UserWarning: 'early_stopping_rounds' argument is deprecated and will be removed in a future release of LightGBM. Pass 'early_stopping()' callback via 'callbacks' argument instead.\n",
      "  _log_warning(\"'early_stopping_rounds' argument is deprecated and will be removed in a future release of LightGBM. \"\n",
      "c:\\Users\\xfini\\anaconda3\\lib\\site-packages\\lightgbm\\sklearn.py:736: UserWarning: 'verbose' argument is deprecated and will be removed in a future release of LightGBM. Pass 'log_evaluation()' callback via 'callbacks' argument instead.\n",
      "  _log_warning(\"'verbose' argument is deprecated and will be removed in a future release of LightGBM. \"\n"
     ]
    },
    {
     "name": "stdout",
     "output_type": "stream",
     "text": [
      "\u001b[32m[I 2023-02-24 15:03:24,869]\u001b[0m Trial 89 finished with value: 623.4907692113612 and parameters: {'learning_rate': 0.0361592225707836, 'num_leaves': 167, 'max_depth': 6, 'feature_fraction': 0.6796206452276555, 'bagging_fraction': 0.8806142797861234, 'bagging_freq': 4, 'min_child_samples': 55}. Best is trial 53 with value: 575.0116311563753.\u001b[0m\n",
      "[LightGBM] [Warning] feature_fraction is set=0.7198217737925245, colsample_bytree=1.0 will be ignored. Current value: feature_fraction=0.7198217737925245\n",
      "[LightGBM] [Warning] bagging_fraction is set=0.8143539721780503, subsample=1.0 will be ignored. Current value: bagging_fraction=0.8143539721780503\n",
      "[LightGBM] [Warning] bagging_freq is set=1, subsample_freq=0 will be ignored. Current value: bagging_freq=1\n"
     ]
    },
    {
     "name": "stderr",
     "output_type": "stream",
     "text": [
      "C:\\Users\\xfini\\AppData\\Local\\Temp\\ipykernel_20184\\981819043.py:18: FutureWarning: suggest_loguniform has been deprecated in v3.0.0. This feature will be removed in v6.0.0. See https://github.com/optuna/optuna/releases/tag/v3.0.0. Use :func:`~optuna.trial.Trial.suggest_float` instead.\n",
      "  'learning_rate': trial.suggest_loguniform('learning_rate', 0.001, 0.1),\n",
      "C:\\Users\\xfini\\AppData\\Local\\Temp\\ipykernel_20184\\981819043.py:21: FutureWarning: suggest_uniform has been deprecated in v3.0.0. This feature will be removed in v6.0.0. See https://github.com/optuna/optuna/releases/tag/v3.0.0. Use :func:`~optuna.trial.Trial.suggest_float` instead.\n",
      "  'feature_fraction': trial.suggest_uniform('feature_fraction', 0.1, 1.0),\n",
      "C:\\Users\\xfini\\AppData\\Local\\Temp\\ipykernel_20184\\981819043.py:22: FutureWarning: suggest_uniform has been deprecated in v3.0.0. This feature will be removed in v6.0.0. See https://github.com/optuna/optuna/releases/tag/v3.0.0. Use :func:`~optuna.trial.Trial.suggest_float` instead.\n",
      "  'bagging_fraction': trial.suggest_uniform('bagging_fraction', 0.1, 1.0),\n",
      "c:\\Users\\xfini\\anaconda3\\lib\\site-packages\\lightgbm\\sklearn.py:726: UserWarning: 'early_stopping_rounds' argument is deprecated and will be removed in a future release of LightGBM. Pass 'early_stopping()' callback via 'callbacks' argument instead.\n",
      "  _log_warning(\"'early_stopping_rounds' argument is deprecated and will be removed in a future release of LightGBM. \"\n",
      "c:\\Users\\xfini\\anaconda3\\lib\\site-packages\\lightgbm\\sklearn.py:736: UserWarning: 'verbose' argument is deprecated and will be removed in a future release of LightGBM. Pass 'log_evaluation()' callback via 'callbacks' argument instead.\n",
      "  _log_warning(\"'verbose' argument is deprecated and will be removed in a future release of LightGBM. \"\n"
     ]
    },
    {
     "name": "stdout",
     "output_type": "stream",
     "text": [
      "\u001b[32m[I 2023-02-24 15:03:25,555]\u001b[0m Trial 90 finished with value: 579.004358320076 and parameters: {'learning_rate': 0.060836732534142755, 'num_leaves': 251, 'max_depth': 7, 'feature_fraction': 0.7198217737925245, 'bagging_fraction': 0.8143539721780503, 'bagging_freq': 1, 'min_child_samples': 61}. Best is trial 53 with value: 575.0116311563753.\u001b[0m\n",
      "[LightGBM] [Warning] feature_fraction is set=0.7061184323744796, colsample_bytree=1.0 will be ignored. Current value: feature_fraction=0.7061184323744796\n",
      "[LightGBM] [Warning] bagging_fraction is set=0.8657791052821697, subsample=1.0 will be ignored. Current value: bagging_fraction=0.8657791052821697\n",
      "[LightGBM] [Warning] bagging_freq is set=2, subsample_freq=0 will be ignored. Current value: bagging_freq=2\n"
     ]
    },
    {
     "name": "stderr",
     "output_type": "stream",
     "text": [
      "C:\\Users\\xfini\\AppData\\Local\\Temp\\ipykernel_20184\\981819043.py:18: FutureWarning: suggest_loguniform has been deprecated in v3.0.0. This feature will be removed in v6.0.0. See https://github.com/optuna/optuna/releases/tag/v3.0.0. Use :func:`~optuna.trial.Trial.suggest_float` instead.\n",
      "  'learning_rate': trial.suggest_loguniform('learning_rate', 0.001, 0.1),\n",
      "C:\\Users\\xfini\\AppData\\Local\\Temp\\ipykernel_20184\\981819043.py:21: FutureWarning: suggest_uniform has been deprecated in v3.0.0. This feature will be removed in v6.0.0. See https://github.com/optuna/optuna/releases/tag/v3.0.0. Use :func:`~optuna.trial.Trial.suggest_float` instead.\n",
      "  'feature_fraction': trial.suggest_uniform('feature_fraction', 0.1, 1.0),\n",
      "C:\\Users\\xfini\\AppData\\Local\\Temp\\ipykernel_20184\\981819043.py:22: FutureWarning: suggest_uniform has been deprecated in v3.0.0. This feature will be removed in v6.0.0. See https://github.com/optuna/optuna/releases/tag/v3.0.0. Use :func:`~optuna.trial.Trial.suggest_float` instead.\n",
      "  'bagging_fraction': trial.suggest_uniform('bagging_fraction', 0.1, 1.0),\n",
      "c:\\Users\\xfini\\anaconda3\\lib\\site-packages\\lightgbm\\sklearn.py:726: UserWarning: 'early_stopping_rounds' argument is deprecated and will be removed in a future release of LightGBM. Pass 'early_stopping()' callback via 'callbacks' argument instead.\n",
      "  _log_warning(\"'early_stopping_rounds' argument is deprecated and will be removed in a future release of LightGBM. \"\n",
      "c:\\Users\\xfini\\anaconda3\\lib\\site-packages\\lightgbm\\sklearn.py:736: UserWarning: 'verbose' argument is deprecated and will be removed in a future release of LightGBM. Pass 'log_evaluation()' callback via 'callbacks' argument instead.\n",
      "  _log_warning(\"'verbose' argument is deprecated and will be removed in a future release of LightGBM. \"\n"
     ]
    },
    {
     "name": "stdout",
     "output_type": "stream",
     "text": [
      "\u001b[32m[I 2023-02-24 15:03:26,445]\u001b[0m Trial 91 finished with value: 575.8428940485003 and parameters: {'learning_rate': 0.08819362214576498, 'num_leaves': 194, 'max_depth': 10, 'feature_fraction': 0.7061184323744796, 'bagging_fraction': 0.8657791052821697, 'bagging_freq': 2, 'min_child_samples': 51}. Best is trial 53 with value: 575.0116311563753.\u001b[0m\n",
      "[LightGBM] [Warning] feature_fraction is set=0.7381922065534862, colsample_bytree=1.0 will be ignored. Current value: feature_fraction=0.7381922065534862\n",
      "[LightGBM] [Warning] bagging_fraction is set=0.9078456682165362, subsample=1.0 will be ignored. Current value: bagging_fraction=0.9078456682165362\n",
      "[LightGBM] [Warning] bagging_freq is set=2, subsample_freq=0 will be ignored. Current value: bagging_freq=2\n"
     ]
    },
    {
     "name": "stderr",
     "output_type": "stream",
     "text": [
      "C:\\Users\\xfini\\AppData\\Local\\Temp\\ipykernel_20184\\981819043.py:18: FutureWarning: suggest_loguniform has been deprecated in v3.0.0. This feature will be removed in v6.0.0. See https://github.com/optuna/optuna/releases/tag/v3.0.0. Use :func:`~optuna.trial.Trial.suggest_float` instead.\n",
      "  'learning_rate': trial.suggest_loguniform('learning_rate', 0.001, 0.1),\n",
      "C:\\Users\\xfini\\AppData\\Local\\Temp\\ipykernel_20184\\981819043.py:21: FutureWarning: suggest_uniform has been deprecated in v3.0.0. This feature will be removed in v6.0.0. See https://github.com/optuna/optuna/releases/tag/v3.0.0. Use :func:`~optuna.trial.Trial.suggest_float` instead.\n",
      "  'feature_fraction': trial.suggest_uniform('feature_fraction', 0.1, 1.0),\n",
      "C:\\Users\\xfini\\AppData\\Local\\Temp\\ipykernel_20184\\981819043.py:22: FutureWarning: suggest_uniform has been deprecated in v3.0.0. This feature will be removed in v6.0.0. See https://github.com/optuna/optuna/releases/tag/v3.0.0. Use :func:`~optuna.trial.Trial.suggest_float` instead.\n",
      "  'bagging_fraction': trial.suggest_uniform('bagging_fraction', 0.1, 1.0),\n",
      "c:\\Users\\xfini\\anaconda3\\lib\\site-packages\\lightgbm\\sklearn.py:726: UserWarning: 'early_stopping_rounds' argument is deprecated and will be removed in a future release of LightGBM. Pass 'early_stopping()' callback via 'callbacks' argument instead.\n",
      "  _log_warning(\"'early_stopping_rounds' argument is deprecated and will be removed in a future release of LightGBM. \"\n",
      "c:\\Users\\xfini\\anaconda3\\lib\\site-packages\\lightgbm\\sklearn.py:736: UserWarning: 'verbose' argument is deprecated and will be removed in a future release of LightGBM. Pass 'log_evaluation()' callback via 'callbacks' argument instead.\n",
      "  _log_warning(\"'verbose' argument is deprecated and will be removed in a future release of LightGBM. \"\n"
     ]
    },
    {
     "name": "stdout",
     "output_type": "stream",
     "text": [
      "\u001b[32m[I 2023-02-24 15:03:27,439]\u001b[0m Trial 92 finished with value: 575.7795880376365 and parameters: {'learning_rate': 0.07737544434261778, 'num_leaves': 238, 'max_depth': 9, 'feature_fraction': 0.7381922065534862, 'bagging_fraction': 0.9078456682165362, 'bagging_freq': 2, 'min_child_samples': 53}. Best is trial 53 with value: 575.0116311563753.\u001b[0m\n",
      "[LightGBM] [Warning] feature_fraction is set=0.7590877596274821, colsample_bytree=1.0 will be ignored. Current value: feature_fraction=0.7590877596274821\n",
      "[LightGBM] [Warning] bagging_fraction is set=0.9853049565910058, subsample=1.0 will be ignored. Current value: bagging_fraction=0.9853049565910058\n",
      "[LightGBM] [Warning] bagging_freq is set=2, subsample_freq=0 will be ignored. Current value: bagging_freq=2\n"
     ]
    },
    {
     "name": "stderr",
     "output_type": "stream",
     "text": [
      "C:\\Users\\xfini\\AppData\\Local\\Temp\\ipykernel_20184\\981819043.py:18: FutureWarning: suggest_loguniform has been deprecated in v3.0.0. This feature will be removed in v6.0.0. See https://github.com/optuna/optuna/releases/tag/v3.0.0. Use :func:`~optuna.trial.Trial.suggest_float` instead.\n",
      "  'learning_rate': trial.suggest_loguniform('learning_rate', 0.001, 0.1),\n",
      "C:\\Users\\xfini\\AppData\\Local\\Temp\\ipykernel_20184\\981819043.py:21: FutureWarning: suggest_uniform has been deprecated in v3.0.0. This feature will be removed in v6.0.0. See https://github.com/optuna/optuna/releases/tag/v3.0.0. Use :func:`~optuna.trial.Trial.suggest_float` instead.\n",
      "  'feature_fraction': trial.suggest_uniform('feature_fraction', 0.1, 1.0),\n",
      "C:\\Users\\xfini\\AppData\\Local\\Temp\\ipykernel_20184\\981819043.py:22: FutureWarning: suggest_uniform has been deprecated in v3.0.0. This feature will be removed in v6.0.0. See https://github.com/optuna/optuna/releases/tag/v3.0.0. Use :func:`~optuna.trial.Trial.suggest_float` instead.\n",
      "  'bagging_fraction': trial.suggest_uniform('bagging_fraction', 0.1, 1.0),\n",
      "c:\\Users\\xfini\\anaconda3\\lib\\site-packages\\lightgbm\\sklearn.py:726: UserWarning: 'early_stopping_rounds' argument is deprecated and will be removed in a future release of LightGBM. Pass 'early_stopping()' callback via 'callbacks' argument instead.\n",
      "  _log_warning(\"'early_stopping_rounds' argument is deprecated and will be removed in a future release of LightGBM. \"\n",
      "c:\\Users\\xfini\\anaconda3\\lib\\site-packages\\lightgbm\\sklearn.py:736: UserWarning: 'verbose' argument is deprecated and will be removed in a future release of LightGBM. Pass 'log_evaluation()' callback via 'callbacks' argument instead.\n",
      "  _log_warning(\"'verbose' argument is deprecated and will be removed in a future release of LightGBM. \"\n"
     ]
    },
    {
     "name": "stdout",
     "output_type": "stream",
     "text": [
      "\u001b[32m[I 2023-02-24 15:03:28,544]\u001b[0m Trial 93 finished with value: 575.4820823788955 and parameters: {'learning_rate': 0.0768910402552803, 'num_leaves': 238, 'max_depth': 9, 'feature_fraction': 0.7590877596274821, 'bagging_fraction': 0.9853049565910058, 'bagging_freq': 2, 'min_child_samples': 53}. Best is trial 53 with value: 575.0116311563753.\u001b[0m\n",
      "[LightGBM] [Warning] feature_fraction is set=0.7568143952710062, colsample_bytree=1.0 will be ignored. Current value: feature_fraction=0.7568143952710062\n",
      "[LightGBM] [Warning] bagging_fraction is set=0.9863423718002042, subsample=1.0 will be ignored. Current value: bagging_fraction=0.9863423718002042\n",
      "[LightGBM] [Warning] bagging_freq is set=3, subsample_freq=0 will be ignored. Current value: bagging_freq=3\n"
     ]
    },
    {
     "name": "stderr",
     "output_type": "stream",
     "text": [
      "C:\\Users\\xfini\\AppData\\Local\\Temp\\ipykernel_20184\\981819043.py:18: FutureWarning: suggest_loguniform has been deprecated in v3.0.0. This feature will be removed in v6.0.0. See https://github.com/optuna/optuna/releases/tag/v3.0.0. Use :func:`~optuna.trial.Trial.suggest_float` instead.\n",
      "  'learning_rate': trial.suggest_loguniform('learning_rate', 0.001, 0.1),\n",
      "C:\\Users\\xfini\\AppData\\Local\\Temp\\ipykernel_20184\\981819043.py:21: FutureWarning: suggest_uniform has been deprecated in v3.0.0. This feature will be removed in v6.0.0. See https://github.com/optuna/optuna/releases/tag/v3.0.0. Use :func:`~optuna.trial.Trial.suggest_float` instead.\n",
      "  'feature_fraction': trial.suggest_uniform('feature_fraction', 0.1, 1.0),\n",
      "C:\\Users\\xfini\\AppData\\Local\\Temp\\ipykernel_20184\\981819043.py:22: FutureWarning: suggest_uniform has been deprecated in v3.0.0. This feature will be removed in v6.0.0. See https://github.com/optuna/optuna/releases/tag/v3.0.0. Use :func:`~optuna.trial.Trial.suggest_float` instead.\n",
      "  'bagging_fraction': trial.suggest_uniform('bagging_fraction', 0.1, 1.0),\n",
      "c:\\Users\\xfini\\anaconda3\\lib\\site-packages\\lightgbm\\sklearn.py:726: UserWarning: 'early_stopping_rounds' argument is deprecated and will be removed in a future release of LightGBM. Pass 'early_stopping()' callback via 'callbacks' argument instead.\n",
      "  _log_warning(\"'early_stopping_rounds' argument is deprecated and will be removed in a future release of LightGBM. \"\n",
      "c:\\Users\\xfini\\anaconda3\\lib\\site-packages\\lightgbm\\sklearn.py:736: UserWarning: 'verbose' argument is deprecated and will be removed in a future release of LightGBM. Pass 'log_evaluation()' callback via 'callbacks' argument instead.\n",
      "  _log_warning(\"'verbose' argument is deprecated and will be removed in a future release of LightGBM. \"\n"
     ]
    },
    {
     "name": "stdout",
     "output_type": "stream",
     "text": [
      "\u001b[32m[I 2023-02-24 15:03:29,490]\u001b[0m Trial 94 finished with value: 575.8752893126627 and parameters: {'learning_rate': 0.077336963084857, 'num_leaves': 193, 'max_depth': 9, 'feature_fraction': 0.7568143952710062, 'bagging_fraction': 0.9863423718002042, 'bagging_freq': 3, 'min_child_samples': 46}. Best is trial 53 with value: 575.0116311563753.\u001b[0m\n",
      "[LightGBM] [Warning] feature_fraction is set=0.6408285437837121, colsample_bytree=1.0 will be ignored. Current value: feature_fraction=0.6408285437837121\n",
      "[LightGBM] [Warning] bagging_fraction is set=0.9549902944031092, subsample=1.0 will be ignored. Current value: bagging_fraction=0.9549902944031092\n",
      "[LightGBM] [Warning] bagging_freq is set=2, subsample_freq=0 will be ignored. Current value: bagging_freq=2\n"
     ]
    },
    {
     "name": "stderr",
     "output_type": "stream",
     "text": [
      "C:\\Users\\xfini\\AppData\\Local\\Temp\\ipykernel_20184\\981819043.py:18: FutureWarning: suggest_loguniform has been deprecated in v3.0.0. This feature will be removed in v6.0.0. See https://github.com/optuna/optuna/releases/tag/v3.0.0. Use :func:`~optuna.trial.Trial.suggest_float` instead.\n",
      "  'learning_rate': trial.suggest_loguniform('learning_rate', 0.001, 0.1),\n",
      "C:\\Users\\xfini\\AppData\\Local\\Temp\\ipykernel_20184\\981819043.py:21: FutureWarning: suggest_uniform has been deprecated in v3.0.0. This feature will be removed in v6.0.0. See https://github.com/optuna/optuna/releases/tag/v3.0.0. Use :func:`~optuna.trial.Trial.suggest_float` instead.\n",
      "  'feature_fraction': trial.suggest_uniform('feature_fraction', 0.1, 1.0),\n",
      "C:\\Users\\xfini\\AppData\\Local\\Temp\\ipykernel_20184\\981819043.py:22: FutureWarning: suggest_uniform has been deprecated in v3.0.0. This feature will be removed in v6.0.0. See https://github.com/optuna/optuna/releases/tag/v3.0.0. Use :func:`~optuna.trial.Trial.suggest_float` instead.\n",
      "  'bagging_fraction': trial.suggest_uniform('bagging_fraction', 0.1, 1.0),\n",
      "c:\\Users\\xfini\\anaconda3\\lib\\site-packages\\lightgbm\\sklearn.py:726: UserWarning: 'early_stopping_rounds' argument is deprecated and will be removed in a future release of LightGBM. Pass 'early_stopping()' callback via 'callbacks' argument instead.\n",
      "  _log_warning(\"'early_stopping_rounds' argument is deprecated and will be removed in a future release of LightGBM. \"\n",
      "c:\\Users\\xfini\\anaconda3\\lib\\site-packages\\lightgbm\\sklearn.py:736: UserWarning: 'verbose' argument is deprecated and will be removed in a future release of LightGBM. Pass 'log_evaluation()' callback via 'callbacks' argument instead.\n",
      "  _log_warning(\"'verbose' argument is deprecated and will be removed in a future release of LightGBM. \"\n"
     ]
    },
    {
     "name": "stdout",
     "output_type": "stream",
     "text": [
      "\u001b[32m[I 2023-02-24 15:03:30,496]\u001b[0m Trial 95 finished with value: 574.8670283723159 and parameters: {'learning_rate': 0.07458207650542861, 'num_leaves': 230, 'max_depth': 8, 'feature_fraction': 0.6408285437837121, 'bagging_fraction': 0.9549902944031092, 'bagging_freq': 2, 'min_child_samples': 30}. Best is trial 95 with value: 574.8670283723159.\u001b[0m\n",
      "[LightGBM] [Warning] feature_fraction is set=0.6766256306818597, colsample_bytree=1.0 will be ignored. Current value: feature_fraction=0.6766256306818597\n",
      "[LightGBM] [Warning] bagging_fraction is set=0.957289418366747, subsample=1.0 will be ignored. Current value: bagging_fraction=0.957289418366747\n",
      "[LightGBM] [Warning] bagging_freq is set=2, subsample_freq=0 will be ignored. Current value: bagging_freq=2\n"
     ]
    },
    {
     "name": "stderr",
     "output_type": "stream",
     "text": [
      "C:\\Users\\xfini\\AppData\\Local\\Temp\\ipykernel_20184\\981819043.py:18: FutureWarning: suggest_loguniform has been deprecated in v3.0.0. This feature will be removed in v6.0.0. See https://github.com/optuna/optuna/releases/tag/v3.0.0. Use :func:`~optuna.trial.Trial.suggest_float` instead.\n",
      "  'learning_rate': trial.suggest_loguniform('learning_rate', 0.001, 0.1),\n",
      "C:\\Users\\xfini\\AppData\\Local\\Temp\\ipykernel_20184\\981819043.py:21: FutureWarning: suggest_uniform has been deprecated in v3.0.0. This feature will be removed in v6.0.0. See https://github.com/optuna/optuna/releases/tag/v3.0.0. Use :func:`~optuna.trial.Trial.suggest_float` instead.\n",
      "  'feature_fraction': trial.suggest_uniform('feature_fraction', 0.1, 1.0),\n",
      "C:\\Users\\xfini\\AppData\\Local\\Temp\\ipykernel_20184\\981819043.py:22: FutureWarning: suggest_uniform has been deprecated in v3.0.0. This feature will be removed in v6.0.0. See https://github.com/optuna/optuna/releases/tag/v3.0.0. Use :func:`~optuna.trial.Trial.suggest_float` instead.\n",
      "  'bagging_fraction': trial.suggest_uniform('bagging_fraction', 0.1, 1.0),\n",
      "c:\\Users\\xfini\\anaconda3\\lib\\site-packages\\lightgbm\\sklearn.py:726: UserWarning: 'early_stopping_rounds' argument is deprecated and will be removed in a future release of LightGBM. Pass 'early_stopping()' callback via 'callbacks' argument instead.\n",
      "  _log_warning(\"'early_stopping_rounds' argument is deprecated and will be removed in a future release of LightGBM. \"\n",
      "c:\\Users\\xfini\\anaconda3\\lib\\site-packages\\lightgbm\\sklearn.py:736: UserWarning: 'verbose' argument is deprecated and will be removed in a future release of LightGBM. Pass 'log_evaluation()' callback via 'callbacks' argument instead.\n",
      "  _log_warning(\"'verbose' argument is deprecated and will be removed in a future release of LightGBM. \"\n"
     ]
    },
    {
     "name": "stdout",
     "output_type": "stream",
     "text": [
      "\u001b[32m[I 2023-02-24 15:03:31,727]\u001b[0m Trial 96 finished with value: 574.6350343607693 and parameters: {'learning_rate': 0.07202705691209128, 'num_leaves': 230, 'max_depth': 8, 'feature_fraction': 0.6766256306818597, 'bagging_fraction': 0.957289418366747, 'bagging_freq': 2, 'min_child_samples': 29}. Best is trial 96 with value: 574.6350343607693.\u001b[0m\n",
      "[LightGBM] [Warning] feature_fraction is set=0.6345732985269069, colsample_bytree=1.0 will be ignored. Current value: feature_fraction=0.6345732985269069\n",
      "[LightGBM] [Warning] bagging_fraction is set=0.96095438162088, subsample=1.0 will be ignored. Current value: bagging_fraction=0.96095438162088\n",
      "[LightGBM] [Warning] bagging_freq is set=3, subsample_freq=0 will be ignored. Current value: bagging_freq=3\n"
     ]
    },
    {
     "name": "stderr",
     "output_type": "stream",
     "text": [
      "C:\\Users\\xfini\\AppData\\Local\\Temp\\ipykernel_20184\\981819043.py:18: FutureWarning: suggest_loguniform has been deprecated in v3.0.0. This feature will be removed in v6.0.0. See https://github.com/optuna/optuna/releases/tag/v3.0.0. Use :func:`~optuna.trial.Trial.suggest_float` instead.\n",
      "  'learning_rate': trial.suggest_loguniform('learning_rate', 0.001, 0.1),\n",
      "C:\\Users\\xfini\\AppData\\Local\\Temp\\ipykernel_20184\\981819043.py:21: FutureWarning: suggest_uniform has been deprecated in v3.0.0. This feature will be removed in v6.0.0. See https://github.com/optuna/optuna/releases/tag/v3.0.0. Use :func:`~optuna.trial.Trial.suggest_float` instead.\n",
      "  'feature_fraction': trial.suggest_uniform('feature_fraction', 0.1, 1.0),\n",
      "C:\\Users\\xfini\\AppData\\Local\\Temp\\ipykernel_20184\\981819043.py:22: FutureWarning: suggest_uniform has been deprecated in v3.0.0. This feature will be removed in v6.0.0. See https://github.com/optuna/optuna/releases/tag/v3.0.0. Use :func:`~optuna.trial.Trial.suggest_float` instead.\n",
      "  'bagging_fraction': trial.suggest_uniform('bagging_fraction', 0.1, 1.0),\n",
      "c:\\Users\\xfini\\anaconda3\\lib\\site-packages\\lightgbm\\sklearn.py:726: UserWarning: 'early_stopping_rounds' argument is deprecated and will be removed in a future release of LightGBM. Pass 'early_stopping()' callback via 'callbacks' argument instead.\n",
      "  _log_warning(\"'early_stopping_rounds' argument is deprecated and will be removed in a future release of LightGBM. \"\n",
      "c:\\Users\\xfini\\anaconda3\\lib\\site-packages\\lightgbm\\sklearn.py:736: UserWarning: 'verbose' argument is deprecated and will be removed in a future release of LightGBM. Pass 'log_evaluation()' callback via 'callbacks' argument instead.\n",
      "  _log_warning(\"'verbose' argument is deprecated and will be removed in a future release of LightGBM. \"\n"
     ]
    },
    {
     "name": "stdout",
     "output_type": "stream",
     "text": [
      "\u001b[32m[I 2023-02-24 15:03:32,688]\u001b[0m Trial 97 finished with value: 576.308799135231 and parameters: {'learning_rate': 0.0697809535581356, 'num_leaves': 229, 'max_depth': 7, 'feature_fraction': 0.6345732985269069, 'bagging_fraction': 0.96095438162088, 'bagging_freq': 3, 'min_child_samples': 31}. Best is trial 96 with value: 574.6350343607693.\u001b[0m\n",
      "[LightGBM] [Warning] feature_fraction is set=0.6766072127412325, colsample_bytree=1.0 will be ignored. Current value: feature_fraction=0.6766072127412325\n",
      "[LightGBM] [Warning] bagging_fraction is set=0.9475247523204913, subsample=1.0 will be ignored. Current value: bagging_fraction=0.9475247523204913\n",
      "[LightGBM] [Warning] bagging_freq is set=2, subsample_freq=0 will be ignored. Current value: bagging_freq=2\n"
     ]
    },
    {
     "name": "stderr",
     "output_type": "stream",
     "text": [
      "C:\\Users\\xfini\\AppData\\Local\\Temp\\ipykernel_20184\\981819043.py:18: FutureWarning: suggest_loguniform has been deprecated in v3.0.0. This feature will be removed in v6.0.0. See https://github.com/optuna/optuna/releases/tag/v3.0.0. Use :func:`~optuna.trial.Trial.suggest_float` instead.\n",
      "  'learning_rate': trial.suggest_loguniform('learning_rate', 0.001, 0.1),\n",
      "C:\\Users\\xfini\\AppData\\Local\\Temp\\ipykernel_20184\\981819043.py:21: FutureWarning: suggest_uniform has been deprecated in v3.0.0. This feature will be removed in v6.0.0. See https://github.com/optuna/optuna/releases/tag/v3.0.0. Use :func:`~optuna.trial.Trial.suggest_float` instead.\n",
      "  'feature_fraction': trial.suggest_uniform('feature_fraction', 0.1, 1.0),\n",
      "C:\\Users\\xfini\\AppData\\Local\\Temp\\ipykernel_20184\\981819043.py:22: FutureWarning: suggest_uniform has been deprecated in v3.0.0. This feature will be removed in v6.0.0. See https://github.com/optuna/optuna/releases/tag/v3.0.0. Use :func:`~optuna.trial.Trial.suggest_float` instead.\n",
      "  'bagging_fraction': trial.suggest_uniform('bagging_fraction', 0.1, 1.0),\n",
      "c:\\Users\\xfini\\anaconda3\\lib\\site-packages\\lightgbm\\sklearn.py:726: UserWarning: 'early_stopping_rounds' argument is deprecated and will be removed in a future release of LightGBM. Pass 'early_stopping()' callback via 'callbacks' argument instead.\n",
      "  _log_warning(\"'early_stopping_rounds' argument is deprecated and will be removed in a future release of LightGBM. \"\n",
      "c:\\Users\\xfini\\anaconda3\\lib\\site-packages\\lightgbm\\sklearn.py:736: UserWarning: 'verbose' argument is deprecated and will be removed in a future release of LightGBM. Pass 'log_evaluation()' callback via 'callbacks' argument instead.\n",
      "  _log_warning(\"'verbose' argument is deprecated and will be removed in a future release of LightGBM. \"\n"
     ]
    },
    {
     "name": "stdout",
     "output_type": "stream",
     "text": [
      "\u001b[32m[I 2023-02-24 15:03:33,879]\u001b[0m Trial 98 finished with value: 578.9970638532509 and parameters: {'learning_rate': 0.05037364447288892, 'num_leaves': 139, 'max_depth': 8, 'feature_fraction': 0.6766072127412325, 'bagging_fraction': 0.9475247523204913, 'bagging_freq': 2, 'min_child_samples': 23}. Best is trial 96 with value: 574.6350343607693.\u001b[0m\n",
      "[LightGBM] [Warning] feature_fraction is set=0.6523996952023026, colsample_bytree=1.0 will be ignored. Current value: feature_fraction=0.6523996952023026\n",
      "[LightGBM] [Warning] bagging_fraction is set=0.9885672452460625, subsample=1.0 will be ignored. Current value: bagging_fraction=0.9885672452460625\n",
      "[LightGBM] [Warning] bagging_freq is set=5, subsample_freq=0 will be ignored. Current value: bagging_freq=5\n"
     ]
    },
    {
     "name": "stderr",
     "output_type": "stream",
     "text": [
      "C:\\Users\\xfini\\AppData\\Local\\Temp\\ipykernel_20184\\981819043.py:18: FutureWarning: suggest_loguniform has been deprecated in v3.0.0. This feature will be removed in v6.0.0. See https://github.com/optuna/optuna/releases/tag/v3.0.0. Use :func:`~optuna.trial.Trial.suggest_float` instead.\n",
      "  'learning_rate': trial.suggest_loguniform('learning_rate', 0.001, 0.1),\n",
      "C:\\Users\\xfini\\AppData\\Local\\Temp\\ipykernel_20184\\981819043.py:21: FutureWarning: suggest_uniform has been deprecated in v3.0.0. This feature will be removed in v6.0.0. See https://github.com/optuna/optuna/releases/tag/v3.0.0. Use :func:`~optuna.trial.Trial.suggest_float` instead.\n",
      "  'feature_fraction': trial.suggest_uniform('feature_fraction', 0.1, 1.0),\n",
      "C:\\Users\\xfini\\AppData\\Local\\Temp\\ipykernel_20184\\981819043.py:22: FutureWarning: suggest_uniform has been deprecated in v3.0.0. This feature will be removed in v6.0.0. See https://github.com/optuna/optuna/releases/tag/v3.0.0. Use :func:`~optuna.trial.Trial.suggest_float` instead.\n",
      "  'bagging_fraction': trial.suggest_uniform('bagging_fraction', 0.1, 1.0),\n",
      "c:\\Users\\xfini\\anaconda3\\lib\\site-packages\\lightgbm\\sklearn.py:726: UserWarning: 'early_stopping_rounds' argument is deprecated and will be removed in a future release of LightGBM. Pass 'early_stopping()' callback via 'callbacks' argument instead.\n",
      "  _log_warning(\"'early_stopping_rounds' argument is deprecated and will be removed in a future release of LightGBM. \"\n",
      "c:\\Users\\xfini\\anaconda3\\lib\\site-packages\\lightgbm\\sklearn.py:736: UserWarning: 'verbose' argument is deprecated and will be removed in a future release of LightGBM. Pass 'log_evaluation()' callback via 'callbacks' argument instead.\n",
      "  _log_warning(\"'verbose' argument is deprecated and will be removed in a future release of LightGBM. \"\n"
     ]
    },
    {
     "name": "stdout",
     "output_type": "stream",
     "text": [
      "\u001b[32m[I 2023-02-24 15:03:35,087]\u001b[0m Trial 99 finished with value: 575.8968421280277 and parameters: {'learning_rate': 0.05724681941557465, 'num_leaves': 234, 'max_depth': 8, 'feature_fraction': 0.6523996952023026, 'bagging_fraction': 0.9885672452460625, 'bagging_freq': 5, 'min_child_samples': 29}. Best is trial 96 with value: 574.6350343607693.\u001b[0m\n",
      "[LightGBM] [Warning] feature_fraction is set=0.6766256306818597, colsample_bytree=1.0 will be ignored. Current value: feature_fraction=0.6766256306818597\n",
      "[LightGBM] [Warning] bagging_fraction is set=0.957289418366747, subsample=1.0 will be ignored. Current value: bagging_fraction=0.957289418366747\n",
      "[LightGBM] [Warning] bagging_freq is set=2, subsample_freq=0 will be ignored. Current value: bagging_freq=2\n"
     ]
    },
    {
     "name": "stderr",
     "output_type": "stream",
     "text": [
      "c:\\Users\\xfini\\anaconda3\\lib\\site-packages\\lightgbm\\sklearn.py:726: UserWarning: 'early_stopping_rounds' argument is deprecated and will be removed in a future release of LightGBM. Pass 'early_stopping()' callback via 'callbacks' argument instead.\n",
      "  _log_warning(\"'early_stopping_rounds' argument is deprecated and will be removed in a future release of LightGBM. \"\n",
      "c:\\Users\\xfini\\anaconda3\\lib\\site-packages\\lightgbm\\sklearn.py:736: UserWarning: 'verbose' argument is deprecated and will be removed in a future release of LightGBM. Pass 'log_evaluation()' callback via 'callbacks' argument instead.\n",
      "  _log_warning(\"'verbose' argument is deprecated and will be removed in a future release of LightGBM. \"\n"
     ]
    },
    {
     "name": "stdout",
     "output_type": "stream",
     "text": [
      "Final model RMSE: 574.6350\n"
     ]
    }
   ],
   "source": [
    "import optuna\n",
    "import lightgbm as lgb\n",
    "from sklearn.datasets import load_boston\n",
    "from sklearn.model_selection import train_test_split\n",
    "from sklearn.metrics import mean_squared_error\n",
    "\n",
    "# Load data\n",
    "# Split data into train and test sets\n",
    "X_train, X_test, y_train, y_test = train_test_split(x, y, test_size=0.2, random_state=42)\n",
    "\n",
    "# Define objective function for Optuna to optimize\n",
    "def objective(trial):\n",
    "    params = {\n",
    "        'objective': 'regression',\n",
    "        'metric': 'rmse',\n",
    "        'verbosity': -1,\n",
    "        'boosting_type': 'gbdt',\n",
    "        'learning_rate': trial.suggest_loguniform('learning_rate', 0.001, 0.1),\n",
    "        'num_leaves': trial.suggest_int('num_leaves', 2, 256),\n",
    "        'max_depth': trial.suggest_int('max_depth', 3, 15),\n",
    "        'feature_fraction': trial.suggest_uniform('feature_fraction', 0.1, 1.0),\n",
    "        'bagging_fraction': trial.suggest_uniform('bagging_fraction', 0.1, 1.0),\n",
    "        'bagging_freq': trial.suggest_int('bagging_freq', 1, 10),\n",
    "        'min_child_samples': trial.suggest_int('min_child_samples', 5, 100),\n",
    "    }\n",
    "\n",
    "    # Train LightGBM model\n",
    "    model = lgb.LGBMRegressor(**params)\n",
    "    model.fit(X_train, y_train, eval_set=[(X_test, y_test)], early_stopping_rounds=100, verbose=False)\n",
    "\n",
    "    # Evaluate model on test set and return RMSE\n",
    "    y_pred = model.predict(X_test)\n",
    "    rmse = mean_squared_error(y_test, y_pred, squared=False)\n",
    "    return rmse\n",
    "\n",
    "# Optimize hyperparameters with Optuna\n",
    "study = optuna.create_study(direction='minimize')\n",
    "study.optimize(objective, n_trials=100,show_progress_bar=True)\n",
    "\n",
    "# Train final model with optimized hyperparameters\n",
    "best_params = study.best_params\n",
    "best_model = lgb.LGBMRegressor(**best_params)\n",
    "best_model.fit(X_train, y_train, eval_set=[(X_test, y_test)], early_stopping_rounds=100, verbose=False)\n",
    "\n",
    "# Evaluate final model on test set and print RMSE\n",
    "y_pred = best_model.predict(X_test)\n",
    "rmse = mean_squared_error(y_test, y_pred, squared=False)\n",
    "print(f\"Final model RMSE: {rmse:.4f}\")\n",
    "\n",
    "\n"
   ]
  },
  {
   "cell_type": "code",
   "execution_count": 330,
   "metadata": {},
   "outputs": [],
   "source": [
    "s=best_model.predict(test)"
   ]
  },
  {
   "cell_type": "code",
   "execution_count": 326,
   "metadata": {},
   "outputs": [
    {
     "name": "stderr",
     "output_type": "stream",
     "text": [
      "c:\\Users\\xfini\\anaconda3\\lib\\site-packages\\optuna\\progress_bar.py:56: ExperimentalWarning: Progress bar is experimental (supported from v1.2.0). The interface can change in the future.\n",
      "  self._init_valid()\n"
     ]
    },
    {
     "data": {
      "application/vnd.jupyter.widget-view+json": {
       "model_id": "6c69d789aff142669b0cae8cc777a547",
       "version_major": 2,
       "version_minor": 0
      },
      "text/plain": [
       "  0%|          | 0/100 [00:00<?, ?it/s]"
      ]
     },
     "metadata": {},
     "output_type": "display_data"
    },
    {
     "name": "stderr",
     "output_type": "stream",
     "text": [
      "C:\\Users\\xfini\\AppData\\Local\\Temp\\ipykernel_20184\\1068959902.py:7: FutureWarning: suggest_loguniform has been deprecated in v3.0.0. This feature will be removed in v6.0.0. See https://github.com/optuna/optuna/releases/tag/v3.0.0. Use :func:`~optuna.trial.Trial.suggest_float` instead.\n",
      "  'learning_rate': trial.suggest_loguniform('learning_rate', 0.01,1.0),\n",
      "C:\\Users\\xfini\\AppData\\Local\\Temp\\ipykernel_20184\\1068959902.py:10: FutureWarning: suggest_loguniform has been deprecated in v3.0.0. This feature will be removed in v6.0.0. See https://github.com/optuna/optuna/releases/tag/v3.0.0. Use :func:`~optuna.trial.Trial.suggest_float` instead.\n",
      "  'gamma': trial.suggest_loguniform('gamma', 1e-8, 1.0),\n",
      "C:\\Users\\xfini\\AppData\\Local\\Temp\\ipykernel_20184\\1068959902.py:11: FutureWarning: suggest_loguniform has been deprecated in v3.0.0. This feature will be removed in v6.0.0. See https://github.com/optuna/optuna/releases/tag/v3.0.0. Use :func:`~optuna.trial.Trial.suggest_float` instead.\n",
      "  'subsample': trial.suggest_loguniform('subsample', 0.01, 1.0),\n",
      "C:\\Users\\xfini\\AppData\\Local\\Temp\\ipykernel_20184\\1068959902.py:12: FutureWarning: suggest_loguniform has been deprecated in v3.0.0. This feature will be removed in v6.0.0. See https://github.com/optuna/optuna/releases/tag/v3.0.0. Use :func:`~optuna.trial.Trial.suggest_float` instead.\n",
      "  'colsample_bytree': trial.suggest_loguniform('colsample_bytree', 0.01, 1.0),\n",
      "C:\\Users\\xfini\\AppData\\Local\\Temp\\ipykernel_20184\\1068959902.py:13: FutureWarning: suggest_loguniform has been deprecated in v3.0.0. This feature will be removed in v6.0.0. See https://github.com/optuna/optuna/releases/tag/v3.0.0. Use :func:`~optuna.trial.Trial.suggest_float` instead.\n",
      "  'reg_alpha': trial.suggest_loguniform('reg_alpha', 1e-8, 1.0),\n",
      "C:\\Users\\xfini\\AppData\\Local\\Temp\\ipykernel_20184\\1068959902.py:14: FutureWarning: suggest_loguniform has been deprecated in v3.0.0. This feature will be removed in v6.0.0. See https://github.com/optuna/optuna/releases/tag/v3.0.0. Use :func:`~optuna.trial.Trial.suggest_float` instead.\n",
      "  'reg_lambda': trial.suggest_loguniform('reg_lambda', 1e-8, 1.0),\n",
      "C:\\Users\\xfini\\AppData\\Local\\Temp\\ipykernel_20184\\1068959902.py:15: FutureWarning: suggest_loguniform has been deprecated in v3.0.0. This feature will be removed in v6.0.0. See https://github.com/optuna/optuna/releases/tag/v3.0.0. Use :func:`~optuna.trial.Trial.suggest_float` instead.\n",
      "  'rsm': trial.suggest_loguniform('rsm', 0.1, 0.9)\n"
     ]
    },
    {
     "name": "stdout",
     "output_type": "stream",
     "text": [
      "[15:10:23] WARNING: C:/buildkite-agent/builds/buildkite-windows-cpu-autoscaling-group-i-08de971ced8a8cdc6-1/xgboost/xgboost-ci-windows/src/learner.cc:767: \n",
      "Parameters: { \"rsm\" } are not used.\n",
      "\n"
     ]
    },
    {
     "name": "stderr",
     "output_type": "stream",
     "text": [
      "C:\\Users\\xfini\\AppData\\Local\\Temp\\ipykernel_20184\\1068959902.py:7: FutureWarning: suggest_loguniform has been deprecated in v3.0.0. This feature will be removed in v6.0.0. See https://github.com/optuna/optuna/releases/tag/v3.0.0. Use :func:`~optuna.trial.Trial.suggest_float` instead.\n",
      "  'learning_rate': trial.suggest_loguniform('learning_rate', 0.01,1.0),\n",
      "C:\\Users\\xfini\\AppData\\Local\\Temp\\ipykernel_20184\\1068959902.py:10: FutureWarning: suggest_loguniform has been deprecated in v3.0.0. This feature will be removed in v6.0.0. See https://github.com/optuna/optuna/releases/tag/v3.0.0. Use :func:`~optuna.trial.Trial.suggest_float` instead.\n",
      "  'gamma': trial.suggest_loguniform('gamma', 1e-8, 1.0),\n",
      "C:\\Users\\xfini\\AppData\\Local\\Temp\\ipykernel_20184\\1068959902.py:11: FutureWarning: suggest_loguniform has been deprecated in v3.0.0. This feature will be removed in v6.0.0. See https://github.com/optuna/optuna/releases/tag/v3.0.0. Use :func:`~optuna.trial.Trial.suggest_float` instead.\n",
      "  'subsample': trial.suggest_loguniform('subsample', 0.01, 1.0),\n",
      "C:\\Users\\xfini\\AppData\\Local\\Temp\\ipykernel_20184\\1068959902.py:12: FutureWarning: suggest_loguniform has been deprecated in v3.0.0. This feature will be removed in v6.0.0. See https://github.com/optuna/optuna/releases/tag/v3.0.0. Use :func:`~optuna.trial.Trial.suggest_float` instead.\n",
      "  'colsample_bytree': trial.suggest_loguniform('colsample_bytree', 0.01, 1.0),\n",
      "C:\\Users\\xfini\\AppData\\Local\\Temp\\ipykernel_20184\\1068959902.py:13: FutureWarning: suggest_loguniform has been deprecated in v3.0.0. This feature will be removed in v6.0.0. See https://github.com/optuna/optuna/releases/tag/v3.0.0. Use :func:`~optuna.trial.Trial.suggest_float` instead.\n",
      "  'reg_alpha': trial.suggest_loguniform('reg_alpha', 1e-8, 1.0),\n",
      "C:\\Users\\xfini\\AppData\\Local\\Temp\\ipykernel_20184\\1068959902.py:14: FutureWarning: suggest_loguniform has been deprecated in v3.0.0. This feature will be removed in v6.0.0. See https://github.com/optuna/optuna/releases/tag/v3.0.0. Use :func:`~optuna.trial.Trial.suggest_float` instead.\n",
      "  'reg_lambda': trial.suggest_loguniform('reg_lambda', 1e-8, 1.0),\n",
      "C:\\Users\\xfini\\AppData\\Local\\Temp\\ipykernel_20184\\1068959902.py:15: FutureWarning: suggest_loguniform has been deprecated in v3.0.0. This feature will be removed in v6.0.0. See https://github.com/optuna/optuna/releases/tag/v3.0.0. Use :func:`~optuna.trial.Trial.suggest_float` instead.\n",
      "  'rsm': trial.suggest_loguniform('rsm', 0.1, 0.9)\n"
     ]
    },
    {
     "name": "stdout",
     "output_type": "stream",
     "text": [
      "[15:10:25] WARNING: C:/buildkite-agent/builds/buildkite-windows-cpu-autoscaling-group-i-08de971ced8a8cdc6-1/xgboost/xgboost-ci-windows/src/learner.cc:767: \n",
      "Parameters: { \"rsm\" } are not used.\n",
      "\n"
     ]
    },
    {
     "name": "stderr",
     "output_type": "stream",
     "text": [
      "C:\\Users\\xfini\\AppData\\Local\\Temp\\ipykernel_20184\\1068959902.py:7: FutureWarning: suggest_loguniform has been deprecated in v3.0.0. This feature will be removed in v6.0.0. See https://github.com/optuna/optuna/releases/tag/v3.0.0. Use :func:`~optuna.trial.Trial.suggest_float` instead.\n",
      "  'learning_rate': trial.suggest_loguniform('learning_rate', 0.01,1.0),\n",
      "C:\\Users\\xfini\\AppData\\Local\\Temp\\ipykernel_20184\\1068959902.py:10: FutureWarning: suggest_loguniform has been deprecated in v3.0.0. This feature will be removed in v6.0.0. See https://github.com/optuna/optuna/releases/tag/v3.0.0. Use :func:`~optuna.trial.Trial.suggest_float` instead.\n",
      "  'gamma': trial.suggest_loguniform('gamma', 1e-8, 1.0),\n",
      "C:\\Users\\xfini\\AppData\\Local\\Temp\\ipykernel_20184\\1068959902.py:11: FutureWarning: suggest_loguniform has been deprecated in v3.0.0. This feature will be removed in v6.0.0. See https://github.com/optuna/optuna/releases/tag/v3.0.0. Use :func:`~optuna.trial.Trial.suggest_float` instead.\n",
      "  'subsample': trial.suggest_loguniform('subsample', 0.01, 1.0),\n",
      "C:\\Users\\xfini\\AppData\\Local\\Temp\\ipykernel_20184\\1068959902.py:12: FutureWarning: suggest_loguniform has been deprecated in v3.0.0. This feature will be removed in v6.0.0. See https://github.com/optuna/optuna/releases/tag/v3.0.0. Use :func:`~optuna.trial.Trial.suggest_float` instead.\n",
      "  'colsample_bytree': trial.suggest_loguniform('colsample_bytree', 0.01, 1.0),\n",
      "C:\\Users\\xfini\\AppData\\Local\\Temp\\ipykernel_20184\\1068959902.py:13: FutureWarning: suggest_loguniform has been deprecated in v3.0.0. This feature will be removed in v6.0.0. See https://github.com/optuna/optuna/releases/tag/v3.0.0. Use :func:`~optuna.trial.Trial.suggest_float` instead.\n",
      "  'reg_alpha': trial.suggest_loguniform('reg_alpha', 1e-8, 1.0),\n",
      "C:\\Users\\xfini\\AppData\\Local\\Temp\\ipykernel_20184\\1068959902.py:14: FutureWarning: suggest_loguniform has been deprecated in v3.0.0. This feature will be removed in v6.0.0. See https://github.com/optuna/optuna/releases/tag/v3.0.0. Use :func:`~optuna.trial.Trial.suggest_float` instead.\n",
      "  'reg_lambda': trial.suggest_loguniform('reg_lambda', 1e-8, 1.0),\n",
      "C:\\Users\\xfini\\AppData\\Local\\Temp\\ipykernel_20184\\1068959902.py:15: FutureWarning: suggest_loguniform has been deprecated in v3.0.0. This feature will be removed in v6.0.0. See https://github.com/optuna/optuna/releases/tag/v3.0.0. Use :func:`~optuna.trial.Trial.suggest_float` instead.\n",
      "  'rsm': trial.suggest_loguniform('rsm', 0.1, 0.9)\n"
     ]
    },
    {
     "name": "stdout",
     "output_type": "stream",
     "text": [
      "[15:10:25] WARNING: C:/buildkite-agent/builds/buildkite-windows-cpu-autoscaling-group-i-08de971ced8a8cdc6-1/xgboost/xgboost-ci-windows/src/learner.cc:767: \n",
      "Parameters: { \"rsm\" } are not used.\n",
      "\n"
     ]
    },
    {
     "name": "stderr",
     "output_type": "stream",
     "text": [
      "C:\\Users\\xfini\\AppData\\Local\\Temp\\ipykernel_20184\\1068959902.py:7: FutureWarning: suggest_loguniform has been deprecated in v3.0.0. This feature will be removed in v6.0.0. See https://github.com/optuna/optuna/releases/tag/v3.0.0. Use :func:`~optuna.trial.Trial.suggest_float` instead.\n",
      "  'learning_rate': trial.suggest_loguniform('learning_rate', 0.01,1.0),\n",
      "C:\\Users\\xfini\\AppData\\Local\\Temp\\ipykernel_20184\\1068959902.py:10: FutureWarning: suggest_loguniform has been deprecated in v3.0.0. This feature will be removed in v6.0.0. See https://github.com/optuna/optuna/releases/tag/v3.0.0. Use :func:`~optuna.trial.Trial.suggest_float` instead.\n",
      "  'gamma': trial.suggest_loguniform('gamma', 1e-8, 1.0),\n",
      "C:\\Users\\xfini\\AppData\\Local\\Temp\\ipykernel_20184\\1068959902.py:11: FutureWarning: suggest_loguniform has been deprecated in v3.0.0. This feature will be removed in v6.0.0. See https://github.com/optuna/optuna/releases/tag/v3.0.0. Use :func:`~optuna.trial.Trial.suggest_float` instead.\n",
      "  'subsample': trial.suggest_loguniform('subsample', 0.01, 1.0),\n",
      "C:\\Users\\xfini\\AppData\\Local\\Temp\\ipykernel_20184\\1068959902.py:12: FutureWarning: suggest_loguniform has been deprecated in v3.0.0. This feature will be removed in v6.0.0. See https://github.com/optuna/optuna/releases/tag/v3.0.0. Use :func:`~optuna.trial.Trial.suggest_float` instead.\n",
      "  'colsample_bytree': trial.suggest_loguniform('colsample_bytree', 0.01, 1.0),\n",
      "C:\\Users\\xfini\\AppData\\Local\\Temp\\ipykernel_20184\\1068959902.py:13: FutureWarning: suggest_loguniform has been deprecated in v3.0.0. This feature will be removed in v6.0.0. See https://github.com/optuna/optuna/releases/tag/v3.0.0. Use :func:`~optuna.trial.Trial.suggest_float` instead.\n",
      "  'reg_alpha': trial.suggest_loguniform('reg_alpha', 1e-8, 1.0),\n",
      "C:\\Users\\xfini\\AppData\\Local\\Temp\\ipykernel_20184\\1068959902.py:14: FutureWarning: suggest_loguniform has been deprecated in v3.0.0. This feature will be removed in v6.0.0. See https://github.com/optuna/optuna/releases/tag/v3.0.0. Use :func:`~optuna.trial.Trial.suggest_float` instead.\n",
      "  'reg_lambda': trial.suggest_loguniform('reg_lambda', 1e-8, 1.0),\n",
      "C:\\Users\\xfini\\AppData\\Local\\Temp\\ipykernel_20184\\1068959902.py:15: FutureWarning: suggest_loguniform has been deprecated in v3.0.0. This feature will be removed in v6.0.0. See https://github.com/optuna/optuna/releases/tag/v3.0.0. Use :func:`~optuna.trial.Trial.suggest_float` instead.\n",
      "  'rsm': trial.suggest_loguniform('rsm', 0.1, 0.9)\n"
     ]
    },
    {
     "name": "stdout",
     "output_type": "stream",
     "text": [
      "[15:10:26] WARNING: C:/buildkite-agent/builds/buildkite-windows-cpu-autoscaling-group-i-08de971ced8a8cdc6-1/xgboost/xgboost-ci-windows/src/learner.cc:767: \n",
      "Parameters: { \"rsm\" } are not used.\n",
      "\n"
     ]
    },
    {
     "name": "stderr",
     "output_type": "stream",
     "text": [
      "C:\\Users\\xfini\\AppData\\Local\\Temp\\ipykernel_20184\\1068959902.py:7: FutureWarning: suggest_loguniform has been deprecated in v3.0.0. This feature will be removed in v6.0.0. See https://github.com/optuna/optuna/releases/tag/v3.0.0. Use :func:`~optuna.trial.Trial.suggest_float` instead.\n",
      "  'learning_rate': trial.suggest_loguniform('learning_rate', 0.01,1.0),\n",
      "C:\\Users\\xfini\\AppData\\Local\\Temp\\ipykernel_20184\\1068959902.py:10: FutureWarning: suggest_loguniform has been deprecated in v3.0.0. This feature will be removed in v6.0.0. See https://github.com/optuna/optuna/releases/tag/v3.0.0. Use :func:`~optuna.trial.Trial.suggest_float` instead.\n",
      "  'gamma': trial.suggest_loguniform('gamma', 1e-8, 1.0),\n",
      "C:\\Users\\xfini\\AppData\\Local\\Temp\\ipykernel_20184\\1068959902.py:11: FutureWarning: suggest_loguniform has been deprecated in v3.0.0. This feature will be removed in v6.0.0. See https://github.com/optuna/optuna/releases/tag/v3.0.0. Use :func:`~optuna.trial.Trial.suggest_float` instead.\n",
      "  'subsample': trial.suggest_loguniform('subsample', 0.01, 1.0),\n",
      "C:\\Users\\xfini\\AppData\\Local\\Temp\\ipykernel_20184\\1068959902.py:12: FutureWarning: suggest_loguniform has been deprecated in v3.0.0. This feature will be removed in v6.0.0. See https://github.com/optuna/optuna/releases/tag/v3.0.0. Use :func:`~optuna.trial.Trial.suggest_float` instead.\n",
      "  'colsample_bytree': trial.suggest_loguniform('colsample_bytree', 0.01, 1.0),\n",
      "C:\\Users\\xfini\\AppData\\Local\\Temp\\ipykernel_20184\\1068959902.py:13: FutureWarning: suggest_loguniform has been deprecated in v3.0.0. This feature will be removed in v6.0.0. See https://github.com/optuna/optuna/releases/tag/v3.0.0. Use :func:`~optuna.trial.Trial.suggest_float` instead.\n",
      "  'reg_alpha': trial.suggest_loguniform('reg_alpha', 1e-8, 1.0),\n",
      "C:\\Users\\xfini\\AppData\\Local\\Temp\\ipykernel_20184\\1068959902.py:14: FutureWarning: suggest_loguniform has been deprecated in v3.0.0. This feature will be removed in v6.0.0. See https://github.com/optuna/optuna/releases/tag/v3.0.0. Use :func:`~optuna.trial.Trial.suggest_float` instead.\n",
      "  'reg_lambda': trial.suggest_loguniform('reg_lambda', 1e-8, 1.0),\n",
      "C:\\Users\\xfini\\AppData\\Local\\Temp\\ipykernel_20184\\1068959902.py:15: FutureWarning: suggest_loguniform has been deprecated in v3.0.0. This feature will be removed in v6.0.0. See https://github.com/optuna/optuna/releases/tag/v3.0.0. Use :func:`~optuna.trial.Trial.suggest_float` instead.\n",
      "  'rsm': trial.suggest_loguniform('rsm', 0.1, 0.9)\n"
     ]
    },
    {
     "name": "stdout",
     "output_type": "stream",
     "text": [
      "[15:10:26] WARNING: C:/buildkite-agent/builds/buildkite-windows-cpu-autoscaling-group-i-08de971ced8a8cdc6-1/xgboost/xgboost-ci-windows/src/learner.cc:767: \n",
      "Parameters: { \"rsm\" } are not used.\n",
      "\n"
     ]
    },
    {
     "name": "stderr",
     "output_type": "stream",
     "text": [
      "C:\\Users\\xfini\\AppData\\Local\\Temp\\ipykernel_20184\\1068959902.py:7: FutureWarning: suggest_loguniform has been deprecated in v3.0.0. This feature will be removed in v6.0.0. See https://github.com/optuna/optuna/releases/tag/v3.0.0. Use :func:`~optuna.trial.Trial.suggest_float` instead.\n",
      "  'learning_rate': trial.suggest_loguniform('learning_rate', 0.01,1.0),\n",
      "C:\\Users\\xfini\\AppData\\Local\\Temp\\ipykernel_20184\\1068959902.py:10: FutureWarning: suggest_loguniform has been deprecated in v3.0.0. This feature will be removed in v6.0.0. See https://github.com/optuna/optuna/releases/tag/v3.0.0. Use :func:`~optuna.trial.Trial.suggest_float` instead.\n",
      "  'gamma': trial.suggest_loguniform('gamma', 1e-8, 1.0),\n",
      "C:\\Users\\xfini\\AppData\\Local\\Temp\\ipykernel_20184\\1068959902.py:11: FutureWarning: suggest_loguniform has been deprecated in v3.0.0. This feature will be removed in v6.0.0. See https://github.com/optuna/optuna/releases/tag/v3.0.0. Use :func:`~optuna.trial.Trial.suggest_float` instead.\n",
      "  'subsample': trial.suggest_loguniform('subsample', 0.01, 1.0),\n",
      "C:\\Users\\xfini\\AppData\\Local\\Temp\\ipykernel_20184\\1068959902.py:12: FutureWarning: suggest_loguniform has been deprecated in v3.0.0. This feature will be removed in v6.0.0. See https://github.com/optuna/optuna/releases/tag/v3.0.0. Use :func:`~optuna.trial.Trial.suggest_float` instead.\n",
      "  'colsample_bytree': trial.suggest_loguniform('colsample_bytree', 0.01, 1.0),\n",
      "C:\\Users\\xfini\\AppData\\Local\\Temp\\ipykernel_20184\\1068959902.py:13: FutureWarning: suggest_loguniform has been deprecated in v3.0.0. This feature will be removed in v6.0.0. See https://github.com/optuna/optuna/releases/tag/v3.0.0. Use :func:`~optuna.trial.Trial.suggest_float` instead.\n",
      "  'reg_alpha': trial.suggest_loguniform('reg_alpha', 1e-8, 1.0),\n",
      "C:\\Users\\xfini\\AppData\\Local\\Temp\\ipykernel_20184\\1068959902.py:14: FutureWarning: suggest_loguniform has been deprecated in v3.0.0. This feature will be removed in v6.0.0. See https://github.com/optuna/optuna/releases/tag/v3.0.0. Use :func:`~optuna.trial.Trial.suggest_float` instead.\n",
      "  'reg_lambda': trial.suggest_loguniform('reg_lambda', 1e-8, 1.0),\n",
      "C:\\Users\\xfini\\AppData\\Local\\Temp\\ipykernel_20184\\1068959902.py:15: FutureWarning: suggest_loguniform has been deprecated in v3.0.0. This feature will be removed in v6.0.0. See https://github.com/optuna/optuna/releases/tag/v3.0.0. Use :func:`~optuna.trial.Trial.suggest_float` instead.\n",
      "  'rsm': trial.suggest_loguniform('rsm', 0.1, 0.9)\n",
      "C:\\Users\\xfini\\AppData\\Local\\Temp\\ipykernel_20184\\1068959902.py:7: FutureWarning: suggest_loguniform has been deprecated in v3.0.0. This feature will be removed in v6.0.0. See https://github.com/optuna/optuna/releases/tag/v3.0.0. Use :func:`~optuna.trial.Trial.suggest_float` instead.\n",
      "  'learning_rate': trial.suggest_loguniform('learning_rate', 0.01,1.0),\n",
      "C:\\Users\\xfini\\AppData\\Local\\Temp\\ipykernel_20184\\1068959902.py:10: FutureWarning: suggest_loguniform has been deprecated in v3.0.0. This feature will be removed in v6.0.0. See https://github.com/optuna/optuna/releases/tag/v3.0.0. Use :func:`~optuna.trial.Trial.suggest_float` instead.\n",
      "  'gamma': trial.suggest_loguniform('gamma', 1e-8, 1.0),\n",
      "C:\\Users\\xfini\\AppData\\Local\\Temp\\ipykernel_20184\\1068959902.py:11: FutureWarning: suggest_loguniform has been deprecated in v3.0.0. This feature will be removed in v6.0.0. See https://github.com/optuna/optuna/releases/tag/v3.0.0. Use :func:`~optuna.trial.Trial.suggest_float` instead.\n",
      "  'subsample': trial.suggest_loguniform('subsample', 0.01, 1.0),\n",
      "C:\\Users\\xfini\\AppData\\Local\\Temp\\ipykernel_20184\\1068959902.py:12: FutureWarning: suggest_loguniform has been deprecated in v3.0.0. This feature will be removed in v6.0.0. See https://github.com/optuna/optuna/releases/tag/v3.0.0. Use :func:`~optuna.trial.Trial.suggest_float` instead.\n",
      "  'colsample_bytree': trial.suggest_loguniform('colsample_bytree', 0.01, 1.0),\n",
      "C:\\Users\\xfini\\AppData\\Local\\Temp\\ipykernel_20184\\1068959902.py:13: FutureWarning: suggest_loguniform has been deprecated in v3.0.0. This feature will be removed in v6.0.0. See https://github.com/optuna/optuna/releases/tag/v3.0.0. Use :func:`~optuna.trial.Trial.suggest_float` instead.\n",
      "  'reg_alpha': trial.suggest_loguniform('reg_alpha', 1e-8, 1.0),\n",
      "C:\\Users\\xfini\\AppData\\Local\\Temp\\ipykernel_20184\\1068959902.py:14: FutureWarning: suggest_loguniform has been deprecated in v3.0.0. This feature will be removed in v6.0.0. See https://github.com/optuna/optuna/releases/tag/v3.0.0. Use :func:`~optuna.trial.Trial.suggest_float` instead.\n",
      "  'reg_lambda': trial.suggest_loguniform('reg_lambda', 1e-8, 1.0),\n",
      "C:\\Users\\xfini\\AppData\\Local\\Temp\\ipykernel_20184\\1068959902.py:15: FutureWarning: suggest_loguniform has been deprecated in v3.0.0. This feature will be removed in v6.0.0. See https://github.com/optuna/optuna/releases/tag/v3.0.0. Use :func:`~optuna.trial.Trial.suggest_float` instead.\n",
      "  'rsm': trial.suggest_loguniform('rsm', 0.1, 0.9)\n"
     ]
    },
    {
     "name": "stdout",
     "output_type": "stream",
     "text": [
      "[15:10:27] WARNING: C:/buildkite-agent/builds/buildkite-windows-cpu-autoscaling-group-i-08de971ced8a8cdc6-1/xgboost/xgboost-ci-windows/src/learner.cc:767: \n",
      "Parameters: { \"rsm\" } are not used.\n",
      "\n",
      "[15:10:27] WARNING: C:/buildkite-agent/builds/buildkite-windows-cpu-autoscaling-group-i-08de971ced8a8cdc6-1/xgboost/xgboost-ci-windows/src/learner.cc:767: \n",
      "Parameters: { \"rsm\" } are not used.\n",
      "\n"
     ]
    },
    {
     "name": "stderr",
     "output_type": "stream",
     "text": [
      "C:\\Users\\xfini\\AppData\\Local\\Temp\\ipykernel_20184\\1068959902.py:7: FutureWarning: suggest_loguniform has been deprecated in v3.0.0. This feature will be removed in v6.0.0. See https://github.com/optuna/optuna/releases/tag/v3.0.0. Use :func:`~optuna.trial.Trial.suggest_float` instead.\n",
      "  'learning_rate': trial.suggest_loguniform('learning_rate', 0.01,1.0),\n",
      "C:\\Users\\xfini\\AppData\\Local\\Temp\\ipykernel_20184\\1068959902.py:10: FutureWarning: suggest_loguniform has been deprecated in v3.0.0. This feature will be removed in v6.0.0. See https://github.com/optuna/optuna/releases/tag/v3.0.0. Use :func:`~optuna.trial.Trial.suggest_float` instead.\n",
      "  'gamma': trial.suggest_loguniform('gamma', 1e-8, 1.0),\n",
      "C:\\Users\\xfini\\AppData\\Local\\Temp\\ipykernel_20184\\1068959902.py:11: FutureWarning: suggest_loguniform has been deprecated in v3.0.0. This feature will be removed in v6.0.0. See https://github.com/optuna/optuna/releases/tag/v3.0.0. Use :func:`~optuna.trial.Trial.suggest_float` instead.\n",
      "  'subsample': trial.suggest_loguniform('subsample', 0.01, 1.0),\n",
      "C:\\Users\\xfini\\AppData\\Local\\Temp\\ipykernel_20184\\1068959902.py:12: FutureWarning: suggest_loguniform has been deprecated in v3.0.0. This feature will be removed in v6.0.0. See https://github.com/optuna/optuna/releases/tag/v3.0.0. Use :func:`~optuna.trial.Trial.suggest_float` instead.\n",
      "  'colsample_bytree': trial.suggest_loguniform('colsample_bytree', 0.01, 1.0),\n",
      "C:\\Users\\xfini\\AppData\\Local\\Temp\\ipykernel_20184\\1068959902.py:13: FutureWarning: suggest_loguniform has been deprecated in v3.0.0. This feature will be removed in v6.0.0. See https://github.com/optuna/optuna/releases/tag/v3.0.0. Use :func:`~optuna.trial.Trial.suggest_float` instead.\n",
      "  'reg_alpha': trial.suggest_loguniform('reg_alpha', 1e-8, 1.0),\n",
      "C:\\Users\\xfini\\AppData\\Local\\Temp\\ipykernel_20184\\1068959902.py:14: FutureWarning: suggest_loguniform has been deprecated in v3.0.0. This feature will be removed in v6.0.0. See https://github.com/optuna/optuna/releases/tag/v3.0.0. Use :func:`~optuna.trial.Trial.suggest_float` instead.\n",
      "  'reg_lambda': trial.suggest_loguniform('reg_lambda', 1e-8, 1.0),\n",
      "C:\\Users\\xfini\\AppData\\Local\\Temp\\ipykernel_20184\\1068959902.py:15: FutureWarning: suggest_loguniform has been deprecated in v3.0.0. This feature will be removed in v6.0.0. See https://github.com/optuna/optuna/releases/tag/v3.0.0. Use :func:`~optuna.trial.Trial.suggest_float` instead.\n",
      "  'rsm': trial.suggest_loguniform('rsm', 0.1, 0.9)\n"
     ]
    },
    {
     "name": "stdout",
     "output_type": "stream",
     "text": [
      "[15:10:27] WARNING: C:/buildkite-agent/builds/buildkite-windows-cpu-autoscaling-group-i-08de971ced8a8cdc6-1/xgboost/xgboost-ci-windows/src/learner.cc:767: \n",
      "Parameters: { \"rsm\" } are not used.\n",
      "\n"
     ]
    },
    {
     "name": "stderr",
     "output_type": "stream",
     "text": [
      "C:\\Users\\xfini\\AppData\\Local\\Temp\\ipykernel_20184\\1068959902.py:7: FutureWarning: suggest_loguniform has been deprecated in v3.0.0. This feature will be removed in v6.0.0. See https://github.com/optuna/optuna/releases/tag/v3.0.0. Use :func:`~optuna.trial.Trial.suggest_float` instead.\n",
      "  'learning_rate': trial.suggest_loguniform('learning_rate', 0.01,1.0),\n",
      "C:\\Users\\xfini\\AppData\\Local\\Temp\\ipykernel_20184\\1068959902.py:10: FutureWarning: suggest_loguniform has been deprecated in v3.0.0. This feature will be removed in v6.0.0. See https://github.com/optuna/optuna/releases/tag/v3.0.0. Use :func:`~optuna.trial.Trial.suggest_float` instead.\n",
      "  'gamma': trial.suggest_loguniform('gamma', 1e-8, 1.0),\n",
      "C:\\Users\\xfini\\AppData\\Local\\Temp\\ipykernel_20184\\1068959902.py:11: FutureWarning: suggest_loguniform has been deprecated in v3.0.0. This feature will be removed in v6.0.0. See https://github.com/optuna/optuna/releases/tag/v3.0.0. Use :func:`~optuna.trial.Trial.suggest_float` instead.\n",
      "  'subsample': trial.suggest_loguniform('subsample', 0.01, 1.0),\n",
      "C:\\Users\\xfini\\AppData\\Local\\Temp\\ipykernel_20184\\1068959902.py:12: FutureWarning: suggest_loguniform has been deprecated in v3.0.0. This feature will be removed in v6.0.0. See https://github.com/optuna/optuna/releases/tag/v3.0.0. Use :func:`~optuna.trial.Trial.suggest_float` instead.\n",
      "  'colsample_bytree': trial.suggest_loguniform('colsample_bytree', 0.01, 1.0),\n",
      "C:\\Users\\xfini\\AppData\\Local\\Temp\\ipykernel_20184\\1068959902.py:13: FutureWarning: suggest_loguniform has been deprecated in v3.0.0. This feature will be removed in v6.0.0. See https://github.com/optuna/optuna/releases/tag/v3.0.0. Use :func:`~optuna.trial.Trial.suggest_float` instead.\n",
      "  'reg_alpha': trial.suggest_loguniform('reg_alpha', 1e-8, 1.0),\n",
      "C:\\Users\\xfini\\AppData\\Local\\Temp\\ipykernel_20184\\1068959902.py:14: FutureWarning: suggest_loguniform has been deprecated in v3.0.0. This feature will be removed in v6.0.0. See https://github.com/optuna/optuna/releases/tag/v3.0.0. Use :func:`~optuna.trial.Trial.suggest_float` instead.\n",
      "  'reg_lambda': trial.suggest_loguniform('reg_lambda', 1e-8, 1.0),\n",
      "C:\\Users\\xfini\\AppData\\Local\\Temp\\ipykernel_20184\\1068959902.py:15: FutureWarning: suggest_loguniform has been deprecated in v3.0.0. This feature will be removed in v6.0.0. See https://github.com/optuna/optuna/releases/tag/v3.0.0. Use :func:`~optuna.trial.Trial.suggest_float` instead.\n",
      "  'rsm': trial.suggest_loguniform('rsm', 0.1, 0.9)\n"
     ]
    },
    {
     "name": "stdout",
     "output_type": "stream",
     "text": [
      "[15:10:27] WARNING: C:/buildkite-agent/builds/buildkite-windows-cpu-autoscaling-group-i-08de971ced8a8cdc6-1/xgboost/xgboost-ci-windows/src/learner.cc:767: \n",
      "Parameters: { \"rsm\" } are not used.\n",
      "\n"
     ]
    },
    {
     "name": "stderr",
     "output_type": "stream",
     "text": [
      "C:\\Users\\xfini\\AppData\\Local\\Temp\\ipykernel_20184\\1068959902.py:7: FutureWarning: suggest_loguniform has been deprecated in v3.0.0. This feature will be removed in v6.0.0. See https://github.com/optuna/optuna/releases/tag/v3.0.0. Use :func:`~optuna.trial.Trial.suggest_float` instead.\n",
      "  'learning_rate': trial.suggest_loguniform('learning_rate', 0.01,1.0),\n",
      "C:\\Users\\xfini\\AppData\\Local\\Temp\\ipykernel_20184\\1068959902.py:10: FutureWarning: suggest_loguniform has been deprecated in v3.0.0. This feature will be removed in v6.0.0. See https://github.com/optuna/optuna/releases/tag/v3.0.0. Use :func:`~optuna.trial.Trial.suggest_float` instead.\n",
      "  'gamma': trial.suggest_loguniform('gamma', 1e-8, 1.0),\n",
      "C:\\Users\\xfini\\AppData\\Local\\Temp\\ipykernel_20184\\1068959902.py:11: FutureWarning: suggest_loguniform has been deprecated in v3.0.0. This feature will be removed in v6.0.0. See https://github.com/optuna/optuna/releases/tag/v3.0.0. Use :func:`~optuna.trial.Trial.suggest_float` instead.\n",
      "  'subsample': trial.suggest_loguniform('subsample', 0.01, 1.0),\n",
      "C:\\Users\\xfini\\AppData\\Local\\Temp\\ipykernel_20184\\1068959902.py:12: FutureWarning: suggest_loguniform has been deprecated in v3.0.0. This feature will be removed in v6.0.0. See https://github.com/optuna/optuna/releases/tag/v3.0.0. Use :func:`~optuna.trial.Trial.suggest_float` instead.\n",
      "  'colsample_bytree': trial.suggest_loguniform('colsample_bytree', 0.01, 1.0),\n",
      "C:\\Users\\xfini\\AppData\\Local\\Temp\\ipykernel_20184\\1068959902.py:13: FutureWarning: suggest_loguniform has been deprecated in v3.0.0. This feature will be removed in v6.0.0. See https://github.com/optuna/optuna/releases/tag/v3.0.0. Use :func:`~optuna.trial.Trial.suggest_float` instead.\n",
      "  'reg_alpha': trial.suggest_loguniform('reg_alpha', 1e-8, 1.0),\n",
      "C:\\Users\\xfini\\AppData\\Local\\Temp\\ipykernel_20184\\1068959902.py:14: FutureWarning: suggest_loguniform has been deprecated in v3.0.0. This feature will be removed in v6.0.0. See https://github.com/optuna/optuna/releases/tag/v3.0.0. Use :func:`~optuna.trial.Trial.suggest_float` instead.\n",
      "  'reg_lambda': trial.suggest_loguniform('reg_lambda', 1e-8, 1.0),\n",
      "C:\\Users\\xfini\\AppData\\Local\\Temp\\ipykernel_20184\\1068959902.py:15: FutureWarning: suggest_loguniform has been deprecated in v3.0.0. This feature will be removed in v6.0.0. See https://github.com/optuna/optuna/releases/tag/v3.0.0. Use :func:`~optuna.trial.Trial.suggest_float` instead.\n",
      "  'rsm': trial.suggest_loguniform('rsm', 0.1, 0.9)\n"
     ]
    },
    {
     "name": "stdout",
     "output_type": "stream",
     "text": [
      "[15:10:28] WARNING: C:/buildkite-agent/builds/buildkite-windows-cpu-autoscaling-group-i-08de971ced8a8cdc6-1/xgboost/xgboost-ci-windows/src/learner.cc:767: \n",
      "Parameters: { \"rsm\" } are not used.\n",
      "\n"
     ]
    },
    {
     "name": "stderr",
     "output_type": "stream",
     "text": [
      "C:\\Users\\xfini\\AppData\\Local\\Temp\\ipykernel_20184\\1068959902.py:7: FutureWarning: suggest_loguniform has been deprecated in v3.0.0. This feature will be removed in v6.0.0. See https://github.com/optuna/optuna/releases/tag/v3.0.0. Use :func:`~optuna.trial.Trial.suggest_float` instead.\n",
      "  'learning_rate': trial.suggest_loguniform('learning_rate', 0.01,1.0),\n",
      "C:\\Users\\xfini\\AppData\\Local\\Temp\\ipykernel_20184\\1068959902.py:10: FutureWarning: suggest_loguniform has been deprecated in v3.0.0. This feature will be removed in v6.0.0. See https://github.com/optuna/optuna/releases/tag/v3.0.0. Use :func:`~optuna.trial.Trial.suggest_float` instead.\n",
      "  'gamma': trial.suggest_loguniform('gamma', 1e-8, 1.0),\n",
      "C:\\Users\\xfini\\AppData\\Local\\Temp\\ipykernel_20184\\1068959902.py:11: FutureWarning: suggest_loguniform has been deprecated in v3.0.0. This feature will be removed in v6.0.0. See https://github.com/optuna/optuna/releases/tag/v3.0.0. Use :func:`~optuna.trial.Trial.suggest_float` instead.\n",
      "  'subsample': trial.suggest_loguniform('subsample', 0.01, 1.0),\n",
      "C:\\Users\\xfini\\AppData\\Local\\Temp\\ipykernel_20184\\1068959902.py:12: FutureWarning: suggest_loguniform has been deprecated in v3.0.0. This feature will be removed in v6.0.0. See https://github.com/optuna/optuna/releases/tag/v3.0.0. Use :func:`~optuna.trial.Trial.suggest_float` instead.\n",
      "  'colsample_bytree': trial.suggest_loguniform('colsample_bytree', 0.01, 1.0),\n",
      "C:\\Users\\xfini\\AppData\\Local\\Temp\\ipykernel_20184\\1068959902.py:13: FutureWarning: suggest_loguniform has been deprecated in v3.0.0. This feature will be removed in v6.0.0. See https://github.com/optuna/optuna/releases/tag/v3.0.0. Use :func:`~optuna.trial.Trial.suggest_float` instead.\n",
      "  'reg_alpha': trial.suggest_loguniform('reg_alpha', 1e-8, 1.0),\n",
      "C:\\Users\\xfini\\AppData\\Local\\Temp\\ipykernel_20184\\1068959902.py:14: FutureWarning: suggest_loguniform has been deprecated in v3.0.0. This feature will be removed in v6.0.0. See https://github.com/optuna/optuna/releases/tag/v3.0.0. Use :func:`~optuna.trial.Trial.suggest_float` instead.\n",
      "  'reg_lambda': trial.suggest_loguniform('reg_lambda', 1e-8, 1.0),\n",
      "C:\\Users\\xfini\\AppData\\Local\\Temp\\ipykernel_20184\\1068959902.py:15: FutureWarning: suggest_loguniform has been deprecated in v3.0.0. This feature will be removed in v6.0.0. See https://github.com/optuna/optuna/releases/tag/v3.0.0. Use :func:`~optuna.trial.Trial.suggest_float` instead.\n",
      "  'rsm': trial.suggest_loguniform('rsm', 0.1, 0.9)\n"
     ]
    },
    {
     "name": "stdout",
     "output_type": "stream",
     "text": [
      "[15:10:29] WARNING: C:/buildkite-agent/builds/buildkite-windows-cpu-autoscaling-group-i-08de971ced8a8cdc6-1/xgboost/xgboost-ci-windows/src/learner.cc:767: \n",
      "Parameters: { \"rsm\" } are not used.\n",
      "\n"
     ]
    },
    {
     "name": "stderr",
     "output_type": "stream",
     "text": [
      "C:\\Users\\xfini\\AppData\\Local\\Temp\\ipykernel_20184\\1068959902.py:7: FutureWarning: suggest_loguniform has been deprecated in v3.0.0. This feature will be removed in v6.0.0. See https://github.com/optuna/optuna/releases/tag/v3.0.0. Use :func:`~optuna.trial.Trial.suggest_float` instead.\n",
      "  'learning_rate': trial.suggest_loguniform('learning_rate', 0.01,1.0),\n",
      "C:\\Users\\xfini\\AppData\\Local\\Temp\\ipykernel_20184\\1068959902.py:10: FutureWarning: suggest_loguniform has been deprecated in v3.0.0. This feature will be removed in v6.0.0. See https://github.com/optuna/optuna/releases/tag/v3.0.0. Use :func:`~optuna.trial.Trial.suggest_float` instead.\n",
      "  'gamma': trial.suggest_loguniform('gamma', 1e-8, 1.0),\n",
      "C:\\Users\\xfini\\AppData\\Local\\Temp\\ipykernel_20184\\1068959902.py:11: FutureWarning: suggest_loguniform has been deprecated in v3.0.0. This feature will be removed in v6.0.0. See https://github.com/optuna/optuna/releases/tag/v3.0.0. Use :func:`~optuna.trial.Trial.suggest_float` instead.\n",
      "  'subsample': trial.suggest_loguniform('subsample', 0.01, 1.0),\n",
      "C:\\Users\\xfini\\AppData\\Local\\Temp\\ipykernel_20184\\1068959902.py:12: FutureWarning: suggest_loguniform has been deprecated in v3.0.0. This feature will be removed in v6.0.0. See https://github.com/optuna/optuna/releases/tag/v3.0.0. Use :func:`~optuna.trial.Trial.suggest_float` instead.\n",
      "  'colsample_bytree': trial.suggest_loguniform('colsample_bytree', 0.01, 1.0),\n",
      "C:\\Users\\xfini\\AppData\\Local\\Temp\\ipykernel_20184\\1068959902.py:13: FutureWarning: suggest_loguniform has been deprecated in v3.0.0. This feature will be removed in v6.0.0. See https://github.com/optuna/optuna/releases/tag/v3.0.0. Use :func:`~optuna.trial.Trial.suggest_float` instead.\n",
      "  'reg_alpha': trial.suggest_loguniform('reg_alpha', 1e-8, 1.0),\n",
      "C:\\Users\\xfini\\AppData\\Local\\Temp\\ipykernel_20184\\1068959902.py:14: FutureWarning: suggest_loguniform has been deprecated in v3.0.0. This feature will be removed in v6.0.0. See https://github.com/optuna/optuna/releases/tag/v3.0.0. Use :func:`~optuna.trial.Trial.suggest_float` instead.\n",
      "  'reg_lambda': trial.suggest_loguniform('reg_lambda', 1e-8, 1.0),\n",
      "C:\\Users\\xfini\\AppData\\Local\\Temp\\ipykernel_20184\\1068959902.py:15: FutureWarning: suggest_loguniform has been deprecated in v3.0.0. This feature will be removed in v6.0.0. See https://github.com/optuna/optuna/releases/tag/v3.0.0. Use :func:`~optuna.trial.Trial.suggest_float` instead.\n",
      "  'rsm': trial.suggest_loguniform('rsm', 0.1, 0.9)\n"
     ]
    },
    {
     "name": "stdout",
     "output_type": "stream",
     "text": [
      "[15:10:30] WARNING: C:/buildkite-agent/builds/buildkite-windows-cpu-autoscaling-group-i-08de971ced8a8cdc6-1/xgboost/xgboost-ci-windows/src/learner.cc:767: \n",
      "Parameters: { \"rsm\" } are not used.\n",
      "\n"
     ]
    },
    {
     "name": "stderr",
     "output_type": "stream",
     "text": [
      "C:\\Users\\xfini\\AppData\\Local\\Temp\\ipykernel_20184\\1068959902.py:7: FutureWarning: suggest_loguniform has been deprecated in v3.0.0. This feature will be removed in v6.0.0. See https://github.com/optuna/optuna/releases/tag/v3.0.0. Use :func:`~optuna.trial.Trial.suggest_float` instead.\n",
      "  'learning_rate': trial.suggest_loguniform('learning_rate', 0.01,1.0),\n",
      "C:\\Users\\xfini\\AppData\\Local\\Temp\\ipykernel_20184\\1068959902.py:10: FutureWarning: suggest_loguniform has been deprecated in v3.0.0. This feature will be removed in v6.0.0. See https://github.com/optuna/optuna/releases/tag/v3.0.0. Use :func:`~optuna.trial.Trial.suggest_float` instead.\n",
      "  'gamma': trial.suggest_loguniform('gamma', 1e-8, 1.0),\n",
      "C:\\Users\\xfini\\AppData\\Local\\Temp\\ipykernel_20184\\1068959902.py:11: FutureWarning: suggest_loguniform has been deprecated in v3.0.0. This feature will be removed in v6.0.0. See https://github.com/optuna/optuna/releases/tag/v3.0.0. Use :func:`~optuna.trial.Trial.suggest_float` instead.\n",
      "  'subsample': trial.suggest_loguniform('subsample', 0.01, 1.0),\n",
      "C:\\Users\\xfini\\AppData\\Local\\Temp\\ipykernel_20184\\1068959902.py:12: FutureWarning: suggest_loguniform has been deprecated in v3.0.0. This feature will be removed in v6.0.0. See https://github.com/optuna/optuna/releases/tag/v3.0.0. Use :func:`~optuna.trial.Trial.suggest_float` instead.\n",
      "  'colsample_bytree': trial.suggest_loguniform('colsample_bytree', 0.01, 1.0),\n",
      "C:\\Users\\xfini\\AppData\\Local\\Temp\\ipykernel_20184\\1068959902.py:13: FutureWarning: suggest_loguniform has been deprecated in v3.0.0. This feature will be removed in v6.0.0. See https://github.com/optuna/optuna/releases/tag/v3.0.0. Use :func:`~optuna.trial.Trial.suggest_float` instead.\n",
      "  'reg_alpha': trial.suggest_loguniform('reg_alpha', 1e-8, 1.0),\n",
      "C:\\Users\\xfini\\AppData\\Local\\Temp\\ipykernel_20184\\1068959902.py:14: FutureWarning: suggest_loguniform has been deprecated in v3.0.0. This feature will be removed in v6.0.0. See https://github.com/optuna/optuna/releases/tag/v3.0.0. Use :func:`~optuna.trial.Trial.suggest_float` instead.\n",
      "  'reg_lambda': trial.suggest_loguniform('reg_lambda', 1e-8, 1.0),\n",
      "C:\\Users\\xfini\\AppData\\Local\\Temp\\ipykernel_20184\\1068959902.py:15: FutureWarning: suggest_loguniform has been deprecated in v3.0.0. This feature will be removed in v6.0.0. See https://github.com/optuna/optuna/releases/tag/v3.0.0. Use :func:`~optuna.trial.Trial.suggest_float` instead.\n",
      "  'rsm': trial.suggest_loguniform('rsm', 0.1, 0.9)\n"
     ]
    },
    {
     "name": "stdout",
     "output_type": "stream",
     "text": [
      "[15:10:31] WARNING: C:/buildkite-agent/builds/buildkite-windows-cpu-autoscaling-group-i-08de971ced8a8cdc6-1/xgboost/xgboost-ci-windows/src/learner.cc:767: \n",
      "Parameters: { \"rsm\" } are not used.\n",
      "\n"
     ]
    },
    {
     "name": "stderr",
     "output_type": "stream",
     "text": [
      "C:\\Users\\xfini\\AppData\\Local\\Temp\\ipykernel_20184\\1068959902.py:7: FutureWarning: suggest_loguniform has been deprecated in v3.0.0. This feature will be removed in v6.0.0. See https://github.com/optuna/optuna/releases/tag/v3.0.0. Use :func:`~optuna.trial.Trial.suggest_float` instead.\n",
      "  'learning_rate': trial.suggest_loguniform('learning_rate', 0.01,1.0),\n",
      "C:\\Users\\xfini\\AppData\\Local\\Temp\\ipykernel_20184\\1068959902.py:10: FutureWarning: suggest_loguniform has been deprecated in v3.0.0. This feature will be removed in v6.0.0. See https://github.com/optuna/optuna/releases/tag/v3.0.0. Use :func:`~optuna.trial.Trial.suggest_float` instead.\n",
      "  'gamma': trial.suggest_loguniform('gamma', 1e-8, 1.0),\n",
      "C:\\Users\\xfini\\AppData\\Local\\Temp\\ipykernel_20184\\1068959902.py:11: FutureWarning: suggest_loguniform has been deprecated in v3.0.0. This feature will be removed in v6.0.0. See https://github.com/optuna/optuna/releases/tag/v3.0.0. Use :func:`~optuna.trial.Trial.suggest_float` instead.\n",
      "  'subsample': trial.suggest_loguniform('subsample', 0.01, 1.0),\n",
      "C:\\Users\\xfini\\AppData\\Local\\Temp\\ipykernel_20184\\1068959902.py:12: FutureWarning: suggest_loguniform has been deprecated in v3.0.0. This feature will be removed in v6.0.0. See https://github.com/optuna/optuna/releases/tag/v3.0.0. Use :func:`~optuna.trial.Trial.suggest_float` instead.\n",
      "  'colsample_bytree': trial.suggest_loguniform('colsample_bytree', 0.01, 1.0),\n",
      "C:\\Users\\xfini\\AppData\\Local\\Temp\\ipykernel_20184\\1068959902.py:13: FutureWarning: suggest_loguniform has been deprecated in v3.0.0. This feature will be removed in v6.0.0. See https://github.com/optuna/optuna/releases/tag/v3.0.0. Use :func:`~optuna.trial.Trial.suggest_float` instead.\n",
      "  'reg_alpha': trial.suggest_loguniform('reg_alpha', 1e-8, 1.0),\n",
      "C:\\Users\\xfini\\AppData\\Local\\Temp\\ipykernel_20184\\1068959902.py:14: FutureWarning: suggest_loguniform has been deprecated in v3.0.0. This feature will be removed in v6.0.0. See https://github.com/optuna/optuna/releases/tag/v3.0.0. Use :func:`~optuna.trial.Trial.suggest_float` instead.\n",
      "  'reg_lambda': trial.suggest_loguniform('reg_lambda', 1e-8, 1.0),\n",
      "C:\\Users\\xfini\\AppData\\Local\\Temp\\ipykernel_20184\\1068959902.py:15: FutureWarning: suggest_loguniform has been deprecated in v3.0.0. This feature will be removed in v6.0.0. See https://github.com/optuna/optuna/releases/tag/v3.0.0. Use :func:`~optuna.trial.Trial.suggest_float` instead.\n",
      "  'rsm': trial.suggest_loguniform('rsm', 0.1, 0.9)\n"
     ]
    },
    {
     "name": "stdout",
     "output_type": "stream",
     "text": [
      "[15:10:33] WARNING: C:/buildkite-agent/builds/buildkite-windows-cpu-autoscaling-group-i-08de971ced8a8cdc6-1/xgboost/xgboost-ci-windows/src/learner.cc:767: \n",
      "Parameters: { \"rsm\" } are not used.\n",
      "\n"
     ]
    },
    {
     "name": "stderr",
     "output_type": "stream",
     "text": [
      "C:\\Users\\xfini\\AppData\\Local\\Temp\\ipykernel_20184\\1068959902.py:7: FutureWarning: suggest_loguniform has been deprecated in v3.0.0. This feature will be removed in v6.0.0. See https://github.com/optuna/optuna/releases/tag/v3.0.0. Use :func:`~optuna.trial.Trial.suggest_float` instead.\n",
      "  'learning_rate': trial.suggest_loguniform('learning_rate', 0.01,1.0),\n",
      "C:\\Users\\xfini\\AppData\\Local\\Temp\\ipykernel_20184\\1068959902.py:10: FutureWarning: suggest_loguniform has been deprecated in v3.0.0. This feature will be removed in v6.0.0. See https://github.com/optuna/optuna/releases/tag/v3.0.0. Use :func:`~optuna.trial.Trial.suggest_float` instead.\n",
      "  'gamma': trial.suggest_loguniform('gamma', 1e-8, 1.0),\n",
      "C:\\Users\\xfini\\AppData\\Local\\Temp\\ipykernel_20184\\1068959902.py:11: FutureWarning: suggest_loguniform has been deprecated in v3.0.0. This feature will be removed in v6.0.0. See https://github.com/optuna/optuna/releases/tag/v3.0.0. Use :func:`~optuna.trial.Trial.suggest_float` instead.\n",
      "  'subsample': trial.suggest_loguniform('subsample', 0.01, 1.0),\n",
      "C:\\Users\\xfini\\AppData\\Local\\Temp\\ipykernel_20184\\1068959902.py:12: FutureWarning: suggest_loguniform has been deprecated in v3.0.0. This feature will be removed in v6.0.0. See https://github.com/optuna/optuna/releases/tag/v3.0.0. Use :func:`~optuna.trial.Trial.suggest_float` instead.\n",
      "  'colsample_bytree': trial.suggest_loguniform('colsample_bytree', 0.01, 1.0),\n",
      "C:\\Users\\xfini\\AppData\\Local\\Temp\\ipykernel_20184\\1068959902.py:13: FutureWarning: suggest_loguniform has been deprecated in v3.0.0. This feature will be removed in v6.0.0. See https://github.com/optuna/optuna/releases/tag/v3.0.0. Use :func:`~optuna.trial.Trial.suggest_float` instead.\n",
      "  'reg_alpha': trial.suggest_loguniform('reg_alpha', 1e-8, 1.0),\n",
      "C:\\Users\\xfini\\AppData\\Local\\Temp\\ipykernel_20184\\1068959902.py:14: FutureWarning: suggest_loguniform has been deprecated in v3.0.0. This feature will be removed in v6.0.0. See https://github.com/optuna/optuna/releases/tag/v3.0.0. Use :func:`~optuna.trial.Trial.suggest_float` instead.\n",
      "  'reg_lambda': trial.suggest_loguniform('reg_lambda', 1e-8, 1.0),\n",
      "C:\\Users\\xfini\\AppData\\Local\\Temp\\ipykernel_20184\\1068959902.py:15: FutureWarning: suggest_loguniform has been deprecated in v3.0.0. This feature will be removed in v6.0.0. See https://github.com/optuna/optuna/releases/tag/v3.0.0. Use :func:`~optuna.trial.Trial.suggest_float` instead.\n",
      "  'rsm': trial.suggest_loguniform('rsm', 0.1, 0.9)\n"
     ]
    },
    {
     "name": "stdout",
     "output_type": "stream",
     "text": [
      "[15:10:35] WARNING: C:/buildkite-agent/builds/buildkite-windows-cpu-autoscaling-group-i-08de971ced8a8cdc6-1/xgboost/xgboost-ci-windows/src/learner.cc:767: \n",
      "Parameters: { \"rsm\" } are not used.\n",
      "\n"
     ]
    },
    {
     "name": "stderr",
     "output_type": "stream",
     "text": [
      "C:\\Users\\xfini\\AppData\\Local\\Temp\\ipykernel_20184\\1068959902.py:7: FutureWarning: suggest_loguniform has been deprecated in v3.0.0. This feature will be removed in v6.0.0. See https://github.com/optuna/optuna/releases/tag/v3.0.0. Use :func:`~optuna.trial.Trial.suggest_float` instead.\n",
      "  'learning_rate': trial.suggest_loguniform('learning_rate', 0.01,1.0),\n",
      "C:\\Users\\xfini\\AppData\\Local\\Temp\\ipykernel_20184\\1068959902.py:10: FutureWarning: suggest_loguniform has been deprecated in v3.0.0. This feature will be removed in v6.0.0. See https://github.com/optuna/optuna/releases/tag/v3.0.0. Use :func:`~optuna.trial.Trial.suggest_float` instead.\n",
      "  'gamma': trial.suggest_loguniform('gamma', 1e-8, 1.0),\n",
      "C:\\Users\\xfini\\AppData\\Local\\Temp\\ipykernel_20184\\1068959902.py:11: FutureWarning: suggest_loguniform has been deprecated in v3.0.0. This feature will be removed in v6.0.0. See https://github.com/optuna/optuna/releases/tag/v3.0.0. Use :func:`~optuna.trial.Trial.suggest_float` instead.\n",
      "  'subsample': trial.suggest_loguniform('subsample', 0.01, 1.0),\n",
      "C:\\Users\\xfini\\AppData\\Local\\Temp\\ipykernel_20184\\1068959902.py:12: FutureWarning: suggest_loguniform has been deprecated in v3.0.0. This feature will be removed in v6.0.0. See https://github.com/optuna/optuna/releases/tag/v3.0.0. Use :func:`~optuna.trial.Trial.suggest_float` instead.\n",
      "  'colsample_bytree': trial.suggest_loguniform('colsample_bytree', 0.01, 1.0),\n",
      "C:\\Users\\xfini\\AppData\\Local\\Temp\\ipykernel_20184\\1068959902.py:13: FutureWarning: suggest_loguniform has been deprecated in v3.0.0. This feature will be removed in v6.0.0. See https://github.com/optuna/optuna/releases/tag/v3.0.0. Use :func:`~optuna.trial.Trial.suggest_float` instead.\n",
      "  'reg_alpha': trial.suggest_loguniform('reg_alpha', 1e-8, 1.0),\n",
      "C:\\Users\\xfini\\AppData\\Local\\Temp\\ipykernel_20184\\1068959902.py:14: FutureWarning: suggest_loguniform has been deprecated in v3.0.0. This feature will be removed in v6.0.0. See https://github.com/optuna/optuna/releases/tag/v3.0.0. Use :func:`~optuna.trial.Trial.suggest_float` instead.\n",
      "  'reg_lambda': trial.suggest_loguniform('reg_lambda', 1e-8, 1.0),\n",
      "C:\\Users\\xfini\\AppData\\Local\\Temp\\ipykernel_20184\\1068959902.py:15: FutureWarning: suggest_loguniform has been deprecated in v3.0.0. This feature will be removed in v6.0.0. See https://github.com/optuna/optuna/releases/tag/v3.0.0. Use :func:`~optuna.trial.Trial.suggest_float` instead.\n",
      "  'rsm': trial.suggest_loguniform('rsm', 0.1, 0.9)\n"
     ]
    },
    {
     "name": "stdout",
     "output_type": "stream",
     "text": [
      "[15:10:36] WARNING: C:/buildkite-agent/builds/buildkite-windows-cpu-autoscaling-group-i-08de971ced8a8cdc6-1/xgboost/xgboost-ci-windows/src/learner.cc:767: \n",
      "Parameters: { \"rsm\" } are not used.\n",
      "\n"
     ]
    },
    {
     "name": "stderr",
     "output_type": "stream",
     "text": [
      "C:\\Users\\xfini\\AppData\\Local\\Temp\\ipykernel_20184\\1068959902.py:7: FutureWarning: suggest_loguniform has been deprecated in v3.0.0. This feature will be removed in v6.0.0. See https://github.com/optuna/optuna/releases/tag/v3.0.0. Use :func:`~optuna.trial.Trial.suggest_float` instead.\n",
      "  'learning_rate': trial.suggest_loguniform('learning_rate', 0.01,1.0),\n",
      "C:\\Users\\xfini\\AppData\\Local\\Temp\\ipykernel_20184\\1068959902.py:10: FutureWarning: suggest_loguniform has been deprecated in v3.0.0. This feature will be removed in v6.0.0. See https://github.com/optuna/optuna/releases/tag/v3.0.0. Use :func:`~optuna.trial.Trial.suggest_float` instead.\n",
      "  'gamma': trial.suggest_loguniform('gamma', 1e-8, 1.0),\n",
      "C:\\Users\\xfini\\AppData\\Local\\Temp\\ipykernel_20184\\1068959902.py:11: FutureWarning: suggest_loguniform has been deprecated in v3.0.0. This feature will be removed in v6.0.0. See https://github.com/optuna/optuna/releases/tag/v3.0.0. Use :func:`~optuna.trial.Trial.suggest_float` instead.\n",
      "  'subsample': trial.suggest_loguniform('subsample', 0.01, 1.0),\n",
      "C:\\Users\\xfini\\AppData\\Local\\Temp\\ipykernel_20184\\1068959902.py:12: FutureWarning: suggest_loguniform has been deprecated in v3.0.0. This feature will be removed in v6.0.0. See https://github.com/optuna/optuna/releases/tag/v3.0.0. Use :func:`~optuna.trial.Trial.suggest_float` instead.\n",
      "  'colsample_bytree': trial.suggest_loguniform('colsample_bytree', 0.01, 1.0),\n",
      "C:\\Users\\xfini\\AppData\\Local\\Temp\\ipykernel_20184\\1068959902.py:13: FutureWarning: suggest_loguniform has been deprecated in v3.0.0. This feature will be removed in v6.0.0. See https://github.com/optuna/optuna/releases/tag/v3.0.0. Use :func:`~optuna.trial.Trial.suggest_float` instead.\n",
      "  'reg_alpha': trial.suggest_loguniform('reg_alpha', 1e-8, 1.0),\n",
      "C:\\Users\\xfini\\AppData\\Local\\Temp\\ipykernel_20184\\1068959902.py:14: FutureWarning: suggest_loguniform has been deprecated in v3.0.0. This feature will be removed in v6.0.0. See https://github.com/optuna/optuna/releases/tag/v3.0.0. Use :func:`~optuna.trial.Trial.suggest_float` instead.\n",
      "  'reg_lambda': trial.suggest_loguniform('reg_lambda', 1e-8, 1.0),\n",
      "C:\\Users\\xfini\\AppData\\Local\\Temp\\ipykernel_20184\\1068959902.py:15: FutureWarning: suggest_loguniform has been deprecated in v3.0.0. This feature will be removed in v6.0.0. See https://github.com/optuna/optuna/releases/tag/v3.0.0. Use :func:`~optuna.trial.Trial.suggest_float` instead.\n",
      "  'rsm': trial.suggest_loguniform('rsm', 0.1, 0.9)\n"
     ]
    },
    {
     "name": "stdout",
     "output_type": "stream",
     "text": [
      "[15:10:37] WARNING: C:/buildkite-agent/builds/buildkite-windows-cpu-autoscaling-group-i-08de971ced8a8cdc6-1/xgboost/xgboost-ci-windows/src/learner.cc:767: \n",
      "Parameters: { \"rsm\" } are not used.\n",
      "\n"
     ]
    },
    {
     "name": "stderr",
     "output_type": "stream",
     "text": [
      "C:\\Users\\xfini\\AppData\\Local\\Temp\\ipykernel_20184\\1068959902.py:7: FutureWarning: suggest_loguniform has been deprecated in v3.0.0. This feature will be removed in v6.0.0. See https://github.com/optuna/optuna/releases/tag/v3.0.0. Use :func:`~optuna.trial.Trial.suggest_float` instead.\n",
      "  'learning_rate': trial.suggest_loguniform('learning_rate', 0.01,1.0),\n",
      "C:\\Users\\xfini\\AppData\\Local\\Temp\\ipykernel_20184\\1068959902.py:10: FutureWarning: suggest_loguniform has been deprecated in v3.0.0. This feature will be removed in v6.0.0. See https://github.com/optuna/optuna/releases/tag/v3.0.0. Use :func:`~optuna.trial.Trial.suggest_float` instead.\n",
      "  'gamma': trial.suggest_loguniform('gamma', 1e-8, 1.0),\n",
      "C:\\Users\\xfini\\AppData\\Local\\Temp\\ipykernel_20184\\1068959902.py:11: FutureWarning: suggest_loguniform has been deprecated in v3.0.0. This feature will be removed in v6.0.0. See https://github.com/optuna/optuna/releases/tag/v3.0.0. Use :func:`~optuna.trial.Trial.suggest_float` instead.\n",
      "  'subsample': trial.suggest_loguniform('subsample', 0.01, 1.0),\n",
      "C:\\Users\\xfini\\AppData\\Local\\Temp\\ipykernel_20184\\1068959902.py:12: FutureWarning: suggest_loguniform has been deprecated in v3.0.0. This feature will be removed in v6.0.0. See https://github.com/optuna/optuna/releases/tag/v3.0.0. Use :func:`~optuna.trial.Trial.suggest_float` instead.\n",
      "  'colsample_bytree': trial.suggest_loguniform('colsample_bytree', 0.01, 1.0),\n",
      "C:\\Users\\xfini\\AppData\\Local\\Temp\\ipykernel_20184\\1068959902.py:13: FutureWarning: suggest_loguniform has been deprecated in v3.0.0. This feature will be removed in v6.0.0. See https://github.com/optuna/optuna/releases/tag/v3.0.0. Use :func:`~optuna.trial.Trial.suggest_float` instead.\n",
      "  'reg_alpha': trial.suggest_loguniform('reg_alpha', 1e-8, 1.0),\n",
      "C:\\Users\\xfini\\AppData\\Local\\Temp\\ipykernel_20184\\1068959902.py:14: FutureWarning: suggest_loguniform has been deprecated in v3.0.0. This feature will be removed in v6.0.0. See https://github.com/optuna/optuna/releases/tag/v3.0.0. Use :func:`~optuna.trial.Trial.suggest_float` instead.\n",
      "  'reg_lambda': trial.suggest_loguniform('reg_lambda', 1e-8, 1.0),\n",
      "C:\\Users\\xfini\\AppData\\Local\\Temp\\ipykernel_20184\\1068959902.py:15: FutureWarning: suggest_loguniform has been deprecated in v3.0.0. This feature will be removed in v6.0.0. See https://github.com/optuna/optuna/releases/tag/v3.0.0. Use :func:`~optuna.trial.Trial.suggest_float` instead.\n",
      "  'rsm': trial.suggest_loguniform('rsm', 0.1, 0.9)\n"
     ]
    },
    {
     "name": "stdout",
     "output_type": "stream",
     "text": [
      "[15:10:38] WARNING: C:/buildkite-agent/builds/buildkite-windows-cpu-autoscaling-group-i-08de971ced8a8cdc6-1/xgboost/xgboost-ci-windows/src/learner.cc:767: \n",
      "Parameters: { \"rsm\" } are not used.\n",
      "\n"
     ]
    },
    {
     "name": "stderr",
     "output_type": "stream",
     "text": [
      "C:\\Users\\xfini\\AppData\\Local\\Temp\\ipykernel_20184\\1068959902.py:7: FutureWarning: suggest_loguniform has been deprecated in v3.0.0. This feature will be removed in v6.0.0. See https://github.com/optuna/optuna/releases/tag/v3.0.0. Use :func:`~optuna.trial.Trial.suggest_float` instead.\n",
      "  'learning_rate': trial.suggest_loguniform('learning_rate', 0.01,1.0),\n",
      "C:\\Users\\xfini\\AppData\\Local\\Temp\\ipykernel_20184\\1068959902.py:10: FutureWarning: suggest_loguniform has been deprecated in v3.0.0. This feature will be removed in v6.0.0. See https://github.com/optuna/optuna/releases/tag/v3.0.0. Use :func:`~optuna.trial.Trial.suggest_float` instead.\n",
      "  'gamma': trial.suggest_loguniform('gamma', 1e-8, 1.0),\n",
      "C:\\Users\\xfini\\AppData\\Local\\Temp\\ipykernel_20184\\1068959902.py:11: FutureWarning: suggest_loguniform has been deprecated in v3.0.0. This feature will be removed in v6.0.0. See https://github.com/optuna/optuna/releases/tag/v3.0.0. Use :func:`~optuna.trial.Trial.suggest_float` instead.\n",
      "  'subsample': trial.suggest_loguniform('subsample', 0.01, 1.0),\n",
      "C:\\Users\\xfini\\AppData\\Local\\Temp\\ipykernel_20184\\1068959902.py:12: FutureWarning: suggest_loguniform has been deprecated in v3.0.0. This feature will be removed in v6.0.0. See https://github.com/optuna/optuna/releases/tag/v3.0.0. Use :func:`~optuna.trial.Trial.suggest_float` instead.\n",
      "  'colsample_bytree': trial.suggest_loguniform('colsample_bytree', 0.01, 1.0),\n",
      "C:\\Users\\xfini\\AppData\\Local\\Temp\\ipykernel_20184\\1068959902.py:13: FutureWarning: suggest_loguniform has been deprecated in v3.0.0. This feature will be removed in v6.0.0. See https://github.com/optuna/optuna/releases/tag/v3.0.0. Use :func:`~optuna.trial.Trial.suggest_float` instead.\n",
      "  'reg_alpha': trial.suggest_loguniform('reg_alpha', 1e-8, 1.0),\n",
      "C:\\Users\\xfini\\AppData\\Local\\Temp\\ipykernel_20184\\1068959902.py:14: FutureWarning: suggest_loguniform has been deprecated in v3.0.0. This feature will be removed in v6.0.0. See https://github.com/optuna/optuna/releases/tag/v3.0.0. Use :func:`~optuna.trial.Trial.suggest_float` instead.\n",
      "  'reg_lambda': trial.suggest_loguniform('reg_lambda', 1e-8, 1.0),\n",
      "C:\\Users\\xfini\\AppData\\Local\\Temp\\ipykernel_20184\\1068959902.py:15: FutureWarning: suggest_loguniform has been deprecated in v3.0.0. This feature will be removed in v6.0.0. See https://github.com/optuna/optuna/releases/tag/v3.0.0. Use :func:`~optuna.trial.Trial.suggest_float` instead.\n",
      "  'rsm': trial.suggest_loguniform('rsm', 0.1, 0.9)\n"
     ]
    },
    {
     "name": "stdout",
     "output_type": "stream",
     "text": [
      "[15:10:39] WARNING: C:/buildkite-agent/builds/buildkite-windows-cpu-autoscaling-group-i-08de971ced8a8cdc6-1/xgboost/xgboost-ci-windows/src/learner.cc:767: \n",
      "Parameters: { \"rsm\" } are not used.\n",
      "\n"
     ]
    },
    {
     "name": "stderr",
     "output_type": "stream",
     "text": [
      "C:\\Users\\xfini\\AppData\\Local\\Temp\\ipykernel_20184\\1068959902.py:7: FutureWarning: suggest_loguniform has been deprecated in v3.0.0. This feature will be removed in v6.0.0. See https://github.com/optuna/optuna/releases/tag/v3.0.0. Use :func:`~optuna.trial.Trial.suggest_float` instead.\n",
      "  'learning_rate': trial.suggest_loguniform('learning_rate', 0.01,1.0),\n",
      "C:\\Users\\xfini\\AppData\\Local\\Temp\\ipykernel_20184\\1068959902.py:10: FutureWarning: suggest_loguniform has been deprecated in v3.0.0. This feature will be removed in v6.0.0. See https://github.com/optuna/optuna/releases/tag/v3.0.0. Use :func:`~optuna.trial.Trial.suggest_float` instead.\n",
      "  'gamma': trial.suggest_loguniform('gamma', 1e-8, 1.0),\n",
      "C:\\Users\\xfini\\AppData\\Local\\Temp\\ipykernel_20184\\1068959902.py:11: FutureWarning: suggest_loguniform has been deprecated in v3.0.0. This feature will be removed in v6.0.0. See https://github.com/optuna/optuna/releases/tag/v3.0.0. Use :func:`~optuna.trial.Trial.suggest_float` instead.\n",
      "  'subsample': trial.suggest_loguniform('subsample', 0.01, 1.0),\n",
      "C:\\Users\\xfini\\AppData\\Local\\Temp\\ipykernel_20184\\1068959902.py:12: FutureWarning: suggest_loguniform has been deprecated in v3.0.0. This feature will be removed in v6.0.0. See https://github.com/optuna/optuna/releases/tag/v3.0.0. Use :func:`~optuna.trial.Trial.suggest_float` instead.\n",
      "  'colsample_bytree': trial.suggest_loguniform('colsample_bytree', 0.01, 1.0),\n",
      "C:\\Users\\xfini\\AppData\\Local\\Temp\\ipykernel_20184\\1068959902.py:13: FutureWarning: suggest_loguniform has been deprecated in v3.0.0. This feature will be removed in v6.0.0. See https://github.com/optuna/optuna/releases/tag/v3.0.0. Use :func:`~optuna.trial.Trial.suggest_float` instead.\n",
      "  'reg_alpha': trial.suggest_loguniform('reg_alpha', 1e-8, 1.0),\n",
      "C:\\Users\\xfini\\AppData\\Local\\Temp\\ipykernel_20184\\1068959902.py:14: FutureWarning: suggest_loguniform has been deprecated in v3.0.0. This feature will be removed in v6.0.0. See https://github.com/optuna/optuna/releases/tag/v3.0.0. Use :func:`~optuna.trial.Trial.suggest_float` instead.\n",
      "  'reg_lambda': trial.suggest_loguniform('reg_lambda', 1e-8, 1.0),\n",
      "C:\\Users\\xfini\\AppData\\Local\\Temp\\ipykernel_20184\\1068959902.py:15: FutureWarning: suggest_loguniform has been deprecated in v3.0.0. This feature will be removed in v6.0.0. See https://github.com/optuna/optuna/releases/tag/v3.0.0. Use :func:`~optuna.trial.Trial.suggest_float` instead.\n",
      "  'rsm': trial.suggest_loguniform('rsm', 0.1, 0.9)\n"
     ]
    },
    {
     "name": "stdout",
     "output_type": "stream",
     "text": [
      "[15:10:39] WARNING: C:/buildkite-agent/builds/buildkite-windows-cpu-autoscaling-group-i-08de971ced8a8cdc6-1/xgboost/xgboost-ci-windows/src/learner.cc:767: \n",
      "Parameters: { \"rsm\" } are not used.\n",
      "\n"
     ]
    },
    {
     "name": "stderr",
     "output_type": "stream",
     "text": [
      "C:\\Users\\xfini\\AppData\\Local\\Temp\\ipykernel_20184\\1068959902.py:7: FutureWarning: suggest_loguniform has been deprecated in v3.0.0. This feature will be removed in v6.0.0. See https://github.com/optuna/optuna/releases/tag/v3.0.0. Use :func:`~optuna.trial.Trial.suggest_float` instead.\n",
      "  'learning_rate': trial.suggest_loguniform('learning_rate', 0.01,1.0),\n",
      "C:\\Users\\xfini\\AppData\\Local\\Temp\\ipykernel_20184\\1068959902.py:10: FutureWarning: suggest_loguniform has been deprecated in v3.0.0. This feature will be removed in v6.0.0. See https://github.com/optuna/optuna/releases/tag/v3.0.0. Use :func:`~optuna.trial.Trial.suggest_float` instead.\n",
      "  'gamma': trial.suggest_loguniform('gamma', 1e-8, 1.0),\n",
      "C:\\Users\\xfini\\AppData\\Local\\Temp\\ipykernel_20184\\1068959902.py:11: FutureWarning: suggest_loguniform has been deprecated in v3.0.0. This feature will be removed in v6.0.0. See https://github.com/optuna/optuna/releases/tag/v3.0.0. Use :func:`~optuna.trial.Trial.suggest_float` instead.\n",
      "  'subsample': trial.suggest_loguniform('subsample', 0.01, 1.0),\n",
      "C:\\Users\\xfini\\AppData\\Local\\Temp\\ipykernel_20184\\1068959902.py:12: FutureWarning: suggest_loguniform has been deprecated in v3.0.0. This feature will be removed in v6.0.0. See https://github.com/optuna/optuna/releases/tag/v3.0.0. Use :func:`~optuna.trial.Trial.suggest_float` instead.\n",
      "  'colsample_bytree': trial.suggest_loguniform('colsample_bytree', 0.01, 1.0),\n",
      "C:\\Users\\xfini\\AppData\\Local\\Temp\\ipykernel_20184\\1068959902.py:13: FutureWarning: suggest_loguniform has been deprecated in v3.0.0. This feature will be removed in v6.0.0. See https://github.com/optuna/optuna/releases/tag/v3.0.0. Use :func:`~optuna.trial.Trial.suggest_float` instead.\n",
      "  'reg_alpha': trial.suggest_loguniform('reg_alpha', 1e-8, 1.0),\n",
      "C:\\Users\\xfini\\AppData\\Local\\Temp\\ipykernel_20184\\1068959902.py:14: FutureWarning: suggest_loguniform has been deprecated in v3.0.0. This feature will be removed in v6.0.0. See https://github.com/optuna/optuna/releases/tag/v3.0.0. Use :func:`~optuna.trial.Trial.suggest_float` instead.\n",
      "  'reg_lambda': trial.suggest_loguniform('reg_lambda', 1e-8, 1.0),\n",
      "C:\\Users\\xfini\\AppData\\Local\\Temp\\ipykernel_20184\\1068959902.py:15: FutureWarning: suggest_loguniform has been deprecated in v3.0.0. This feature will be removed in v6.0.0. See https://github.com/optuna/optuna/releases/tag/v3.0.0. Use :func:`~optuna.trial.Trial.suggest_float` instead.\n",
      "  'rsm': trial.suggest_loguniform('rsm', 0.1, 0.9)\n"
     ]
    },
    {
     "name": "stdout",
     "output_type": "stream",
     "text": [
      "[15:10:40] WARNING: C:/buildkite-agent/builds/buildkite-windows-cpu-autoscaling-group-i-08de971ced8a8cdc6-1/xgboost/xgboost-ci-windows/src/learner.cc:767: \n",
      "Parameters: { \"rsm\" } are not used.\n",
      "\n"
     ]
    },
    {
     "name": "stderr",
     "output_type": "stream",
     "text": [
      "C:\\Users\\xfini\\AppData\\Local\\Temp\\ipykernel_20184\\1068959902.py:7: FutureWarning: suggest_loguniform has been deprecated in v3.0.0. This feature will be removed in v6.0.0. See https://github.com/optuna/optuna/releases/tag/v3.0.0. Use :func:`~optuna.trial.Trial.suggest_float` instead.\n",
      "  'learning_rate': trial.suggest_loguniform('learning_rate', 0.01,1.0),\n",
      "C:\\Users\\xfini\\AppData\\Local\\Temp\\ipykernel_20184\\1068959902.py:10: FutureWarning: suggest_loguniform has been deprecated in v3.0.0. This feature will be removed in v6.0.0. See https://github.com/optuna/optuna/releases/tag/v3.0.0. Use :func:`~optuna.trial.Trial.suggest_float` instead.\n",
      "  'gamma': trial.suggest_loguniform('gamma', 1e-8, 1.0),\n",
      "C:\\Users\\xfini\\AppData\\Local\\Temp\\ipykernel_20184\\1068959902.py:11: FutureWarning: suggest_loguniform has been deprecated in v3.0.0. This feature will be removed in v6.0.0. See https://github.com/optuna/optuna/releases/tag/v3.0.0. Use :func:`~optuna.trial.Trial.suggest_float` instead.\n",
      "  'subsample': trial.suggest_loguniform('subsample', 0.01, 1.0),\n",
      "C:\\Users\\xfini\\AppData\\Local\\Temp\\ipykernel_20184\\1068959902.py:12: FutureWarning: suggest_loguniform has been deprecated in v3.0.0. This feature will be removed in v6.0.0. See https://github.com/optuna/optuna/releases/tag/v3.0.0. Use :func:`~optuna.trial.Trial.suggest_float` instead.\n",
      "  'colsample_bytree': trial.suggest_loguniform('colsample_bytree', 0.01, 1.0),\n",
      "C:\\Users\\xfini\\AppData\\Local\\Temp\\ipykernel_20184\\1068959902.py:13: FutureWarning: suggest_loguniform has been deprecated in v3.0.0. This feature will be removed in v6.0.0. See https://github.com/optuna/optuna/releases/tag/v3.0.0. Use :func:`~optuna.trial.Trial.suggest_float` instead.\n",
      "  'reg_alpha': trial.suggest_loguniform('reg_alpha', 1e-8, 1.0),\n",
      "C:\\Users\\xfini\\AppData\\Local\\Temp\\ipykernel_20184\\1068959902.py:14: FutureWarning: suggest_loguniform has been deprecated in v3.0.0. This feature will be removed in v6.0.0. See https://github.com/optuna/optuna/releases/tag/v3.0.0. Use :func:`~optuna.trial.Trial.suggest_float` instead.\n",
      "  'reg_lambda': trial.suggest_loguniform('reg_lambda', 1e-8, 1.0),\n",
      "C:\\Users\\xfini\\AppData\\Local\\Temp\\ipykernel_20184\\1068959902.py:15: FutureWarning: suggest_loguniform has been deprecated in v3.0.0. This feature will be removed in v6.0.0. See https://github.com/optuna/optuna/releases/tag/v3.0.0. Use :func:`~optuna.trial.Trial.suggest_float` instead.\n",
      "  'rsm': trial.suggest_loguniform('rsm', 0.1, 0.9)\n"
     ]
    },
    {
     "name": "stdout",
     "output_type": "stream",
     "text": [
      "[15:10:40] WARNING: C:/buildkite-agent/builds/buildkite-windows-cpu-autoscaling-group-i-08de971ced8a8cdc6-1/xgboost/xgboost-ci-windows/src/learner.cc:767: \n",
      "Parameters: { \"rsm\" } are not used.\n",
      "\n"
     ]
    },
    {
     "name": "stderr",
     "output_type": "stream",
     "text": [
      "C:\\Users\\xfini\\AppData\\Local\\Temp\\ipykernel_20184\\1068959902.py:7: FutureWarning: suggest_loguniform has been deprecated in v3.0.0. This feature will be removed in v6.0.0. See https://github.com/optuna/optuna/releases/tag/v3.0.0. Use :func:`~optuna.trial.Trial.suggest_float` instead.\n",
      "  'learning_rate': trial.suggest_loguniform('learning_rate', 0.01,1.0),\n",
      "C:\\Users\\xfini\\AppData\\Local\\Temp\\ipykernel_20184\\1068959902.py:10: FutureWarning: suggest_loguniform has been deprecated in v3.0.0. This feature will be removed in v6.0.0. See https://github.com/optuna/optuna/releases/tag/v3.0.0. Use :func:`~optuna.trial.Trial.suggest_float` instead.\n",
      "  'gamma': trial.suggest_loguniform('gamma', 1e-8, 1.0),\n",
      "C:\\Users\\xfini\\AppData\\Local\\Temp\\ipykernel_20184\\1068959902.py:11: FutureWarning: suggest_loguniform has been deprecated in v3.0.0. This feature will be removed in v6.0.0. See https://github.com/optuna/optuna/releases/tag/v3.0.0. Use :func:`~optuna.trial.Trial.suggest_float` instead.\n",
      "  'subsample': trial.suggest_loguniform('subsample', 0.01, 1.0),\n",
      "C:\\Users\\xfini\\AppData\\Local\\Temp\\ipykernel_20184\\1068959902.py:12: FutureWarning: suggest_loguniform has been deprecated in v3.0.0. This feature will be removed in v6.0.0. See https://github.com/optuna/optuna/releases/tag/v3.0.0. Use :func:`~optuna.trial.Trial.suggest_float` instead.\n",
      "  'colsample_bytree': trial.suggest_loguniform('colsample_bytree', 0.01, 1.0),\n",
      "C:\\Users\\xfini\\AppData\\Local\\Temp\\ipykernel_20184\\1068959902.py:13: FutureWarning: suggest_loguniform has been deprecated in v3.0.0. This feature will be removed in v6.0.0. See https://github.com/optuna/optuna/releases/tag/v3.0.0. Use :func:`~optuna.trial.Trial.suggest_float` instead.\n",
      "  'reg_alpha': trial.suggest_loguniform('reg_alpha', 1e-8, 1.0),\n",
      "C:\\Users\\xfini\\AppData\\Local\\Temp\\ipykernel_20184\\1068959902.py:14: FutureWarning: suggest_loguniform has been deprecated in v3.0.0. This feature will be removed in v6.0.0. See https://github.com/optuna/optuna/releases/tag/v3.0.0. Use :func:`~optuna.trial.Trial.suggest_float` instead.\n",
      "  'reg_lambda': trial.suggest_loguniform('reg_lambda', 1e-8, 1.0),\n",
      "C:\\Users\\xfini\\AppData\\Local\\Temp\\ipykernel_20184\\1068959902.py:15: FutureWarning: suggest_loguniform has been deprecated in v3.0.0. This feature will be removed in v6.0.0. See https://github.com/optuna/optuna/releases/tag/v3.0.0. Use :func:`~optuna.trial.Trial.suggest_float` instead.\n",
      "  'rsm': trial.suggest_loguniform('rsm', 0.1, 0.9)\n"
     ]
    },
    {
     "name": "stdout",
     "output_type": "stream",
     "text": [
      "[15:10:41] WARNING: C:/buildkite-agent/builds/buildkite-windows-cpu-autoscaling-group-i-08de971ced8a8cdc6-1/xgboost/xgboost-ci-windows/src/learner.cc:767: \n",
      "Parameters: { \"rsm\" } are not used.\n",
      "\n"
     ]
    },
    {
     "name": "stderr",
     "output_type": "stream",
     "text": [
      "C:\\Users\\xfini\\AppData\\Local\\Temp\\ipykernel_20184\\1068959902.py:7: FutureWarning: suggest_loguniform has been deprecated in v3.0.0. This feature will be removed in v6.0.0. See https://github.com/optuna/optuna/releases/tag/v3.0.0. Use :func:`~optuna.trial.Trial.suggest_float` instead.\n",
      "  'learning_rate': trial.suggest_loguniform('learning_rate', 0.01,1.0),\n",
      "C:\\Users\\xfini\\AppData\\Local\\Temp\\ipykernel_20184\\1068959902.py:10: FutureWarning: suggest_loguniform has been deprecated in v3.0.0. This feature will be removed in v6.0.0. See https://github.com/optuna/optuna/releases/tag/v3.0.0. Use :func:`~optuna.trial.Trial.suggest_float` instead.\n",
      "  'gamma': trial.suggest_loguniform('gamma', 1e-8, 1.0),\n",
      "C:\\Users\\xfini\\AppData\\Local\\Temp\\ipykernel_20184\\1068959902.py:11: FutureWarning: suggest_loguniform has been deprecated in v3.0.0. This feature will be removed in v6.0.0. See https://github.com/optuna/optuna/releases/tag/v3.0.0. Use :func:`~optuna.trial.Trial.suggest_float` instead.\n",
      "  'subsample': trial.suggest_loguniform('subsample', 0.01, 1.0),\n",
      "C:\\Users\\xfini\\AppData\\Local\\Temp\\ipykernel_20184\\1068959902.py:12: FutureWarning: suggest_loguniform has been deprecated in v3.0.0. This feature will be removed in v6.0.0. See https://github.com/optuna/optuna/releases/tag/v3.0.0. Use :func:`~optuna.trial.Trial.suggest_float` instead.\n",
      "  'colsample_bytree': trial.suggest_loguniform('colsample_bytree', 0.01, 1.0),\n",
      "C:\\Users\\xfini\\AppData\\Local\\Temp\\ipykernel_20184\\1068959902.py:13: FutureWarning: suggest_loguniform has been deprecated in v3.0.0. This feature will be removed in v6.0.0. See https://github.com/optuna/optuna/releases/tag/v3.0.0. Use :func:`~optuna.trial.Trial.suggest_float` instead.\n",
      "  'reg_alpha': trial.suggest_loguniform('reg_alpha', 1e-8, 1.0),\n",
      "C:\\Users\\xfini\\AppData\\Local\\Temp\\ipykernel_20184\\1068959902.py:14: FutureWarning: suggest_loguniform has been deprecated in v3.0.0. This feature will be removed in v6.0.0. See https://github.com/optuna/optuna/releases/tag/v3.0.0. Use :func:`~optuna.trial.Trial.suggest_float` instead.\n",
      "  'reg_lambda': trial.suggest_loguniform('reg_lambda', 1e-8, 1.0),\n",
      "C:\\Users\\xfini\\AppData\\Local\\Temp\\ipykernel_20184\\1068959902.py:15: FutureWarning: suggest_loguniform has been deprecated in v3.0.0. This feature will be removed in v6.0.0. See https://github.com/optuna/optuna/releases/tag/v3.0.0. Use :func:`~optuna.trial.Trial.suggest_float` instead.\n",
      "  'rsm': trial.suggest_loguniform('rsm', 0.1, 0.9)\n"
     ]
    },
    {
     "name": "stdout",
     "output_type": "stream",
     "text": [
      "[15:10:41] WARNING: C:/buildkite-agent/builds/buildkite-windows-cpu-autoscaling-group-i-08de971ced8a8cdc6-1/xgboost/xgboost-ci-windows/src/learner.cc:767: \n",
      "Parameters: { \"rsm\" } are not used.\n",
      "\n"
     ]
    },
    {
     "name": "stderr",
     "output_type": "stream",
     "text": [
      "C:\\Users\\xfini\\AppData\\Local\\Temp\\ipykernel_20184\\1068959902.py:7: FutureWarning: suggest_loguniform has been deprecated in v3.0.0. This feature will be removed in v6.0.0. See https://github.com/optuna/optuna/releases/tag/v3.0.0. Use :func:`~optuna.trial.Trial.suggest_float` instead.\n",
      "  'learning_rate': trial.suggest_loguniform('learning_rate', 0.01,1.0),\n",
      "C:\\Users\\xfini\\AppData\\Local\\Temp\\ipykernel_20184\\1068959902.py:10: FutureWarning: suggest_loguniform has been deprecated in v3.0.0. This feature will be removed in v6.0.0. See https://github.com/optuna/optuna/releases/tag/v3.0.0. Use :func:`~optuna.trial.Trial.suggest_float` instead.\n",
      "  'gamma': trial.suggest_loguniform('gamma', 1e-8, 1.0),\n",
      "C:\\Users\\xfini\\AppData\\Local\\Temp\\ipykernel_20184\\1068959902.py:11: FutureWarning: suggest_loguniform has been deprecated in v3.0.0. This feature will be removed in v6.0.0. See https://github.com/optuna/optuna/releases/tag/v3.0.0. Use :func:`~optuna.trial.Trial.suggest_float` instead.\n",
      "  'subsample': trial.suggest_loguniform('subsample', 0.01, 1.0),\n",
      "C:\\Users\\xfini\\AppData\\Local\\Temp\\ipykernel_20184\\1068959902.py:12: FutureWarning: suggest_loguniform has been deprecated in v3.0.0. This feature will be removed in v6.0.0. See https://github.com/optuna/optuna/releases/tag/v3.0.0. Use :func:`~optuna.trial.Trial.suggest_float` instead.\n",
      "  'colsample_bytree': trial.suggest_loguniform('colsample_bytree', 0.01, 1.0),\n",
      "C:\\Users\\xfini\\AppData\\Local\\Temp\\ipykernel_20184\\1068959902.py:13: FutureWarning: suggest_loguniform has been deprecated in v3.0.0. This feature will be removed in v6.0.0. See https://github.com/optuna/optuna/releases/tag/v3.0.0. Use :func:`~optuna.trial.Trial.suggest_float` instead.\n",
      "  'reg_alpha': trial.suggest_loguniform('reg_alpha', 1e-8, 1.0),\n",
      "C:\\Users\\xfini\\AppData\\Local\\Temp\\ipykernel_20184\\1068959902.py:14: FutureWarning: suggest_loguniform has been deprecated in v3.0.0. This feature will be removed in v6.0.0. See https://github.com/optuna/optuna/releases/tag/v3.0.0. Use :func:`~optuna.trial.Trial.suggest_float` instead.\n",
      "  'reg_lambda': trial.suggest_loguniform('reg_lambda', 1e-8, 1.0),\n",
      "C:\\Users\\xfini\\AppData\\Local\\Temp\\ipykernel_20184\\1068959902.py:15: FutureWarning: suggest_loguniform has been deprecated in v3.0.0. This feature will be removed in v6.0.0. See https://github.com/optuna/optuna/releases/tag/v3.0.0. Use :func:`~optuna.trial.Trial.suggest_float` instead.\n",
      "  'rsm': trial.suggest_loguniform('rsm', 0.1, 0.9)\n"
     ]
    },
    {
     "name": "stdout",
     "output_type": "stream",
     "text": [
      "[15:10:43] WARNING: C:/buildkite-agent/builds/buildkite-windows-cpu-autoscaling-group-i-08de971ced8a8cdc6-1/xgboost/xgboost-ci-windows/src/learner.cc:767: \n",
      "Parameters: { \"rsm\" } are not used.\n",
      "\n"
     ]
    },
    {
     "name": "stderr",
     "output_type": "stream",
     "text": [
      "C:\\Users\\xfini\\AppData\\Local\\Temp\\ipykernel_20184\\1068959902.py:7: FutureWarning: suggest_loguniform has been deprecated in v3.0.0. This feature will be removed in v6.0.0. See https://github.com/optuna/optuna/releases/tag/v3.0.0. Use :func:`~optuna.trial.Trial.suggest_float` instead.\n",
      "  'learning_rate': trial.suggest_loguniform('learning_rate', 0.01,1.0),\n",
      "C:\\Users\\xfini\\AppData\\Local\\Temp\\ipykernel_20184\\1068959902.py:10: FutureWarning: suggest_loguniform has been deprecated in v3.0.0. This feature will be removed in v6.0.0. See https://github.com/optuna/optuna/releases/tag/v3.0.0. Use :func:`~optuna.trial.Trial.suggest_float` instead.\n",
      "  'gamma': trial.suggest_loguniform('gamma', 1e-8, 1.0),\n",
      "C:\\Users\\xfini\\AppData\\Local\\Temp\\ipykernel_20184\\1068959902.py:11: FutureWarning: suggest_loguniform has been deprecated in v3.0.0. This feature will be removed in v6.0.0. See https://github.com/optuna/optuna/releases/tag/v3.0.0. Use :func:`~optuna.trial.Trial.suggest_float` instead.\n",
      "  'subsample': trial.suggest_loguniform('subsample', 0.01, 1.0),\n",
      "C:\\Users\\xfini\\AppData\\Local\\Temp\\ipykernel_20184\\1068959902.py:12: FutureWarning: suggest_loguniform has been deprecated in v3.0.0. This feature will be removed in v6.0.0. See https://github.com/optuna/optuna/releases/tag/v3.0.0. Use :func:`~optuna.trial.Trial.suggest_float` instead.\n",
      "  'colsample_bytree': trial.suggest_loguniform('colsample_bytree', 0.01, 1.0),\n",
      "C:\\Users\\xfini\\AppData\\Local\\Temp\\ipykernel_20184\\1068959902.py:13: FutureWarning: suggest_loguniform has been deprecated in v3.0.0. This feature will be removed in v6.0.0. See https://github.com/optuna/optuna/releases/tag/v3.0.0. Use :func:`~optuna.trial.Trial.suggest_float` instead.\n",
      "  'reg_alpha': trial.suggest_loguniform('reg_alpha', 1e-8, 1.0),\n",
      "C:\\Users\\xfini\\AppData\\Local\\Temp\\ipykernel_20184\\1068959902.py:14: FutureWarning: suggest_loguniform has been deprecated in v3.0.0. This feature will be removed in v6.0.0. See https://github.com/optuna/optuna/releases/tag/v3.0.0. Use :func:`~optuna.trial.Trial.suggest_float` instead.\n",
      "  'reg_lambda': trial.suggest_loguniform('reg_lambda', 1e-8, 1.0),\n",
      "C:\\Users\\xfini\\AppData\\Local\\Temp\\ipykernel_20184\\1068959902.py:15: FutureWarning: suggest_loguniform has been deprecated in v3.0.0. This feature will be removed in v6.0.0. See https://github.com/optuna/optuna/releases/tag/v3.0.0. Use :func:`~optuna.trial.Trial.suggest_float` instead.\n",
      "  'rsm': trial.suggest_loguniform('rsm', 0.1, 0.9)\n"
     ]
    },
    {
     "name": "stdout",
     "output_type": "stream",
     "text": [
      "[15:10:44] WARNING: C:/buildkite-agent/builds/buildkite-windows-cpu-autoscaling-group-i-08de971ced8a8cdc6-1/xgboost/xgboost-ci-windows/src/learner.cc:767: \n",
      "Parameters: { \"rsm\" } are not used.\n",
      "\n"
     ]
    },
    {
     "name": "stderr",
     "output_type": "stream",
     "text": [
      "C:\\Users\\xfini\\AppData\\Local\\Temp\\ipykernel_20184\\1068959902.py:7: FutureWarning: suggest_loguniform has been deprecated in v3.0.0. This feature will be removed in v6.0.0. See https://github.com/optuna/optuna/releases/tag/v3.0.0. Use :func:`~optuna.trial.Trial.suggest_float` instead.\n",
      "  'learning_rate': trial.suggest_loguniform('learning_rate', 0.01,1.0),\n",
      "C:\\Users\\xfini\\AppData\\Local\\Temp\\ipykernel_20184\\1068959902.py:10: FutureWarning: suggest_loguniform has been deprecated in v3.0.0. This feature will be removed in v6.0.0. See https://github.com/optuna/optuna/releases/tag/v3.0.0. Use :func:`~optuna.trial.Trial.suggest_float` instead.\n",
      "  'gamma': trial.suggest_loguniform('gamma', 1e-8, 1.0),\n",
      "C:\\Users\\xfini\\AppData\\Local\\Temp\\ipykernel_20184\\1068959902.py:11: FutureWarning: suggest_loguniform has been deprecated in v3.0.0. This feature will be removed in v6.0.0. See https://github.com/optuna/optuna/releases/tag/v3.0.0. Use :func:`~optuna.trial.Trial.suggest_float` instead.\n",
      "  'subsample': trial.suggest_loguniform('subsample', 0.01, 1.0),\n",
      "C:\\Users\\xfini\\AppData\\Local\\Temp\\ipykernel_20184\\1068959902.py:12: FutureWarning: suggest_loguniform has been deprecated in v3.0.0. This feature will be removed in v6.0.0. See https://github.com/optuna/optuna/releases/tag/v3.0.0. Use :func:`~optuna.trial.Trial.suggest_float` instead.\n",
      "  'colsample_bytree': trial.suggest_loguniform('colsample_bytree', 0.01, 1.0),\n",
      "C:\\Users\\xfini\\AppData\\Local\\Temp\\ipykernel_20184\\1068959902.py:13: FutureWarning: suggest_loguniform has been deprecated in v3.0.0. This feature will be removed in v6.0.0. See https://github.com/optuna/optuna/releases/tag/v3.0.0. Use :func:`~optuna.trial.Trial.suggest_float` instead.\n",
      "  'reg_alpha': trial.suggest_loguniform('reg_alpha', 1e-8, 1.0),\n",
      "C:\\Users\\xfini\\AppData\\Local\\Temp\\ipykernel_20184\\1068959902.py:14: FutureWarning: suggest_loguniform has been deprecated in v3.0.0. This feature will be removed in v6.0.0. See https://github.com/optuna/optuna/releases/tag/v3.0.0. Use :func:`~optuna.trial.Trial.suggest_float` instead.\n",
      "  'reg_lambda': trial.suggest_loguniform('reg_lambda', 1e-8, 1.0),\n",
      "C:\\Users\\xfini\\AppData\\Local\\Temp\\ipykernel_20184\\1068959902.py:15: FutureWarning: suggest_loguniform has been deprecated in v3.0.0. This feature will be removed in v6.0.0. See https://github.com/optuna/optuna/releases/tag/v3.0.0. Use :func:`~optuna.trial.Trial.suggest_float` instead.\n",
      "  'rsm': trial.suggest_loguniform('rsm', 0.1, 0.9)\n"
     ]
    },
    {
     "name": "stdout",
     "output_type": "stream",
     "text": [
      "[15:10:44] WARNING: C:/buildkite-agent/builds/buildkite-windows-cpu-autoscaling-group-i-08de971ced8a8cdc6-1/xgboost/xgboost-ci-windows/src/learner.cc:767: \n",
      "Parameters: { \"rsm\" } are not used.\n",
      "\n"
     ]
    },
    {
     "name": "stderr",
     "output_type": "stream",
     "text": [
      "C:\\Users\\xfini\\AppData\\Local\\Temp\\ipykernel_20184\\1068959902.py:7: FutureWarning: suggest_loguniform has been deprecated in v3.0.0. This feature will be removed in v6.0.0. See https://github.com/optuna/optuna/releases/tag/v3.0.0. Use :func:`~optuna.trial.Trial.suggest_float` instead.\n",
      "  'learning_rate': trial.suggest_loguniform('learning_rate', 0.01,1.0),\n",
      "C:\\Users\\xfini\\AppData\\Local\\Temp\\ipykernel_20184\\1068959902.py:10: FutureWarning: suggest_loguniform has been deprecated in v3.0.0. This feature will be removed in v6.0.0. See https://github.com/optuna/optuna/releases/tag/v3.0.0. Use :func:`~optuna.trial.Trial.suggest_float` instead.\n",
      "  'gamma': trial.suggest_loguniform('gamma', 1e-8, 1.0),\n",
      "C:\\Users\\xfini\\AppData\\Local\\Temp\\ipykernel_20184\\1068959902.py:11: FutureWarning: suggest_loguniform has been deprecated in v3.0.0. This feature will be removed in v6.0.0. See https://github.com/optuna/optuna/releases/tag/v3.0.0. Use :func:`~optuna.trial.Trial.suggest_float` instead.\n",
      "  'subsample': trial.suggest_loguniform('subsample', 0.01, 1.0),\n",
      "C:\\Users\\xfini\\AppData\\Local\\Temp\\ipykernel_20184\\1068959902.py:12: FutureWarning: suggest_loguniform has been deprecated in v3.0.0. This feature will be removed in v6.0.0. See https://github.com/optuna/optuna/releases/tag/v3.0.0. Use :func:`~optuna.trial.Trial.suggest_float` instead.\n",
      "  'colsample_bytree': trial.suggest_loguniform('colsample_bytree', 0.01, 1.0),\n",
      "C:\\Users\\xfini\\AppData\\Local\\Temp\\ipykernel_20184\\1068959902.py:13: FutureWarning: suggest_loguniform has been deprecated in v3.0.0. This feature will be removed in v6.0.0. See https://github.com/optuna/optuna/releases/tag/v3.0.0. Use :func:`~optuna.trial.Trial.suggest_float` instead.\n",
      "  'reg_alpha': trial.suggest_loguniform('reg_alpha', 1e-8, 1.0),\n",
      "C:\\Users\\xfini\\AppData\\Local\\Temp\\ipykernel_20184\\1068959902.py:14: FutureWarning: suggest_loguniform has been deprecated in v3.0.0. This feature will be removed in v6.0.0. See https://github.com/optuna/optuna/releases/tag/v3.0.0. Use :func:`~optuna.trial.Trial.suggest_float` instead.\n",
      "  'reg_lambda': trial.suggest_loguniform('reg_lambda', 1e-8, 1.0),\n",
      "C:\\Users\\xfini\\AppData\\Local\\Temp\\ipykernel_20184\\1068959902.py:15: FutureWarning: suggest_loguniform has been deprecated in v3.0.0. This feature will be removed in v6.0.0. See https://github.com/optuna/optuna/releases/tag/v3.0.0. Use :func:`~optuna.trial.Trial.suggest_float` instead.\n",
      "  'rsm': trial.suggest_loguniform('rsm', 0.1, 0.9)\n"
     ]
    },
    {
     "name": "stdout",
     "output_type": "stream",
     "text": [
      "[15:10:45] WARNING: C:/buildkite-agent/builds/buildkite-windows-cpu-autoscaling-group-i-08de971ced8a8cdc6-1/xgboost/xgboost-ci-windows/src/learner.cc:767: \n",
      "Parameters: { \"rsm\" } are not used.\n",
      "\n"
     ]
    },
    {
     "name": "stderr",
     "output_type": "stream",
     "text": [
      "C:\\Users\\xfini\\AppData\\Local\\Temp\\ipykernel_20184\\1068959902.py:7: FutureWarning: suggest_loguniform has been deprecated in v3.0.0. This feature will be removed in v6.0.0. See https://github.com/optuna/optuna/releases/tag/v3.0.0. Use :func:`~optuna.trial.Trial.suggest_float` instead.\n",
      "  'learning_rate': trial.suggest_loguniform('learning_rate', 0.01,1.0),\n",
      "C:\\Users\\xfini\\AppData\\Local\\Temp\\ipykernel_20184\\1068959902.py:10: FutureWarning: suggest_loguniform has been deprecated in v3.0.0. This feature will be removed in v6.0.0. See https://github.com/optuna/optuna/releases/tag/v3.0.0. Use :func:`~optuna.trial.Trial.suggest_float` instead.\n",
      "  'gamma': trial.suggest_loguniform('gamma', 1e-8, 1.0),\n",
      "C:\\Users\\xfini\\AppData\\Local\\Temp\\ipykernel_20184\\1068959902.py:11: FutureWarning: suggest_loguniform has been deprecated in v3.0.0. This feature will be removed in v6.0.0. See https://github.com/optuna/optuna/releases/tag/v3.0.0. Use :func:`~optuna.trial.Trial.suggest_float` instead.\n",
      "  'subsample': trial.suggest_loguniform('subsample', 0.01, 1.0),\n",
      "C:\\Users\\xfini\\AppData\\Local\\Temp\\ipykernel_20184\\1068959902.py:12: FutureWarning: suggest_loguniform has been deprecated in v3.0.0. This feature will be removed in v6.0.0. See https://github.com/optuna/optuna/releases/tag/v3.0.0. Use :func:`~optuna.trial.Trial.suggest_float` instead.\n",
      "  'colsample_bytree': trial.suggest_loguniform('colsample_bytree', 0.01, 1.0),\n",
      "C:\\Users\\xfini\\AppData\\Local\\Temp\\ipykernel_20184\\1068959902.py:13: FutureWarning: suggest_loguniform has been deprecated in v3.0.0. This feature will be removed in v6.0.0. See https://github.com/optuna/optuna/releases/tag/v3.0.0. Use :func:`~optuna.trial.Trial.suggest_float` instead.\n",
      "  'reg_alpha': trial.suggest_loguniform('reg_alpha', 1e-8, 1.0),\n",
      "C:\\Users\\xfini\\AppData\\Local\\Temp\\ipykernel_20184\\1068959902.py:14: FutureWarning: suggest_loguniform has been deprecated in v3.0.0. This feature will be removed in v6.0.0. See https://github.com/optuna/optuna/releases/tag/v3.0.0. Use :func:`~optuna.trial.Trial.suggest_float` instead.\n",
      "  'reg_lambda': trial.suggest_loguniform('reg_lambda', 1e-8, 1.0),\n",
      "C:\\Users\\xfini\\AppData\\Local\\Temp\\ipykernel_20184\\1068959902.py:15: FutureWarning: suggest_loguniform has been deprecated in v3.0.0. This feature will be removed in v6.0.0. See https://github.com/optuna/optuna/releases/tag/v3.0.0. Use :func:`~optuna.trial.Trial.suggest_float` instead.\n",
      "  'rsm': trial.suggest_loguniform('rsm', 0.1, 0.9)\n"
     ]
    },
    {
     "name": "stdout",
     "output_type": "stream",
     "text": [
      "[15:10:45] WARNING: C:/buildkite-agent/builds/buildkite-windows-cpu-autoscaling-group-i-08de971ced8a8cdc6-1/xgboost/xgboost-ci-windows/src/learner.cc:767: \n",
      "Parameters: { \"rsm\" } are not used.\n",
      "\n"
     ]
    },
    {
     "name": "stderr",
     "output_type": "stream",
     "text": [
      "C:\\Users\\xfini\\AppData\\Local\\Temp\\ipykernel_20184\\1068959902.py:7: FutureWarning: suggest_loguniform has been deprecated in v3.0.0. This feature will be removed in v6.0.0. See https://github.com/optuna/optuna/releases/tag/v3.0.0. Use :func:`~optuna.trial.Trial.suggest_float` instead.\n",
      "  'learning_rate': trial.suggest_loguniform('learning_rate', 0.01,1.0),\n",
      "C:\\Users\\xfini\\AppData\\Local\\Temp\\ipykernel_20184\\1068959902.py:10: FutureWarning: suggest_loguniform has been deprecated in v3.0.0. This feature will be removed in v6.0.0. See https://github.com/optuna/optuna/releases/tag/v3.0.0. Use :func:`~optuna.trial.Trial.suggest_float` instead.\n",
      "  'gamma': trial.suggest_loguniform('gamma', 1e-8, 1.0),\n",
      "C:\\Users\\xfini\\AppData\\Local\\Temp\\ipykernel_20184\\1068959902.py:11: FutureWarning: suggest_loguniform has been deprecated in v3.0.0. This feature will be removed in v6.0.0. See https://github.com/optuna/optuna/releases/tag/v3.0.0. Use :func:`~optuna.trial.Trial.suggest_float` instead.\n",
      "  'subsample': trial.suggest_loguniform('subsample', 0.01, 1.0),\n",
      "C:\\Users\\xfini\\AppData\\Local\\Temp\\ipykernel_20184\\1068959902.py:12: FutureWarning: suggest_loguniform has been deprecated in v3.0.0. This feature will be removed in v6.0.0. See https://github.com/optuna/optuna/releases/tag/v3.0.0. Use :func:`~optuna.trial.Trial.suggest_float` instead.\n",
      "  'colsample_bytree': trial.suggest_loguniform('colsample_bytree', 0.01, 1.0),\n",
      "C:\\Users\\xfini\\AppData\\Local\\Temp\\ipykernel_20184\\1068959902.py:13: FutureWarning: suggest_loguniform has been deprecated in v3.0.0. This feature will be removed in v6.0.0. See https://github.com/optuna/optuna/releases/tag/v3.0.0. Use :func:`~optuna.trial.Trial.suggest_float` instead.\n",
      "  'reg_alpha': trial.suggest_loguniform('reg_alpha', 1e-8, 1.0),\n",
      "C:\\Users\\xfini\\AppData\\Local\\Temp\\ipykernel_20184\\1068959902.py:14: FutureWarning: suggest_loguniform has been deprecated in v3.0.0. This feature will be removed in v6.0.0. See https://github.com/optuna/optuna/releases/tag/v3.0.0. Use :func:`~optuna.trial.Trial.suggest_float` instead.\n",
      "  'reg_lambda': trial.suggest_loguniform('reg_lambda', 1e-8, 1.0),\n",
      "C:\\Users\\xfini\\AppData\\Local\\Temp\\ipykernel_20184\\1068959902.py:15: FutureWarning: suggest_loguniform has been deprecated in v3.0.0. This feature will be removed in v6.0.0. See https://github.com/optuna/optuna/releases/tag/v3.0.0. Use :func:`~optuna.trial.Trial.suggest_float` instead.\n",
      "  'rsm': trial.suggest_loguniform('rsm', 0.1, 0.9)\n"
     ]
    },
    {
     "name": "stdout",
     "output_type": "stream",
     "text": [
      "[15:10:45] WARNING: C:/buildkite-agent/builds/buildkite-windows-cpu-autoscaling-group-i-08de971ced8a8cdc6-1/xgboost/xgboost-ci-windows/src/learner.cc:767: \n",
      "Parameters: { \"rsm\" } are not used.\n",
      "\n"
     ]
    },
    {
     "name": "stderr",
     "output_type": "stream",
     "text": [
      "C:\\Users\\xfini\\AppData\\Local\\Temp\\ipykernel_20184\\1068959902.py:7: FutureWarning: suggest_loguniform has been deprecated in v3.0.0. This feature will be removed in v6.0.0. See https://github.com/optuna/optuna/releases/tag/v3.0.0. Use :func:`~optuna.trial.Trial.suggest_float` instead.\n",
      "  'learning_rate': trial.suggest_loguniform('learning_rate', 0.01,1.0),\n",
      "C:\\Users\\xfini\\AppData\\Local\\Temp\\ipykernel_20184\\1068959902.py:10: FutureWarning: suggest_loguniform has been deprecated in v3.0.0. This feature will be removed in v6.0.0. See https://github.com/optuna/optuna/releases/tag/v3.0.0. Use :func:`~optuna.trial.Trial.suggest_float` instead.\n",
      "  'gamma': trial.suggest_loguniform('gamma', 1e-8, 1.0),\n",
      "C:\\Users\\xfini\\AppData\\Local\\Temp\\ipykernel_20184\\1068959902.py:11: FutureWarning: suggest_loguniform has been deprecated in v3.0.0. This feature will be removed in v6.0.0. See https://github.com/optuna/optuna/releases/tag/v3.0.0. Use :func:`~optuna.trial.Trial.suggest_float` instead.\n",
      "  'subsample': trial.suggest_loguniform('subsample', 0.01, 1.0),\n",
      "C:\\Users\\xfini\\AppData\\Local\\Temp\\ipykernel_20184\\1068959902.py:12: FutureWarning: suggest_loguniform has been deprecated in v3.0.0. This feature will be removed in v6.0.0. See https://github.com/optuna/optuna/releases/tag/v3.0.0. Use :func:`~optuna.trial.Trial.suggest_float` instead.\n",
      "  'colsample_bytree': trial.suggest_loguniform('colsample_bytree', 0.01, 1.0),\n",
      "C:\\Users\\xfini\\AppData\\Local\\Temp\\ipykernel_20184\\1068959902.py:13: FutureWarning: suggest_loguniform has been deprecated in v3.0.0. This feature will be removed in v6.0.0. See https://github.com/optuna/optuna/releases/tag/v3.0.0. Use :func:`~optuna.trial.Trial.suggest_float` instead.\n",
      "  'reg_alpha': trial.suggest_loguniform('reg_alpha', 1e-8, 1.0),\n",
      "C:\\Users\\xfini\\AppData\\Local\\Temp\\ipykernel_20184\\1068959902.py:14: FutureWarning: suggest_loguniform has been deprecated in v3.0.0. This feature will be removed in v6.0.0. See https://github.com/optuna/optuna/releases/tag/v3.0.0. Use :func:`~optuna.trial.Trial.suggest_float` instead.\n",
      "  'reg_lambda': trial.suggest_loguniform('reg_lambda', 1e-8, 1.0),\n",
      "C:\\Users\\xfini\\AppData\\Local\\Temp\\ipykernel_20184\\1068959902.py:15: FutureWarning: suggest_loguniform has been deprecated in v3.0.0. This feature will be removed in v6.0.0. See https://github.com/optuna/optuna/releases/tag/v3.0.0. Use :func:`~optuna.trial.Trial.suggest_float` instead.\n",
      "  'rsm': trial.suggest_loguniform('rsm', 0.1, 0.9)\n"
     ]
    },
    {
     "name": "stdout",
     "output_type": "stream",
     "text": [
      "[15:10:46] WARNING: C:/buildkite-agent/builds/buildkite-windows-cpu-autoscaling-group-i-08de971ced8a8cdc6-1/xgboost/xgboost-ci-windows/src/learner.cc:767: \n",
      "Parameters: { \"rsm\" } are not used.\n",
      "\n"
     ]
    },
    {
     "name": "stderr",
     "output_type": "stream",
     "text": [
      "C:\\Users\\xfini\\AppData\\Local\\Temp\\ipykernel_20184\\1068959902.py:7: FutureWarning: suggest_loguniform has been deprecated in v3.0.0. This feature will be removed in v6.0.0. See https://github.com/optuna/optuna/releases/tag/v3.0.0. Use :func:`~optuna.trial.Trial.suggest_float` instead.\n",
      "  'learning_rate': trial.suggest_loguniform('learning_rate', 0.01,1.0),\n",
      "C:\\Users\\xfini\\AppData\\Local\\Temp\\ipykernel_20184\\1068959902.py:10: FutureWarning: suggest_loguniform has been deprecated in v3.0.0. This feature will be removed in v6.0.0. See https://github.com/optuna/optuna/releases/tag/v3.0.0. Use :func:`~optuna.trial.Trial.suggest_float` instead.\n",
      "  'gamma': trial.suggest_loguniform('gamma', 1e-8, 1.0),\n",
      "C:\\Users\\xfini\\AppData\\Local\\Temp\\ipykernel_20184\\1068959902.py:11: FutureWarning: suggest_loguniform has been deprecated in v3.0.0. This feature will be removed in v6.0.0. See https://github.com/optuna/optuna/releases/tag/v3.0.0. Use :func:`~optuna.trial.Trial.suggest_float` instead.\n",
      "  'subsample': trial.suggest_loguniform('subsample', 0.01, 1.0),\n",
      "C:\\Users\\xfini\\AppData\\Local\\Temp\\ipykernel_20184\\1068959902.py:12: FutureWarning: suggest_loguniform has been deprecated in v3.0.0. This feature will be removed in v6.0.0. See https://github.com/optuna/optuna/releases/tag/v3.0.0. Use :func:`~optuna.trial.Trial.suggest_float` instead.\n",
      "  'colsample_bytree': trial.suggest_loguniform('colsample_bytree', 0.01, 1.0),\n",
      "C:\\Users\\xfini\\AppData\\Local\\Temp\\ipykernel_20184\\1068959902.py:13: FutureWarning: suggest_loguniform has been deprecated in v3.0.0. This feature will be removed in v6.0.0. See https://github.com/optuna/optuna/releases/tag/v3.0.0. Use :func:`~optuna.trial.Trial.suggest_float` instead.\n",
      "  'reg_alpha': trial.suggest_loguniform('reg_alpha', 1e-8, 1.0),\n",
      "C:\\Users\\xfini\\AppData\\Local\\Temp\\ipykernel_20184\\1068959902.py:14: FutureWarning: suggest_loguniform has been deprecated in v3.0.0. This feature will be removed in v6.0.0. See https://github.com/optuna/optuna/releases/tag/v3.0.0. Use :func:`~optuna.trial.Trial.suggest_float` instead.\n",
      "  'reg_lambda': trial.suggest_loguniform('reg_lambda', 1e-8, 1.0),\n",
      "C:\\Users\\xfini\\AppData\\Local\\Temp\\ipykernel_20184\\1068959902.py:15: FutureWarning: suggest_loguniform has been deprecated in v3.0.0. This feature will be removed in v6.0.0. See https://github.com/optuna/optuna/releases/tag/v3.0.0. Use :func:`~optuna.trial.Trial.suggest_float` instead.\n",
      "  'rsm': trial.suggest_loguniform('rsm', 0.1, 0.9)\n"
     ]
    },
    {
     "name": "stdout",
     "output_type": "stream",
     "text": [
      "[15:10:47] WARNING: C:/buildkite-agent/builds/buildkite-windows-cpu-autoscaling-group-i-08de971ced8a8cdc6-1/xgboost/xgboost-ci-windows/src/learner.cc:767: \n",
      "Parameters: { \"rsm\" } are not used.\n",
      "\n"
     ]
    },
    {
     "name": "stderr",
     "output_type": "stream",
     "text": [
      "C:\\Users\\xfini\\AppData\\Local\\Temp\\ipykernel_20184\\1068959902.py:7: FutureWarning: suggest_loguniform has been deprecated in v3.0.0. This feature will be removed in v6.0.0. See https://github.com/optuna/optuna/releases/tag/v3.0.0. Use :func:`~optuna.trial.Trial.suggest_float` instead.\n",
      "  'learning_rate': trial.suggest_loguniform('learning_rate', 0.01,1.0),\n",
      "C:\\Users\\xfini\\AppData\\Local\\Temp\\ipykernel_20184\\1068959902.py:10: FutureWarning: suggest_loguniform has been deprecated in v3.0.0. This feature will be removed in v6.0.0. See https://github.com/optuna/optuna/releases/tag/v3.0.0. Use :func:`~optuna.trial.Trial.suggest_float` instead.\n",
      "  'gamma': trial.suggest_loguniform('gamma', 1e-8, 1.0),\n",
      "C:\\Users\\xfini\\AppData\\Local\\Temp\\ipykernel_20184\\1068959902.py:11: FutureWarning: suggest_loguniform has been deprecated in v3.0.0. This feature will be removed in v6.0.0. See https://github.com/optuna/optuna/releases/tag/v3.0.0. Use :func:`~optuna.trial.Trial.suggest_float` instead.\n",
      "  'subsample': trial.suggest_loguniform('subsample', 0.01, 1.0),\n",
      "C:\\Users\\xfini\\AppData\\Local\\Temp\\ipykernel_20184\\1068959902.py:12: FutureWarning: suggest_loguniform has been deprecated in v3.0.0. This feature will be removed in v6.0.0. See https://github.com/optuna/optuna/releases/tag/v3.0.0. Use :func:`~optuna.trial.Trial.suggest_float` instead.\n",
      "  'colsample_bytree': trial.suggest_loguniform('colsample_bytree', 0.01, 1.0),\n",
      "C:\\Users\\xfini\\AppData\\Local\\Temp\\ipykernel_20184\\1068959902.py:13: FutureWarning: suggest_loguniform has been deprecated in v3.0.0. This feature will be removed in v6.0.0. See https://github.com/optuna/optuna/releases/tag/v3.0.0. Use :func:`~optuna.trial.Trial.suggest_float` instead.\n",
      "  'reg_alpha': trial.suggest_loguniform('reg_alpha', 1e-8, 1.0),\n",
      "C:\\Users\\xfini\\AppData\\Local\\Temp\\ipykernel_20184\\1068959902.py:14: FutureWarning: suggest_loguniform has been deprecated in v3.0.0. This feature will be removed in v6.0.0. See https://github.com/optuna/optuna/releases/tag/v3.0.0. Use :func:`~optuna.trial.Trial.suggest_float` instead.\n",
      "  'reg_lambda': trial.suggest_loguniform('reg_lambda', 1e-8, 1.0),\n",
      "C:\\Users\\xfini\\AppData\\Local\\Temp\\ipykernel_20184\\1068959902.py:15: FutureWarning: suggest_loguniform has been deprecated in v3.0.0. This feature will be removed in v6.0.0. See https://github.com/optuna/optuna/releases/tag/v3.0.0. Use :func:`~optuna.trial.Trial.suggest_float` instead.\n",
      "  'rsm': trial.suggest_loguniform('rsm', 0.1, 0.9)\n"
     ]
    },
    {
     "name": "stdout",
     "output_type": "stream",
     "text": [
      "[15:10:48] WARNING: C:/buildkite-agent/builds/buildkite-windows-cpu-autoscaling-group-i-08de971ced8a8cdc6-1/xgboost/xgboost-ci-windows/src/learner.cc:767: \n",
      "Parameters: { \"rsm\" } are not used.\n",
      "\n"
     ]
    },
    {
     "name": "stderr",
     "output_type": "stream",
     "text": [
      "C:\\Users\\xfini\\AppData\\Local\\Temp\\ipykernel_20184\\1068959902.py:7: FutureWarning: suggest_loguniform has been deprecated in v3.0.0. This feature will be removed in v6.0.0. See https://github.com/optuna/optuna/releases/tag/v3.0.0. Use :func:`~optuna.trial.Trial.suggest_float` instead.\n",
      "  'learning_rate': trial.suggest_loguniform('learning_rate', 0.01,1.0),\n",
      "C:\\Users\\xfini\\AppData\\Local\\Temp\\ipykernel_20184\\1068959902.py:10: FutureWarning: suggest_loguniform has been deprecated in v3.0.0. This feature will be removed in v6.0.0. See https://github.com/optuna/optuna/releases/tag/v3.0.0. Use :func:`~optuna.trial.Trial.suggest_float` instead.\n",
      "  'gamma': trial.suggest_loguniform('gamma', 1e-8, 1.0),\n",
      "C:\\Users\\xfini\\AppData\\Local\\Temp\\ipykernel_20184\\1068959902.py:11: FutureWarning: suggest_loguniform has been deprecated in v3.0.0. This feature will be removed in v6.0.0. See https://github.com/optuna/optuna/releases/tag/v3.0.0. Use :func:`~optuna.trial.Trial.suggest_float` instead.\n",
      "  'subsample': trial.suggest_loguniform('subsample', 0.01, 1.0),\n",
      "C:\\Users\\xfini\\AppData\\Local\\Temp\\ipykernel_20184\\1068959902.py:12: FutureWarning: suggest_loguniform has been deprecated in v3.0.0. This feature will be removed in v6.0.0. See https://github.com/optuna/optuna/releases/tag/v3.0.0. Use :func:`~optuna.trial.Trial.suggest_float` instead.\n",
      "  'colsample_bytree': trial.suggest_loguniform('colsample_bytree', 0.01, 1.0),\n",
      "C:\\Users\\xfini\\AppData\\Local\\Temp\\ipykernel_20184\\1068959902.py:13: FutureWarning: suggest_loguniform has been deprecated in v3.0.0. This feature will be removed in v6.0.0. See https://github.com/optuna/optuna/releases/tag/v3.0.0. Use :func:`~optuna.trial.Trial.suggest_float` instead.\n",
      "  'reg_alpha': trial.suggest_loguniform('reg_alpha', 1e-8, 1.0),\n",
      "C:\\Users\\xfini\\AppData\\Local\\Temp\\ipykernel_20184\\1068959902.py:14: FutureWarning: suggest_loguniform has been deprecated in v3.0.0. This feature will be removed in v6.0.0. See https://github.com/optuna/optuna/releases/tag/v3.0.0. Use :func:`~optuna.trial.Trial.suggest_float` instead.\n",
      "  'reg_lambda': trial.suggest_loguniform('reg_lambda', 1e-8, 1.0),\n",
      "C:\\Users\\xfini\\AppData\\Local\\Temp\\ipykernel_20184\\1068959902.py:15: FutureWarning: suggest_loguniform has been deprecated in v3.0.0. This feature will be removed in v6.0.0. See https://github.com/optuna/optuna/releases/tag/v3.0.0. Use :func:`~optuna.trial.Trial.suggest_float` instead.\n",
      "  'rsm': trial.suggest_loguniform('rsm', 0.1, 0.9)\n"
     ]
    },
    {
     "name": "stdout",
     "output_type": "stream",
     "text": [
      "[15:10:49] WARNING: C:/buildkite-agent/builds/buildkite-windows-cpu-autoscaling-group-i-08de971ced8a8cdc6-1/xgboost/xgboost-ci-windows/src/learner.cc:767: \n",
      "Parameters: { \"rsm\" } are not used.\n",
      "\n"
     ]
    },
    {
     "name": "stderr",
     "output_type": "stream",
     "text": [
      "C:\\Users\\xfini\\AppData\\Local\\Temp\\ipykernel_20184\\1068959902.py:7: FutureWarning: suggest_loguniform has been deprecated in v3.0.0. This feature will be removed in v6.0.0. See https://github.com/optuna/optuna/releases/tag/v3.0.0. Use :func:`~optuna.trial.Trial.suggest_float` instead.\n",
      "  'learning_rate': trial.suggest_loguniform('learning_rate', 0.01,1.0),\n",
      "C:\\Users\\xfini\\AppData\\Local\\Temp\\ipykernel_20184\\1068959902.py:10: FutureWarning: suggest_loguniform has been deprecated in v3.0.0. This feature will be removed in v6.0.0. See https://github.com/optuna/optuna/releases/tag/v3.0.0. Use :func:`~optuna.trial.Trial.suggest_float` instead.\n",
      "  'gamma': trial.suggest_loguniform('gamma', 1e-8, 1.0),\n",
      "C:\\Users\\xfini\\AppData\\Local\\Temp\\ipykernel_20184\\1068959902.py:11: FutureWarning: suggest_loguniform has been deprecated in v3.0.0. This feature will be removed in v6.0.0. See https://github.com/optuna/optuna/releases/tag/v3.0.0. Use :func:`~optuna.trial.Trial.suggest_float` instead.\n",
      "  'subsample': trial.suggest_loguniform('subsample', 0.01, 1.0),\n",
      "C:\\Users\\xfini\\AppData\\Local\\Temp\\ipykernel_20184\\1068959902.py:12: FutureWarning: suggest_loguniform has been deprecated in v3.0.0. This feature will be removed in v6.0.0. See https://github.com/optuna/optuna/releases/tag/v3.0.0. Use :func:`~optuna.trial.Trial.suggest_float` instead.\n",
      "  'colsample_bytree': trial.suggest_loguniform('colsample_bytree', 0.01, 1.0),\n",
      "C:\\Users\\xfini\\AppData\\Local\\Temp\\ipykernel_20184\\1068959902.py:13: FutureWarning: suggest_loguniform has been deprecated in v3.0.0. This feature will be removed in v6.0.0. See https://github.com/optuna/optuna/releases/tag/v3.0.0. Use :func:`~optuna.trial.Trial.suggest_float` instead.\n",
      "  'reg_alpha': trial.suggest_loguniform('reg_alpha', 1e-8, 1.0),\n",
      "C:\\Users\\xfini\\AppData\\Local\\Temp\\ipykernel_20184\\1068959902.py:14: FutureWarning: suggest_loguniform has been deprecated in v3.0.0. This feature will be removed in v6.0.0. See https://github.com/optuna/optuna/releases/tag/v3.0.0. Use :func:`~optuna.trial.Trial.suggest_float` instead.\n",
      "  'reg_lambda': trial.suggest_loguniform('reg_lambda', 1e-8, 1.0),\n",
      "C:\\Users\\xfini\\AppData\\Local\\Temp\\ipykernel_20184\\1068959902.py:15: FutureWarning: suggest_loguniform has been deprecated in v3.0.0. This feature will be removed in v6.0.0. See https://github.com/optuna/optuna/releases/tag/v3.0.0. Use :func:`~optuna.trial.Trial.suggest_float` instead.\n",
      "  'rsm': trial.suggest_loguniform('rsm', 0.1, 0.9)\n"
     ]
    },
    {
     "name": "stdout",
     "output_type": "stream",
     "text": [
      "[15:10:50] WARNING: C:/buildkite-agent/builds/buildkite-windows-cpu-autoscaling-group-i-08de971ced8a8cdc6-1/xgboost/xgboost-ci-windows/src/learner.cc:767: \n",
      "Parameters: { \"rsm\" } are not used.\n",
      "\n"
     ]
    },
    {
     "name": "stderr",
     "output_type": "stream",
     "text": [
      "C:\\Users\\xfini\\AppData\\Local\\Temp\\ipykernel_20184\\1068959902.py:7: FutureWarning: suggest_loguniform has been deprecated in v3.0.0. This feature will be removed in v6.0.0. See https://github.com/optuna/optuna/releases/tag/v3.0.0. Use :func:`~optuna.trial.Trial.suggest_float` instead.\n",
      "  'learning_rate': trial.suggest_loguniform('learning_rate', 0.01,1.0),\n",
      "C:\\Users\\xfini\\AppData\\Local\\Temp\\ipykernel_20184\\1068959902.py:10: FutureWarning: suggest_loguniform has been deprecated in v3.0.0. This feature will be removed in v6.0.0. See https://github.com/optuna/optuna/releases/tag/v3.0.0. Use :func:`~optuna.trial.Trial.suggest_float` instead.\n",
      "  'gamma': trial.suggest_loguniform('gamma', 1e-8, 1.0),\n",
      "C:\\Users\\xfini\\AppData\\Local\\Temp\\ipykernel_20184\\1068959902.py:11: FutureWarning: suggest_loguniform has been deprecated in v3.0.0. This feature will be removed in v6.0.0. See https://github.com/optuna/optuna/releases/tag/v3.0.0. Use :func:`~optuna.trial.Trial.suggest_float` instead.\n",
      "  'subsample': trial.suggest_loguniform('subsample', 0.01, 1.0),\n",
      "C:\\Users\\xfini\\AppData\\Local\\Temp\\ipykernel_20184\\1068959902.py:12: FutureWarning: suggest_loguniform has been deprecated in v3.0.0. This feature will be removed in v6.0.0. See https://github.com/optuna/optuna/releases/tag/v3.0.0. Use :func:`~optuna.trial.Trial.suggest_float` instead.\n",
      "  'colsample_bytree': trial.suggest_loguniform('colsample_bytree', 0.01, 1.0),\n",
      "C:\\Users\\xfini\\AppData\\Local\\Temp\\ipykernel_20184\\1068959902.py:13: FutureWarning: suggest_loguniform has been deprecated in v3.0.0. This feature will be removed in v6.0.0. See https://github.com/optuna/optuna/releases/tag/v3.0.0. Use :func:`~optuna.trial.Trial.suggest_float` instead.\n",
      "  'reg_alpha': trial.suggest_loguniform('reg_alpha', 1e-8, 1.0),\n",
      "C:\\Users\\xfini\\AppData\\Local\\Temp\\ipykernel_20184\\1068959902.py:14: FutureWarning: suggest_loguniform has been deprecated in v3.0.0. This feature will be removed in v6.0.0. See https://github.com/optuna/optuna/releases/tag/v3.0.0. Use :func:`~optuna.trial.Trial.suggest_float` instead.\n",
      "  'reg_lambda': trial.suggest_loguniform('reg_lambda', 1e-8, 1.0),\n",
      "C:\\Users\\xfini\\AppData\\Local\\Temp\\ipykernel_20184\\1068959902.py:15: FutureWarning: suggest_loguniform has been deprecated in v3.0.0. This feature will be removed in v6.0.0. See https://github.com/optuna/optuna/releases/tag/v3.0.0. Use :func:`~optuna.trial.Trial.suggest_float` instead.\n",
      "  'rsm': trial.suggest_loguniform('rsm', 0.1, 0.9)\n"
     ]
    },
    {
     "name": "stdout",
     "output_type": "stream",
     "text": [
      "[15:10:52] WARNING: C:/buildkite-agent/builds/buildkite-windows-cpu-autoscaling-group-i-08de971ced8a8cdc6-1/xgboost/xgboost-ci-windows/src/learner.cc:767: \n",
      "Parameters: { \"rsm\" } are not used.\n",
      "\n"
     ]
    },
    {
     "name": "stderr",
     "output_type": "stream",
     "text": [
      "C:\\Users\\xfini\\AppData\\Local\\Temp\\ipykernel_20184\\1068959902.py:7: FutureWarning: suggest_loguniform has been deprecated in v3.0.0. This feature will be removed in v6.0.0. See https://github.com/optuna/optuna/releases/tag/v3.0.0. Use :func:`~optuna.trial.Trial.suggest_float` instead.\n",
      "  'learning_rate': trial.suggest_loguniform('learning_rate', 0.01,1.0),\n",
      "C:\\Users\\xfini\\AppData\\Local\\Temp\\ipykernel_20184\\1068959902.py:10: FutureWarning: suggest_loguniform has been deprecated in v3.0.0. This feature will be removed in v6.0.0. See https://github.com/optuna/optuna/releases/tag/v3.0.0. Use :func:`~optuna.trial.Trial.suggest_float` instead.\n",
      "  'gamma': trial.suggest_loguniform('gamma', 1e-8, 1.0),\n",
      "C:\\Users\\xfini\\AppData\\Local\\Temp\\ipykernel_20184\\1068959902.py:11: FutureWarning: suggest_loguniform has been deprecated in v3.0.0. This feature will be removed in v6.0.0. See https://github.com/optuna/optuna/releases/tag/v3.0.0. Use :func:`~optuna.trial.Trial.suggest_float` instead.\n",
      "  'subsample': trial.suggest_loguniform('subsample', 0.01, 1.0),\n",
      "C:\\Users\\xfini\\AppData\\Local\\Temp\\ipykernel_20184\\1068959902.py:12: FutureWarning: suggest_loguniform has been deprecated in v3.0.0. This feature will be removed in v6.0.0. See https://github.com/optuna/optuna/releases/tag/v3.0.0. Use :func:`~optuna.trial.Trial.suggest_float` instead.\n",
      "  'colsample_bytree': trial.suggest_loguniform('colsample_bytree', 0.01, 1.0),\n",
      "C:\\Users\\xfini\\AppData\\Local\\Temp\\ipykernel_20184\\1068959902.py:13: FutureWarning: suggest_loguniform has been deprecated in v3.0.0. This feature will be removed in v6.0.0. See https://github.com/optuna/optuna/releases/tag/v3.0.0. Use :func:`~optuna.trial.Trial.suggest_float` instead.\n",
      "  'reg_alpha': trial.suggest_loguniform('reg_alpha', 1e-8, 1.0),\n",
      "C:\\Users\\xfini\\AppData\\Local\\Temp\\ipykernel_20184\\1068959902.py:14: FutureWarning: suggest_loguniform has been deprecated in v3.0.0. This feature will be removed in v6.0.0. See https://github.com/optuna/optuna/releases/tag/v3.0.0. Use :func:`~optuna.trial.Trial.suggest_float` instead.\n",
      "  'reg_lambda': trial.suggest_loguniform('reg_lambda', 1e-8, 1.0),\n",
      "C:\\Users\\xfini\\AppData\\Local\\Temp\\ipykernel_20184\\1068959902.py:15: FutureWarning: suggest_loguniform has been deprecated in v3.0.0. This feature will be removed in v6.0.0. See https://github.com/optuna/optuna/releases/tag/v3.0.0. Use :func:`~optuna.trial.Trial.suggest_float` instead.\n",
      "  'rsm': trial.suggest_loguniform('rsm', 0.1, 0.9)\n"
     ]
    },
    {
     "name": "stdout",
     "output_type": "stream",
     "text": [
      "[15:10:53] WARNING: C:/buildkite-agent/builds/buildkite-windows-cpu-autoscaling-group-i-08de971ced8a8cdc6-1/xgboost/xgboost-ci-windows/src/learner.cc:767: \n",
      "Parameters: { \"rsm\" } are not used.\n",
      "\n"
     ]
    },
    {
     "name": "stderr",
     "output_type": "stream",
     "text": [
      "C:\\Users\\xfini\\AppData\\Local\\Temp\\ipykernel_20184\\1068959902.py:7: FutureWarning: suggest_loguniform has been deprecated in v3.0.0. This feature will be removed in v6.0.0. See https://github.com/optuna/optuna/releases/tag/v3.0.0. Use :func:`~optuna.trial.Trial.suggest_float` instead.\n",
      "  'learning_rate': trial.suggest_loguniform('learning_rate', 0.01,1.0),\n",
      "C:\\Users\\xfini\\AppData\\Local\\Temp\\ipykernel_20184\\1068959902.py:10: FutureWarning: suggest_loguniform has been deprecated in v3.0.0. This feature will be removed in v6.0.0. See https://github.com/optuna/optuna/releases/tag/v3.0.0. Use :func:`~optuna.trial.Trial.suggest_float` instead.\n",
      "  'gamma': trial.suggest_loguniform('gamma', 1e-8, 1.0),\n",
      "C:\\Users\\xfini\\AppData\\Local\\Temp\\ipykernel_20184\\1068959902.py:11: FutureWarning: suggest_loguniform has been deprecated in v3.0.0. This feature will be removed in v6.0.0. See https://github.com/optuna/optuna/releases/tag/v3.0.0. Use :func:`~optuna.trial.Trial.suggest_float` instead.\n",
      "  'subsample': trial.suggest_loguniform('subsample', 0.01, 1.0),\n",
      "C:\\Users\\xfini\\AppData\\Local\\Temp\\ipykernel_20184\\1068959902.py:12: FutureWarning: suggest_loguniform has been deprecated in v3.0.0. This feature will be removed in v6.0.0. See https://github.com/optuna/optuna/releases/tag/v3.0.0. Use :func:`~optuna.trial.Trial.suggest_float` instead.\n",
      "  'colsample_bytree': trial.suggest_loguniform('colsample_bytree', 0.01, 1.0),\n",
      "C:\\Users\\xfini\\AppData\\Local\\Temp\\ipykernel_20184\\1068959902.py:13: FutureWarning: suggest_loguniform has been deprecated in v3.0.0. This feature will be removed in v6.0.0. See https://github.com/optuna/optuna/releases/tag/v3.0.0. Use :func:`~optuna.trial.Trial.suggest_float` instead.\n",
      "  'reg_alpha': trial.suggest_loguniform('reg_alpha', 1e-8, 1.0),\n",
      "C:\\Users\\xfini\\AppData\\Local\\Temp\\ipykernel_20184\\1068959902.py:14: FutureWarning: suggest_loguniform has been deprecated in v3.0.0. This feature will be removed in v6.0.0. See https://github.com/optuna/optuna/releases/tag/v3.0.0. Use :func:`~optuna.trial.Trial.suggest_float` instead.\n",
      "  'reg_lambda': trial.suggest_loguniform('reg_lambda', 1e-8, 1.0),\n",
      "C:\\Users\\xfini\\AppData\\Local\\Temp\\ipykernel_20184\\1068959902.py:15: FutureWarning: suggest_loguniform has been deprecated in v3.0.0. This feature will be removed in v6.0.0. See https://github.com/optuna/optuna/releases/tag/v3.0.0. Use :func:`~optuna.trial.Trial.suggest_float` instead.\n",
      "  'rsm': trial.suggest_loguniform('rsm', 0.1, 0.9)\n"
     ]
    },
    {
     "name": "stdout",
     "output_type": "stream",
     "text": [
      "[15:10:54] WARNING: C:/buildkite-agent/builds/buildkite-windows-cpu-autoscaling-group-i-08de971ced8a8cdc6-1/xgboost/xgboost-ci-windows/src/learner.cc:767: \n",
      "Parameters: { \"rsm\" } are not used.\n",
      "\n"
     ]
    },
    {
     "name": "stderr",
     "output_type": "stream",
     "text": [
      "C:\\Users\\xfini\\AppData\\Local\\Temp\\ipykernel_20184\\1068959902.py:7: FutureWarning: suggest_loguniform has been deprecated in v3.0.0. This feature will be removed in v6.0.0. See https://github.com/optuna/optuna/releases/tag/v3.0.0. Use :func:`~optuna.trial.Trial.suggest_float` instead.\n",
      "  'learning_rate': trial.suggest_loguniform('learning_rate', 0.01,1.0),\n",
      "C:\\Users\\xfini\\AppData\\Local\\Temp\\ipykernel_20184\\1068959902.py:10: FutureWarning: suggest_loguniform has been deprecated in v3.0.0. This feature will be removed in v6.0.0. See https://github.com/optuna/optuna/releases/tag/v3.0.0. Use :func:`~optuna.trial.Trial.suggest_float` instead.\n",
      "  'gamma': trial.suggest_loguniform('gamma', 1e-8, 1.0),\n",
      "C:\\Users\\xfini\\AppData\\Local\\Temp\\ipykernel_20184\\1068959902.py:11: FutureWarning: suggest_loguniform has been deprecated in v3.0.0. This feature will be removed in v6.0.0. See https://github.com/optuna/optuna/releases/tag/v3.0.0. Use :func:`~optuna.trial.Trial.suggest_float` instead.\n",
      "  'subsample': trial.suggest_loguniform('subsample', 0.01, 1.0),\n",
      "C:\\Users\\xfini\\AppData\\Local\\Temp\\ipykernel_20184\\1068959902.py:12: FutureWarning: suggest_loguniform has been deprecated in v3.0.0. This feature will be removed in v6.0.0. See https://github.com/optuna/optuna/releases/tag/v3.0.0. Use :func:`~optuna.trial.Trial.suggest_float` instead.\n",
      "  'colsample_bytree': trial.suggest_loguniform('colsample_bytree', 0.01, 1.0),\n",
      "C:\\Users\\xfini\\AppData\\Local\\Temp\\ipykernel_20184\\1068959902.py:13: FutureWarning: suggest_loguniform has been deprecated in v3.0.0. This feature will be removed in v6.0.0. See https://github.com/optuna/optuna/releases/tag/v3.0.0. Use :func:`~optuna.trial.Trial.suggest_float` instead.\n",
      "  'reg_alpha': trial.suggest_loguniform('reg_alpha', 1e-8, 1.0),\n",
      "C:\\Users\\xfini\\AppData\\Local\\Temp\\ipykernel_20184\\1068959902.py:14: FutureWarning: suggest_loguniform has been deprecated in v3.0.0. This feature will be removed in v6.0.0. See https://github.com/optuna/optuna/releases/tag/v3.0.0. Use :func:`~optuna.trial.Trial.suggest_float` instead.\n",
      "  'reg_lambda': trial.suggest_loguniform('reg_lambda', 1e-8, 1.0),\n",
      "C:\\Users\\xfini\\AppData\\Local\\Temp\\ipykernel_20184\\1068959902.py:15: FutureWarning: suggest_loguniform has been deprecated in v3.0.0. This feature will be removed in v6.0.0. See https://github.com/optuna/optuna/releases/tag/v3.0.0. Use :func:`~optuna.trial.Trial.suggest_float` instead.\n",
      "  'rsm': trial.suggest_loguniform('rsm', 0.1, 0.9)\n"
     ]
    },
    {
     "name": "stdout",
     "output_type": "stream",
     "text": [
      "[15:10:55] WARNING: C:/buildkite-agent/builds/buildkite-windows-cpu-autoscaling-group-i-08de971ced8a8cdc6-1/xgboost/xgboost-ci-windows/src/learner.cc:767: \n",
      "Parameters: { \"rsm\" } are not used.\n",
      "\n"
     ]
    },
    {
     "name": "stderr",
     "output_type": "stream",
     "text": [
      "C:\\Users\\xfini\\AppData\\Local\\Temp\\ipykernel_20184\\1068959902.py:7: FutureWarning: suggest_loguniform has been deprecated in v3.0.0. This feature will be removed in v6.0.0. See https://github.com/optuna/optuna/releases/tag/v3.0.0. Use :func:`~optuna.trial.Trial.suggest_float` instead.\n",
      "  'learning_rate': trial.suggest_loguniform('learning_rate', 0.01,1.0),\n",
      "C:\\Users\\xfini\\AppData\\Local\\Temp\\ipykernel_20184\\1068959902.py:10: FutureWarning: suggest_loguniform has been deprecated in v3.0.0. This feature will be removed in v6.0.0. See https://github.com/optuna/optuna/releases/tag/v3.0.0. Use :func:`~optuna.trial.Trial.suggest_float` instead.\n",
      "  'gamma': trial.suggest_loguniform('gamma', 1e-8, 1.0),\n",
      "C:\\Users\\xfini\\AppData\\Local\\Temp\\ipykernel_20184\\1068959902.py:11: FutureWarning: suggest_loguniform has been deprecated in v3.0.0. This feature will be removed in v6.0.0. See https://github.com/optuna/optuna/releases/tag/v3.0.0. Use :func:`~optuna.trial.Trial.suggest_float` instead.\n",
      "  'subsample': trial.suggest_loguniform('subsample', 0.01, 1.0),\n",
      "C:\\Users\\xfini\\AppData\\Local\\Temp\\ipykernel_20184\\1068959902.py:12: FutureWarning: suggest_loguniform has been deprecated in v3.0.0. This feature will be removed in v6.0.0. See https://github.com/optuna/optuna/releases/tag/v3.0.0. Use :func:`~optuna.trial.Trial.suggest_float` instead.\n",
      "  'colsample_bytree': trial.suggest_loguniform('colsample_bytree', 0.01, 1.0),\n",
      "C:\\Users\\xfini\\AppData\\Local\\Temp\\ipykernel_20184\\1068959902.py:13: FutureWarning: suggest_loguniform has been deprecated in v3.0.0. This feature will be removed in v6.0.0. See https://github.com/optuna/optuna/releases/tag/v3.0.0. Use :func:`~optuna.trial.Trial.suggest_float` instead.\n",
      "  'reg_alpha': trial.suggest_loguniform('reg_alpha', 1e-8, 1.0),\n",
      "C:\\Users\\xfini\\AppData\\Local\\Temp\\ipykernel_20184\\1068959902.py:14: FutureWarning: suggest_loguniform has been deprecated in v3.0.0. This feature will be removed in v6.0.0. See https://github.com/optuna/optuna/releases/tag/v3.0.0. Use :func:`~optuna.trial.Trial.suggest_float` instead.\n",
      "  'reg_lambda': trial.suggest_loguniform('reg_lambda', 1e-8, 1.0),\n",
      "C:\\Users\\xfini\\AppData\\Local\\Temp\\ipykernel_20184\\1068959902.py:15: FutureWarning: suggest_loguniform has been deprecated in v3.0.0. This feature will be removed in v6.0.0. See https://github.com/optuna/optuna/releases/tag/v3.0.0. Use :func:`~optuna.trial.Trial.suggest_float` instead.\n",
      "  'rsm': trial.suggest_loguniform('rsm', 0.1, 0.9)\n"
     ]
    },
    {
     "name": "stdout",
     "output_type": "stream",
     "text": [
      "[15:10:57] WARNING: C:/buildkite-agent/builds/buildkite-windows-cpu-autoscaling-group-i-08de971ced8a8cdc6-1/xgboost/xgboost-ci-windows/src/learner.cc:767: \n",
      "Parameters: { \"rsm\" } are not used.\n",
      "\n"
     ]
    },
    {
     "name": "stderr",
     "output_type": "stream",
     "text": [
      "C:\\Users\\xfini\\AppData\\Local\\Temp\\ipykernel_20184\\1068959902.py:7: FutureWarning: suggest_loguniform has been deprecated in v3.0.0. This feature will be removed in v6.0.0. See https://github.com/optuna/optuna/releases/tag/v3.0.0. Use :func:`~optuna.trial.Trial.suggest_float` instead.\n",
      "  'learning_rate': trial.suggest_loguniform('learning_rate', 0.01,1.0),\n",
      "C:\\Users\\xfini\\AppData\\Local\\Temp\\ipykernel_20184\\1068959902.py:10: FutureWarning: suggest_loguniform has been deprecated in v3.0.0. This feature will be removed in v6.0.0. See https://github.com/optuna/optuna/releases/tag/v3.0.0. Use :func:`~optuna.trial.Trial.suggest_float` instead.\n",
      "  'gamma': trial.suggest_loguniform('gamma', 1e-8, 1.0),\n",
      "C:\\Users\\xfini\\AppData\\Local\\Temp\\ipykernel_20184\\1068959902.py:11: FutureWarning: suggest_loguniform has been deprecated in v3.0.0. This feature will be removed in v6.0.0. See https://github.com/optuna/optuna/releases/tag/v3.0.0. Use :func:`~optuna.trial.Trial.suggest_float` instead.\n",
      "  'subsample': trial.suggest_loguniform('subsample', 0.01, 1.0),\n",
      "C:\\Users\\xfini\\AppData\\Local\\Temp\\ipykernel_20184\\1068959902.py:12: FutureWarning: suggest_loguniform has been deprecated in v3.0.0. This feature will be removed in v6.0.0. See https://github.com/optuna/optuna/releases/tag/v3.0.0. Use :func:`~optuna.trial.Trial.suggest_float` instead.\n",
      "  'colsample_bytree': trial.suggest_loguniform('colsample_bytree', 0.01, 1.0),\n",
      "C:\\Users\\xfini\\AppData\\Local\\Temp\\ipykernel_20184\\1068959902.py:13: FutureWarning: suggest_loguniform has been deprecated in v3.0.0. This feature will be removed in v6.0.0. See https://github.com/optuna/optuna/releases/tag/v3.0.0. Use :func:`~optuna.trial.Trial.suggest_float` instead.\n",
      "  'reg_alpha': trial.suggest_loguniform('reg_alpha', 1e-8, 1.0),\n",
      "C:\\Users\\xfini\\AppData\\Local\\Temp\\ipykernel_20184\\1068959902.py:14: FutureWarning: suggest_loguniform has been deprecated in v3.0.0. This feature will be removed in v6.0.0. See https://github.com/optuna/optuna/releases/tag/v3.0.0. Use :func:`~optuna.trial.Trial.suggest_float` instead.\n",
      "  'reg_lambda': trial.suggest_loguniform('reg_lambda', 1e-8, 1.0),\n",
      "C:\\Users\\xfini\\AppData\\Local\\Temp\\ipykernel_20184\\1068959902.py:15: FutureWarning: suggest_loguniform has been deprecated in v3.0.0. This feature will be removed in v6.0.0. See https://github.com/optuna/optuna/releases/tag/v3.0.0. Use :func:`~optuna.trial.Trial.suggest_float` instead.\n",
      "  'rsm': trial.suggest_loguniform('rsm', 0.1, 0.9)\n"
     ]
    },
    {
     "name": "stdout",
     "output_type": "stream",
     "text": [
      "[15:10:58] WARNING: C:/buildkite-agent/builds/buildkite-windows-cpu-autoscaling-group-i-08de971ced8a8cdc6-1/xgboost/xgboost-ci-windows/src/learner.cc:767: \n",
      "Parameters: { \"rsm\" } are not used.\n",
      "\n"
     ]
    },
    {
     "name": "stderr",
     "output_type": "stream",
     "text": [
      "C:\\Users\\xfini\\AppData\\Local\\Temp\\ipykernel_20184\\1068959902.py:7: FutureWarning: suggest_loguniform has been deprecated in v3.0.0. This feature will be removed in v6.0.0. See https://github.com/optuna/optuna/releases/tag/v3.0.0. Use :func:`~optuna.trial.Trial.suggest_float` instead.\n",
      "  'learning_rate': trial.suggest_loguniform('learning_rate', 0.01,1.0),\n",
      "C:\\Users\\xfini\\AppData\\Local\\Temp\\ipykernel_20184\\1068959902.py:10: FutureWarning: suggest_loguniform has been deprecated in v3.0.0. This feature will be removed in v6.0.0. See https://github.com/optuna/optuna/releases/tag/v3.0.0. Use :func:`~optuna.trial.Trial.suggest_float` instead.\n",
      "  'gamma': trial.suggest_loguniform('gamma', 1e-8, 1.0),\n",
      "C:\\Users\\xfini\\AppData\\Local\\Temp\\ipykernel_20184\\1068959902.py:11: FutureWarning: suggest_loguniform has been deprecated in v3.0.0. This feature will be removed in v6.0.0. See https://github.com/optuna/optuna/releases/tag/v3.0.0. Use :func:`~optuna.trial.Trial.suggest_float` instead.\n",
      "  'subsample': trial.suggest_loguniform('subsample', 0.01, 1.0),\n",
      "C:\\Users\\xfini\\AppData\\Local\\Temp\\ipykernel_20184\\1068959902.py:12: FutureWarning: suggest_loguniform has been deprecated in v3.0.0. This feature will be removed in v6.0.0. See https://github.com/optuna/optuna/releases/tag/v3.0.0. Use :func:`~optuna.trial.Trial.suggest_float` instead.\n",
      "  'colsample_bytree': trial.suggest_loguniform('colsample_bytree', 0.01, 1.0),\n",
      "C:\\Users\\xfini\\AppData\\Local\\Temp\\ipykernel_20184\\1068959902.py:13: FutureWarning: suggest_loguniform has been deprecated in v3.0.0. This feature will be removed in v6.0.0. See https://github.com/optuna/optuna/releases/tag/v3.0.0. Use :func:`~optuna.trial.Trial.suggest_float` instead.\n",
      "  'reg_alpha': trial.suggest_loguniform('reg_alpha', 1e-8, 1.0),\n",
      "C:\\Users\\xfini\\AppData\\Local\\Temp\\ipykernel_20184\\1068959902.py:14: FutureWarning: suggest_loguniform has been deprecated in v3.0.0. This feature will be removed in v6.0.0. See https://github.com/optuna/optuna/releases/tag/v3.0.0. Use :func:`~optuna.trial.Trial.suggest_float` instead.\n",
      "  'reg_lambda': trial.suggest_loguniform('reg_lambda', 1e-8, 1.0),\n",
      "C:\\Users\\xfini\\AppData\\Local\\Temp\\ipykernel_20184\\1068959902.py:15: FutureWarning: suggest_loguniform has been deprecated in v3.0.0. This feature will be removed in v6.0.0. See https://github.com/optuna/optuna/releases/tag/v3.0.0. Use :func:`~optuna.trial.Trial.suggest_float` instead.\n",
      "  'rsm': trial.suggest_loguniform('rsm', 0.1, 0.9)\n"
     ]
    },
    {
     "name": "stdout",
     "output_type": "stream",
     "text": [
      "[15:11:00] WARNING: C:/buildkite-agent/builds/buildkite-windows-cpu-autoscaling-group-i-08de971ced8a8cdc6-1/xgboost/xgboost-ci-windows/src/learner.cc:767: \n",
      "Parameters: { \"rsm\" } are not used.\n",
      "\n"
     ]
    },
    {
     "name": "stderr",
     "output_type": "stream",
     "text": [
      "C:\\Users\\xfini\\AppData\\Local\\Temp\\ipykernel_20184\\1068959902.py:7: FutureWarning: suggest_loguniform has been deprecated in v3.0.0. This feature will be removed in v6.0.0. See https://github.com/optuna/optuna/releases/tag/v3.0.0. Use :func:`~optuna.trial.Trial.suggest_float` instead.\n",
      "  'learning_rate': trial.suggest_loguniform('learning_rate', 0.01,1.0),\n",
      "C:\\Users\\xfini\\AppData\\Local\\Temp\\ipykernel_20184\\1068959902.py:10: FutureWarning: suggest_loguniform has been deprecated in v3.0.0. This feature will be removed in v6.0.0. See https://github.com/optuna/optuna/releases/tag/v3.0.0. Use :func:`~optuna.trial.Trial.suggest_float` instead.\n",
      "  'gamma': trial.suggest_loguniform('gamma', 1e-8, 1.0),\n",
      "C:\\Users\\xfini\\AppData\\Local\\Temp\\ipykernel_20184\\1068959902.py:11: FutureWarning: suggest_loguniform has been deprecated in v3.0.0. This feature will be removed in v6.0.0. See https://github.com/optuna/optuna/releases/tag/v3.0.0. Use :func:`~optuna.trial.Trial.suggest_float` instead.\n",
      "  'subsample': trial.suggest_loguniform('subsample', 0.01, 1.0),\n",
      "C:\\Users\\xfini\\AppData\\Local\\Temp\\ipykernel_20184\\1068959902.py:12: FutureWarning: suggest_loguniform has been deprecated in v3.0.0. This feature will be removed in v6.0.0. See https://github.com/optuna/optuna/releases/tag/v3.0.0. Use :func:`~optuna.trial.Trial.suggest_float` instead.\n",
      "  'colsample_bytree': trial.suggest_loguniform('colsample_bytree', 0.01, 1.0),\n",
      "C:\\Users\\xfini\\AppData\\Local\\Temp\\ipykernel_20184\\1068959902.py:13: FutureWarning: suggest_loguniform has been deprecated in v3.0.0. This feature will be removed in v6.0.0. See https://github.com/optuna/optuna/releases/tag/v3.0.0. Use :func:`~optuna.trial.Trial.suggest_float` instead.\n",
      "  'reg_alpha': trial.suggest_loguniform('reg_alpha', 1e-8, 1.0),\n",
      "C:\\Users\\xfini\\AppData\\Local\\Temp\\ipykernel_20184\\1068959902.py:14: FutureWarning: suggest_loguniform has been deprecated in v3.0.0. This feature will be removed in v6.0.0. See https://github.com/optuna/optuna/releases/tag/v3.0.0. Use :func:`~optuna.trial.Trial.suggest_float` instead.\n",
      "  'reg_lambda': trial.suggest_loguniform('reg_lambda', 1e-8, 1.0),\n",
      "C:\\Users\\xfini\\AppData\\Local\\Temp\\ipykernel_20184\\1068959902.py:15: FutureWarning: suggest_loguniform has been deprecated in v3.0.0. This feature will be removed in v6.0.0. See https://github.com/optuna/optuna/releases/tag/v3.0.0. Use :func:`~optuna.trial.Trial.suggest_float` instead.\n",
      "  'rsm': trial.suggest_loguniform('rsm', 0.1, 0.9)\n"
     ]
    },
    {
     "name": "stdout",
     "output_type": "stream",
     "text": [
      "[15:11:01] WARNING: C:/buildkite-agent/builds/buildkite-windows-cpu-autoscaling-group-i-08de971ced8a8cdc6-1/xgboost/xgboost-ci-windows/src/learner.cc:767: \n",
      "Parameters: { \"rsm\" } are not used.\n",
      "\n"
     ]
    },
    {
     "name": "stderr",
     "output_type": "stream",
     "text": [
      "C:\\Users\\xfini\\AppData\\Local\\Temp\\ipykernel_20184\\1068959902.py:7: FutureWarning: suggest_loguniform has been deprecated in v3.0.0. This feature will be removed in v6.0.0. See https://github.com/optuna/optuna/releases/tag/v3.0.0. Use :func:`~optuna.trial.Trial.suggest_float` instead.\n",
      "  'learning_rate': trial.suggest_loguniform('learning_rate', 0.01,1.0),\n",
      "C:\\Users\\xfini\\AppData\\Local\\Temp\\ipykernel_20184\\1068959902.py:10: FutureWarning: suggest_loguniform has been deprecated in v3.0.0. This feature will be removed in v6.0.0. See https://github.com/optuna/optuna/releases/tag/v3.0.0. Use :func:`~optuna.trial.Trial.suggest_float` instead.\n",
      "  'gamma': trial.suggest_loguniform('gamma', 1e-8, 1.0),\n",
      "C:\\Users\\xfini\\AppData\\Local\\Temp\\ipykernel_20184\\1068959902.py:11: FutureWarning: suggest_loguniform has been deprecated in v3.0.0. This feature will be removed in v6.0.0. See https://github.com/optuna/optuna/releases/tag/v3.0.0. Use :func:`~optuna.trial.Trial.suggest_float` instead.\n",
      "  'subsample': trial.suggest_loguniform('subsample', 0.01, 1.0),\n",
      "C:\\Users\\xfini\\AppData\\Local\\Temp\\ipykernel_20184\\1068959902.py:12: FutureWarning: suggest_loguniform has been deprecated in v3.0.0. This feature will be removed in v6.0.0. See https://github.com/optuna/optuna/releases/tag/v3.0.0. Use :func:`~optuna.trial.Trial.suggest_float` instead.\n",
      "  'colsample_bytree': trial.suggest_loguniform('colsample_bytree', 0.01, 1.0),\n",
      "C:\\Users\\xfini\\AppData\\Local\\Temp\\ipykernel_20184\\1068959902.py:13: FutureWarning: suggest_loguniform has been deprecated in v3.0.0. This feature will be removed in v6.0.0. See https://github.com/optuna/optuna/releases/tag/v3.0.0. Use :func:`~optuna.trial.Trial.suggest_float` instead.\n",
      "  'reg_alpha': trial.suggest_loguniform('reg_alpha', 1e-8, 1.0),\n",
      "C:\\Users\\xfini\\AppData\\Local\\Temp\\ipykernel_20184\\1068959902.py:14: FutureWarning: suggest_loguniform has been deprecated in v3.0.0. This feature will be removed in v6.0.0. See https://github.com/optuna/optuna/releases/tag/v3.0.0. Use :func:`~optuna.trial.Trial.suggest_float` instead.\n",
      "  'reg_lambda': trial.suggest_loguniform('reg_lambda', 1e-8, 1.0),\n",
      "C:\\Users\\xfini\\AppData\\Local\\Temp\\ipykernel_20184\\1068959902.py:15: FutureWarning: suggest_loguniform has been deprecated in v3.0.0. This feature will be removed in v6.0.0. See https://github.com/optuna/optuna/releases/tag/v3.0.0. Use :func:`~optuna.trial.Trial.suggest_float` instead.\n",
      "  'rsm': trial.suggest_loguniform('rsm', 0.1, 0.9)\n"
     ]
    },
    {
     "name": "stdout",
     "output_type": "stream",
     "text": [
      "[15:11:02] WARNING: C:/buildkite-agent/builds/buildkite-windows-cpu-autoscaling-group-i-08de971ced8a8cdc6-1/xgboost/xgboost-ci-windows/src/learner.cc:767: \n",
      "Parameters: { \"rsm\" } are not used.\n",
      "\n"
     ]
    },
    {
     "name": "stderr",
     "output_type": "stream",
     "text": [
      "C:\\Users\\xfini\\AppData\\Local\\Temp\\ipykernel_20184\\1068959902.py:7: FutureWarning: suggest_loguniform has been deprecated in v3.0.0. This feature will be removed in v6.0.0. See https://github.com/optuna/optuna/releases/tag/v3.0.0. Use :func:`~optuna.trial.Trial.suggest_float` instead.\n",
      "  'learning_rate': trial.suggest_loguniform('learning_rate', 0.01,1.0),\n",
      "C:\\Users\\xfini\\AppData\\Local\\Temp\\ipykernel_20184\\1068959902.py:10: FutureWarning: suggest_loguniform has been deprecated in v3.0.0. This feature will be removed in v6.0.0. See https://github.com/optuna/optuna/releases/tag/v3.0.0. Use :func:`~optuna.trial.Trial.suggest_float` instead.\n",
      "  'gamma': trial.suggest_loguniform('gamma', 1e-8, 1.0),\n",
      "C:\\Users\\xfini\\AppData\\Local\\Temp\\ipykernel_20184\\1068959902.py:11: FutureWarning: suggest_loguniform has been deprecated in v3.0.0. This feature will be removed in v6.0.0. See https://github.com/optuna/optuna/releases/tag/v3.0.0. Use :func:`~optuna.trial.Trial.suggest_float` instead.\n",
      "  'subsample': trial.suggest_loguniform('subsample', 0.01, 1.0),\n",
      "C:\\Users\\xfini\\AppData\\Local\\Temp\\ipykernel_20184\\1068959902.py:12: FutureWarning: suggest_loguniform has been deprecated in v3.0.0. This feature will be removed in v6.0.0. See https://github.com/optuna/optuna/releases/tag/v3.0.0. Use :func:`~optuna.trial.Trial.suggest_float` instead.\n",
      "  'colsample_bytree': trial.suggest_loguniform('colsample_bytree', 0.01, 1.0),\n",
      "C:\\Users\\xfini\\AppData\\Local\\Temp\\ipykernel_20184\\1068959902.py:13: FutureWarning: suggest_loguniform has been deprecated in v3.0.0. This feature will be removed in v6.0.0. See https://github.com/optuna/optuna/releases/tag/v3.0.0. Use :func:`~optuna.trial.Trial.suggest_float` instead.\n",
      "  'reg_alpha': trial.suggest_loguniform('reg_alpha', 1e-8, 1.0),\n",
      "C:\\Users\\xfini\\AppData\\Local\\Temp\\ipykernel_20184\\1068959902.py:14: FutureWarning: suggest_loguniform has been deprecated in v3.0.0. This feature will be removed in v6.0.0. See https://github.com/optuna/optuna/releases/tag/v3.0.0. Use :func:`~optuna.trial.Trial.suggest_float` instead.\n",
      "  'reg_lambda': trial.suggest_loguniform('reg_lambda', 1e-8, 1.0),\n",
      "C:\\Users\\xfini\\AppData\\Local\\Temp\\ipykernel_20184\\1068959902.py:15: FutureWarning: suggest_loguniform has been deprecated in v3.0.0. This feature will be removed in v6.0.0. See https://github.com/optuna/optuna/releases/tag/v3.0.0. Use :func:`~optuna.trial.Trial.suggest_float` instead.\n",
      "  'rsm': trial.suggest_loguniform('rsm', 0.1, 0.9)\n"
     ]
    },
    {
     "name": "stdout",
     "output_type": "stream",
     "text": [
      "[15:11:04] WARNING: C:/buildkite-agent/builds/buildkite-windows-cpu-autoscaling-group-i-08de971ced8a8cdc6-1/xgboost/xgboost-ci-windows/src/learner.cc:767: \n",
      "Parameters: { \"rsm\" } are not used.\n",
      "\n"
     ]
    },
    {
     "name": "stderr",
     "output_type": "stream",
     "text": [
      "C:\\Users\\xfini\\AppData\\Local\\Temp\\ipykernel_20184\\1068959902.py:7: FutureWarning: suggest_loguniform has been deprecated in v3.0.0. This feature will be removed in v6.0.0. See https://github.com/optuna/optuna/releases/tag/v3.0.0. Use :func:`~optuna.trial.Trial.suggest_float` instead.\n",
      "  'learning_rate': trial.suggest_loguniform('learning_rate', 0.01,1.0),\n",
      "C:\\Users\\xfini\\AppData\\Local\\Temp\\ipykernel_20184\\1068959902.py:10: FutureWarning: suggest_loguniform has been deprecated in v3.0.0. This feature will be removed in v6.0.0. See https://github.com/optuna/optuna/releases/tag/v3.0.0. Use :func:`~optuna.trial.Trial.suggest_float` instead.\n",
      "  'gamma': trial.suggest_loguniform('gamma', 1e-8, 1.0),\n",
      "C:\\Users\\xfini\\AppData\\Local\\Temp\\ipykernel_20184\\1068959902.py:11: FutureWarning: suggest_loguniform has been deprecated in v3.0.0. This feature will be removed in v6.0.0. See https://github.com/optuna/optuna/releases/tag/v3.0.0. Use :func:`~optuna.trial.Trial.suggest_float` instead.\n",
      "  'subsample': trial.suggest_loguniform('subsample', 0.01, 1.0),\n",
      "C:\\Users\\xfini\\AppData\\Local\\Temp\\ipykernel_20184\\1068959902.py:12: FutureWarning: suggest_loguniform has been deprecated in v3.0.0. This feature will be removed in v6.0.0. See https://github.com/optuna/optuna/releases/tag/v3.0.0. Use :func:`~optuna.trial.Trial.suggest_float` instead.\n",
      "  'colsample_bytree': trial.suggest_loguniform('colsample_bytree', 0.01, 1.0),\n",
      "C:\\Users\\xfini\\AppData\\Local\\Temp\\ipykernel_20184\\1068959902.py:13: FutureWarning: suggest_loguniform has been deprecated in v3.0.0. This feature will be removed in v6.0.0. See https://github.com/optuna/optuna/releases/tag/v3.0.0. Use :func:`~optuna.trial.Trial.suggest_float` instead.\n",
      "  'reg_alpha': trial.suggest_loguniform('reg_alpha', 1e-8, 1.0),\n",
      "C:\\Users\\xfini\\AppData\\Local\\Temp\\ipykernel_20184\\1068959902.py:14: FutureWarning: suggest_loguniform has been deprecated in v3.0.0. This feature will be removed in v6.0.0. See https://github.com/optuna/optuna/releases/tag/v3.0.0. Use :func:`~optuna.trial.Trial.suggest_float` instead.\n",
      "  'reg_lambda': trial.suggest_loguniform('reg_lambda', 1e-8, 1.0),\n",
      "C:\\Users\\xfini\\AppData\\Local\\Temp\\ipykernel_20184\\1068959902.py:15: FutureWarning: suggest_loguniform has been deprecated in v3.0.0. This feature will be removed in v6.0.0. See https://github.com/optuna/optuna/releases/tag/v3.0.0. Use :func:`~optuna.trial.Trial.suggest_float` instead.\n",
      "  'rsm': trial.suggest_loguniform('rsm', 0.1, 0.9)\n"
     ]
    },
    {
     "name": "stdout",
     "output_type": "stream",
     "text": [
      "[15:11:05] WARNING: C:/buildkite-agent/builds/buildkite-windows-cpu-autoscaling-group-i-08de971ced8a8cdc6-1/xgboost/xgboost-ci-windows/src/learner.cc:767: \n",
      "Parameters: { \"rsm\" } are not used.\n",
      "\n"
     ]
    },
    {
     "name": "stderr",
     "output_type": "stream",
     "text": [
      "C:\\Users\\xfini\\AppData\\Local\\Temp\\ipykernel_20184\\1068959902.py:7: FutureWarning: suggest_loguniform has been deprecated in v3.0.0. This feature will be removed in v6.0.0. See https://github.com/optuna/optuna/releases/tag/v3.0.0. Use :func:`~optuna.trial.Trial.suggest_float` instead.\n",
      "  'learning_rate': trial.suggest_loguniform('learning_rate', 0.01,1.0),\n",
      "C:\\Users\\xfini\\AppData\\Local\\Temp\\ipykernel_20184\\1068959902.py:10: FutureWarning: suggest_loguniform has been deprecated in v3.0.0. This feature will be removed in v6.0.0. See https://github.com/optuna/optuna/releases/tag/v3.0.0. Use :func:`~optuna.trial.Trial.suggest_float` instead.\n",
      "  'gamma': trial.suggest_loguniform('gamma', 1e-8, 1.0),\n",
      "C:\\Users\\xfini\\AppData\\Local\\Temp\\ipykernel_20184\\1068959902.py:11: FutureWarning: suggest_loguniform has been deprecated in v3.0.0. This feature will be removed in v6.0.0. See https://github.com/optuna/optuna/releases/tag/v3.0.0. Use :func:`~optuna.trial.Trial.suggest_float` instead.\n",
      "  'subsample': trial.suggest_loguniform('subsample', 0.01, 1.0),\n",
      "C:\\Users\\xfini\\AppData\\Local\\Temp\\ipykernel_20184\\1068959902.py:12: FutureWarning: suggest_loguniform has been deprecated in v3.0.0. This feature will be removed in v6.0.0. See https://github.com/optuna/optuna/releases/tag/v3.0.0. Use :func:`~optuna.trial.Trial.suggest_float` instead.\n",
      "  'colsample_bytree': trial.suggest_loguniform('colsample_bytree', 0.01, 1.0),\n",
      "C:\\Users\\xfini\\AppData\\Local\\Temp\\ipykernel_20184\\1068959902.py:13: FutureWarning: suggest_loguniform has been deprecated in v3.0.0. This feature will be removed in v6.0.0. See https://github.com/optuna/optuna/releases/tag/v3.0.0. Use :func:`~optuna.trial.Trial.suggest_float` instead.\n",
      "  'reg_alpha': trial.suggest_loguniform('reg_alpha', 1e-8, 1.0),\n",
      "C:\\Users\\xfini\\AppData\\Local\\Temp\\ipykernel_20184\\1068959902.py:14: FutureWarning: suggest_loguniform has been deprecated in v3.0.0. This feature will be removed in v6.0.0. See https://github.com/optuna/optuna/releases/tag/v3.0.0. Use :func:`~optuna.trial.Trial.suggest_float` instead.\n",
      "  'reg_lambda': trial.suggest_loguniform('reg_lambda', 1e-8, 1.0),\n",
      "C:\\Users\\xfini\\AppData\\Local\\Temp\\ipykernel_20184\\1068959902.py:15: FutureWarning: suggest_loguniform has been deprecated in v3.0.0. This feature will be removed in v6.0.0. See https://github.com/optuna/optuna/releases/tag/v3.0.0. Use :func:`~optuna.trial.Trial.suggest_float` instead.\n",
      "  'rsm': trial.suggest_loguniform('rsm', 0.1, 0.9)\n"
     ]
    },
    {
     "name": "stdout",
     "output_type": "stream",
     "text": [
      "[15:11:06] WARNING: C:/buildkite-agent/builds/buildkite-windows-cpu-autoscaling-group-i-08de971ced8a8cdc6-1/xgboost/xgboost-ci-windows/src/learner.cc:767: \n",
      "Parameters: { \"rsm\" } are not used.\n",
      "\n"
     ]
    },
    {
     "name": "stderr",
     "output_type": "stream",
     "text": [
      "C:\\Users\\xfini\\AppData\\Local\\Temp\\ipykernel_20184\\1068959902.py:7: FutureWarning: suggest_loguniform has been deprecated in v3.0.0. This feature will be removed in v6.0.0. See https://github.com/optuna/optuna/releases/tag/v3.0.0. Use :func:`~optuna.trial.Trial.suggest_float` instead.\n",
      "  'learning_rate': trial.suggest_loguniform('learning_rate', 0.01,1.0),\n",
      "C:\\Users\\xfini\\AppData\\Local\\Temp\\ipykernel_20184\\1068959902.py:10: FutureWarning: suggest_loguniform has been deprecated in v3.0.0. This feature will be removed in v6.0.0. See https://github.com/optuna/optuna/releases/tag/v3.0.0. Use :func:`~optuna.trial.Trial.suggest_float` instead.\n",
      "  'gamma': trial.suggest_loguniform('gamma', 1e-8, 1.0),\n",
      "C:\\Users\\xfini\\AppData\\Local\\Temp\\ipykernel_20184\\1068959902.py:11: FutureWarning: suggest_loguniform has been deprecated in v3.0.0. This feature will be removed in v6.0.0. See https://github.com/optuna/optuna/releases/tag/v3.0.0. Use :func:`~optuna.trial.Trial.suggest_float` instead.\n",
      "  'subsample': trial.suggest_loguniform('subsample', 0.01, 1.0),\n",
      "C:\\Users\\xfini\\AppData\\Local\\Temp\\ipykernel_20184\\1068959902.py:12: FutureWarning: suggest_loguniform has been deprecated in v3.0.0. This feature will be removed in v6.0.0. See https://github.com/optuna/optuna/releases/tag/v3.0.0. Use :func:`~optuna.trial.Trial.suggest_float` instead.\n",
      "  'colsample_bytree': trial.suggest_loguniform('colsample_bytree', 0.01, 1.0),\n",
      "C:\\Users\\xfini\\AppData\\Local\\Temp\\ipykernel_20184\\1068959902.py:13: FutureWarning: suggest_loguniform has been deprecated in v3.0.0. This feature will be removed in v6.0.0. See https://github.com/optuna/optuna/releases/tag/v3.0.0. Use :func:`~optuna.trial.Trial.suggest_float` instead.\n",
      "  'reg_alpha': trial.suggest_loguniform('reg_alpha', 1e-8, 1.0),\n",
      "C:\\Users\\xfini\\AppData\\Local\\Temp\\ipykernel_20184\\1068959902.py:14: FutureWarning: suggest_loguniform has been deprecated in v3.0.0. This feature will be removed in v6.0.0. See https://github.com/optuna/optuna/releases/tag/v3.0.0. Use :func:`~optuna.trial.Trial.suggest_float` instead.\n",
      "  'reg_lambda': trial.suggest_loguniform('reg_lambda', 1e-8, 1.0),\n",
      "C:\\Users\\xfini\\AppData\\Local\\Temp\\ipykernel_20184\\1068959902.py:15: FutureWarning: suggest_loguniform has been deprecated in v3.0.0. This feature will be removed in v6.0.0. See https://github.com/optuna/optuna/releases/tag/v3.0.0. Use :func:`~optuna.trial.Trial.suggest_float` instead.\n",
      "  'rsm': trial.suggest_loguniform('rsm', 0.1, 0.9)\n"
     ]
    },
    {
     "name": "stdout",
     "output_type": "stream",
     "text": [
      "[15:11:07] WARNING: C:/buildkite-agent/builds/buildkite-windows-cpu-autoscaling-group-i-08de971ced8a8cdc6-1/xgboost/xgboost-ci-windows/src/learner.cc:767: \n",
      "Parameters: { \"rsm\" } are not used.\n",
      "\n"
     ]
    },
    {
     "name": "stderr",
     "output_type": "stream",
     "text": [
      "C:\\Users\\xfini\\AppData\\Local\\Temp\\ipykernel_20184\\1068959902.py:7: FutureWarning: suggest_loguniform has been deprecated in v3.0.0. This feature will be removed in v6.0.0. See https://github.com/optuna/optuna/releases/tag/v3.0.0. Use :func:`~optuna.trial.Trial.suggest_float` instead.\n",
      "  'learning_rate': trial.suggest_loguniform('learning_rate', 0.01,1.0),\n",
      "C:\\Users\\xfini\\AppData\\Local\\Temp\\ipykernel_20184\\1068959902.py:10: FutureWarning: suggest_loguniform has been deprecated in v3.0.0. This feature will be removed in v6.0.0. See https://github.com/optuna/optuna/releases/tag/v3.0.0. Use :func:`~optuna.trial.Trial.suggest_float` instead.\n",
      "  'gamma': trial.suggest_loguniform('gamma', 1e-8, 1.0),\n",
      "C:\\Users\\xfini\\AppData\\Local\\Temp\\ipykernel_20184\\1068959902.py:11: FutureWarning: suggest_loguniform has been deprecated in v3.0.0. This feature will be removed in v6.0.0. See https://github.com/optuna/optuna/releases/tag/v3.0.0. Use :func:`~optuna.trial.Trial.suggest_float` instead.\n",
      "  'subsample': trial.suggest_loguniform('subsample', 0.01, 1.0),\n",
      "C:\\Users\\xfini\\AppData\\Local\\Temp\\ipykernel_20184\\1068959902.py:12: FutureWarning: suggest_loguniform has been deprecated in v3.0.0. This feature will be removed in v6.0.0. See https://github.com/optuna/optuna/releases/tag/v3.0.0. Use :func:`~optuna.trial.Trial.suggest_float` instead.\n",
      "  'colsample_bytree': trial.suggest_loguniform('colsample_bytree', 0.01, 1.0),\n",
      "C:\\Users\\xfini\\AppData\\Local\\Temp\\ipykernel_20184\\1068959902.py:13: FutureWarning: suggest_loguniform has been deprecated in v3.0.0. This feature will be removed in v6.0.0. See https://github.com/optuna/optuna/releases/tag/v3.0.0. Use :func:`~optuna.trial.Trial.suggest_float` instead.\n",
      "  'reg_alpha': trial.suggest_loguniform('reg_alpha', 1e-8, 1.0),\n",
      "C:\\Users\\xfini\\AppData\\Local\\Temp\\ipykernel_20184\\1068959902.py:14: FutureWarning: suggest_loguniform has been deprecated in v3.0.0. This feature will be removed in v6.0.0. See https://github.com/optuna/optuna/releases/tag/v3.0.0. Use :func:`~optuna.trial.Trial.suggest_float` instead.\n",
      "  'reg_lambda': trial.suggest_loguniform('reg_lambda', 1e-8, 1.0),\n",
      "C:\\Users\\xfini\\AppData\\Local\\Temp\\ipykernel_20184\\1068959902.py:15: FutureWarning: suggest_loguniform has been deprecated in v3.0.0. This feature will be removed in v6.0.0. See https://github.com/optuna/optuna/releases/tag/v3.0.0. Use :func:`~optuna.trial.Trial.suggest_float` instead.\n",
      "  'rsm': trial.suggest_loguniform('rsm', 0.1, 0.9)\n"
     ]
    },
    {
     "name": "stdout",
     "output_type": "stream",
     "text": [
      "[15:11:09] WARNING: C:/buildkite-agent/builds/buildkite-windows-cpu-autoscaling-group-i-08de971ced8a8cdc6-1/xgboost/xgboost-ci-windows/src/learner.cc:767: \n",
      "Parameters: { \"rsm\" } are not used.\n",
      "\n"
     ]
    },
    {
     "name": "stderr",
     "output_type": "stream",
     "text": [
      "C:\\Users\\xfini\\AppData\\Local\\Temp\\ipykernel_20184\\1068959902.py:7: FutureWarning: suggest_loguniform has been deprecated in v3.0.0. This feature will be removed in v6.0.0. See https://github.com/optuna/optuna/releases/tag/v3.0.0. Use :func:`~optuna.trial.Trial.suggest_float` instead.\n",
      "  'learning_rate': trial.suggest_loguniform('learning_rate', 0.01,1.0),\n",
      "C:\\Users\\xfini\\AppData\\Local\\Temp\\ipykernel_20184\\1068959902.py:10: FutureWarning: suggest_loguniform has been deprecated in v3.0.0. This feature will be removed in v6.0.0. See https://github.com/optuna/optuna/releases/tag/v3.0.0. Use :func:`~optuna.trial.Trial.suggest_float` instead.\n",
      "  'gamma': trial.suggest_loguniform('gamma', 1e-8, 1.0),\n",
      "C:\\Users\\xfini\\AppData\\Local\\Temp\\ipykernel_20184\\1068959902.py:11: FutureWarning: suggest_loguniform has been deprecated in v3.0.0. This feature will be removed in v6.0.0. See https://github.com/optuna/optuna/releases/tag/v3.0.0. Use :func:`~optuna.trial.Trial.suggest_float` instead.\n",
      "  'subsample': trial.suggest_loguniform('subsample', 0.01, 1.0),\n",
      "C:\\Users\\xfini\\AppData\\Local\\Temp\\ipykernel_20184\\1068959902.py:12: FutureWarning: suggest_loguniform has been deprecated in v3.0.0. This feature will be removed in v6.0.0. See https://github.com/optuna/optuna/releases/tag/v3.0.0. Use :func:`~optuna.trial.Trial.suggest_float` instead.\n",
      "  'colsample_bytree': trial.suggest_loguniform('colsample_bytree', 0.01, 1.0),\n",
      "C:\\Users\\xfini\\AppData\\Local\\Temp\\ipykernel_20184\\1068959902.py:13: FutureWarning: suggest_loguniform has been deprecated in v3.0.0. This feature will be removed in v6.0.0. See https://github.com/optuna/optuna/releases/tag/v3.0.0. Use :func:`~optuna.trial.Trial.suggest_float` instead.\n",
      "  'reg_alpha': trial.suggest_loguniform('reg_alpha', 1e-8, 1.0),\n",
      "C:\\Users\\xfini\\AppData\\Local\\Temp\\ipykernel_20184\\1068959902.py:14: FutureWarning: suggest_loguniform has been deprecated in v3.0.0. This feature will be removed in v6.0.0. See https://github.com/optuna/optuna/releases/tag/v3.0.0. Use :func:`~optuna.trial.Trial.suggest_float` instead.\n",
      "  'reg_lambda': trial.suggest_loguniform('reg_lambda', 1e-8, 1.0),\n",
      "C:\\Users\\xfini\\AppData\\Local\\Temp\\ipykernel_20184\\1068959902.py:15: FutureWarning: suggest_loguniform has been deprecated in v3.0.0. This feature will be removed in v6.0.0. See https://github.com/optuna/optuna/releases/tag/v3.0.0. Use :func:`~optuna.trial.Trial.suggest_float` instead.\n",
      "  'rsm': trial.suggest_loguniform('rsm', 0.1, 0.9)\n"
     ]
    },
    {
     "name": "stdout",
     "output_type": "stream",
     "text": [
      "[15:11:10] WARNING: C:/buildkite-agent/builds/buildkite-windows-cpu-autoscaling-group-i-08de971ced8a8cdc6-1/xgboost/xgboost-ci-windows/src/learner.cc:767: \n",
      "Parameters: { \"rsm\" } are not used.\n",
      "\n"
     ]
    },
    {
     "name": "stderr",
     "output_type": "stream",
     "text": [
      "C:\\Users\\xfini\\AppData\\Local\\Temp\\ipykernel_20184\\1068959902.py:7: FutureWarning: suggest_loguniform has been deprecated in v3.0.0. This feature will be removed in v6.0.0. See https://github.com/optuna/optuna/releases/tag/v3.0.0. Use :func:`~optuna.trial.Trial.suggest_float` instead.\n",
      "  'learning_rate': trial.suggest_loguniform('learning_rate', 0.01,1.0),\n",
      "C:\\Users\\xfini\\AppData\\Local\\Temp\\ipykernel_20184\\1068959902.py:10: FutureWarning: suggest_loguniform has been deprecated in v3.0.0. This feature will be removed in v6.0.0. See https://github.com/optuna/optuna/releases/tag/v3.0.0. Use :func:`~optuna.trial.Trial.suggest_float` instead.\n",
      "  'gamma': trial.suggest_loguniform('gamma', 1e-8, 1.0),\n",
      "C:\\Users\\xfini\\AppData\\Local\\Temp\\ipykernel_20184\\1068959902.py:11: FutureWarning: suggest_loguniform has been deprecated in v3.0.0. This feature will be removed in v6.0.0. See https://github.com/optuna/optuna/releases/tag/v3.0.0. Use :func:`~optuna.trial.Trial.suggest_float` instead.\n",
      "  'subsample': trial.suggest_loguniform('subsample', 0.01, 1.0),\n",
      "C:\\Users\\xfini\\AppData\\Local\\Temp\\ipykernel_20184\\1068959902.py:12: FutureWarning: suggest_loguniform has been deprecated in v3.0.0. This feature will be removed in v6.0.0. See https://github.com/optuna/optuna/releases/tag/v3.0.0. Use :func:`~optuna.trial.Trial.suggest_float` instead.\n",
      "  'colsample_bytree': trial.suggest_loguniform('colsample_bytree', 0.01, 1.0),\n",
      "C:\\Users\\xfini\\AppData\\Local\\Temp\\ipykernel_20184\\1068959902.py:13: FutureWarning: suggest_loguniform has been deprecated in v3.0.0. This feature will be removed in v6.0.0. See https://github.com/optuna/optuna/releases/tag/v3.0.0. Use :func:`~optuna.trial.Trial.suggest_float` instead.\n",
      "  'reg_alpha': trial.suggest_loguniform('reg_alpha', 1e-8, 1.0),\n",
      "C:\\Users\\xfini\\AppData\\Local\\Temp\\ipykernel_20184\\1068959902.py:14: FutureWarning: suggest_loguniform has been deprecated in v3.0.0. This feature will be removed in v6.0.0. See https://github.com/optuna/optuna/releases/tag/v3.0.0. Use :func:`~optuna.trial.Trial.suggest_float` instead.\n",
      "  'reg_lambda': trial.suggest_loguniform('reg_lambda', 1e-8, 1.0),\n",
      "C:\\Users\\xfini\\AppData\\Local\\Temp\\ipykernel_20184\\1068959902.py:15: FutureWarning: suggest_loguniform has been deprecated in v3.0.0. This feature will be removed in v6.0.0. See https://github.com/optuna/optuna/releases/tag/v3.0.0. Use :func:`~optuna.trial.Trial.suggest_float` instead.\n",
      "  'rsm': trial.suggest_loguniform('rsm', 0.1, 0.9)\n"
     ]
    },
    {
     "name": "stdout",
     "output_type": "stream",
     "text": [
      "[15:11:12] WARNING: C:/buildkite-agent/builds/buildkite-windows-cpu-autoscaling-group-i-08de971ced8a8cdc6-1/xgboost/xgboost-ci-windows/src/learner.cc:767: \n",
      "Parameters: { \"rsm\" } are not used.\n",
      "\n"
     ]
    },
    {
     "name": "stderr",
     "output_type": "stream",
     "text": [
      "C:\\Users\\xfini\\AppData\\Local\\Temp\\ipykernel_20184\\1068959902.py:7: FutureWarning: suggest_loguniform has been deprecated in v3.0.0. This feature will be removed in v6.0.0. See https://github.com/optuna/optuna/releases/tag/v3.0.0. Use :func:`~optuna.trial.Trial.suggest_float` instead.\n",
      "  'learning_rate': trial.suggest_loguniform('learning_rate', 0.01,1.0),\n",
      "C:\\Users\\xfini\\AppData\\Local\\Temp\\ipykernel_20184\\1068959902.py:10: FutureWarning: suggest_loguniform has been deprecated in v3.0.0. This feature will be removed in v6.0.0. See https://github.com/optuna/optuna/releases/tag/v3.0.0. Use :func:`~optuna.trial.Trial.suggest_float` instead.\n",
      "  'gamma': trial.suggest_loguniform('gamma', 1e-8, 1.0),\n",
      "C:\\Users\\xfini\\AppData\\Local\\Temp\\ipykernel_20184\\1068959902.py:11: FutureWarning: suggest_loguniform has been deprecated in v3.0.0. This feature will be removed in v6.0.0. See https://github.com/optuna/optuna/releases/tag/v3.0.0. Use :func:`~optuna.trial.Trial.suggest_float` instead.\n",
      "  'subsample': trial.suggest_loguniform('subsample', 0.01, 1.0),\n",
      "C:\\Users\\xfini\\AppData\\Local\\Temp\\ipykernel_20184\\1068959902.py:12: FutureWarning: suggest_loguniform has been deprecated in v3.0.0. This feature will be removed in v6.0.0. See https://github.com/optuna/optuna/releases/tag/v3.0.0. Use :func:`~optuna.trial.Trial.suggest_float` instead.\n",
      "  'colsample_bytree': trial.suggest_loguniform('colsample_bytree', 0.01, 1.0),\n",
      "C:\\Users\\xfini\\AppData\\Local\\Temp\\ipykernel_20184\\1068959902.py:13: FutureWarning: suggest_loguniform has been deprecated in v3.0.0. This feature will be removed in v6.0.0. See https://github.com/optuna/optuna/releases/tag/v3.0.0. Use :func:`~optuna.trial.Trial.suggest_float` instead.\n",
      "  'reg_alpha': trial.suggest_loguniform('reg_alpha', 1e-8, 1.0),\n",
      "C:\\Users\\xfini\\AppData\\Local\\Temp\\ipykernel_20184\\1068959902.py:14: FutureWarning: suggest_loguniform has been deprecated in v3.0.0. This feature will be removed in v6.0.0. See https://github.com/optuna/optuna/releases/tag/v3.0.0. Use :func:`~optuna.trial.Trial.suggest_float` instead.\n",
      "  'reg_lambda': trial.suggest_loguniform('reg_lambda', 1e-8, 1.0),\n",
      "C:\\Users\\xfini\\AppData\\Local\\Temp\\ipykernel_20184\\1068959902.py:15: FutureWarning: suggest_loguniform has been deprecated in v3.0.0. This feature will be removed in v6.0.0. See https://github.com/optuna/optuna/releases/tag/v3.0.0. Use :func:`~optuna.trial.Trial.suggest_float` instead.\n",
      "  'rsm': trial.suggest_loguniform('rsm', 0.1, 0.9)\n"
     ]
    },
    {
     "name": "stdout",
     "output_type": "stream",
     "text": [
      "[15:11:13] WARNING: C:/buildkite-agent/builds/buildkite-windows-cpu-autoscaling-group-i-08de971ced8a8cdc6-1/xgboost/xgboost-ci-windows/src/learner.cc:767: \n",
      "Parameters: { \"rsm\" } are not used.\n",
      "\n"
     ]
    },
    {
     "name": "stderr",
     "output_type": "stream",
     "text": [
      "C:\\Users\\xfini\\AppData\\Local\\Temp\\ipykernel_20184\\1068959902.py:7: FutureWarning: suggest_loguniform has been deprecated in v3.0.0. This feature will be removed in v6.0.0. See https://github.com/optuna/optuna/releases/tag/v3.0.0. Use :func:`~optuna.trial.Trial.suggest_float` instead.\n",
      "  'learning_rate': trial.suggest_loguniform('learning_rate', 0.01,1.0),\n",
      "C:\\Users\\xfini\\AppData\\Local\\Temp\\ipykernel_20184\\1068959902.py:10: FutureWarning: suggest_loguniform has been deprecated in v3.0.0. This feature will be removed in v6.0.0. See https://github.com/optuna/optuna/releases/tag/v3.0.0. Use :func:`~optuna.trial.Trial.suggest_float` instead.\n",
      "  'gamma': trial.suggest_loguniform('gamma', 1e-8, 1.0),\n",
      "C:\\Users\\xfini\\AppData\\Local\\Temp\\ipykernel_20184\\1068959902.py:11: FutureWarning: suggest_loguniform has been deprecated in v3.0.0. This feature will be removed in v6.0.0. See https://github.com/optuna/optuna/releases/tag/v3.0.0. Use :func:`~optuna.trial.Trial.suggest_float` instead.\n",
      "  'subsample': trial.suggest_loguniform('subsample', 0.01, 1.0),\n",
      "C:\\Users\\xfini\\AppData\\Local\\Temp\\ipykernel_20184\\1068959902.py:12: FutureWarning: suggest_loguniform has been deprecated in v3.0.0. This feature will be removed in v6.0.0. See https://github.com/optuna/optuna/releases/tag/v3.0.0. Use :func:`~optuna.trial.Trial.suggest_float` instead.\n",
      "  'colsample_bytree': trial.suggest_loguniform('colsample_bytree', 0.01, 1.0),\n",
      "C:\\Users\\xfini\\AppData\\Local\\Temp\\ipykernel_20184\\1068959902.py:13: FutureWarning: suggest_loguniform has been deprecated in v3.0.0. This feature will be removed in v6.0.0. See https://github.com/optuna/optuna/releases/tag/v3.0.0. Use :func:`~optuna.trial.Trial.suggest_float` instead.\n",
      "  'reg_alpha': trial.suggest_loguniform('reg_alpha', 1e-8, 1.0),\n",
      "C:\\Users\\xfini\\AppData\\Local\\Temp\\ipykernel_20184\\1068959902.py:14: FutureWarning: suggest_loguniform has been deprecated in v3.0.0. This feature will be removed in v6.0.0. See https://github.com/optuna/optuna/releases/tag/v3.0.0. Use :func:`~optuna.trial.Trial.suggest_float` instead.\n",
      "  'reg_lambda': trial.suggest_loguniform('reg_lambda', 1e-8, 1.0),\n",
      "C:\\Users\\xfini\\AppData\\Local\\Temp\\ipykernel_20184\\1068959902.py:15: FutureWarning: suggest_loguniform has been deprecated in v3.0.0. This feature will be removed in v6.0.0. See https://github.com/optuna/optuna/releases/tag/v3.0.0. Use :func:`~optuna.trial.Trial.suggest_float` instead.\n",
      "  'rsm': trial.suggest_loguniform('rsm', 0.1, 0.9)\n"
     ]
    },
    {
     "name": "stdout",
     "output_type": "stream",
     "text": [
      "[15:11:15] WARNING: C:/buildkite-agent/builds/buildkite-windows-cpu-autoscaling-group-i-08de971ced8a8cdc6-1/xgboost/xgboost-ci-windows/src/learner.cc:767: \n",
      "Parameters: { \"rsm\" } are not used.\n",
      "\n"
     ]
    },
    {
     "name": "stderr",
     "output_type": "stream",
     "text": [
      "C:\\Users\\xfini\\AppData\\Local\\Temp\\ipykernel_20184\\1068959902.py:7: FutureWarning: suggest_loguniform has been deprecated in v3.0.0. This feature will be removed in v6.0.0. See https://github.com/optuna/optuna/releases/tag/v3.0.0. Use :func:`~optuna.trial.Trial.suggest_float` instead.\n",
      "  'learning_rate': trial.suggest_loguniform('learning_rate', 0.01,1.0),\n",
      "C:\\Users\\xfini\\AppData\\Local\\Temp\\ipykernel_20184\\1068959902.py:10: FutureWarning: suggest_loguniform has been deprecated in v3.0.0. This feature will be removed in v6.0.0. See https://github.com/optuna/optuna/releases/tag/v3.0.0. Use :func:`~optuna.trial.Trial.suggest_float` instead.\n",
      "  'gamma': trial.suggest_loguniform('gamma', 1e-8, 1.0),\n",
      "C:\\Users\\xfini\\AppData\\Local\\Temp\\ipykernel_20184\\1068959902.py:11: FutureWarning: suggest_loguniform has been deprecated in v3.0.0. This feature will be removed in v6.0.0. See https://github.com/optuna/optuna/releases/tag/v3.0.0. Use :func:`~optuna.trial.Trial.suggest_float` instead.\n",
      "  'subsample': trial.suggest_loguniform('subsample', 0.01, 1.0),\n",
      "C:\\Users\\xfini\\AppData\\Local\\Temp\\ipykernel_20184\\1068959902.py:12: FutureWarning: suggest_loguniform has been deprecated in v3.0.0. This feature will be removed in v6.0.0. See https://github.com/optuna/optuna/releases/tag/v3.0.0. Use :func:`~optuna.trial.Trial.suggest_float` instead.\n",
      "  'colsample_bytree': trial.suggest_loguniform('colsample_bytree', 0.01, 1.0),\n",
      "C:\\Users\\xfini\\AppData\\Local\\Temp\\ipykernel_20184\\1068959902.py:13: FutureWarning: suggest_loguniform has been deprecated in v3.0.0. This feature will be removed in v6.0.0. See https://github.com/optuna/optuna/releases/tag/v3.0.0. Use :func:`~optuna.trial.Trial.suggest_float` instead.\n",
      "  'reg_alpha': trial.suggest_loguniform('reg_alpha', 1e-8, 1.0),\n",
      "C:\\Users\\xfini\\AppData\\Local\\Temp\\ipykernel_20184\\1068959902.py:14: FutureWarning: suggest_loguniform has been deprecated in v3.0.0. This feature will be removed in v6.0.0. See https://github.com/optuna/optuna/releases/tag/v3.0.0. Use :func:`~optuna.trial.Trial.suggest_float` instead.\n",
      "  'reg_lambda': trial.suggest_loguniform('reg_lambda', 1e-8, 1.0),\n",
      "C:\\Users\\xfini\\AppData\\Local\\Temp\\ipykernel_20184\\1068959902.py:15: FutureWarning: suggest_loguniform has been deprecated in v3.0.0. This feature will be removed in v6.0.0. See https://github.com/optuna/optuna/releases/tag/v3.0.0. Use :func:`~optuna.trial.Trial.suggest_float` instead.\n",
      "  'rsm': trial.suggest_loguniform('rsm', 0.1, 0.9)\n"
     ]
    },
    {
     "name": "stdout",
     "output_type": "stream",
     "text": [
      "[15:11:16] WARNING: C:/buildkite-agent/builds/buildkite-windows-cpu-autoscaling-group-i-08de971ced8a8cdc6-1/xgboost/xgboost-ci-windows/src/learner.cc:767: \n",
      "Parameters: { \"rsm\" } are not used.\n",
      "\n"
     ]
    },
    {
     "name": "stderr",
     "output_type": "stream",
     "text": [
      "C:\\Users\\xfini\\AppData\\Local\\Temp\\ipykernel_20184\\1068959902.py:7: FutureWarning: suggest_loguniform has been deprecated in v3.0.0. This feature will be removed in v6.0.0. See https://github.com/optuna/optuna/releases/tag/v3.0.0. Use :func:`~optuna.trial.Trial.suggest_float` instead.\n",
      "  'learning_rate': trial.suggest_loguniform('learning_rate', 0.01,1.0),\n",
      "C:\\Users\\xfini\\AppData\\Local\\Temp\\ipykernel_20184\\1068959902.py:10: FutureWarning: suggest_loguniform has been deprecated in v3.0.0. This feature will be removed in v6.0.0. See https://github.com/optuna/optuna/releases/tag/v3.0.0. Use :func:`~optuna.trial.Trial.suggest_float` instead.\n",
      "  'gamma': trial.suggest_loguniform('gamma', 1e-8, 1.0),\n",
      "C:\\Users\\xfini\\AppData\\Local\\Temp\\ipykernel_20184\\1068959902.py:11: FutureWarning: suggest_loguniform has been deprecated in v3.0.0. This feature will be removed in v6.0.0. See https://github.com/optuna/optuna/releases/tag/v3.0.0. Use :func:`~optuna.trial.Trial.suggest_float` instead.\n",
      "  'subsample': trial.suggest_loguniform('subsample', 0.01, 1.0),\n",
      "C:\\Users\\xfini\\AppData\\Local\\Temp\\ipykernel_20184\\1068959902.py:12: FutureWarning: suggest_loguniform has been deprecated in v3.0.0. This feature will be removed in v6.0.0. See https://github.com/optuna/optuna/releases/tag/v3.0.0. Use :func:`~optuna.trial.Trial.suggest_float` instead.\n",
      "  'colsample_bytree': trial.suggest_loguniform('colsample_bytree', 0.01, 1.0),\n",
      "C:\\Users\\xfini\\AppData\\Local\\Temp\\ipykernel_20184\\1068959902.py:13: FutureWarning: suggest_loguniform has been deprecated in v3.0.0. This feature will be removed in v6.0.0. See https://github.com/optuna/optuna/releases/tag/v3.0.0. Use :func:`~optuna.trial.Trial.suggest_float` instead.\n",
      "  'reg_alpha': trial.suggest_loguniform('reg_alpha', 1e-8, 1.0),\n",
      "C:\\Users\\xfini\\AppData\\Local\\Temp\\ipykernel_20184\\1068959902.py:14: FutureWarning: suggest_loguniform has been deprecated in v3.0.0. This feature will be removed in v6.0.0. See https://github.com/optuna/optuna/releases/tag/v3.0.0. Use :func:`~optuna.trial.Trial.suggest_float` instead.\n",
      "  'reg_lambda': trial.suggest_loguniform('reg_lambda', 1e-8, 1.0),\n",
      "C:\\Users\\xfini\\AppData\\Local\\Temp\\ipykernel_20184\\1068959902.py:15: FutureWarning: suggest_loguniform has been deprecated in v3.0.0. This feature will be removed in v6.0.0. See https://github.com/optuna/optuna/releases/tag/v3.0.0. Use :func:`~optuna.trial.Trial.suggest_float` instead.\n",
      "  'rsm': trial.suggest_loguniform('rsm', 0.1, 0.9)\n"
     ]
    },
    {
     "name": "stdout",
     "output_type": "stream",
     "text": [
      "[15:11:17] WARNING: C:/buildkite-agent/builds/buildkite-windows-cpu-autoscaling-group-i-08de971ced8a8cdc6-1/xgboost/xgboost-ci-windows/src/learner.cc:767: \n",
      "Parameters: { \"rsm\" } are not used.\n",
      "\n"
     ]
    },
    {
     "name": "stderr",
     "output_type": "stream",
     "text": [
      "C:\\Users\\xfini\\AppData\\Local\\Temp\\ipykernel_20184\\1068959902.py:7: FutureWarning: suggest_loguniform has been deprecated in v3.0.0. This feature will be removed in v6.0.0. See https://github.com/optuna/optuna/releases/tag/v3.0.0. Use :func:`~optuna.trial.Trial.suggest_float` instead.\n",
      "  'learning_rate': trial.suggest_loguniform('learning_rate', 0.01,1.0),\n",
      "C:\\Users\\xfini\\AppData\\Local\\Temp\\ipykernel_20184\\1068959902.py:10: FutureWarning: suggest_loguniform has been deprecated in v3.0.0. This feature will be removed in v6.0.0. See https://github.com/optuna/optuna/releases/tag/v3.0.0. Use :func:`~optuna.trial.Trial.suggest_float` instead.\n",
      "  'gamma': trial.suggest_loguniform('gamma', 1e-8, 1.0),\n",
      "C:\\Users\\xfini\\AppData\\Local\\Temp\\ipykernel_20184\\1068959902.py:11: FutureWarning: suggest_loguniform has been deprecated in v3.0.0. This feature will be removed in v6.0.0. See https://github.com/optuna/optuna/releases/tag/v3.0.0. Use :func:`~optuna.trial.Trial.suggest_float` instead.\n",
      "  'subsample': trial.suggest_loguniform('subsample', 0.01, 1.0),\n",
      "C:\\Users\\xfini\\AppData\\Local\\Temp\\ipykernel_20184\\1068959902.py:12: FutureWarning: suggest_loguniform has been deprecated in v3.0.0. This feature will be removed in v6.0.0. See https://github.com/optuna/optuna/releases/tag/v3.0.0. Use :func:`~optuna.trial.Trial.suggest_float` instead.\n",
      "  'colsample_bytree': trial.suggest_loguniform('colsample_bytree', 0.01, 1.0),\n",
      "C:\\Users\\xfini\\AppData\\Local\\Temp\\ipykernel_20184\\1068959902.py:13: FutureWarning: suggest_loguniform has been deprecated in v3.0.0. This feature will be removed in v6.0.0. See https://github.com/optuna/optuna/releases/tag/v3.0.0. Use :func:`~optuna.trial.Trial.suggest_float` instead.\n",
      "  'reg_alpha': trial.suggest_loguniform('reg_alpha', 1e-8, 1.0),\n",
      "C:\\Users\\xfini\\AppData\\Local\\Temp\\ipykernel_20184\\1068959902.py:14: FutureWarning: suggest_loguniform has been deprecated in v3.0.0. This feature will be removed in v6.0.0. See https://github.com/optuna/optuna/releases/tag/v3.0.0. Use :func:`~optuna.trial.Trial.suggest_float` instead.\n",
      "  'reg_lambda': trial.suggest_loguniform('reg_lambda', 1e-8, 1.0),\n",
      "C:\\Users\\xfini\\AppData\\Local\\Temp\\ipykernel_20184\\1068959902.py:15: FutureWarning: suggest_loguniform has been deprecated in v3.0.0. This feature will be removed in v6.0.0. See https://github.com/optuna/optuna/releases/tag/v3.0.0. Use :func:`~optuna.trial.Trial.suggest_float` instead.\n",
      "  'rsm': trial.suggest_loguniform('rsm', 0.1, 0.9)\n"
     ]
    },
    {
     "name": "stdout",
     "output_type": "stream",
     "text": [
      "[15:11:18] WARNING: C:/buildkite-agent/builds/buildkite-windows-cpu-autoscaling-group-i-08de971ced8a8cdc6-1/xgboost/xgboost-ci-windows/src/learner.cc:767: \n",
      "Parameters: { \"rsm\" } are not used.\n",
      "\n"
     ]
    },
    {
     "name": "stderr",
     "output_type": "stream",
     "text": [
      "C:\\Users\\xfini\\AppData\\Local\\Temp\\ipykernel_20184\\1068959902.py:7: FutureWarning: suggest_loguniform has been deprecated in v3.0.0. This feature will be removed in v6.0.0. See https://github.com/optuna/optuna/releases/tag/v3.0.0. Use :func:`~optuna.trial.Trial.suggest_float` instead.\n",
      "  'learning_rate': trial.suggest_loguniform('learning_rate', 0.01,1.0),\n",
      "C:\\Users\\xfini\\AppData\\Local\\Temp\\ipykernel_20184\\1068959902.py:10: FutureWarning: suggest_loguniform has been deprecated in v3.0.0. This feature will be removed in v6.0.0. See https://github.com/optuna/optuna/releases/tag/v3.0.0. Use :func:`~optuna.trial.Trial.suggest_float` instead.\n",
      "  'gamma': trial.suggest_loguniform('gamma', 1e-8, 1.0),\n",
      "C:\\Users\\xfini\\AppData\\Local\\Temp\\ipykernel_20184\\1068959902.py:11: FutureWarning: suggest_loguniform has been deprecated in v3.0.0. This feature will be removed in v6.0.0. See https://github.com/optuna/optuna/releases/tag/v3.0.0. Use :func:`~optuna.trial.Trial.suggest_float` instead.\n",
      "  'subsample': trial.suggest_loguniform('subsample', 0.01, 1.0),\n",
      "C:\\Users\\xfini\\AppData\\Local\\Temp\\ipykernel_20184\\1068959902.py:12: FutureWarning: suggest_loguniform has been deprecated in v3.0.0. This feature will be removed in v6.0.0. See https://github.com/optuna/optuna/releases/tag/v3.0.0. Use :func:`~optuna.trial.Trial.suggest_float` instead.\n",
      "  'colsample_bytree': trial.suggest_loguniform('colsample_bytree', 0.01, 1.0),\n",
      "C:\\Users\\xfini\\AppData\\Local\\Temp\\ipykernel_20184\\1068959902.py:13: FutureWarning: suggest_loguniform has been deprecated in v3.0.0. This feature will be removed in v6.0.0. See https://github.com/optuna/optuna/releases/tag/v3.0.0. Use :func:`~optuna.trial.Trial.suggest_float` instead.\n",
      "  'reg_alpha': trial.suggest_loguniform('reg_alpha', 1e-8, 1.0),\n",
      "C:\\Users\\xfini\\AppData\\Local\\Temp\\ipykernel_20184\\1068959902.py:14: FutureWarning: suggest_loguniform has been deprecated in v3.0.0. This feature will be removed in v6.0.0. See https://github.com/optuna/optuna/releases/tag/v3.0.0. Use :func:`~optuna.trial.Trial.suggest_float` instead.\n",
      "  'reg_lambda': trial.suggest_loguniform('reg_lambda', 1e-8, 1.0),\n",
      "C:\\Users\\xfini\\AppData\\Local\\Temp\\ipykernel_20184\\1068959902.py:15: FutureWarning: suggest_loguniform has been deprecated in v3.0.0. This feature will be removed in v6.0.0. See https://github.com/optuna/optuna/releases/tag/v3.0.0. Use :func:`~optuna.trial.Trial.suggest_float` instead.\n",
      "  'rsm': trial.suggest_loguniform('rsm', 0.1, 0.9)\n"
     ]
    },
    {
     "name": "stdout",
     "output_type": "stream",
     "text": [
      "[15:11:19] WARNING: C:/buildkite-agent/builds/buildkite-windows-cpu-autoscaling-group-i-08de971ced8a8cdc6-1/xgboost/xgboost-ci-windows/src/learner.cc:767: \n",
      "Parameters: { \"rsm\" } are not used.\n",
      "\n"
     ]
    },
    {
     "name": "stderr",
     "output_type": "stream",
     "text": [
      "C:\\Users\\xfini\\AppData\\Local\\Temp\\ipykernel_20184\\1068959902.py:7: FutureWarning: suggest_loguniform has been deprecated in v3.0.0. This feature will be removed in v6.0.0. See https://github.com/optuna/optuna/releases/tag/v3.0.0. Use :func:`~optuna.trial.Trial.suggest_float` instead.\n",
      "  'learning_rate': trial.suggest_loguniform('learning_rate', 0.01,1.0),\n",
      "C:\\Users\\xfini\\AppData\\Local\\Temp\\ipykernel_20184\\1068959902.py:10: FutureWarning: suggest_loguniform has been deprecated in v3.0.0. This feature will be removed in v6.0.0. See https://github.com/optuna/optuna/releases/tag/v3.0.0. Use :func:`~optuna.trial.Trial.suggest_float` instead.\n",
      "  'gamma': trial.suggest_loguniform('gamma', 1e-8, 1.0),\n",
      "C:\\Users\\xfini\\AppData\\Local\\Temp\\ipykernel_20184\\1068959902.py:11: FutureWarning: suggest_loguniform has been deprecated in v3.0.0. This feature will be removed in v6.0.0. See https://github.com/optuna/optuna/releases/tag/v3.0.0. Use :func:`~optuna.trial.Trial.suggest_float` instead.\n",
      "  'subsample': trial.suggest_loguniform('subsample', 0.01, 1.0),\n",
      "C:\\Users\\xfini\\AppData\\Local\\Temp\\ipykernel_20184\\1068959902.py:12: FutureWarning: suggest_loguniform has been deprecated in v3.0.0. This feature will be removed in v6.0.0. See https://github.com/optuna/optuna/releases/tag/v3.0.0. Use :func:`~optuna.trial.Trial.suggest_float` instead.\n",
      "  'colsample_bytree': trial.suggest_loguniform('colsample_bytree', 0.01, 1.0),\n",
      "C:\\Users\\xfini\\AppData\\Local\\Temp\\ipykernel_20184\\1068959902.py:13: FutureWarning: suggest_loguniform has been deprecated in v3.0.0. This feature will be removed in v6.0.0. See https://github.com/optuna/optuna/releases/tag/v3.0.0. Use :func:`~optuna.trial.Trial.suggest_float` instead.\n",
      "  'reg_alpha': trial.suggest_loguniform('reg_alpha', 1e-8, 1.0),\n",
      "C:\\Users\\xfini\\AppData\\Local\\Temp\\ipykernel_20184\\1068959902.py:14: FutureWarning: suggest_loguniform has been deprecated in v3.0.0. This feature will be removed in v6.0.0. See https://github.com/optuna/optuna/releases/tag/v3.0.0. Use :func:`~optuna.trial.Trial.suggest_float` instead.\n",
      "  'reg_lambda': trial.suggest_loguniform('reg_lambda', 1e-8, 1.0),\n",
      "C:\\Users\\xfini\\AppData\\Local\\Temp\\ipykernel_20184\\1068959902.py:15: FutureWarning: suggest_loguniform has been deprecated in v3.0.0. This feature will be removed in v6.0.0. See https://github.com/optuna/optuna/releases/tag/v3.0.0. Use :func:`~optuna.trial.Trial.suggest_float` instead.\n",
      "  'rsm': trial.suggest_loguniform('rsm', 0.1, 0.9)\n"
     ]
    },
    {
     "name": "stdout",
     "output_type": "stream",
     "text": [
      "[15:11:21] WARNING: C:/buildkite-agent/builds/buildkite-windows-cpu-autoscaling-group-i-08de971ced8a8cdc6-1/xgboost/xgboost-ci-windows/src/learner.cc:767: \n",
      "Parameters: { \"rsm\" } are not used.\n",
      "\n"
     ]
    },
    {
     "name": "stderr",
     "output_type": "stream",
     "text": [
      "C:\\Users\\xfini\\AppData\\Local\\Temp\\ipykernel_20184\\1068959902.py:7: FutureWarning: suggest_loguniform has been deprecated in v3.0.0. This feature will be removed in v6.0.0. See https://github.com/optuna/optuna/releases/tag/v3.0.0. Use :func:`~optuna.trial.Trial.suggest_float` instead.\n",
      "  'learning_rate': trial.suggest_loguniform('learning_rate', 0.01,1.0),\n",
      "C:\\Users\\xfini\\AppData\\Local\\Temp\\ipykernel_20184\\1068959902.py:10: FutureWarning: suggest_loguniform has been deprecated in v3.0.0. This feature will be removed in v6.0.0. See https://github.com/optuna/optuna/releases/tag/v3.0.0. Use :func:`~optuna.trial.Trial.suggest_float` instead.\n",
      "  'gamma': trial.suggest_loguniform('gamma', 1e-8, 1.0),\n",
      "C:\\Users\\xfini\\AppData\\Local\\Temp\\ipykernel_20184\\1068959902.py:11: FutureWarning: suggest_loguniform has been deprecated in v3.0.0. This feature will be removed in v6.0.0. See https://github.com/optuna/optuna/releases/tag/v3.0.0. Use :func:`~optuna.trial.Trial.suggest_float` instead.\n",
      "  'subsample': trial.suggest_loguniform('subsample', 0.01, 1.0),\n",
      "C:\\Users\\xfini\\AppData\\Local\\Temp\\ipykernel_20184\\1068959902.py:12: FutureWarning: suggest_loguniform has been deprecated in v3.0.0. This feature will be removed in v6.0.0. See https://github.com/optuna/optuna/releases/tag/v3.0.0. Use :func:`~optuna.trial.Trial.suggest_float` instead.\n",
      "  'colsample_bytree': trial.suggest_loguniform('colsample_bytree', 0.01, 1.0),\n",
      "C:\\Users\\xfini\\AppData\\Local\\Temp\\ipykernel_20184\\1068959902.py:13: FutureWarning: suggest_loguniform has been deprecated in v3.0.0. This feature will be removed in v6.0.0. See https://github.com/optuna/optuna/releases/tag/v3.0.0. Use :func:`~optuna.trial.Trial.suggest_float` instead.\n",
      "  'reg_alpha': trial.suggest_loguniform('reg_alpha', 1e-8, 1.0),\n",
      "C:\\Users\\xfini\\AppData\\Local\\Temp\\ipykernel_20184\\1068959902.py:14: FutureWarning: suggest_loguniform has been deprecated in v3.0.0. This feature will be removed in v6.0.0. See https://github.com/optuna/optuna/releases/tag/v3.0.0. Use :func:`~optuna.trial.Trial.suggest_float` instead.\n",
      "  'reg_lambda': trial.suggest_loguniform('reg_lambda', 1e-8, 1.0),\n",
      "C:\\Users\\xfini\\AppData\\Local\\Temp\\ipykernel_20184\\1068959902.py:15: FutureWarning: suggest_loguniform has been deprecated in v3.0.0. This feature will be removed in v6.0.0. See https://github.com/optuna/optuna/releases/tag/v3.0.0. Use :func:`~optuna.trial.Trial.suggest_float` instead.\n",
      "  'rsm': trial.suggest_loguniform('rsm', 0.1, 0.9)\n"
     ]
    },
    {
     "name": "stdout",
     "output_type": "stream",
     "text": [
      "[15:11:22] WARNING: C:/buildkite-agent/builds/buildkite-windows-cpu-autoscaling-group-i-08de971ced8a8cdc6-1/xgboost/xgboost-ci-windows/src/learner.cc:767: \n",
      "Parameters: { \"rsm\" } are not used.\n",
      "\n"
     ]
    },
    {
     "name": "stderr",
     "output_type": "stream",
     "text": [
      "C:\\Users\\xfini\\AppData\\Local\\Temp\\ipykernel_20184\\1068959902.py:7: FutureWarning: suggest_loguniform has been deprecated in v3.0.0. This feature will be removed in v6.0.0. See https://github.com/optuna/optuna/releases/tag/v3.0.0. Use :func:`~optuna.trial.Trial.suggest_float` instead.\n",
      "  'learning_rate': trial.suggest_loguniform('learning_rate', 0.01,1.0),\n",
      "C:\\Users\\xfini\\AppData\\Local\\Temp\\ipykernel_20184\\1068959902.py:10: FutureWarning: suggest_loguniform has been deprecated in v3.0.0. This feature will be removed in v6.0.0. See https://github.com/optuna/optuna/releases/tag/v3.0.0. Use :func:`~optuna.trial.Trial.suggest_float` instead.\n",
      "  'gamma': trial.suggest_loguniform('gamma', 1e-8, 1.0),\n",
      "C:\\Users\\xfini\\AppData\\Local\\Temp\\ipykernel_20184\\1068959902.py:11: FutureWarning: suggest_loguniform has been deprecated in v3.0.0. This feature will be removed in v6.0.0. See https://github.com/optuna/optuna/releases/tag/v3.0.0. Use :func:`~optuna.trial.Trial.suggest_float` instead.\n",
      "  'subsample': trial.suggest_loguniform('subsample', 0.01, 1.0),\n",
      "C:\\Users\\xfini\\AppData\\Local\\Temp\\ipykernel_20184\\1068959902.py:12: FutureWarning: suggest_loguniform has been deprecated in v3.0.0. This feature will be removed in v6.0.0. See https://github.com/optuna/optuna/releases/tag/v3.0.0. Use :func:`~optuna.trial.Trial.suggest_float` instead.\n",
      "  'colsample_bytree': trial.suggest_loguniform('colsample_bytree', 0.01, 1.0),\n",
      "C:\\Users\\xfini\\AppData\\Local\\Temp\\ipykernel_20184\\1068959902.py:13: FutureWarning: suggest_loguniform has been deprecated in v3.0.0. This feature will be removed in v6.0.0. See https://github.com/optuna/optuna/releases/tag/v3.0.0. Use :func:`~optuna.trial.Trial.suggest_float` instead.\n",
      "  'reg_alpha': trial.suggest_loguniform('reg_alpha', 1e-8, 1.0),\n",
      "C:\\Users\\xfini\\AppData\\Local\\Temp\\ipykernel_20184\\1068959902.py:14: FutureWarning: suggest_loguniform has been deprecated in v3.0.0. This feature will be removed in v6.0.0. See https://github.com/optuna/optuna/releases/tag/v3.0.0. Use :func:`~optuna.trial.Trial.suggest_float` instead.\n",
      "  'reg_lambda': trial.suggest_loguniform('reg_lambda', 1e-8, 1.0),\n",
      "C:\\Users\\xfini\\AppData\\Local\\Temp\\ipykernel_20184\\1068959902.py:15: FutureWarning: suggest_loguniform has been deprecated in v3.0.0. This feature will be removed in v6.0.0. See https://github.com/optuna/optuna/releases/tag/v3.0.0. Use :func:`~optuna.trial.Trial.suggest_float` instead.\n",
      "  'rsm': trial.suggest_loguniform('rsm', 0.1, 0.9)\n"
     ]
    },
    {
     "name": "stdout",
     "output_type": "stream",
     "text": [
      "[15:11:23] WARNING: C:/buildkite-agent/builds/buildkite-windows-cpu-autoscaling-group-i-08de971ced8a8cdc6-1/xgboost/xgboost-ci-windows/src/learner.cc:767: \n",
      "Parameters: { \"rsm\" } are not used.\n",
      "\n"
     ]
    },
    {
     "name": "stderr",
     "output_type": "stream",
     "text": [
      "C:\\Users\\xfini\\AppData\\Local\\Temp\\ipykernel_20184\\1068959902.py:7: FutureWarning: suggest_loguniform has been deprecated in v3.0.0. This feature will be removed in v6.0.0. See https://github.com/optuna/optuna/releases/tag/v3.0.0. Use :func:`~optuna.trial.Trial.suggest_float` instead.\n",
      "  'learning_rate': trial.suggest_loguniform('learning_rate', 0.01,1.0),\n",
      "C:\\Users\\xfini\\AppData\\Local\\Temp\\ipykernel_20184\\1068959902.py:10: FutureWarning: suggest_loguniform has been deprecated in v3.0.0. This feature will be removed in v6.0.0. See https://github.com/optuna/optuna/releases/tag/v3.0.0. Use :func:`~optuna.trial.Trial.suggest_float` instead.\n",
      "  'gamma': trial.suggest_loguniform('gamma', 1e-8, 1.0),\n",
      "C:\\Users\\xfini\\AppData\\Local\\Temp\\ipykernel_20184\\1068959902.py:11: FutureWarning: suggest_loguniform has been deprecated in v3.0.0. This feature will be removed in v6.0.0. See https://github.com/optuna/optuna/releases/tag/v3.0.0. Use :func:`~optuna.trial.Trial.suggest_float` instead.\n",
      "  'subsample': trial.suggest_loguniform('subsample', 0.01, 1.0),\n",
      "C:\\Users\\xfini\\AppData\\Local\\Temp\\ipykernel_20184\\1068959902.py:12: FutureWarning: suggest_loguniform has been deprecated in v3.0.0. This feature will be removed in v6.0.0. See https://github.com/optuna/optuna/releases/tag/v3.0.0. Use :func:`~optuna.trial.Trial.suggest_float` instead.\n",
      "  'colsample_bytree': trial.suggest_loguniform('colsample_bytree', 0.01, 1.0),\n",
      "C:\\Users\\xfini\\AppData\\Local\\Temp\\ipykernel_20184\\1068959902.py:13: FutureWarning: suggest_loguniform has been deprecated in v3.0.0. This feature will be removed in v6.0.0. See https://github.com/optuna/optuna/releases/tag/v3.0.0. Use :func:`~optuna.trial.Trial.suggest_float` instead.\n",
      "  'reg_alpha': trial.suggest_loguniform('reg_alpha', 1e-8, 1.0),\n",
      "C:\\Users\\xfini\\AppData\\Local\\Temp\\ipykernel_20184\\1068959902.py:14: FutureWarning: suggest_loguniform has been deprecated in v3.0.0. This feature will be removed in v6.0.0. See https://github.com/optuna/optuna/releases/tag/v3.0.0. Use :func:`~optuna.trial.Trial.suggest_float` instead.\n",
      "  'reg_lambda': trial.suggest_loguniform('reg_lambda', 1e-8, 1.0),\n",
      "C:\\Users\\xfini\\AppData\\Local\\Temp\\ipykernel_20184\\1068959902.py:15: FutureWarning: suggest_loguniform has been deprecated in v3.0.0. This feature will be removed in v6.0.0. See https://github.com/optuna/optuna/releases/tag/v3.0.0. Use :func:`~optuna.trial.Trial.suggest_float` instead.\n",
      "  'rsm': trial.suggest_loguniform('rsm', 0.1, 0.9)\n"
     ]
    },
    {
     "name": "stdout",
     "output_type": "stream",
     "text": [
      "[15:11:24] WARNING: C:/buildkite-agent/builds/buildkite-windows-cpu-autoscaling-group-i-08de971ced8a8cdc6-1/xgboost/xgboost-ci-windows/src/learner.cc:767: \n",
      "Parameters: { \"rsm\" } are not used.\n",
      "\n"
     ]
    },
    {
     "name": "stderr",
     "output_type": "stream",
     "text": [
      "C:\\Users\\xfini\\AppData\\Local\\Temp\\ipykernel_20184\\1068959902.py:7: FutureWarning: suggest_loguniform has been deprecated in v3.0.0. This feature will be removed in v6.0.0. See https://github.com/optuna/optuna/releases/tag/v3.0.0. Use :func:`~optuna.trial.Trial.suggest_float` instead.\n",
      "  'learning_rate': trial.suggest_loguniform('learning_rate', 0.01,1.0),\n",
      "C:\\Users\\xfini\\AppData\\Local\\Temp\\ipykernel_20184\\1068959902.py:10: FutureWarning: suggest_loguniform has been deprecated in v3.0.0. This feature will be removed in v6.0.0. See https://github.com/optuna/optuna/releases/tag/v3.0.0. Use :func:`~optuna.trial.Trial.suggest_float` instead.\n",
      "  'gamma': trial.suggest_loguniform('gamma', 1e-8, 1.0),\n",
      "C:\\Users\\xfini\\AppData\\Local\\Temp\\ipykernel_20184\\1068959902.py:11: FutureWarning: suggest_loguniform has been deprecated in v3.0.0. This feature will be removed in v6.0.0. See https://github.com/optuna/optuna/releases/tag/v3.0.0. Use :func:`~optuna.trial.Trial.suggest_float` instead.\n",
      "  'subsample': trial.suggest_loguniform('subsample', 0.01, 1.0),\n",
      "C:\\Users\\xfini\\AppData\\Local\\Temp\\ipykernel_20184\\1068959902.py:12: FutureWarning: suggest_loguniform has been deprecated in v3.0.0. This feature will be removed in v6.0.0. See https://github.com/optuna/optuna/releases/tag/v3.0.0. Use :func:`~optuna.trial.Trial.suggest_float` instead.\n",
      "  'colsample_bytree': trial.suggest_loguniform('colsample_bytree', 0.01, 1.0),\n",
      "C:\\Users\\xfini\\AppData\\Local\\Temp\\ipykernel_20184\\1068959902.py:13: FutureWarning: suggest_loguniform has been deprecated in v3.0.0. This feature will be removed in v6.0.0. See https://github.com/optuna/optuna/releases/tag/v3.0.0. Use :func:`~optuna.trial.Trial.suggest_float` instead.\n",
      "  'reg_alpha': trial.suggest_loguniform('reg_alpha', 1e-8, 1.0),\n",
      "C:\\Users\\xfini\\AppData\\Local\\Temp\\ipykernel_20184\\1068959902.py:14: FutureWarning: suggest_loguniform has been deprecated in v3.0.0. This feature will be removed in v6.0.0. See https://github.com/optuna/optuna/releases/tag/v3.0.0. Use :func:`~optuna.trial.Trial.suggest_float` instead.\n",
      "  'reg_lambda': trial.suggest_loguniform('reg_lambda', 1e-8, 1.0),\n",
      "C:\\Users\\xfini\\AppData\\Local\\Temp\\ipykernel_20184\\1068959902.py:15: FutureWarning: suggest_loguniform has been deprecated in v3.0.0. This feature will be removed in v6.0.0. See https://github.com/optuna/optuna/releases/tag/v3.0.0. Use :func:`~optuna.trial.Trial.suggest_float` instead.\n",
      "  'rsm': trial.suggest_loguniform('rsm', 0.1, 0.9)\n"
     ]
    },
    {
     "name": "stdout",
     "output_type": "stream",
     "text": [
      "[15:11:25] WARNING: C:/buildkite-agent/builds/buildkite-windows-cpu-autoscaling-group-i-08de971ced8a8cdc6-1/xgboost/xgboost-ci-windows/src/learner.cc:767: \n",
      "Parameters: { \"rsm\" } are not used.\n",
      "\n"
     ]
    },
    {
     "name": "stderr",
     "output_type": "stream",
     "text": [
      "C:\\Users\\xfini\\AppData\\Local\\Temp\\ipykernel_20184\\1068959902.py:7: FutureWarning: suggest_loguniform has been deprecated in v3.0.0. This feature will be removed in v6.0.0. See https://github.com/optuna/optuna/releases/tag/v3.0.0. Use :func:`~optuna.trial.Trial.suggest_float` instead.\n",
      "  'learning_rate': trial.suggest_loguniform('learning_rate', 0.01,1.0),\n",
      "C:\\Users\\xfini\\AppData\\Local\\Temp\\ipykernel_20184\\1068959902.py:10: FutureWarning: suggest_loguniform has been deprecated in v3.0.0. This feature will be removed in v6.0.0. See https://github.com/optuna/optuna/releases/tag/v3.0.0. Use :func:`~optuna.trial.Trial.suggest_float` instead.\n",
      "  'gamma': trial.suggest_loguniform('gamma', 1e-8, 1.0),\n",
      "C:\\Users\\xfini\\AppData\\Local\\Temp\\ipykernel_20184\\1068959902.py:11: FutureWarning: suggest_loguniform has been deprecated in v3.0.0. This feature will be removed in v6.0.0. See https://github.com/optuna/optuna/releases/tag/v3.0.0. Use :func:`~optuna.trial.Trial.suggest_float` instead.\n",
      "  'subsample': trial.suggest_loguniform('subsample', 0.01, 1.0),\n",
      "C:\\Users\\xfini\\AppData\\Local\\Temp\\ipykernel_20184\\1068959902.py:12: FutureWarning: suggest_loguniform has been deprecated in v3.0.0. This feature will be removed in v6.0.0. See https://github.com/optuna/optuna/releases/tag/v3.0.0. Use :func:`~optuna.trial.Trial.suggest_float` instead.\n",
      "  'colsample_bytree': trial.suggest_loguniform('colsample_bytree', 0.01, 1.0),\n",
      "C:\\Users\\xfini\\AppData\\Local\\Temp\\ipykernel_20184\\1068959902.py:13: FutureWarning: suggest_loguniform has been deprecated in v3.0.0. This feature will be removed in v6.0.0. See https://github.com/optuna/optuna/releases/tag/v3.0.0. Use :func:`~optuna.trial.Trial.suggest_float` instead.\n",
      "  'reg_alpha': trial.suggest_loguniform('reg_alpha', 1e-8, 1.0),\n",
      "C:\\Users\\xfini\\AppData\\Local\\Temp\\ipykernel_20184\\1068959902.py:14: FutureWarning: suggest_loguniform has been deprecated in v3.0.0. This feature will be removed in v6.0.0. See https://github.com/optuna/optuna/releases/tag/v3.0.0. Use :func:`~optuna.trial.Trial.suggest_float` instead.\n",
      "  'reg_lambda': trial.suggest_loguniform('reg_lambda', 1e-8, 1.0),\n",
      "C:\\Users\\xfini\\AppData\\Local\\Temp\\ipykernel_20184\\1068959902.py:15: FutureWarning: suggest_loguniform has been deprecated in v3.0.0. This feature will be removed in v6.0.0. See https://github.com/optuna/optuna/releases/tag/v3.0.0. Use :func:`~optuna.trial.Trial.suggest_float` instead.\n",
      "  'rsm': trial.suggest_loguniform('rsm', 0.1, 0.9)\n"
     ]
    },
    {
     "name": "stdout",
     "output_type": "stream",
     "text": [
      "[15:11:27] WARNING: C:/buildkite-agent/builds/buildkite-windows-cpu-autoscaling-group-i-08de971ced8a8cdc6-1/xgboost/xgboost-ci-windows/src/learner.cc:767: \n",
      "Parameters: { \"rsm\" } are not used.\n",
      "\n"
     ]
    },
    {
     "name": "stderr",
     "output_type": "stream",
     "text": [
      "C:\\Users\\xfini\\AppData\\Local\\Temp\\ipykernel_20184\\1068959902.py:7: FutureWarning: suggest_loguniform has been deprecated in v3.0.0. This feature will be removed in v6.0.0. See https://github.com/optuna/optuna/releases/tag/v3.0.0. Use :func:`~optuna.trial.Trial.suggest_float` instead.\n",
      "  'learning_rate': trial.suggest_loguniform('learning_rate', 0.01,1.0),\n",
      "C:\\Users\\xfini\\AppData\\Local\\Temp\\ipykernel_20184\\1068959902.py:10: FutureWarning: suggest_loguniform has been deprecated in v3.0.0. This feature will be removed in v6.0.0. See https://github.com/optuna/optuna/releases/tag/v3.0.0. Use :func:`~optuna.trial.Trial.suggest_float` instead.\n",
      "  'gamma': trial.suggest_loguniform('gamma', 1e-8, 1.0),\n",
      "C:\\Users\\xfini\\AppData\\Local\\Temp\\ipykernel_20184\\1068959902.py:11: FutureWarning: suggest_loguniform has been deprecated in v3.0.0. This feature will be removed in v6.0.0. See https://github.com/optuna/optuna/releases/tag/v3.0.0. Use :func:`~optuna.trial.Trial.suggest_float` instead.\n",
      "  'subsample': trial.suggest_loguniform('subsample', 0.01, 1.0),\n",
      "C:\\Users\\xfini\\AppData\\Local\\Temp\\ipykernel_20184\\1068959902.py:12: FutureWarning: suggest_loguniform has been deprecated in v3.0.0. This feature will be removed in v6.0.0. See https://github.com/optuna/optuna/releases/tag/v3.0.0. Use :func:`~optuna.trial.Trial.suggest_float` instead.\n",
      "  'colsample_bytree': trial.suggest_loguniform('colsample_bytree', 0.01, 1.0),\n",
      "C:\\Users\\xfini\\AppData\\Local\\Temp\\ipykernel_20184\\1068959902.py:13: FutureWarning: suggest_loguniform has been deprecated in v3.0.0. This feature will be removed in v6.0.0. See https://github.com/optuna/optuna/releases/tag/v3.0.0. Use :func:`~optuna.trial.Trial.suggest_float` instead.\n",
      "  'reg_alpha': trial.suggest_loguniform('reg_alpha', 1e-8, 1.0),\n",
      "C:\\Users\\xfini\\AppData\\Local\\Temp\\ipykernel_20184\\1068959902.py:14: FutureWarning: suggest_loguniform has been deprecated in v3.0.0. This feature will be removed in v6.0.0. See https://github.com/optuna/optuna/releases/tag/v3.0.0. Use :func:`~optuna.trial.Trial.suggest_float` instead.\n",
      "  'reg_lambda': trial.suggest_loguniform('reg_lambda', 1e-8, 1.0),\n",
      "C:\\Users\\xfini\\AppData\\Local\\Temp\\ipykernel_20184\\1068959902.py:15: FutureWarning: suggest_loguniform has been deprecated in v3.0.0. This feature will be removed in v6.0.0. See https://github.com/optuna/optuna/releases/tag/v3.0.0. Use :func:`~optuna.trial.Trial.suggest_float` instead.\n",
      "  'rsm': trial.suggest_loguniform('rsm', 0.1, 0.9)\n"
     ]
    },
    {
     "name": "stdout",
     "output_type": "stream",
     "text": [
      "[15:11:29] WARNING: C:/buildkite-agent/builds/buildkite-windows-cpu-autoscaling-group-i-08de971ced8a8cdc6-1/xgboost/xgboost-ci-windows/src/learner.cc:767: \n",
      "Parameters: { \"rsm\" } are not used.\n",
      "\n"
     ]
    },
    {
     "name": "stderr",
     "output_type": "stream",
     "text": [
      "C:\\Users\\xfini\\AppData\\Local\\Temp\\ipykernel_20184\\1068959902.py:7: FutureWarning: suggest_loguniform has been deprecated in v3.0.0. This feature will be removed in v6.0.0. See https://github.com/optuna/optuna/releases/tag/v3.0.0. Use :func:`~optuna.trial.Trial.suggest_float` instead.\n",
      "  'learning_rate': trial.suggest_loguniform('learning_rate', 0.01,1.0),\n",
      "C:\\Users\\xfini\\AppData\\Local\\Temp\\ipykernel_20184\\1068959902.py:10: FutureWarning: suggest_loguniform has been deprecated in v3.0.0. This feature will be removed in v6.0.0. See https://github.com/optuna/optuna/releases/tag/v3.0.0. Use :func:`~optuna.trial.Trial.suggest_float` instead.\n",
      "  'gamma': trial.suggest_loguniform('gamma', 1e-8, 1.0),\n",
      "C:\\Users\\xfini\\AppData\\Local\\Temp\\ipykernel_20184\\1068959902.py:11: FutureWarning: suggest_loguniform has been deprecated in v3.0.0. This feature will be removed in v6.0.0. See https://github.com/optuna/optuna/releases/tag/v3.0.0. Use :func:`~optuna.trial.Trial.suggest_float` instead.\n",
      "  'subsample': trial.suggest_loguniform('subsample', 0.01, 1.0),\n",
      "C:\\Users\\xfini\\AppData\\Local\\Temp\\ipykernel_20184\\1068959902.py:12: FutureWarning: suggest_loguniform has been deprecated in v3.0.0. This feature will be removed in v6.0.0. See https://github.com/optuna/optuna/releases/tag/v3.0.0. Use :func:`~optuna.trial.Trial.suggest_float` instead.\n",
      "  'colsample_bytree': trial.suggest_loguniform('colsample_bytree', 0.01, 1.0),\n",
      "C:\\Users\\xfini\\AppData\\Local\\Temp\\ipykernel_20184\\1068959902.py:13: FutureWarning: suggest_loguniform has been deprecated in v3.0.0. This feature will be removed in v6.0.0. See https://github.com/optuna/optuna/releases/tag/v3.0.0. Use :func:`~optuna.trial.Trial.suggest_float` instead.\n",
      "  'reg_alpha': trial.suggest_loguniform('reg_alpha', 1e-8, 1.0),\n",
      "C:\\Users\\xfini\\AppData\\Local\\Temp\\ipykernel_20184\\1068959902.py:14: FutureWarning: suggest_loguniform has been deprecated in v3.0.0. This feature will be removed in v6.0.0. See https://github.com/optuna/optuna/releases/tag/v3.0.0. Use :func:`~optuna.trial.Trial.suggest_float` instead.\n",
      "  'reg_lambda': trial.suggest_loguniform('reg_lambda', 1e-8, 1.0),\n",
      "C:\\Users\\xfini\\AppData\\Local\\Temp\\ipykernel_20184\\1068959902.py:15: FutureWarning: suggest_loguniform has been deprecated in v3.0.0. This feature will be removed in v6.0.0. See https://github.com/optuna/optuna/releases/tag/v3.0.0. Use :func:`~optuna.trial.Trial.suggest_float` instead.\n",
      "  'rsm': trial.suggest_loguniform('rsm', 0.1, 0.9)\n"
     ]
    },
    {
     "name": "stdout",
     "output_type": "stream",
     "text": [
      "[15:11:30] WARNING: C:/buildkite-agent/builds/buildkite-windows-cpu-autoscaling-group-i-08de971ced8a8cdc6-1/xgboost/xgboost-ci-windows/src/learner.cc:767: \n",
      "Parameters: { \"rsm\" } are not used.\n",
      "\n"
     ]
    },
    {
     "name": "stderr",
     "output_type": "stream",
     "text": [
      "C:\\Users\\xfini\\AppData\\Local\\Temp\\ipykernel_20184\\1068959902.py:7: FutureWarning: suggest_loguniform has been deprecated in v3.0.0. This feature will be removed in v6.0.0. See https://github.com/optuna/optuna/releases/tag/v3.0.0. Use :func:`~optuna.trial.Trial.suggest_float` instead.\n",
      "  'learning_rate': trial.suggest_loguniform('learning_rate', 0.01,1.0),\n",
      "C:\\Users\\xfini\\AppData\\Local\\Temp\\ipykernel_20184\\1068959902.py:10: FutureWarning: suggest_loguniform has been deprecated in v3.0.0. This feature will be removed in v6.0.0. See https://github.com/optuna/optuna/releases/tag/v3.0.0. Use :func:`~optuna.trial.Trial.suggest_float` instead.\n",
      "  'gamma': trial.suggest_loguniform('gamma', 1e-8, 1.0),\n",
      "C:\\Users\\xfini\\AppData\\Local\\Temp\\ipykernel_20184\\1068959902.py:11: FutureWarning: suggest_loguniform has been deprecated in v3.0.0. This feature will be removed in v6.0.0. See https://github.com/optuna/optuna/releases/tag/v3.0.0. Use :func:`~optuna.trial.Trial.suggest_float` instead.\n",
      "  'subsample': trial.suggest_loguniform('subsample', 0.01, 1.0),\n",
      "C:\\Users\\xfini\\AppData\\Local\\Temp\\ipykernel_20184\\1068959902.py:12: FutureWarning: suggest_loguniform has been deprecated in v3.0.0. This feature will be removed in v6.0.0. See https://github.com/optuna/optuna/releases/tag/v3.0.0. Use :func:`~optuna.trial.Trial.suggest_float` instead.\n",
      "  'colsample_bytree': trial.suggest_loguniform('colsample_bytree', 0.01, 1.0),\n",
      "C:\\Users\\xfini\\AppData\\Local\\Temp\\ipykernel_20184\\1068959902.py:13: FutureWarning: suggest_loguniform has been deprecated in v3.0.0. This feature will be removed in v6.0.0. See https://github.com/optuna/optuna/releases/tag/v3.0.0. Use :func:`~optuna.trial.Trial.suggest_float` instead.\n",
      "  'reg_alpha': trial.suggest_loguniform('reg_alpha', 1e-8, 1.0),\n",
      "C:\\Users\\xfini\\AppData\\Local\\Temp\\ipykernel_20184\\1068959902.py:14: FutureWarning: suggest_loguniform has been deprecated in v3.0.0. This feature will be removed in v6.0.0. See https://github.com/optuna/optuna/releases/tag/v3.0.0. Use :func:`~optuna.trial.Trial.suggest_float` instead.\n",
      "  'reg_lambda': trial.suggest_loguniform('reg_lambda', 1e-8, 1.0),\n",
      "C:\\Users\\xfini\\AppData\\Local\\Temp\\ipykernel_20184\\1068959902.py:15: FutureWarning: suggest_loguniform has been deprecated in v3.0.0. This feature will be removed in v6.0.0. See https://github.com/optuna/optuna/releases/tag/v3.0.0. Use :func:`~optuna.trial.Trial.suggest_float` instead.\n",
      "  'rsm': trial.suggest_loguniform('rsm', 0.1, 0.9)\n"
     ]
    },
    {
     "name": "stdout",
     "output_type": "stream",
     "text": [
      "[15:11:31] WARNING: C:/buildkite-agent/builds/buildkite-windows-cpu-autoscaling-group-i-08de971ced8a8cdc6-1/xgboost/xgboost-ci-windows/src/learner.cc:767: \n",
      "Parameters: { \"rsm\" } are not used.\n",
      "\n"
     ]
    },
    {
     "name": "stderr",
     "output_type": "stream",
     "text": [
      "C:\\Users\\xfini\\AppData\\Local\\Temp\\ipykernel_20184\\1068959902.py:7: FutureWarning: suggest_loguniform has been deprecated in v3.0.0. This feature will be removed in v6.0.0. See https://github.com/optuna/optuna/releases/tag/v3.0.0. Use :func:`~optuna.trial.Trial.suggest_float` instead.\n",
      "  'learning_rate': trial.suggest_loguniform('learning_rate', 0.01,1.0),\n",
      "C:\\Users\\xfini\\AppData\\Local\\Temp\\ipykernel_20184\\1068959902.py:10: FutureWarning: suggest_loguniform has been deprecated in v3.0.0. This feature will be removed in v6.0.0. See https://github.com/optuna/optuna/releases/tag/v3.0.0. Use :func:`~optuna.trial.Trial.suggest_float` instead.\n",
      "  'gamma': trial.suggest_loguniform('gamma', 1e-8, 1.0),\n",
      "C:\\Users\\xfini\\AppData\\Local\\Temp\\ipykernel_20184\\1068959902.py:11: FutureWarning: suggest_loguniform has been deprecated in v3.0.0. This feature will be removed in v6.0.0. See https://github.com/optuna/optuna/releases/tag/v3.0.0. Use :func:`~optuna.trial.Trial.suggest_float` instead.\n",
      "  'subsample': trial.suggest_loguniform('subsample', 0.01, 1.0),\n",
      "C:\\Users\\xfini\\AppData\\Local\\Temp\\ipykernel_20184\\1068959902.py:12: FutureWarning: suggest_loguniform has been deprecated in v3.0.0. This feature will be removed in v6.0.0. See https://github.com/optuna/optuna/releases/tag/v3.0.0. Use :func:`~optuna.trial.Trial.suggest_float` instead.\n",
      "  'colsample_bytree': trial.suggest_loguniform('colsample_bytree', 0.01, 1.0),\n",
      "C:\\Users\\xfini\\AppData\\Local\\Temp\\ipykernel_20184\\1068959902.py:13: FutureWarning: suggest_loguniform has been deprecated in v3.0.0. This feature will be removed in v6.0.0. See https://github.com/optuna/optuna/releases/tag/v3.0.0. Use :func:`~optuna.trial.Trial.suggest_float` instead.\n",
      "  'reg_alpha': trial.suggest_loguniform('reg_alpha', 1e-8, 1.0),\n",
      "C:\\Users\\xfini\\AppData\\Local\\Temp\\ipykernel_20184\\1068959902.py:14: FutureWarning: suggest_loguniform has been deprecated in v3.0.0. This feature will be removed in v6.0.0. See https://github.com/optuna/optuna/releases/tag/v3.0.0. Use :func:`~optuna.trial.Trial.suggest_float` instead.\n",
      "  'reg_lambda': trial.suggest_loguniform('reg_lambda', 1e-8, 1.0),\n",
      "C:\\Users\\xfini\\AppData\\Local\\Temp\\ipykernel_20184\\1068959902.py:15: FutureWarning: suggest_loguniform has been deprecated in v3.0.0. This feature will be removed in v6.0.0. See https://github.com/optuna/optuna/releases/tag/v3.0.0. Use :func:`~optuna.trial.Trial.suggest_float` instead.\n",
      "  'rsm': trial.suggest_loguniform('rsm', 0.1, 0.9)\n"
     ]
    },
    {
     "name": "stdout",
     "output_type": "stream",
     "text": [
      "[15:11:32] WARNING: C:/buildkite-agent/builds/buildkite-windows-cpu-autoscaling-group-i-08de971ced8a8cdc6-1/xgboost/xgboost-ci-windows/src/learner.cc:767: \n",
      "Parameters: { \"rsm\" } are not used.\n",
      "\n"
     ]
    },
    {
     "name": "stderr",
     "output_type": "stream",
     "text": [
      "C:\\Users\\xfini\\AppData\\Local\\Temp\\ipykernel_20184\\1068959902.py:7: FutureWarning: suggest_loguniform has been deprecated in v3.0.0. This feature will be removed in v6.0.0. See https://github.com/optuna/optuna/releases/tag/v3.0.0. Use :func:`~optuna.trial.Trial.suggest_float` instead.\n",
      "  'learning_rate': trial.suggest_loguniform('learning_rate', 0.01,1.0),\n",
      "C:\\Users\\xfini\\AppData\\Local\\Temp\\ipykernel_20184\\1068959902.py:10: FutureWarning: suggest_loguniform has been deprecated in v3.0.0. This feature will be removed in v6.0.0. See https://github.com/optuna/optuna/releases/tag/v3.0.0. Use :func:`~optuna.trial.Trial.suggest_float` instead.\n",
      "  'gamma': trial.suggest_loguniform('gamma', 1e-8, 1.0),\n",
      "C:\\Users\\xfini\\AppData\\Local\\Temp\\ipykernel_20184\\1068959902.py:11: FutureWarning: suggest_loguniform has been deprecated in v3.0.0. This feature will be removed in v6.0.0. See https://github.com/optuna/optuna/releases/tag/v3.0.0. Use :func:`~optuna.trial.Trial.suggest_float` instead.\n",
      "  'subsample': trial.suggest_loguniform('subsample', 0.01, 1.0),\n",
      "C:\\Users\\xfini\\AppData\\Local\\Temp\\ipykernel_20184\\1068959902.py:12: FutureWarning: suggest_loguniform has been deprecated in v3.0.0. This feature will be removed in v6.0.0. See https://github.com/optuna/optuna/releases/tag/v3.0.0. Use :func:`~optuna.trial.Trial.suggest_float` instead.\n",
      "  'colsample_bytree': trial.suggest_loguniform('colsample_bytree', 0.01, 1.0),\n",
      "C:\\Users\\xfini\\AppData\\Local\\Temp\\ipykernel_20184\\1068959902.py:13: FutureWarning: suggest_loguniform has been deprecated in v3.0.0. This feature will be removed in v6.0.0. See https://github.com/optuna/optuna/releases/tag/v3.0.0. Use :func:`~optuna.trial.Trial.suggest_float` instead.\n",
      "  'reg_alpha': trial.suggest_loguniform('reg_alpha', 1e-8, 1.0),\n",
      "C:\\Users\\xfini\\AppData\\Local\\Temp\\ipykernel_20184\\1068959902.py:14: FutureWarning: suggest_loguniform has been deprecated in v3.0.0. This feature will be removed in v6.0.0. See https://github.com/optuna/optuna/releases/tag/v3.0.0. Use :func:`~optuna.trial.Trial.suggest_float` instead.\n",
      "  'reg_lambda': trial.suggest_loguniform('reg_lambda', 1e-8, 1.0),\n",
      "C:\\Users\\xfini\\AppData\\Local\\Temp\\ipykernel_20184\\1068959902.py:15: FutureWarning: suggest_loguniform has been deprecated in v3.0.0. This feature will be removed in v6.0.0. See https://github.com/optuna/optuna/releases/tag/v3.0.0. Use :func:`~optuna.trial.Trial.suggest_float` instead.\n",
      "  'rsm': trial.suggest_loguniform('rsm', 0.1, 0.9)\n"
     ]
    },
    {
     "name": "stdout",
     "output_type": "stream",
     "text": [
      "[15:11:33] WARNING: C:/buildkite-agent/builds/buildkite-windows-cpu-autoscaling-group-i-08de971ced8a8cdc6-1/xgboost/xgboost-ci-windows/src/learner.cc:767: \n",
      "Parameters: { \"rsm\" } are not used.\n",
      "\n"
     ]
    },
    {
     "name": "stderr",
     "output_type": "stream",
     "text": [
      "C:\\Users\\xfini\\AppData\\Local\\Temp\\ipykernel_20184\\1068959902.py:7: FutureWarning: suggest_loguniform has been deprecated in v3.0.0. This feature will be removed in v6.0.0. See https://github.com/optuna/optuna/releases/tag/v3.0.0. Use :func:`~optuna.trial.Trial.suggest_float` instead.\n",
      "  'learning_rate': trial.suggest_loguniform('learning_rate', 0.01,1.0),\n",
      "C:\\Users\\xfini\\AppData\\Local\\Temp\\ipykernel_20184\\1068959902.py:10: FutureWarning: suggest_loguniform has been deprecated in v3.0.0. This feature will be removed in v6.0.0. See https://github.com/optuna/optuna/releases/tag/v3.0.0. Use :func:`~optuna.trial.Trial.suggest_float` instead.\n",
      "  'gamma': trial.suggest_loguniform('gamma', 1e-8, 1.0),\n",
      "C:\\Users\\xfini\\AppData\\Local\\Temp\\ipykernel_20184\\1068959902.py:11: FutureWarning: suggest_loguniform has been deprecated in v3.0.0. This feature will be removed in v6.0.0. See https://github.com/optuna/optuna/releases/tag/v3.0.0. Use :func:`~optuna.trial.Trial.suggest_float` instead.\n",
      "  'subsample': trial.suggest_loguniform('subsample', 0.01, 1.0),\n",
      "C:\\Users\\xfini\\AppData\\Local\\Temp\\ipykernel_20184\\1068959902.py:12: FutureWarning: suggest_loguniform has been deprecated in v3.0.0. This feature will be removed in v6.0.0. See https://github.com/optuna/optuna/releases/tag/v3.0.0. Use :func:`~optuna.trial.Trial.suggest_float` instead.\n",
      "  'colsample_bytree': trial.suggest_loguniform('colsample_bytree', 0.01, 1.0),\n",
      "C:\\Users\\xfini\\AppData\\Local\\Temp\\ipykernel_20184\\1068959902.py:13: FutureWarning: suggest_loguniform has been deprecated in v3.0.0. This feature will be removed in v6.0.0. See https://github.com/optuna/optuna/releases/tag/v3.0.0. Use :func:`~optuna.trial.Trial.suggest_float` instead.\n",
      "  'reg_alpha': trial.suggest_loguniform('reg_alpha', 1e-8, 1.0),\n",
      "C:\\Users\\xfini\\AppData\\Local\\Temp\\ipykernel_20184\\1068959902.py:14: FutureWarning: suggest_loguniform has been deprecated in v3.0.0. This feature will be removed in v6.0.0. See https://github.com/optuna/optuna/releases/tag/v3.0.0. Use :func:`~optuna.trial.Trial.suggest_float` instead.\n",
      "  'reg_lambda': trial.suggest_loguniform('reg_lambda', 1e-8, 1.0),\n",
      "C:\\Users\\xfini\\AppData\\Local\\Temp\\ipykernel_20184\\1068959902.py:15: FutureWarning: suggest_loguniform has been deprecated in v3.0.0. This feature will be removed in v6.0.0. See https://github.com/optuna/optuna/releases/tag/v3.0.0. Use :func:`~optuna.trial.Trial.suggest_float` instead.\n",
      "  'rsm': trial.suggest_loguniform('rsm', 0.1, 0.9)\n"
     ]
    },
    {
     "name": "stdout",
     "output_type": "stream",
     "text": [
      "[15:11:34] WARNING: C:/buildkite-agent/builds/buildkite-windows-cpu-autoscaling-group-i-08de971ced8a8cdc6-1/xgboost/xgboost-ci-windows/src/learner.cc:767: \n",
      "Parameters: { \"rsm\" } are not used.\n",
      "\n"
     ]
    },
    {
     "name": "stderr",
     "output_type": "stream",
     "text": [
      "C:\\Users\\xfini\\AppData\\Local\\Temp\\ipykernel_20184\\1068959902.py:7: FutureWarning: suggest_loguniform has been deprecated in v3.0.0. This feature will be removed in v6.0.0. See https://github.com/optuna/optuna/releases/tag/v3.0.0. Use :func:`~optuna.trial.Trial.suggest_float` instead.\n",
      "  'learning_rate': trial.suggest_loguniform('learning_rate', 0.01,1.0),\n",
      "C:\\Users\\xfini\\AppData\\Local\\Temp\\ipykernel_20184\\1068959902.py:10: FutureWarning: suggest_loguniform has been deprecated in v3.0.0. This feature will be removed in v6.0.0. See https://github.com/optuna/optuna/releases/tag/v3.0.0. Use :func:`~optuna.trial.Trial.suggest_float` instead.\n",
      "  'gamma': trial.suggest_loguniform('gamma', 1e-8, 1.0),\n",
      "C:\\Users\\xfini\\AppData\\Local\\Temp\\ipykernel_20184\\1068959902.py:11: FutureWarning: suggest_loguniform has been deprecated in v3.0.0. This feature will be removed in v6.0.0. See https://github.com/optuna/optuna/releases/tag/v3.0.0. Use :func:`~optuna.trial.Trial.suggest_float` instead.\n",
      "  'subsample': trial.suggest_loguniform('subsample', 0.01, 1.0),\n",
      "C:\\Users\\xfini\\AppData\\Local\\Temp\\ipykernel_20184\\1068959902.py:12: FutureWarning: suggest_loguniform has been deprecated in v3.0.0. This feature will be removed in v6.0.0. See https://github.com/optuna/optuna/releases/tag/v3.0.0. Use :func:`~optuna.trial.Trial.suggest_float` instead.\n",
      "  'colsample_bytree': trial.suggest_loguniform('colsample_bytree', 0.01, 1.0),\n",
      "C:\\Users\\xfini\\AppData\\Local\\Temp\\ipykernel_20184\\1068959902.py:13: FutureWarning: suggest_loguniform has been deprecated in v3.0.0. This feature will be removed in v6.0.0. See https://github.com/optuna/optuna/releases/tag/v3.0.0. Use :func:`~optuna.trial.Trial.suggest_float` instead.\n",
      "  'reg_alpha': trial.suggest_loguniform('reg_alpha', 1e-8, 1.0),\n",
      "C:\\Users\\xfini\\AppData\\Local\\Temp\\ipykernel_20184\\1068959902.py:14: FutureWarning: suggest_loguniform has been deprecated in v3.0.0. This feature will be removed in v6.0.0. See https://github.com/optuna/optuna/releases/tag/v3.0.0. Use :func:`~optuna.trial.Trial.suggest_float` instead.\n",
      "  'reg_lambda': trial.suggest_loguniform('reg_lambda', 1e-8, 1.0),\n",
      "C:\\Users\\xfini\\AppData\\Local\\Temp\\ipykernel_20184\\1068959902.py:15: FutureWarning: suggest_loguniform has been deprecated in v3.0.0. This feature will be removed in v6.0.0. See https://github.com/optuna/optuna/releases/tag/v3.0.0. Use :func:`~optuna.trial.Trial.suggest_float` instead.\n",
      "  'rsm': trial.suggest_loguniform('rsm', 0.1, 0.9)\n"
     ]
    },
    {
     "name": "stdout",
     "output_type": "stream",
     "text": [
      "[15:11:36] WARNING: C:/buildkite-agent/builds/buildkite-windows-cpu-autoscaling-group-i-08de971ced8a8cdc6-1/xgboost/xgboost-ci-windows/src/learner.cc:767: \n",
      "Parameters: { \"rsm\" } are not used.\n",
      "\n"
     ]
    },
    {
     "name": "stderr",
     "output_type": "stream",
     "text": [
      "C:\\Users\\xfini\\AppData\\Local\\Temp\\ipykernel_20184\\1068959902.py:7: FutureWarning: suggest_loguniform has been deprecated in v3.0.0. This feature will be removed in v6.0.0. See https://github.com/optuna/optuna/releases/tag/v3.0.0. Use :func:`~optuna.trial.Trial.suggest_float` instead.\n",
      "  'learning_rate': trial.suggest_loguniform('learning_rate', 0.01,1.0),\n",
      "C:\\Users\\xfini\\AppData\\Local\\Temp\\ipykernel_20184\\1068959902.py:10: FutureWarning: suggest_loguniform has been deprecated in v3.0.0. This feature will be removed in v6.0.0. See https://github.com/optuna/optuna/releases/tag/v3.0.0. Use :func:`~optuna.trial.Trial.suggest_float` instead.\n",
      "  'gamma': trial.suggest_loguniform('gamma', 1e-8, 1.0),\n",
      "C:\\Users\\xfini\\AppData\\Local\\Temp\\ipykernel_20184\\1068959902.py:11: FutureWarning: suggest_loguniform has been deprecated in v3.0.0. This feature will be removed in v6.0.0. See https://github.com/optuna/optuna/releases/tag/v3.0.0. Use :func:`~optuna.trial.Trial.suggest_float` instead.\n",
      "  'subsample': trial.suggest_loguniform('subsample', 0.01, 1.0),\n",
      "C:\\Users\\xfini\\AppData\\Local\\Temp\\ipykernel_20184\\1068959902.py:12: FutureWarning: suggest_loguniform has been deprecated in v3.0.0. This feature will be removed in v6.0.0. See https://github.com/optuna/optuna/releases/tag/v3.0.0. Use :func:`~optuna.trial.Trial.suggest_float` instead.\n",
      "  'colsample_bytree': trial.suggest_loguniform('colsample_bytree', 0.01, 1.0),\n",
      "C:\\Users\\xfini\\AppData\\Local\\Temp\\ipykernel_20184\\1068959902.py:13: FutureWarning: suggest_loguniform has been deprecated in v3.0.0. This feature will be removed in v6.0.0. See https://github.com/optuna/optuna/releases/tag/v3.0.0. Use :func:`~optuna.trial.Trial.suggest_float` instead.\n",
      "  'reg_alpha': trial.suggest_loguniform('reg_alpha', 1e-8, 1.0),\n",
      "C:\\Users\\xfini\\AppData\\Local\\Temp\\ipykernel_20184\\1068959902.py:14: FutureWarning: suggest_loguniform has been deprecated in v3.0.0. This feature will be removed in v6.0.0. See https://github.com/optuna/optuna/releases/tag/v3.0.0. Use :func:`~optuna.trial.Trial.suggest_float` instead.\n",
      "  'reg_lambda': trial.suggest_loguniform('reg_lambda', 1e-8, 1.0),\n",
      "C:\\Users\\xfini\\AppData\\Local\\Temp\\ipykernel_20184\\1068959902.py:15: FutureWarning: suggest_loguniform has been deprecated in v3.0.0. This feature will be removed in v6.0.0. See https://github.com/optuna/optuna/releases/tag/v3.0.0. Use :func:`~optuna.trial.Trial.suggest_float` instead.\n",
      "  'rsm': trial.suggest_loguniform('rsm', 0.1, 0.9)\n"
     ]
    },
    {
     "name": "stdout",
     "output_type": "stream",
     "text": [
      "[15:11:38] WARNING: C:/buildkite-agent/builds/buildkite-windows-cpu-autoscaling-group-i-08de971ced8a8cdc6-1/xgboost/xgboost-ci-windows/src/learner.cc:767: \n",
      "Parameters: { \"rsm\" } are not used.\n",
      "\n"
     ]
    },
    {
     "name": "stderr",
     "output_type": "stream",
     "text": [
      "C:\\Users\\xfini\\AppData\\Local\\Temp\\ipykernel_20184\\1068959902.py:7: FutureWarning: suggest_loguniform has been deprecated in v3.0.0. This feature will be removed in v6.0.0. See https://github.com/optuna/optuna/releases/tag/v3.0.0. Use :func:`~optuna.trial.Trial.suggest_float` instead.\n",
      "  'learning_rate': trial.suggest_loguniform('learning_rate', 0.01,1.0),\n",
      "C:\\Users\\xfini\\AppData\\Local\\Temp\\ipykernel_20184\\1068959902.py:10: FutureWarning: suggest_loguniform has been deprecated in v3.0.0. This feature will be removed in v6.0.0. See https://github.com/optuna/optuna/releases/tag/v3.0.0. Use :func:`~optuna.trial.Trial.suggest_float` instead.\n",
      "  'gamma': trial.suggest_loguniform('gamma', 1e-8, 1.0),\n",
      "C:\\Users\\xfini\\AppData\\Local\\Temp\\ipykernel_20184\\1068959902.py:11: FutureWarning: suggest_loguniform has been deprecated in v3.0.0. This feature will be removed in v6.0.0. See https://github.com/optuna/optuna/releases/tag/v3.0.0. Use :func:`~optuna.trial.Trial.suggest_float` instead.\n",
      "  'subsample': trial.suggest_loguniform('subsample', 0.01, 1.0),\n",
      "C:\\Users\\xfini\\AppData\\Local\\Temp\\ipykernel_20184\\1068959902.py:12: FutureWarning: suggest_loguniform has been deprecated in v3.0.0. This feature will be removed in v6.0.0. See https://github.com/optuna/optuna/releases/tag/v3.0.0. Use :func:`~optuna.trial.Trial.suggest_float` instead.\n",
      "  'colsample_bytree': trial.suggest_loguniform('colsample_bytree', 0.01, 1.0),\n",
      "C:\\Users\\xfini\\AppData\\Local\\Temp\\ipykernel_20184\\1068959902.py:13: FutureWarning: suggest_loguniform has been deprecated in v3.0.0. This feature will be removed in v6.0.0. See https://github.com/optuna/optuna/releases/tag/v3.0.0. Use :func:`~optuna.trial.Trial.suggest_float` instead.\n",
      "  'reg_alpha': trial.suggest_loguniform('reg_alpha', 1e-8, 1.0),\n",
      "C:\\Users\\xfini\\AppData\\Local\\Temp\\ipykernel_20184\\1068959902.py:14: FutureWarning: suggest_loguniform has been deprecated in v3.0.0. This feature will be removed in v6.0.0. See https://github.com/optuna/optuna/releases/tag/v3.0.0. Use :func:`~optuna.trial.Trial.suggest_float` instead.\n",
      "  'reg_lambda': trial.suggest_loguniform('reg_lambda', 1e-8, 1.0),\n",
      "C:\\Users\\xfini\\AppData\\Local\\Temp\\ipykernel_20184\\1068959902.py:15: FutureWarning: suggest_loguniform has been deprecated in v3.0.0. This feature will be removed in v6.0.0. See https://github.com/optuna/optuna/releases/tag/v3.0.0. Use :func:`~optuna.trial.Trial.suggest_float` instead.\n",
      "  'rsm': trial.suggest_loguniform('rsm', 0.1, 0.9)\n"
     ]
    },
    {
     "name": "stdout",
     "output_type": "stream",
     "text": [
      "[15:11:41] WARNING: C:/buildkite-agent/builds/buildkite-windows-cpu-autoscaling-group-i-08de971ced8a8cdc6-1/xgboost/xgboost-ci-windows/src/learner.cc:767: \n",
      "Parameters: { \"rsm\" } are not used.\n",
      "\n"
     ]
    },
    {
     "name": "stderr",
     "output_type": "stream",
     "text": [
      "C:\\Users\\xfini\\AppData\\Local\\Temp\\ipykernel_20184\\1068959902.py:7: FutureWarning: suggest_loguniform has been deprecated in v3.0.0. This feature will be removed in v6.0.0. See https://github.com/optuna/optuna/releases/tag/v3.0.0. Use :func:`~optuna.trial.Trial.suggest_float` instead.\n",
      "  'learning_rate': trial.suggest_loguniform('learning_rate', 0.01,1.0),\n",
      "C:\\Users\\xfini\\AppData\\Local\\Temp\\ipykernel_20184\\1068959902.py:10: FutureWarning: suggest_loguniform has been deprecated in v3.0.0. This feature will be removed in v6.0.0. See https://github.com/optuna/optuna/releases/tag/v3.0.0. Use :func:`~optuna.trial.Trial.suggest_float` instead.\n",
      "  'gamma': trial.suggest_loguniform('gamma', 1e-8, 1.0),\n",
      "C:\\Users\\xfini\\AppData\\Local\\Temp\\ipykernel_20184\\1068959902.py:11: FutureWarning: suggest_loguniform has been deprecated in v3.0.0. This feature will be removed in v6.0.0. See https://github.com/optuna/optuna/releases/tag/v3.0.0. Use :func:`~optuna.trial.Trial.suggest_float` instead.\n",
      "  'subsample': trial.suggest_loguniform('subsample', 0.01, 1.0),\n",
      "C:\\Users\\xfini\\AppData\\Local\\Temp\\ipykernel_20184\\1068959902.py:12: FutureWarning: suggest_loguniform has been deprecated in v3.0.0. This feature will be removed in v6.0.0. See https://github.com/optuna/optuna/releases/tag/v3.0.0. Use :func:`~optuna.trial.Trial.suggest_float` instead.\n",
      "  'colsample_bytree': trial.suggest_loguniform('colsample_bytree', 0.01, 1.0),\n",
      "C:\\Users\\xfini\\AppData\\Local\\Temp\\ipykernel_20184\\1068959902.py:13: FutureWarning: suggest_loguniform has been deprecated in v3.0.0. This feature will be removed in v6.0.0. See https://github.com/optuna/optuna/releases/tag/v3.0.0. Use :func:`~optuna.trial.Trial.suggest_float` instead.\n",
      "  'reg_alpha': trial.suggest_loguniform('reg_alpha', 1e-8, 1.0),\n",
      "C:\\Users\\xfini\\AppData\\Local\\Temp\\ipykernel_20184\\1068959902.py:14: FutureWarning: suggest_loguniform has been deprecated in v3.0.0. This feature will be removed in v6.0.0. See https://github.com/optuna/optuna/releases/tag/v3.0.0. Use :func:`~optuna.trial.Trial.suggest_float` instead.\n",
      "  'reg_lambda': trial.suggest_loguniform('reg_lambda', 1e-8, 1.0),\n",
      "C:\\Users\\xfini\\AppData\\Local\\Temp\\ipykernel_20184\\1068959902.py:15: FutureWarning: suggest_loguniform has been deprecated in v3.0.0. This feature will be removed in v6.0.0. See https://github.com/optuna/optuna/releases/tag/v3.0.0. Use :func:`~optuna.trial.Trial.suggest_float` instead.\n",
      "  'rsm': trial.suggest_loguniform('rsm', 0.1, 0.9)\n"
     ]
    },
    {
     "name": "stdout",
     "output_type": "stream",
     "text": [
      "[15:11:44] WARNING: C:/buildkite-agent/builds/buildkite-windows-cpu-autoscaling-group-i-08de971ced8a8cdc6-1/xgboost/xgboost-ci-windows/src/learner.cc:767: \n",
      "Parameters: { \"rsm\" } are not used.\n",
      "\n"
     ]
    },
    {
     "name": "stderr",
     "output_type": "stream",
     "text": [
      "C:\\Users\\xfini\\AppData\\Local\\Temp\\ipykernel_20184\\1068959902.py:7: FutureWarning: suggest_loguniform has been deprecated in v3.0.0. This feature will be removed in v6.0.0. See https://github.com/optuna/optuna/releases/tag/v3.0.0. Use :func:`~optuna.trial.Trial.suggest_float` instead.\n",
      "  'learning_rate': trial.suggest_loguniform('learning_rate', 0.01,1.0),\n",
      "C:\\Users\\xfini\\AppData\\Local\\Temp\\ipykernel_20184\\1068959902.py:10: FutureWarning: suggest_loguniform has been deprecated in v3.0.0. This feature will be removed in v6.0.0. See https://github.com/optuna/optuna/releases/tag/v3.0.0. Use :func:`~optuna.trial.Trial.suggest_float` instead.\n",
      "  'gamma': trial.suggest_loguniform('gamma', 1e-8, 1.0),\n",
      "C:\\Users\\xfini\\AppData\\Local\\Temp\\ipykernel_20184\\1068959902.py:11: FutureWarning: suggest_loguniform has been deprecated in v3.0.0. This feature will be removed in v6.0.0. See https://github.com/optuna/optuna/releases/tag/v3.0.0. Use :func:`~optuna.trial.Trial.suggest_float` instead.\n",
      "  'subsample': trial.suggest_loguniform('subsample', 0.01, 1.0),\n",
      "C:\\Users\\xfini\\AppData\\Local\\Temp\\ipykernel_20184\\1068959902.py:12: FutureWarning: suggest_loguniform has been deprecated in v3.0.0. This feature will be removed in v6.0.0. See https://github.com/optuna/optuna/releases/tag/v3.0.0. Use :func:`~optuna.trial.Trial.suggest_float` instead.\n",
      "  'colsample_bytree': trial.suggest_loguniform('colsample_bytree', 0.01, 1.0),\n",
      "C:\\Users\\xfini\\AppData\\Local\\Temp\\ipykernel_20184\\1068959902.py:13: FutureWarning: suggest_loguniform has been deprecated in v3.0.0. This feature will be removed in v6.0.0. See https://github.com/optuna/optuna/releases/tag/v3.0.0. Use :func:`~optuna.trial.Trial.suggest_float` instead.\n",
      "  'reg_alpha': trial.suggest_loguniform('reg_alpha', 1e-8, 1.0),\n",
      "C:\\Users\\xfini\\AppData\\Local\\Temp\\ipykernel_20184\\1068959902.py:14: FutureWarning: suggest_loguniform has been deprecated in v3.0.0. This feature will be removed in v6.0.0. See https://github.com/optuna/optuna/releases/tag/v3.0.0. Use :func:`~optuna.trial.Trial.suggest_float` instead.\n",
      "  'reg_lambda': trial.suggest_loguniform('reg_lambda', 1e-8, 1.0),\n",
      "C:\\Users\\xfini\\AppData\\Local\\Temp\\ipykernel_20184\\1068959902.py:15: FutureWarning: suggest_loguniform has been deprecated in v3.0.0. This feature will be removed in v6.0.0. See https://github.com/optuna/optuna/releases/tag/v3.0.0. Use :func:`~optuna.trial.Trial.suggest_float` instead.\n",
      "  'rsm': trial.suggest_loguniform('rsm', 0.1, 0.9)\n"
     ]
    },
    {
     "name": "stdout",
     "output_type": "stream",
     "text": [
      "[15:11:47] WARNING: C:/buildkite-agent/builds/buildkite-windows-cpu-autoscaling-group-i-08de971ced8a8cdc6-1/xgboost/xgboost-ci-windows/src/learner.cc:767: \n",
      "Parameters: { \"rsm\" } are not used.\n",
      "\n"
     ]
    },
    {
     "name": "stderr",
     "output_type": "stream",
     "text": [
      "C:\\Users\\xfini\\AppData\\Local\\Temp\\ipykernel_20184\\1068959902.py:7: FutureWarning: suggest_loguniform has been deprecated in v3.0.0. This feature will be removed in v6.0.0. See https://github.com/optuna/optuna/releases/tag/v3.0.0. Use :func:`~optuna.trial.Trial.suggest_float` instead.\n",
      "  'learning_rate': trial.suggest_loguniform('learning_rate', 0.01,1.0),\n",
      "C:\\Users\\xfini\\AppData\\Local\\Temp\\ipykernel_20184\\1068959902.py:10: FutureWarning: suggest_loguniform has been deprecated in v3.0.0. This feature will be removed in v6.0.0. See https://github.com/optuna/optuna/releases/tag/v3.0.0. Use :func:`~optuna.trial.Trial.suggest_float` instead.\n",
      "  'gamma': trial.suggest_loguniform('gamma', 1e-8, 1.0),\n",
      "C:\\Users\\xfini\\AppData\\Local\\Temp\\ipykernel_20184\\1068959902.py:11: FutureWarning: suggest_loguniform has been deprecated in v3.0.0. This feature will be removed in v6.0.0. See https://github.com/optuna/optuna/releases/tag/v3.0.0. Use :func:`~optuna.trial.Trial.suggest_float` instead.\n",
      "  'subsample': trial.suggest_loguniform('subsample', 0.01, 1.0),\n",
      "C:\\Users\\xfini\\AppData\\Local\\Temp\\ipykernel_20184\\1068959902.py:12: FutureWarning: suggest_loguniform has been deprecated in v3.0.0. This feature will be removed in v6.0.0. See https://github.com/optuna/optuna/releases/tag/v3.0.0. Use :func:`~optuna.trial.Trial.suggest_float` instead.\n",
      "  'colsample_bytree': trial.suggest_loguniform('colsample_bytree', 0.01, 1.0),\n",
      "C:\\Users\\xfini\\AppData\\Local\\Temp\\ipykernel_20184\\1068959902.py:13: FutureWarning: suggest_loguniform has been deprecated in v3.0.0. This feature will be removed in v6.0.0. See https://github.com/optuna/optuna/releases/tag/v3.0.0. Use :func:`~optuna.trial.Trial.suggest_float` instead.\n",
      "  'reg_alpha': trial.suggest_loguniform('reg_alpha', 1e-8, 1.0),\n",
      "C:\\Users\\xfini\\AppData\\Local\\Temp\\ipykernel_20184\\1068959902.py:14: FutureWarning: suggest_loguniform has been deprecated in v3.0.0. This feature will be removed in v6.0.0. See https://github.com/optuna/optuna/releases/tag/v3.0.0. Use :func:`~optuna.trial.Trial.suggest_float` instead.\n",
      "  'reg_lambda': trial.suggest_loguniform('reg_lambda', 1e-8, 1.0),\n",
      "C:\\Users\\xfini\\AppData\\Local\\Temp\\ipykernel_20184\\1068959902.py:15: FutureWarning: suggest_loguniform has been deprecated in v3.0.0. This feature will be removed in v6.0.0. See https://github.com/optuna/optuna/releases/tag/v3.0.0. Use :func:`~optuna.trial.Trial.suggest_float` instead.\n",
      "  'rsm': trial.suggest_loguniform('rsm', 0.1, 0.9)\n"
     ]
    },
    {
     "name": "stdout",
     "output_type": "stream",
     "text": [
      "[15:11:51] WARNING: C:/buildkite-agent/builds/buildkite-windows-cpu-autoscaling-group-i-08de971ced8a8cdc6-1/xgboost/xgboost-ci-windows/src/learner.cc:767: \n",
      "Parameters: { \"rsm\" } are not used.\n",
      "\n"
     ]
    },
    {
     "name": "stderr",
     "output_type": "stream",
     "text": [
      "C:\\Users\\xfini\\AppData\\Local\\Temp\\ipykernel_20184\\1068959902.py:7: FutureWarning: suggest_loguniform has been deprecated in v3.0.0. This feature will be removed in v6.0.0. See https://github.com/optuna/optuna/releases/tag/v3.0.0. Use :func:`~optuna.trial.Trial.suggest_float` instead.\n",
      "  'learning_rate': trial.suggest_loguniform('learning_rate', 0.01,1.0),\n",
      "C:\\Users\\xfini\\AppData\\Local\\Temp\\ipykernel_20184\\1068959902.py:10: FutureWarning: suggest_loguniform has been deprecated in v3.0.0. This feature will be removed in v6.0.0. See https://github.com/optuna/optuna/releases/tag/v3.0.0. Use :func:`~optuna.trial.Trial.suggest_float` instead.\n",
      "  'gamma': trial.suggest_loguniform('gamma', 1e-8, 1.0),\n",
      "C:\\Users\\xfini\\AppData\\Local\\Temp\\ipykernel_20184\\1068959902.py:11: FutureWarning: suggest_loguniform has been deprecated in v3.0.0. This feature will be removed in v6.0.0. See https://github.com/optuna/optuna/releases/tag/v3.0.0. Use :func:`~optuna.trial.Trial.suggest_float` instead.\n",
      "  'subsample': trial.suggest_loguniform('subsample', 0.01, 1.0),\n",
      "C:\\Users\\xfini\\AppData\\Local\\Temp\\ipykernel_20184\\1068959902.py:12: FutureWarning: suggest_loguniform has been deprecated in v3.0.0. This feature will be removed in v6.0.0. See https://github.com/optuna/optuna/releases/tag/v3.0.0. Use :func:`~optuna.trial.Trial.suggest_float` instead.\n",
      "  'colsample_bytree': trial.suggest_loguniform('colsample_bytree', 0.01, 1.0),\n",
      "C:\\Users\\xfini\\AppData\\Local\\Temp\\ipykernel_20184\\1068959902.py:13: FutureWarning: suggest_loguniform has been deprecated in v3.0.0. This feature will be removed in v6.0.0. See https://github.com/optuna/optuna/releases/tag/v3.0.0. Use :func:`~optuna.trial.Trial.suggest_float` instead.\n",
      "  'reg_alpha': trial.suggest_loguniform('reg_alpha', 1e-8, 1.0),\n",
      "C:\\Users\\xfini\\AppData\\Local\\Temp\\ipykernel_20184\\1068959902.py:14: FutureWarning: suggest_loguniform has been deprecated in v3.0.0. This feature will be removed in v6.0.0. See https://github.com/optuna/optuna/releases/tag/v3.0.0. Use :func:`~optuna.trial.Trial.suggest_float` instead.\n",
      "  'reg_lambda': trial.suggest_loguniform('reg_lambda', 1e-8, 1.0),\n",
      "C:\\Users\\xfini\\AppData\\Local\\Temp\\ipykernel_20184\\1068959902.py:15: FutureWarning: suggest_loguniform has been deprecated in v3.0.0. This feature will be removed in v6.0.0. See https://github.com/optuna/optuna/releases/tag/v3.0.0. Use :func:`~optuna.trial.Trial.suggest_float` instead.\n",
      "  'rsm': trial.suggest_loguniform('rsm', 0.1, 0.9)\n"
     ]
    },
    {
     "name": "stdout",
     "output_type": "stream",
     "text": [
      "[15:11:53] WARNING: C:/buildkite-agent/builds/buildkite-windows-cpu-autoscaling-group-i-08de971ced8a8cdc6-1/xgboost/xgboost-ci-windows/src/learner.cc:767: \n",
      "Parameters: { \"rsm\" } are not used.\n",
      "\n"
     ]
    },
    {
     "name": "stderr",
     "output_type": "stream",
     "text": [
      "C:\\Users\\xfini\\AppData\\Local\\Temp\\ipykernel_20184\\1068959902.py:7: FutureWarning: suggest_loguniform has been deprecated in v3.0.0. This feature will be removed in v6.0.0. See https://github.com/optuna/optuna/releases/tag/v3.0.0. Use :func:`~optuna.trial.Trial.suggest_float` instead.\n",
      "  'learning_rate': trial.suggest_loguniform('learning_rate', 0.01,1.0),\n",
      "C:\\Users\\xfini\\AppData\\Local\\Temp\\ipykernel_20184\\1068959902.py:10: FutureWarning: suggest_loguniform has been deprecated in v3.0.0. This feature will be removed in v6.0.0. See https://github.com/optuna/optuna/releases/tag/v3.0.0. Use :func:`~optuna.trial.Trial.suggest_float` instead.\n",
      "  'gamma': trial.suggest_loguniform('gamma', 1e-8, 1.0),\n",
      "C:\\Users\\xfini\\AppData\\Local\\Temp\\ipykernel_20184\\1068959902.py:11: FutureWarning: suggest_loguniform has been deprecated in v3.0.0. This feature will be removed in v6.0.0. See https://github.com/optuna/optuna/releases/tag/v3.0.0. Use :func:`~optuna.trial.Trial.suggest_float` instead.\n",
      "  'subsample': trial.suggest_loguniform('subsample', 0.01, 1.0),\n",
      "C:\\Users\\xfini\\AppData\\Local\\Temp\\ipykernel_20184\\1068959902.py:12: FutureWarning: suggest_loguniform has been deprecated in v3.0.0. This feature will be removed in v6.0.0. See https://github.com/optuna/optuna/releases/tag/v3.0.0. Use :func:`~optuna.trial.Trial.suggest_float` instead.\n",
      "  'colsample_bytree': trial.suggest_loguniform('colsample_bytree', 0.01, 1.0),\n",
      "C:\\Users\\xfini\\AppData\\Local\\Temp\\ipykernel_20184\\1068959902.py:13: FutureWarning: suggest_loguniform has been deprecated in v3.0.0. This feature will be removed in v6.0.0. See https://github.com/optuna/optuna/releases/tag/v3.0.0. Use :func:`~optuna.trial.Trial.suggest_float` instead.\n",
      "  'reg_alpha': trial.suggest_loguniform('reg_alpha', 1e-8, 1.0),\n",
      "C:\\Users\\xfini\\AppData\\Local\\Temp\\ipykernel_20184\\1068959902.py:14: FutureWarning: suggest_loguniform has been deprecated in v3.0.0. This feature will be removed in v6.0.0. See https://github.com/optuna/optuna/releases/tag/v3.0.0. Use :func:`~optuna.trial.Trial.suggest_float` instead.\n",
      "  'reg_lambda': trial.suggest_loguniform('reg_lambda', 1e-8, 1.0),\n",
      "C:\\Users\\xfini\\AppData\\Local\\Temp\\ipykernel_20184\\1068959902.py:15: FutureWarning: suggest_loguniform has been deprecated in v3.0.0. This feature will be removed in v6.0.0. See https://github.com/optuna/optuna/releases/tag/v3.0.0. Use :func:`~optuna.trial.Trial.suggest_float` instead.\n",
      "  'rsm': trial.suggest_loguniform('rsm', 0.1, 0.9)\n"
     ]
    },
    {
     "name": "stdout",
     "output_type": "stream",
     "text": [
      "[15:11:57] WARNING: C:/buildkite-agent/builds/buildkite-windows-cpu-autoscaling-group-i-08de971ced8a8cdc6-1/xgboost/xgboost-ci-windows/src/learner.cc:767: \n",
      "Parameters: { \"rsm\" } are not used.\n",
      "\n"
     ]
    },
    {
     "name": "stderr",
     "output_type": "stream",
     "text": [
      "C:\\Users\\xfini\\AppData\\Local\\Temp\\ipykernel_20184\\1068959902.py:7: FutureWarning: suggest_loguniform has been deprecated in v3.0.0. This feature will be removed in v6.0.0. See https://github.com/optuna/optuna/releases/tag/v3.0.0. Use :func:`~optuna.trial.Trial.suggest_float` instead.\n",
      "  'learning_rate': trial.suggest_loguniform('learning_rate', 0.01,1.0),\n",
      "C:\\Users\\xfini\\AppData\\Local\\Temp\\ipykernel_20184\\1068959902.py:10: FutureWarning: suggest_loguniform has been deprecated in v3.0.0. This feature will be removed in v6.0.0. See https://github.com/optuna/optuna/releases/tag/v3.0.0. Use :func:`~optuna.trial.Trial.suggest_float` instead.\n",
      "  'gamma': trial.suggest_loguniform('gamma', 1e-8, 1.0),\n",
      "C:\\Users\\xfini\\AppData\\Local\\Temp\\ipykernel_20184\\1068959902.py:11: FutureWarning: suggest_loguniform has been deprecated in v3.0.0. This feature will be removed in v6.0.0. See https://github.com/optuna/optuna/releases/tag/v3.0.0. Use :func:`~optuna.trial.Trial.suggest_float` instead.\n",
      "  'subsample': trial.suggest_loguniform('subsample', 0.01, 1.0),\n",
      "C:\\Users\\xfini\\AppData\\Local\\Temp\\ipykernel_20184\\1068959902.py:12: FutureWarning: suggest_loguniform has been deprecated in v3.0.0. This feature will be removed in v6.0.0. See https://github.com/optuna/optuna/releases/tag/v3.0.0. Use :func:`~optuna.trial.Trial.suggest_float` instead.\n",
      "  'colsample_bytree': trial.suggest_loguniform('colsample_bytree', 0.01, 1.0),\n",
      "C:\\Users\\xfini\\AppData\\Local\\Temp\\ipykernel_20184\\1068959902.py:13: FutureWarning: suggest_loguniform has been deprecated in v3.0.0. This feature will be removed in v6.0.0. See https://github.com/optuna/optuna/releases/tag/v3.0.0. Use :func:`~optuna.trial.Trial.suggest_float` instead.\n",
      "  'reg_alpha': trial.suggest_loguniform('reg_alpha', 1e-8, 1.0),\n",
      "C:\\Users\\xfini\\AppData\\Local\\Temp\\ipykernel_20184\\1068959902.py:14: FutureWarning: suggest_loguniform has been deprecated in v3.0.0. This feature will be removed in v6.0.0. See https://github.com/optuna/optuna/releases/tag/v3.0.0. Use :func:`~optuna.trial.Trial.suggest_float` instead.\n",
      "  'reg_lambda': trial.suggest_loguniform('reg_lambda', 1e-8, 1.0),\n",
      "C:\\Users\\xfini\\AppData\\Local\\Temp\\ipykernel_20184\\1068959902.py:15: FutureWarning: suggest_loguniform has been deprecated in v3.0.0. This feature will be removed in v6.0.0. See https://github.com/optuna/optuna/releases/tag/v3.0.0. Use :func:`~optuna.trial.Trial.suggest_float` instead.\n",
      "  'rsm': trial.suggest_loguniform('rsm', 0.1, 0.9)\n"
     ]
    },
    {
     "name": "stdout",
     "output_type": "stream",
     "text": [
      "[15:12:00] WARNING: C:/buildkite-agent/builds/buildkite-windows-cpu-autoscaling-group-i-08de971ced8a8cdc6-1/xgboost/xgboost-ci-windows/src/learner.cc:767: \n",
      "Parameters: { \"rsm\" } are not used.\n",
      "\n"
     ]
    },
    {
     "name": "stderr",
     "output_type": "stream",
     "text": [
      "C:\\Users\\xfini\\AppData\\Local\\Temp\\ipykernel_20184\\1068959902.py:7: FutureWarning: suggest_loguniform has been deprecated in v3.0.0. This feature will be removed in v6.0.0. See https://github.com/optuna/optuna/releases/tag/v3.0.0. Use :func:`~optuna.trial.Trial.suggest_float` instead.\n",
      "  'learning_rate': trial.suggest_loguniform('learning_rate', 0.01,1.0),\n",
      "C:\\Users\\xfini\\AppData\\Local\\Temp\\ipykernel_20184\\1068959902.py:10: FutureWarning: suggest_loguniform has been deprecated in v3.0.0. This feature will be removed in v6.0.0. See https://github.com/optuna/optuna/releases/tag/v3.0.0. Use :func:`~optuna.trial.Trial.suggest_float` instead.\n",
      "  'gamma': trial.suggest_loguniform('gamma', 1e-8, 1.0),\n",
      "C:\\Users\\xfini\\AppData\\Local\\Temp\\ipykernel_20184\\1068959902.py:11: FutureWarning: suggest_loguniform has been deprecated in v3.0.0. This feature will be removed in v6.0.0. See https://github.com/optuna/optuna/releases/tag/v3.0.0. Use :func:`~optuna.trial.Trial.suggest_float` instead.\n",
      "  'subsample': trial.suggest_loguniform('subsample', 0.01, 1.0),\n",
      "C:\\Users\\xfini\\AppData\\Local\\Temp\\ipykernel_20184\\1068959902.py:12: FutureWarning: suggest_loguniform has been deprecated in v3.0.0. This feature will be removed in v6.0.0. See https://github.com/optuna/optuna/releases/tag/v3.0.0. Use :func:`~optuna.trial.Trial.suggest_float` instead.\n",
      "  'colsample_bytree': trial.suggest_loguniform('colsample_bytree', 0.01, 1.0),\n",
      "C:\\Users\\xfini\\AppData\\Local\\Temp\\ipykernel_20184\\1068959902.py:13: FutureWarning: suggest_loguniform has been deprecated in v3.0.0. This feature will be removed in v6.0.0. See https://github.com/optuna/optuna/releases/tag/v3.0.0. Use :func:`~optuna.trial.Trial.suggest_float` instead.\n",
      "  'reg_alpha': trial.suggest_loguniform('reg_alpha', 1e-8, 1.0),\n",
      "C:\\Users\\xfini\\AppData\\Local\\Temp\\ipykernel_20184\\1068959902.py:14: FutureWarning: suggest_loguniform has been deprecated in v3.0.0. This feature will be removed in v6.0.0. See https://github.com/optuna/optuna/releases/tag/v3.0.0. Use :func:`~optuna.trial.Trial.suggest_float` instead.\n",
      "  'reg_lambda': trial.suggest_loguniform('reg_lambda', 1e-8, 1.0),\n",
      "C:\\Users\\xfini\\AppData\\Local\\Temp\\ipykernel_20184\\1068959902.py:15: FutureWarning: suggest_loguniform has been deprecated in v3.0.0. This feature will be removed in v6.0.0. See https://github.com/optuna/optuna/releases/tag/v3.0.0. Use :func:`~optuna.trial.Trial.suggest_float` instead.\n",
      "  'rsm': trial.suggest_loguniform('rsm', 0.1, 0.9)\n"
     ]
    },
    {
     "name": "stdout",
     "output_type": "stream",
     "text": [
      "[15:12:04] WARNING: C:/buildkite-agent/builds/buildkite-windows-cpu-autoscaling-group-i-08de971ced8a8cdc6-1/xgboost/xgboost-ci-windows/src/learner.cc:767: \n",
      "Parameters: { \"rsm\" } are not used.\n",
      "\n"
     ]
    },
    {
     "name": "stderr",
     "output_type": "stream",
     "text": [
      "C:\\Users\\xfini\\AppData\\Local\\Temp\\ipykernel_20184\\1068959902.py:7: FutureWarning: suggest_loguniform has been deprecated in v3.0.0. This feature will be removed in v6.0.0. See https://github.com/optuna/optuna/releases/tag/v3.0.0. Use :func:`~optuna.trial.Trial.suggest_float` instead.\n",
      "  'learning_rate': trial.suggest_loguniform('learning_rate', 0.01,1.0),\n",
      "C:\\Users\\xfini\\AppData\\Local\\Temp\\ipykernel_20184\\1068959902.py:10: FutureWarning: suggest_loguniform has been deprecated in v3.0.0. This feature will be removed in v6.0.0. See https://github.com/optuna/optuna/releases/tag/v3.0.0. Use :func:`~optuna.trial.Trial.suggest_float` instead.\n",
      "  'gamma': trial.suggest_loguniform('gamma', 1e-8, 1.0),\n",
      "C:\\Users\\xfini\\AppData\\Local\\Temp\\ipykernel_20184\\1068959902.py:11: FutureWarning: suggest_loguniform has been deprecated in v3.0.0. This feature will be removed in v6.0.0. See https://github.com/optuna/optuna/releases/tag/v3.0.0. Use :func:`~optuna.trial.Trial.suggest_float` instead.\n",
      "  'subsample': trial.suggest_loguniform('subsample', 0.01, 1.0),\n",
      "C:\\Users\\xfini\\AppData\\Local\\Temp\\ipykernel_20184\\1068959902.py:12: FutureWarning: suggest_loguniform has been deprecated in v3.0.0. This feature will be removed in v6.0.0. See https://github.com/optuna/optuna/releases/tag/v3.0.0. Use :func:`~optuna.trial.Trial.suggest_float` instead.\n",
      "  'colsample_bytree': trial.suggest_loguniform('colsample_bytree', 0.01, 1.0),\n",
      "C:\\Users\\xfini\\AppData\\Local\\Temp\\ipykernel_20184\\1068959902.py:13: FutureWarning: suggest_loguniform has been deprecated in v3.0.0. This feature will be removed in v6.0.0. See https://github.com/optuna/optuna/releases/tag/v3.0.0. Use :func:`~optuna.trial.Trial.suggest_float` instead.\n",
      "  'reg_alpha': trial.suggest_loguniform('reg_alpha', 1e-8, 1.0),\n",
      "C:\\Users\\xfini\\AppData\\Local\\Temp\\ipykernel_20184\\1068959902.py:14: FutureWarning: suggest_loguniform has been deprecated in v3.0.0. This feature will be removed in v6.0.0. See https://github.com/optuna/optuna/releases/tag/v3.0.0. Use :func:`~optuna.trial.Trial.suggest_float` instead.\n",
      "  'reg_lambda': trial.suggest_loguniform('reg_lambda', 1e-8, 1.0),\n",
      "C:\\Users\\xfini\\AppData\\Local\\Temp\\ipykernel_20184\\1068959902.py:15: FutureWarning: suggest_loguniform has been deprecated in v3.0.0. This feature will be removed in v6.0.0. See https://github.com/optuna/optuna/releases/tag/v3.0.0. Use :func:`~optuna.trial.Trial.suggest_float` instead.\n",
      "  'rsm': trial.suggest_loguniform('rsm', 0.1, 0.9)\n"
     ]
    },
    {
     "name": "stdout",
     "output_type": "stream",
     "text": [
      "[15:12:07] WARNING: C:/buildkite-agent/builds/buildkite-windows-cpu-autoscaling-group-i-08de971ced8a8cdc6-1/xgboost/xgboost-ci-windows/src/learner.cc:767: \n",
      "Parameters: { \"rsm\" } are not used.\n",
      "\n"
     ]
    },
    {
     "name": "stderr",
     "output_type": "stream",
     "text": [
      "C:\\Users\\xfini\\AppData\\Local\\Temp\\ipykernel_20184\\1068959902.py:7: FutureWarning: suggest_loguniform has been deprecated in v3.0.0. This feature will be removed in v6.0.0. See https://github.com/optuna/optuna/releases/tag/v3.0.0. Use :func:`~optuna.trial.Trial.suggest_float` instead.\n",
      "  'learning_rate': trial.suggest_loguniform('learning_rate', 0.01,1.0),\n",
      "C:\\Users\\xfini\\AppData\\Local\\Temp\\ipykernel_20184\\1068959902.py:10: FutureWarning: suggest_loguniform has been deprecated in v3.0.0. This feature will be removed in v6.0.0. See https://github.com/optuna/optuna/releases/tag/v3.0.0. Use :func:`~optuna.trial.Trial.suggest_float` instead.\n",
      "  'gamma': trial.suggest_loguniform('gamma', 1e-8, 1.0),\n",
      "C:\\Users\\xfini\\AppData\\Local\\Temp\\ipykernel_20184\\1068959902.py:11: FutureWarning: suggest_loguniform has been deprecated in v3.0.0. This feature will be removed in v6.0.0. See https://github.com/optuna/optuna/releases/tag/v3.0.0. Use :func:`~optuna.trial.Trial.suggest_float` instead.\n",
      "  'subsample': trial.suggest_loguniform('subsample', 0.01, 1.0),\n",
      "C:\\Users\\xfini\\AppData\\Local\\Temp\\ipykernel_20184\\1068959902.py:12: FutureWarning: suggest_loguniform has been deprecated in v3.0.0. This feature will be removed in v6.0.0. See https://github.com/optuna/optuna/releases/tag/v3.0.0. Use :func:`~optuna.trial.Trial.suggest_float` instead.\n",
      "  'colsample_bytree': trial.suggest_loguniform('colsample_bytree', 0.01, 1.0),\n",
      "C:\\Users\\xfini\\AppData\\Local\\Temp\\ipykernel_20184\\1068959902.py:13: FutureWarning: suggest_loguniform has been deprecated in v3.0.0. This feature will be removed in v6.0.0. See https://github.com/optuna/optuna/releases/tag/v3.0.0. Use :func:`~optuna.trial.Trial.suggest_float` instead.\n",
      "  'reg_alpha': trial.suggest_loguniform('reg_alpha', 1e-8, 1.0),\n",
      "C:\\Users\\xfini\\AppData\\Local\\Temp\\ipykernel_20184\\1068959902.py:14: FutureWarning: suggest_loguniform has been deprecated in v3.0.0. This feature will be removed in v6.0.0. See https://github.com/optuna/optuna/releases/tag/v3.0.0. Use :func:`~optuna.trial.Trial.suggest_float` instead.\n",
      "  'reg_lambda': trial.suggest_loguniform('reg_lambda', 1e-8, 1.0),\n",
      "C:\\Users\\xfini\\AppData\\Local\\Temp\\ipykernel_20184\\1068959902.py:15: FutureWarning: suggest_loguniform has been deprecated in v3.0.0. This feature will be removed in v6.0.0. See https://github.com/optuna/optuna/releases/tag/v3.0.0. Use :func:`~optuna.trial.Trial.suggest_float` instead.\n",
      "  'rsm': trial.suggest_loguniform('rsm', 0.1, 0.9)\n"
     ]
    },
    {
     "name": "stdout",
     "output_type": "stream",
     "text": [
      "[15:12:10] WARNING: C:/buildkite-agent/builds/buildkite-windows-cpu-autoscaling-group-i-08de971ced8a8cdc6-1/xgboost/xgboost-ci-windows/src/learner.cc:767: \n",
      "Parameters: { \"rsm\" } are not used.\n",
      "\n"
     ]
    },
    {
     "name": "stderr",
     "output_type": "stream",
     "text": [
      "C:\\Users\\xfini\\AppData\\Local\\Temp\\ipykernel_20184\\1068959902.py:7: FutureWarning: suggest_loguniform has been deprecated in v3.0.0. This feature will be removed in v6.0.0. See https://github.com/optuna/optuna/releases/tag/v3.0.0. Use :func:`~optuna.trial.Trial.suggest_float` instead.\n",
      "  'learning_rate': trial.suggest_loguniform('learning_rate', 0.01,1.0),\n",
      "C:\\Users\\xfini\\AppData\\Local\\Temp\\ipykernel_20184\\1068959902.py:10: FutureWarning: suggest_loguniform has been deprecated in v3.0.0. This feature will be removed in v6.0.0. See https://github.com/optuna/optuna/releases/tag/v3.0.0. Use :func:`~optuna.trial.Trial.suggest_float` instead.\n",
      "  'gamma': trial.suggest_loguniform('gamma', 1e-8, 1.0),\n",
      "C:\\Users\\xfini\\AppData\\Local\\Temp\\ipykernel_20184\\1068959902.py:11: FutureWarning: suggest_loguniform has been deprecated in v3.0.0. This feature will be removed in v6.0.0. See https://github.com/optuna/optuna/releases/tag/v3.0.0. Use :func:`~optuna.trial.Trial.suggest_float` instead.\n",
      "  'subsample': trial.suggest_loguniform('subsample', 0.01, 1.0),\n",
      "C:\\Users\\xfini\\AppData\\Local\\Temp\\ipykernel_20184\\1068959902.py:12: FutureWarning: suggest_loguniform has been deprecated in v3.0.0. This feature will be removed in v6.0.0. See https://github.com/optuna/optuna/releases/tag/v3.0.0. Use :func:`~optuna.trial.Trial.suggest_float` instead.\n",
      "  'colsample_bytree': trial.suggest_loguniform('colsample_bytree', 0.01, 1.0),\n",
      "C:\\Users\\xfini\\AppData\\Local\\Temp\\ipykernel_20184\\1068959902.py:13: FutureWarning: suggest_loguniform has been deprecated in v3.0.0. This feature will be removed in v6.0.0. See https://github.com/optuna/optuna/releases/tag/v3.0.0. Use :func:`~optuna.trial.Trial.suggest_float` instead.\n",
      "  'reg_alpha': trial.suggest_loguniform('reg_alpha', 1e-8, 1.0),\n",
      "C:\\Users\\xfini\\AppData\\Local\\Temp\\ipykernel_20184\\1068959902.py:14: FutureWarning: suggest_loguniform has been deprecated in v3.0.0. This feature will be removed in v6.0.0. See https://github.com/optuna/optuna/releases/tag/v3.0.0. Use :func:`~optuna.trial.Trial.suggest_float` instead.\n",
      "  'reg_lambda': trial.suggest_loguniform('reg_lambda', 1e-8, 1.0),\n",
      "C:\\Users\\xfini\\AppData\\Local\\Temp\\ipykernel_20184\\1068959902.py:15: FutureWarning: suggest_loguniform has been deprecated in v3.0.0. This feature will be removed in v6.0.0. See https://github.com/optuna/optuna/releases/tag/v3.0.0. Use :func:`~optuna.trial.Trial.suggest_float` instead.\n",
      "  'rsm': trial.suggest_loguniform('rsm', 0.1, 0.9)\n"
     ]
    },
    {
     "name": "stdout",
     "output_type": "stream",
     "text": [
      "[15:12:13] WARNING: C:/buildkite-agent/builds/buildkite-windows-cpu-autoscaling-group-i-08de971ced8a8cdc6-1/xgboost/xgboost-ci-windows/src/learner.cc:767: \n",
      "Parameters: { \"rsm\" } are not used.\n",
      "\n"
     ]
    },
    {
     "name": "stderr",
     "output_type": "stream",
     "text": [
      "C:\\Users\\xfini\\AppData\\Local\\Temp\\ipykernel_20184\\1068959902.py:7: FutureWarning: suggest_loguniform has been deprecated in v3.0.0. This feature will be removed in v6.0.0. See https://github.com/optuna/optuna/releases/tag/v3.0.0. Use :func:`~optuna.trial.Trial.suggest_float` instead.\n",
      "  'learning_rate': trial.suggest_loguniform('learning_rate', 0.01,1.0),\n",
      "C:\\Users\\xfini\\AppData\\Local\\Temp\\ipykernel_20184\\1068959902.py:10: FutureWarning: suggest_loguniform has been deprecated in v3.0.0. This feature will be removed in v6.0.0. See https://github.com/optuna/optuna/releases/tag/v3.0.0. Use :func:`~optuna.trial.Trial.suggest_float` instead.\n",
      "  'gamma': trial.suggest_loguniform('gamma', 1e-8, 1.0),\n",
      "C:\\Users\\xfini\\AppData\\Local\\Temp\\ipykernel_20184\\1068959902.py:11: FutureWarning: suggest_loguniform has been deprecated in v3.0.0. This feature will be removed in v6.0.0. See https://github.com/optuna/optuna/releases/tag/v3.0.0. Use :func:`~optuna.trial.Trial.suggest_float` instead.\n",
      "  'subsample': trial.suggest_loguniform('subsample', 0.01, 1.0),\n",
      "C:\\Users\\xfini\\AppData\\Local\\Temp\\ipykernel_20184\\1068959902.py:12: FutureWarning: suggest_loguniform has been deprecated in v3.0.0. This feature will be removed in v6.0.0. See https://github.com/optuna/optuna/releases/tag/v3.0.0. Use :func:`~optuna.trial.Trial.suggest_float` instead.\n",
      "  'colsample_bytree': trial.suggest_loguniform('colsample_bytree', 0.01, 1.0),\n",
      "C:\\Users\\xfini\\AppData\\Local\\Temp\\ipykernel_20184\\1068959902.py:13: FutureWarning: suggest_loguniform has been deprecated in v3.0.0. This feature will be removed in v6.0.0. See https://github.com/optuna/optuna/releases/tag/v3.0.0. Use :func:`~optuna.trial.Trial.suggest_float` instead.\n",
      "  'reg_alpha': trial.suggest_loguniform('reg_alpha', 1e-8, 1.0),\n",
      "C:\\Users\\xfini\\AppData\\Local\\Temp\\ipykernel_20184\\1068959902.py:14: FutureWarning: suggest_loguniform has been deprecated in v3.0.0. This feature will be removed in v6.0.0. See https://github.com/optuna/optuna/releases/tag/v3.0.0. Use :func:`~optuna.trial.Trial.suggest_float` instead.\n",
      "  'reg_lambda': trial.suggest_loguniform('reg_lambda', 1e-8, 1.0),\n",
      "C:\\Users\\xfini\\AppData\\Local\\Temp\\ipykernel_20184\\1068959902.py:15: FutureWarning: suggest_loguniform has been deprecated in v3.0.0. This feature will be removed in v6.0.0. See https://github.com/optuna/optuna/releases/tag/v3.0.0. Use :func:`~optuna.trial.Trial.suggest_float` instead.\n",
      "  'rsm': trial.suggest_loguniform('rsm', 0.1, 0.9)\n"
     ]
    },
    {
     "name": "stdout",
     "output_type": "stream",
     "text": [
      "[15:12:16] WARNING: C:/buildkite-agent/builds/buildkite-windows-cpu-autoscaling-group-i-08de971ced8a8cdc6-1/xgboost/xgboost-ci-windows/src/learner.cc:767: \n",
      "Parameters: { \"rsm\" } are not used.\n",
      "\n"
     ]
    },
    {
     "name": "stderr",
     "output_type": "stream",
     "text": [
      "C:\\Users\\xfini\\AppData\\Local\\Temp\\ipykernel_20184\\1068959902.py:7: FutureWarning: suggest_loguniform has been deprecated in v3.0.0. This feature will be removed in v6.0.0. See https://github.com/optuna/optuna/releases/tag/v3.0.0. Use :func:`~optuna.trial.Trial.suggest_float` instead.\n",
      "  'learning_rate': trial.suggest_loguniform('learning_rate', 0.01,1.0),\n",
      "C:\\Users\\xfini\\AppData\\Local\\Temp\\ipykernel_20184\\1068959902.py:10: FutureWarning: suggest_loguniform has been deprecated in v3.0.0. This feature will be removed in v6.0.0. See https://github.com/optuna/optuna/releases/tag/v3.0.0. Use :func:`~optuna.trial.Trial.suggest_float` instead.\n",
      "  'gamma': trial.suggest_loguniform('gamma', 1e-8, 1.0),\n",
      "C:\\Users\\xfini\\AppData\\Local\\Temp\\ipykernel_20184\\1068959902.py:11: FutureWarning: suggest_loguniform has been deprecated in v3.0.0. This feature will be removed in v6.0.0. See https://github.com/optuna/optuna/releases/tag/v3.0.0. Use :func:`~optuna.trial.Trial.suggest_float` instead.\n",
      "  'subsample': trial.suggest_loguniform('subsample', 0.01, 1.0),\n",
      "C:\\Users\\xfini\\AppData\\Local\\Temp\\ipykernel_20184\\1068959902.py:12: FutureWarning: suggest_loguniform has been deprecated in v3.0.0. This feature will be removed in v6.0.0. See https://github.com/optuna/optuna/releases/tag/v3.0.0. Use :func:`~optuna.trial.Trial.suggest_float` instead.\n",
      "  'colsample_bytree': trial.suggest_loguniform('colsample_bytree', 0.01, 1.0),\n",
      "C:\\Users\\xfini\\AppData\\Local\\Temp\\ipykernel_20184\\1068959902.py:13: FutureWarning: suggest_loguniform has been deprecated in v3.0.0. This feature will be removed in v6.0.0. See https://github.com/optuna/optuna/releases/tag/v3.0.0. Use :func:`~optuna.trial.Trial.suggest_float` instead.\n",
      "  'reg_alpha': trial.suggest_loguniform('reg_alpha', 1e-8, 1.0),\n",
      "C:\\Users\\xfini\\AppData\\Local\\Temp\\ipykernel_20184\\1068959902.py:14: FutureWarning: suggest_loguniform has been deprecated in v3.0.0. This feature will be removed in v6.0.0. See https://github.com/optuna/optuna/releases/tag/v3.0.0. Use :func:`~optuna.trial.Trial.suggest_float` instead.\n",
      "  'reg_lambda': trial.suggest_loguniform('reg_lambda', 1e-8, 1.0),\n",
      "C:\\Users\\xfini\\AppData\\Local\\Temp\\ipykernel_20184\\1068959902.py:15: FutureWarning: suggest_loguniform has been deprecated in v3.0.0. This feature will be removed in v6.0.0. See https://github.com/optuna/optuna/releases/tag/v3.0.0. Use :func:`~optuna.trial.Trial.suggest_float` instead.\n",
      "  'rsm': trial.suggest_loguniform('rsm', 0.1, 0.9)\n"
     ]
    },
    {
     "name": "stdout",
     "output_type": "stream",
     "text": [
      "[15:12:19] WARNING: C:/buildkite-agent/builds/buildkite-windows-cpu-autoscaling-group-i-08de971ced8a8cdc6-1/xgboost/xgboost-ci-windows/src/learner.cc:767: \n",
      "Parameters: { \"rsm\" } are not used.\n",
      "\n"
     ]
    },
    {
     "name": "stderr",
     "output_type": "stream",
     "text": [
      "C:\\Users\\xfini\\AppData\\Local\\Temp\\ipykernel_20184\\1068959902.py:7: FutureWarning: suggest_loguniform has been deprecated in v3.0.0. This feature will be removed in v6.0.0. See https://github.com/optuna/optuna/releases/tag/v3.0.0. Use :func:`~optuna.trial.Trial.suggest_float` instead.\n",
      "  'learning_rate': trial.suggest_loguniform('learning_rate', 0.01,1.0),\n",
      "C:\\Users\\xfini\\AppData\\Local\\Temp\\ipykernel_20184\\1068959902.py:10: FutureWarning: suggest_loguniform has been deprecated in v3.0.0. This feature will be removed in v6.0.0. See https://github.com/optuna/optuna/releases/tag/v3.0.0. Use :func:`~optuna.trial.Trial.suggest_float` instead.\n",
      "  'gamma': trial.suggest_loguniform('gamma', 1e-8, 1.0),\n",
      "C:\\Users\\xfini\\AppData\\Local\\Temp\\ipykernel_20184\\1068959902.py:11: FutureWarning: suggest_loguniform has been deprecated in v3.0.0. This feature will be removed in v6.0.0. See https://github.com/optuna/optuna/releases/tag/v3.0.0. Use :func:`~optuna.trial.Trial.suggest_float` instead.\n",
      "  'subsample': trial.suggest_loguniform('subsample', 0.01, 1.0),\n",
      "C:\\Users\\xfini\\AppData\\Local\\Temp\\ipykernel_20184\\1068959902.py:12: FutureWarning: suggest_loguniform has been deprecated in v3.0.0. This feature will be removed in v6.0.0. See https://github.com/optuna/optuna/releases/tag/v3.0.0. Use :func:`~optuna.trial.Trial.suggest_float` instead.\n",
      "  'colsample_bytree': trial.suggest_loguniform('colsample_bytree', 0.01, 1.0),\n",
      "C:\\Users\\xfini\\AppData\\Local\\Temp\\ipykernel_20184\\1068959902.py:13: FutureWarning: suggest_loguniform has been deprecated in v3.0.0. This feature will be removed in v6.0.0. See https://github.com/optuna/optuna/releases/tag/v3.0.0. Use :func:`~optuna.trial.Trial.suggest_float` instead.\n",
      "  'reg_alpha': trial.suggest_loguniform('reg_alpha', 1e-8, 1.0),\n",
      "C:\\Users\\xfini\\AppData\\Local\\Temp\\ipykernel_20184\\1068959902.py:14: FutureWarning: suggest_loguniform has been deprecated in v3.0.0. This feature will be removed in v6.0.0. See https://github.com/optuna/optuna/releases/tag/v3.0.0. Use :func:`~optuna.trial.Trial.suggest_float` instead.\n",
      "  'reg_lambda': trial.suggest_loguniform('reg_lambda', 1e-8, 1.0),\n",
      "C:\\Users\\xfini\\AppData\\Local\\Temp\\ipykernel_20184\\1068959902.py:15: FutureWarning: suggest_loguniform has been deprecated in v3.0.0. This feature will be removed in v6.0.0. See https://github.com/optuna/optuna/releases/tag/v3.0.0. Use :func:`~optuna.trial.Trial.suggest_float` instead.\n",
      "  'rsm': trial.suggest_loguniform('rsm', 0.1, 0.9)\n"
     ]
    },
    {
     "name": "stdout",
     "output_type": "stream",
     "text": [
      "[15:12:22] WARNING: C:/buildkite-agent/builds/buildkite-windows-cpu-autoscaling-group-i-08de971ced8a8cdc6-1/xgboost/xgboost-ci-windows/src/learner.cc:767: \n",
      "Parameters: { \"rsm\" } are not used.\n",
      "\n"
     ]
    },
    {
     "name": "stderr",
     "output_type": "stream",
     "text": [
      "C:\\Users\\xfini\\AppData\\Local\\Temp\\ipykernel_20184\\1068959902.py:7: FutureWarning: suggest_loguniform has been deprecated in v3.0.0. This feature will be removed in v6.0.0. See https://github.com/optuna/optuna/releases/tag/v3.0.0. Use :func:`~optuna.trial.Trial.suggest_float` instead.\n",
      "  'learning_rate': trial.suggest_loguniform('learning_rate', 0.01,1.0),\n",
      "C:\\Users\\xfini\\AppData\\Local\\Temp\\ipykernel_20184\\1068959902.py:10: FutureWarning: suggest_loguniform has been deprecated in v3.0.0. This feature will be removed in v6.0.0. See https://github.com/optuna/optuna/releases/tag/v3.0.0. Use :func:`~optuna.trial.Trial.suggest_float` instead.\n",
      "  'gamma': trial.suggest_loguniform('gamma', 1e-8, 1.0),\n",
      "C:\\Users\\xfini\\AppData\\Local\\Temp\\ipykernel_20184\\1068959902.py:11: FutureWarning: suggest_loguniform has been deprecated in v3.0.0. This feature will be removed in v6.0.0. See https://github.com/optuna/optuna/releases/tag/v3.0.0. Use :func:`~optuna.trial.Trial.suggest_float` instead.\n",
      "  'subsample': trial.suggest_loguniform('subsample', 0.01, 1.0),\n",
      "C:\\Users\\xfini\\AppData\\Local\\Temp\\ipykernel_20184\\1068959902.py:12: FutureWarning: suggest_loguniform has been deprecated in v3.0.0. This feature will be removed in v6.0.0. See https://github.com/optuna/optuna/releases/tag/v3.0.0. Use :func:`~optuna.trial.Trial.suggest_float` instead.\n",
      "  'colsample_bytree': trial.suggest_loguniform('colsample_bytree', 0.01, 1.0),\n",
      "C:\\Users\\xfini\\AppData\\Local\\Temp\\ipykernel_20184\\1068959902.py:13: FutureWarning: suggest_loguniform has been deprecated in v3.0.0. This feature will be removed in v6.0.0. See https://github.com/optuna/optuna/releases/tag/v3.0.0. Use :func:`~optuna.trial.Trial.suggest_float` instead.\n",
      "  'reg_alpha': trial.suggest_loguniform('reg_alpha', 1e-8, 1.0),\n",
      "C:\\Users\\xfini\\AppData\\Local\\Temp\\ipykernel_20184\\1068959902.py:14: FutureWarning: suggest_loguniform has been deprecated in v3.0.0. This feature will be removed in v6.0.0. See https://github.com/optuna/optuna/releases/tag/v3.0.0. Use :func:`~optuna.trial.Trial.suggest_float` instead.\n",
      "  'reg_lambda': trial.suggest_loguniform('reg_lambda', 1e-8, 1.0),\n",
      "C:\\Users\\xfini\\AppData\\Local\\Temp\\ipykernel_20184\\1068959902.py:15: FutureWarning: suggest_loguniform has been deprecated in v3.0.0. This feature will be removed in v6.0.0. See https://github.com/optuna/optuna/releases/tag/v3.0.0. Use :func:`~optuna.trial.Trial.suggest_float` instead.\n",
      "  'rsm': trial.suggest_loguniform('rsm', 0.1, 0.9)\n"
     ]
    },
    {
     "name": "stdout",
     "output_type": "stream",
     "text": [
      "[15:12:25] WARNING: C:/buildkite-agent/builds/buildkite-windows-cpu-autoscaling-group-i-08de971ced8a8cdc6-1/xgboost/xgboost-ci-windows/src/learner.cc:767: \n",
      "Parameters: { \"rsm\" } are not used.\n",
      "\n"
     ]
    },
    {
     "name": "stderr",
     "output_type": "stream",
     "text": [
      "C:\\Users\\xfini\\AppData\\Local\\Temp\\ipykernel_20184\\1068959902.py:7: FutureWarning: suggest_loguniform has been deprecated in v3.0.0. This feature will be removed in v6.0.0. See https://github.com/optuna/optuna/releases/tag/v3.0.0. Use :func:`~optuna.trial.Trial.suggest_float` instead.\n",
      "  'learning_rate': trial.suggest_loguniform('learning_rate', 0.01,1.0),\n",
      "C:\\Users\\xfini\\AppData\\Local\\Temp\\ipykernel_20184\\1068959902.py:10: FutureWarning: suggest_loguniform has been deprecated in v3.0.0. This feature will be removed in v6.0.0. See https://github.com/optuna/optuna/releases/tag/v3.0.0. Use :func:`~optuna.trial.Trial.suggest_float` instead.\n",
      "  'gamma': trial.suggest_loguniform('gamma', 1e-8, 1.0),\n",
      "C:\\Users\\xfini\\AppData\\Local\\Temp\\ipykernel_20184\\1068959902.py:11: FutureWarning: suggest_loguniform has been deprecated in v3.0.0. This feature will be removed in v6.0.0. See https://github.com/optuna/optuna/releases/tag/v3.0.0. Use :func:`~optuna.trial.Trial.suggest_float` instead.\n",
      "  'subsample': trial.suggest_loguniform('subsample', 0.01, 1.0),\n",
      "C:\\Users\\xfini\\AppData\\Local\\Temp\\ipykernel_20184\\1068959902.py:12: FutureWarning: suggest_loguniform has been deprecated in v3.0.0. This feature will be removed in v6.0.0. See https://github.com/optuna/optuna/releases/tag/v3.0.0. Use :func:`~optuna.trial.Trial.suggest_float` instead.\n",
      "  'colsample_bytree': trial.suggest_loguniform('colsample_bytree', 0.01, 1.0),\n",
      "C:\\Users\\xfini\\AppData\\Local\\Temp\\ipykernel_20184\\1068959902.py:13: FutureWarning: suggest_loguniform has been deprecated in v3.0.0. This feature will be removed in v6.0.0. See https://github.com/optuna/optuna/releases/tag/v3.0.0. Use :func:`~optuna.trial.Trial.suggest_float` instead.\n",
      "  'reg_alpha': trial.suggest_loguniform('reg_alpha', 1e-8, 1.0),\n",
      "C:\\Users\\xfini\\AppData\\Local\\Temp\\ipykernel_20184\\1068959902.py:14: FutureWarning: suggest_loguniform has been deprecated in v3.0.0. This feature will be removed in v6.0.0. See https://github.com/optuna/optuna/releases/tag/v3.0.0. Use :func:`~optuna.trial.Trial.suggest_float` instead.\n",
      "  'reg_lambda': trial.suggest_loguniform('reg_lambda', 1e-8, 1.0),\n",
      "C:\\Users\\xfini\\AppData\\Local\\Temp\\ipykernel_20184\\1068959902.py:15: FutureWarning: suggest_loguniform has been deprecated in v3.0.0. This feature will be removed in v6.0.0. See https://github.com/optuna/optuna/releases/tag/v3.0.0. Use :func:`~optuna.trial.Trial.suggest_float` instead.\n",
      "  'rsm': trial.suggest_loguniform('rsm', 0.1, 0.9)\n"
     ]
    },
    {
     "name": "stdout",
     "output_type": "stream",
     "text": [
      "[15:12:28] WARNING: C:/buildkite-agent/builds/buildkite-windows-cpu-autoscaling-group-i-08de971ced8a8cdc6-1/xgboost/xgboost-ci-windows/src/learner.cc:767: \n",
      "Parameters: { \"rsm\" } are not used.\n",
      "\n"
     ]
    },
    {
     "name": "stderr",
     "output_type": "stream",
     "text": [
      "C:\\Users\\xfini\\AppData\\Local\\Temp\\ipykernel_20184\\1068959902.py:7: FutureWarning: suggest_loguniform has been deprecated in v3.0.0. This feature will be removed in v6.0.0. See https://github.com/optuna/optuna/releases/tag/v3.0.0. Use :func:`~optuna.trial.Trial.suggest_float` instead.\n",
      "  'learning_rate': trial.suggest_loguniform('learning_rate', 0.01,1.0),\n",
      "C:\\Users\\xfini\\AppData\\Local\\Temp\\ipykernel_20184\\1068959902.py:10: FutureWarning: suggest_loguniform has been deprecated in v3.0.0. This feature will be removed in v6.0.0. See https://github.com/optuna/optuna/releases/tag/v3.0.0. Use :func:`~optuna.trial.Trial.suggest_float` instead.\n",
      "  'gamma': trial.suggest_loguniform('gamma', 1e-8, 1.0),\n",
      "C:\\Users\\xfini\\AppData\\Local\\Temp\\ipykernel_20184\\1068959902.py:11: FutureWarning: suggest_loguniform has been deprecated in v3.0.0. This feature will be removed in v6.0.0. See https://github.com/optuna/optuna/releases/tag/v3.0.0. Use :func:`~optuna.trial.Trial.suggest_float` instead.\n",
      "  'subsample': trial.suggest_loguniform('subsample', 0.01, 1.0),\n",
      "C:\\Users\\xfini\\AppData\\Local\\Temp\\ipykernel_20184\\1068959902.py:12: FutureWarning: suggest_loguniform has been deprecated in v3.0.0. This feature will be removed in v6.0.0. See https://github.com/optuna/optuna/releases/tag/v3.0.0. Use :func:`~optuna.trial.Trial.suggest_float` instead.\n",
      "  'colsample_bytree': trial.suggest_loguniform('colsample_bytree', 0.01, 1.0),\n",
      "C:\\Users\\xfini\\AppData\\Local\\Temp\\ipykernel_20184\\1068959902.py:13: FutureWarning: suggest_loguniform has been deprecated in v3.0.0. This feature will be removed in v6.0.0. See https://github.com/optuna/optuna/releases/tag/v3.0.0. Use :func:`~optuna.trial.Trial.suggest_float` instead.\n",
      "  'reg_alpha': trial.suggest_loguniform('reg_alpha', 1e-8, 1.0),\n",
      "C:\\Users\\xfini\\AppData\\Local\\Temp\\ipykernel_20184\\1068959902.py:14: FutureWarning: suggest_loguniform has been deprecated in v3.0.0. This feature will be removed in v6.0.0. See https://github.com/optuna/optuna/releases/tag/v3.0.0. Use :func:`~optuna.trial.Trial.suggest_float` instead.\n",
      "  'reg_lambda': trial.suggest_loguniform('reg_lambda', 1e-8, 1.0),\n",
      "C:\\Users\\xfini\\AppData\\Local\\Temp\\ipykernel_20184\\1068959902.py:15: FutureWarning: suggest_loguniform has been deprecated in v3.0.0. This feature will be removed in v6.0.0. See https://github.com/optuna/optuna/releases/tag/v3.0.0. Use :func:`~optuna.trial.Trial.suggest_float` instead.\n",
      "  'rsm': trial.suggest_loguniform('rsm', 0.1, 0.9)\n"
     ]
    },
    {
     "name": "stdout",
     "output_type": "stream",
     "text": [
      "[15:12:31] WARNING: C:/buildkite-agent/builds/buildkite-windows-cpu-autoscaling-group-i-08de971ced8a8cdc6-1/xgboost/xgboost-ci-windows/src/learner.cc:767: \n",
      "Parameters: { \"rsm\" } are not used.\n",
      "\n"
     ]
    },
    {
     "name": "stderr",
     "output_type": "stream",
     "text": [
      "C:\\Users\\xfini\\AppData\\Local\\Temp\\ipykernel_20184\\1068959902.py:7: FutureWarning: suggest_loguniform has been deprecated in v3.0.0. This feature will be removed in v6.0.0. See https://github.com/optuna/optuna/releases/tag/v3.0.0. Use :func:`~optuna.trial.Trial.suggest_float` instead.\n",
      "  'learning_rate': trial.suggest_loguniform('learning_rate', 0.01,1.0),\n",
      "C:\\Users\\xfini\\AppData\\Local\\Temp\\ipykernel_20184\\1068959902.py:10: FutureWarning: suggest_loguniform has been deprecated in v3.0.0. This feature will be removed in v6.0.0. See https://github.com/optuna/optuna/releases/tag/v3.0.0. Use :func:`~optuna.trial.Trial.suggest_float` instead.\n",
      "  'gamma': trial.suggest_loguniform('gamma', 1e-8, 1.0),\n",
      "C:\\Users\\xfini\\AppData\\Local\\Temp\\ipykernel_20184\\1068959902.py:11: FutureWarning: suggest_loguniform has been deprecated in v3.0.0. This feature will be removed in v6.0.0. See https://github.com/optuna/optuna/releases/tag/v3.0.0. Use :func:`~optuna.trial.Trial.suggest_float` instead.\n",
      "  'subsample': trial.suggest_loguniform('subsample', 0.01, 1.0),\n",
      "C:\\Users\\xfini\\AppData\\Local\\Temp\\ipykernel_20184\\1068959902.py:12: FutureWarning: suggest_loguniform has been deprecated in v3.0.0. This feature will be removed in v6.0.0. See https://github.com/optuna/optuna/releases/tag/v3.0.0. Use :func:`~optuna.trial.Trial.suggest_float` instead.\n",
      "  'colsample_bytree': trial.suggest_loguniform('colsample_bytree', 0.01, 1.0),\n",
      "C:\\Users\\xfini\\AppData\\Local\\Temp\\ipykernel_20184\\1068959902.py:13: FutureWarning: suggest_loguniform has been deprecated in v3.0.0. This feature will be removed in v6.0.0. See https://github.com/optuna/optuna/releases/tag/v3.0.0. Use :func:`~optuna.trial.Trial.suggest_float` instead.\n",
      "  'reg_alpha': trial.suggest_loguniform('reg_alpha', 1e-8, 1.0),\n",
      "C:\\Users\\xfini\\AppData\\Local\\Temp\\ipykernel_20184\\1068959902.py:14: FutureWarning: suggest_loguniform has been deprecated in v3.0.0. This feature will be removed in v6.0.0. See https://github.com/optuna/optuna/releases/tag/v3.0.0. Use :func:`~optuna.trial.Trial.suggest_float` instead.\n",
      "  'reg_lambda': trial.suggest_loguniform('reg_lambda', 1e-8, 1.0),\n",
      "C:\\Users\\xfini\\AppData\\Local\\Temp\\ipykernel_20184\\1068959902.py:15: FutureWarning: suggest_loguniform has been deprecated in v3.0.0. This feature will be removed in v6.0.0. See https://github.com/optuna/optuna/releases/tag/v3.0.0. Use :func:`~optuna.trial.Trial.suggest_float` instead.\n",
      "  'rsm': trial.suggest_loguniform('rsm', 0.1, 0.9)\n"
     ]
    },
    {
     "name": "stdout",
     "output_type": "stream",
     "text": [
      "[15:12:34] WARNING: C:/buildkite-agent/builds/buildkite-windows-cpu-autoscaling-group-i-08de971ced8a8cdc6-1/xgboost/xgboost-ci-windows/src/learner.cc:767: \n",
      "Parameters: { \"rsm\" } are not used.\n",
      "\n"
     ]
    },
    {
     "name": "stderr",
     "output_type": "stream",
     "text": [
      "C:\\Users\\xfini\\AppData\\Local\\Temp\\ipykernel_20184\\1068959902.py:7: FutureWarning: suggest_loguniform has been deprecated in v3.0.0. This feature will be removed in v6.0.0. See https://github.com/optuna/optuna/releases/tag/v3.0.0. Use :func:`~optuna.trial.Trial.suggest_float` instead.\n",
      "  'learning_rate': trial.suggest_loguniform('learning_rate', 0.01,1.0),\n",
      "C:\\Users\\xfini\\AppData\\Local\\Temp\\ipykernel_20184\\1068959902.py:10: FutureWarning: suggest_loguniform has been deprecated in v3.0.0. This feature will be removed in v6.0.0. See https://github.com/optuna/optuna/releases/tag/v3.0.0. Use :func:`~optuna.trial.Trial.suggest_float` instead.\n",
      "  'gamma': trial.suggest_loguniform('gamma', 1e-8, 1.0),\n",
      "C:\\Users\\xfini\\AppData\\Local\\Temp\\ipykernel_20184\\1068959902.py:11: FutureWarning: suggest_loguniform has been deprecated in v3.0.0. This feature will be removed in v6.0.0. See https://github.com/optuna/optuna/releases/tag/v3.0.0. Use :func:`~optuna.trial.Trial.suggest_float` instead.\n",
      "  'subsample': trial.suggest_loguniform('subsample', 0.01, 1.0),\n",
      "C:\\Users\\xfini\\AppData\\Local\\Temp\\ipykernel_20184\\1068959902.py:12: FutureWarning: suggest_loguniform has been deprecated in v3.0.0. This feature will be removed in v6.0.0. See https://github.com/optuna/optuna/releases/tag/v3.0.0. Use :func:`~optuna.trial.Trial.suggest_float` instead.\n",
      "  'colsample_bytree': trial.suggest_loguniform('colsample_bytree', 0.01, 1.0),\n",
      "C:\\Users\\xfini\\AppData\\Local\\Temp\\ipykernel_20184\\1068959902.py:13: FutureWarning: suggest_loguniform has been deprecated in v3.0.0. This feature will be removed in v6.0.0. See https://github.com/optuna/optuna/releases/tag/v3.0.0. Use :func:`~optuna.trial.Trial.suggest_float` instead.\n",
      "  'reg_alpha': trial.suggest_loguniform('reg_alpha', 1e-8, 1.0),\n",
      "C:\\Users\\xfini\\AppData\\Local\\Temp\\ipykernel_20184\\1068959902.py:14: FutureWarning: suggest_loguniform has been deprecated in v3.0.0. This feature will be removed in v6.0.0. See https://github.com/optuna/optuna/releases/tag/v3.0.0. Use :func:`~optuna.trial.Trial.suggest_float` instead.\n",
      "  'reg_lambda': trial.suggest_loguniform('reg_lambda', 1e-8, 1.0),\n",
      "C:\\Users\\xfini\\AppData\\Local\\Temp\\ipykernel_20184\\1068959902.py:15: FutureWarning: suggest_loguniform has been deprecated in v3.0.0. This feature will be removed in v6.0.0. See https://github.com/optuna/optuna/releases/tag/v3.0.0. Use :func:`~optuna.trial.Trial.suggest_float` instead.\n",
      "  'rsm': trial.suggest_loguniform('rsm', 0.1, 0.9)\n"
     ]
    },
    {
     "name": "stdout",
     "output_type": "stream",
     "text": [
      "[15:12:38] WARNING: C:/buildkite-agent/builds/buildkite-windows-cpu-autoscaling-group-i-08de971ced8a8cdc6-1/xgboost/xgboost-ci-windows/src/learner.cc:767: \n",
      "Parameters: { \"rsm\" } are not used.\n",
      "\n"
     ]
    },
    {
     "name": "stderr",
     "output_type": "stream",
     "text": [
      "C:\\Users\\xfini\\AppData\\Local\\Temp\\ipykernel_20184\\1068959902.py:7: FutureWarning: suggest_loguniform has been deprecated in v3.0.0. This feature will be removed in v6.0.0. See https://github.com/optuna/optuna/releases/tag/v3.0.0. Use :func:`~optuna.trial.Trial.suggest_float` instead.\n",
      "  'learning_rate': trial.suggest_loguniform('learning_rate', 0.01,1.0),\n",
      "C:\\Users\\xfini\\AppData\\Local\\Temp\\ipykernel_20184\\1068959902.py:10: FutureWarning: suggest_loguniform has been deprecated in v3.0.0. This feature will be removed in v6.0.0. See https://github.com/optuna/optuna/releases/tag/v3.0.0. Use :func:`~optuna.trial.Trial.suggest_float` instead.\n",
      "  'gamma': trial.suggest_loguniform('gamma', 1e-8, 1.0),\n",
      "C:\\Users\\xfini\\AppData\\Local\\Temp\\ipykernel_20184\\1068959902.py:11: FutureWarning: suggest_loguniform has been deprecated in v3.0.0. This feature will be removed in v6.0.0. See https://github.com/optuna/optuna/releases/tag/v3.0.0. Use :func:`~optuna.trial.Trial.suggest_float` instead.\n",
      "  'subsample': trial.suggest_loguniform('subsample', 0.01, 1.0),\n",
      "C:\\Users\\xfini\\AppData\\Local\\Temp\\ipykernel_20184\\1068959902.py:12: FutureWarning: suggest_loguniform has been deprecated in v3.0.0. This feature will be removed in v6.0.0. See https://github.com/optuna/optuna/releases/tag/v3.0.0. Use :func:`~optuna.trial.Trial.suggest_float` instead.\n",
      "  'colsample_bytree': trial.suggest_loguniform('colsample_bytree', 0.01, 1.0),\n",
      "C:\\Users\\xfini\\AppData\\Local\\Temp\\ipykernel_20184\\1068959902.py:13: FutureWarning: suggest_loguniform has been deprecated in v3.0.0. This feature will be removed in v6.0.0. See https://github.com/optuna/optuna/releases/tag/v3.0.0. Use :func:`~optuna.trial.Trial.suggest_float` instead.\n",
      "  'reg_alpha': trial.suggest_loguniform('reg_alpha', 1e-8, 1.0),\n",
      "C:\\Users\\xfini\\AppData\\Local\\Temp\\ipykernel_20184\\1068959902.py:14: FutureWarning: suggest_loguniform has been deprecated in v3.0.0. This feature will be removed in v6.0.0. See https://github.com/optuna/optuna/releases/tag/v3.0.0. Use :func:`~optuna.trial.Trial.suggest_float` instead.\n",
      "  'reg_lambda': trial.suggest_loguniform('reg_lambda', 1e-8, 1.0),\n",
      "C:\\Users\\xfini\\AppData\\Local\\Temp\\ipykernel_20184\\1068959902.py:15: FutureWarning: suggest_loguniform has been deprecated in v3.0.0. This feature will be removed in v6.0.0. See https://github.com/optuna/optuna/releases/tag/v3.0.0. Use :func:`~optuna.trial.Trial.suggest_float` instead.\n",
      "  'rsm': trial.suggest_loguniform('rsm', 0.1, 0.9)\n"
     ]
    },
    {
     "name": "stdout",
     "output_type": "stream",
     "text": [
      "[15:12:41] WARNING: C:/buildkite-agent/builds/buildkite-windows-cpu-autoscaling-group-i-08de971ced8a8cdc6-1/xgboost/xgboost-ci-windows/src/learner.cc:767: \n",
      "Parameters: { \"rsm\" } are not used.\n",
      "\n"
     ]
    },
    {
     "name": "stderr",
     "output_type": "stream",
     "text": [
      "C:\\Users\\xfini\\AppData\\Local\\Temp\\ipykernel_20184\\1068959902.py:7: FutureWarning: suggest_loguniform has been deprecated in v3.0.0. This feature will be removed in v6.0.0. See https://github.com/optuna/optuna/releases/tag/v3.0.0. Use :func:`~optuna.trial.Trial.suggest_float` instead.\n",
      "  'learning_rate': trial.suggest_loguniform('learning_rate', 0.01,1.0),\n",
      "C:\\Users\\xfini\\AppData\\Local\\Temp\\ipykernel_20184\\1068959902.py:10: FutureWarning: suggest_loguniform has been deprecated in v3.0.0. This feature will be removed in v6.0.0. See https://github.com/optuna/optuna/releases/tag/v3.0.0. Use :func:`~optuna.trial.Trial.suggest_float` instead.\n",
      "  'gamma': trial.suggest_loguniform('gamma', 1e-8, 1.0),\n",
      "C:\\Users\\xfini\\AppData\\Local\\Temp\\ipykernel_20184\\1068959902.py:11: FutureWarning: suggest_loguniform has been deprecated in v3.0.0. This feature will be removed in v6.0.0. See https://github.com/optuna/optuna/releases/tag/v3.0.0. Use :func:`~optuna.trial.Trial.suggest_float` instead.\n",
      "  'subsample': trial.suggest_loguniform('subsample', 0.01, 1.0),\n",
      "C:\\Users\\xfini\\AppData\\Local\\Temp\\ipykernel_20184\\1068959902.py:12: FutureWarning: suggest_loguniform has been deprecated in v3.0.0. This feature will be removed in v6.0.0. See https://github.com/optuna/optuna/releases/tag/v3.0.0. Use :func:`~optuna.trial.Trial.suggest_float` instead.\n",
      "  'colsample_bytree': trial.suggest_loguniform('colsample_bytree', 0.01, 1.0),\n",
      "C:\\Users\\xfini\\AppData\\Local\\Temp\\ipykernel_20184\\1068959902.py:13: FutureWarning: suggest_loguniform has been deprecated in v3.0.0. This feature will be removed in v6.0.0. See https://github.com/optuna/optuna/releases/tag/v3.0.0. Use :func:`~optuna.trial.Trial.suggest_float` instead.\n",
      "  'reg_alpha': trial.suggest_loguniform('reg_alpha', 1e-8, 1.0),\n",
      "C:\\Users\\xfini\\AppData\\Local\\Temp\\ipykernel_20184\\1068959902.py:14: FutureWarning: suggest_loguniform has been deprecated in v3.0.0. This feature will be removed in v6.0.0. See https://github.com/optuna/optuna/releases/tag/v3.0.0. Use :func:`~optuna.trial.Trial.suggest_float` instead.\n",
      "  'reg_lambda': trial.suggest_loguniform('reg_lambda', 1e-8, 1.0),\n",
      "C:\\Users\\xfini\\AppData\\Local\\Temp\\ipykernel_20184\\1068959902.py:15: FutureWarning: suggest_loguniform has been deprecated in v3.0.0. This feature will be removed in v6.0.0. See https://github.com/optuna/optuna/releases/tag/v3.0.0. Use :func:`~optuna.trial.Trial.suggest_float` instead.\n",
      "  'rsm': trial.suggest_loguniform('rsm', 0.1, 0.9)\n"
     ]
    },
    {
     "name": "stdout",
     "output_type": "stream",
     "text": [
      "[15:12:44] WARNING: C:/buildkite-agent/builds/buildkite-windows-cpu-autoscaling-group-i-08de971ced8a8cdc6-1/xgboost/xgboost-ci-windows/src/learner.cc:767: \n",
      "Parameters: { \"rsm\" } are not used.\n",
      "\n"
     ]
    },
    {
     "name": "stderr",
     "output_type": "stream",
     "text": [
      "C:\\Users\\xfini\\AppData\\Local\\Temp\\ipykernel_20184\\1068959902.py:7: FutureWarning: suggest_loguniform has been deprecated in v3.0.0. This feature will be removed in v6.0.0. See https://github.com/optuna/optuna/releases/tag/v3.0.0. Use :func:`~optuna.trial.Trial.suggest_float` instead.\n",
      "  'learning_rate': trial.suggest_loguniform('learning_rate', 0.01,1.0),\n",
      "C:\\Users\\xfini\\AppData\\Local\\Temp\\ipykernel_20184\\1068959902.py:10: FutureWarning: suggest_loguniform has been deprecated in v3.0.0. This feature will be removed in v6.0.0. See https://github.com/optuna/optuna/releases/tag/v3.0.0. Use :func:`~optuna.trial.Trial.suggest_float` instead.\n",
      "  'gamma': trial.suggest_loguniform('gamma', 1e-8, 1.0),\n",
      "C:\\Users\\xfini\\AppData\\Local\\Temp\\ipykernel_20184\\1068959902.py:11: FutureWarning: suggest_loguniform has been deprecated in v3.0.0. This feature will be removed in v6.0.0. See https://github.com/optuna/optuna/releases/tag/v3.0.0. Use :func:`~optuna.trial.Trial.suggest_float` instead.\n",
      "  'subsample': trial.suggest_loguniform('subsample', 0.01, 1.0),\n",
      "C:\\Users\\xfini\\AppData\\Local\\Temp\\ipykernel_20184\\1068959902.py:12: FutureWarning: suggest_loguniform has been deprecated in v3.0.0. This feature will be removed in v6.0.0. See https://github.com/optuna/optuna/releases/tag/v3.0.0. Use :func:`~optuna.trial.Trial.suggest_float` instead.\n",
      "  'colsample_bytree': trial.suggest_loguniform('colsample_bytree', 0.01, 1.0),\n",
      "C:\\Users\\xfini\\AppData\\Local\\Temp\\ipykernel_20184\\1068959902.py:13: FutureWarning: suggest_loguniform has been deprecated in v3.0.0. This feature will be removed in v6.0.0. See https://github.com/optuna/optuna/releases/tag/v3.0.0. Use :func:`~optuna.trial.Trial.suggest_float` instead.\n",
      "  'reg_alpha': trial.suggest_loguniform('reg_alpha', 1e-8, 1.0),\n",
      "C:\\Users\\xfini\\AppData\\Local\\Temp\\ipykernel_20184\\1068959902.py:14: FutureWarning: suggest_loguniform has been deprecated in v3.0.0. This feature will be removed in v6.0.0. See https://github.com/optuna/optuna/releases/tag/v3.0.0. Use :func:`~optuna.trial.Trial.suggest_float` instead.\n",
      "  'reg_lambda': trial.suggest_loguniform('reg_lambda', 1e-8, 1.0),\n",
      "C:\\Users\\xfini\\AppData\\Local\\Temp\\ipykernel_20184\\1068959902.py:15: FutureWarning: suggest_loguniform has been deprecated in v3.0.0. This feature will be removed in v6.0.0. See https://github.com/optuna/optuna/releases/tag/v3.0.0. Use :func:`~optuna.trial.Trial.suggest_float` instead.\n",
      "  'rsm': trial.suggest_loguniform('rsm', 0.1, 0.9)\n"
     ]
    },
    {
     "name": "stdout",
     "output_type": "stream",
     "text": [
      "[15:12:46] WARNING: C:/buildkite-agent/builds/buildkite-windows-cpu-autoscaling-group-i-08de971ced8a8cdc6-1/xgboost/xgboost-ci-windows/src/learner.cc:767: \n",
      "Parameters: { \"rsm\" } are not used.\n",
      "\n"
     ]
    },
    {
     "name": "stderr",
     "output_type": "stream",
     "text": [
      "C:\\Users\\xfini\\AppData\\Local\\Temp\\ipykernel_20184\\1068959902.py:7: FutureWarning: suggest_loguniform has been deprecated in v3.0.0. This feature will be removed in v6.0.0. See https://github.com/optuna/optuna/releases/tag/v3.0.0. Use :func:`~optuna.trial.Trial.suggest_float` instead.\n",
      "  'learning_rate': trial.suggest_loguniform('learning_rate', 0.01,1.0),\n",
      "C:\\Users\\xfini\\AppData\\Local\\Temp\\ipykernel_20184\\1068959902.py:10: FutureWarning: suggest_loguniform has been deprecated in v3.0.0. This feature will be removed in v6.0.0. See https://github.com/optuna/optuna/releases/tag/v3.0.0. Use :func:`~optuna.trial.Trial.suggest_float` instead.\n",
      "  'gamma': trial.suggest_loguniform('gamma', 1e-8, 1.0),\n",
      "C:\\Users\\xfini\\AppData\\Local\\Temp\\ipykernel_20184\\1068959902.py:11: FutureWarning: suggest_loguniform has been deprecated in v3.0.0. This feature will be removed in v6.0.0. See https://github.com/optuna/optuna/releases/tag/v3.0.0. Use :func:`~optuna.trial.Trial.suggest_float` instead.\n",
      "  'subsample': trial.suggest_loguniform('subsample', 0.01, 1.0),\n",
      "C:\\Users\\xfini\\AppData\\Local\\Temp\\ipykernel_20184\\1068959902.py:12: FutureWarning: suggest_loguniform has been deprecated in v3.0.0. This feature will be removed in v6.0.0. See https://github.com/optuna/optuna/releases/tag/v3.0.0. Use :func:`~optuna.trial.Trial.suggest_float` instead.\n",
      "  'colsample_bytree': trial.suggest_loguniform('colsample_bytree', 0.01, 1.0),\n",
      "C:\\Users\\xfini\\AppData\\Local\\Temp\\ipykernel_20184\\1068959902.py:13: FutureWarning: suggest_loguniform has been deprecated in v3.0.0. This feature will be removed in v6.0.0. See https://github.com/optuna/optuna/releases/tag/v3.0.0. Use :func:`~optuna.trial.Trial.suggest_float` instead.\n",
      "  'reg_alpha': trial.suggest_loguniform('reg_alpha', 1e-8, 1.0),\n",
      "C:\\Users\\xfini\\AppData\\Local\\Temp\\ipykernel_20184\\1068959902.py:14: FutureWarning: suggest_loguniform has been deprecated in v3.0.0. This feature will be removed in v6.0.0. See https://github.com/optuna/optuna/releases/tag/v3.0.0. Use :func:`~optuna.trial.Trial.suggest_float` instead.\n",
      "  'reg_lambda': trial.suggest_loguniform('reg_lambda', 1e-8, 1.0),\n",
      "C:\\Users\\xfini\\AppData\\Local\\Temp\\ipykernel_20184\\1068959902.py:15: FutureWarning: suggest_loguniform has been deprecated in v3.0.0. This feature will be removed in v6.0.0. See https://github.com/optuna/optuna/releases/tag/v3.0.0. Use :func:`~optuna.trial.Trial.suggest_float` instead.\n",
      "  'rsm': trial.suggest_loguniform('rsm', 0.1, 0.9)\n"
     ]
    },
    {
     "name": "stdout",
     "output_type": "stream",
     "text": [
      "[15:12:49] WARNING: C:/buildkite-agent/builds/buildkite-windows-cpu-autoscaling-group-i-08de971ced8a8cdc6-1/xgboost/xgboost-ci-windows/src/learner.cc:767: \n",
      "Parameters: { \"rsm\" } are not used.\n",
      "\n"
     ]
    },
    {
     "name": "stderr",
     "output_type": "stream",
     "text": [
      "C:\\Users\\xfini\\AppData\\Local\\Temp\\ipykernel_20184\\1068959902.py:7: FutureWarning: suggest_loguniform has been deprecated in v3.0.0. This feature will be removed in v6.0.0. See https://github.com/optuna/optuna/releases/tag/v3.0.0. Use :func:`~optuna.trial.Trial.suggest_float` instead.\n",
      "  'learning_rate': trial.suggest_loguniform('learning_rate', 0.01,1.0),\n",
      "C:\\Users\\xfini\\AppData\\Local\\Temp\\ipykernel_20184\\1068959902.py:10: FutureWarning: suggest_loguniform has been deprecated in v3.0.0. This feature will be removed in v6.0.0. See https://github.com/optuna/optuna/releases/tag/v3.0.0. Use :func:`~optuna.trial.Trial.suggest_float` instead.\n",
      "  'gamma': trial.suggest_loguniform('gamma', 1e-8, 1.0),\n",
      "C:\\Users\\xfini\\AppData\\Local\\Temp\\ipykernel_20184\\1068959902.py:11: FutureWarning: suggest_loguniform has been deprecated in v3.0.0. This feature will be removed in v6.0.0. See https://github.com/optuna/optuna/releases/tag/v3.0.0. Use :func:`~optuna.trial.Trial.suggest_float` instead.\n",
      "  'subsample': trial.suggest_loguniform('subsample', 0.01, 1.0),\n",
      "C:\\Users\\xfini\\AppData\\Local\\Temp\\ipykernel_20184\\1068959902.py:12: FutureWarning: suggest_loguniform has been deprecated in v3.0.0. This feature will be removed in v6.0.0. See https://github.com/optuna/optuna/releases/tag/v3.0.0. Use :func:`~optuna.trial.Trial.suggest_float` instead.\n",
      "  'colsample_bytree': trial.suggest_loguniform('colsample_bytree', 0.01, 1.0),\n",
      "C:\\Users\\xfini\\AppData\\Local\\Temp\\ipykernel_20184\\1068959902.py:13: FutureWarning: suggest_loguniform has been deprecated in v3.0.0. This feature will be removed in v6.0.0. See https://github.com/optuna/optuna/releases/tag/v3.0.0. Use :func:`~optuna.trial.Trial.suggest_float` instead.\n",
      "  'reg_alpha': trial.suggest_loguniform('reg_alpha', 1e-8, 1.0),\n",
      "C:\\Users\\xfini\\AppData\\Local\\Temp\\ipykernel_20184\\1068959902.py:14: FutureWarning: suggest_loguniform has been deprecated in v3.0.0. This feature will be removed in v6.0.0. See https://github.com/optuna/optuna/releases/tag/v3.0.0. Use :func:`~optuna.trial.Trial.suggest_float` instead.\n",
      "  'reg_lambda': trial.suggest_loguniform('reg_lambda', 1e-8, 1.0),\n",
      "C:\\Users\\xfini\\AppData\\Local\\Temp\\ipykernel_20184\\1068959902.py:15: FutureWarning: suggest_loguniform has been deprecated in v3.0.0. This feature will be removed in v6.0.0. See https://github.com/optuna/optuna/releases/tag/v3.0.0. Use :func:`~optuna.trial.Trial.suggest_float` instead.\n",
      "  'rsm': trial.suggest_loguniform('rsm', 0.1, 0.9)\n"
     ]
    },
    {
     "name": "stdout",
     "output_type": "stream",
     "text": [
      "[15:12:52] WARNING: C:/buildkite-agent/builds/buildkite-windows-cpu-autoscaling-group-i-08de971ced8a8cdc6-1/xgboost/xgboost-ci-windows/src/learner.cc:767: \n",
      "Parameters: { \"rsm\" } are not used.\n",
      "\n"
     ]
    },
    {
     "name": "stderr",
     "output_type": "stream",
     "text": [
      "C:\\Users\\xfini\\AppData\\Local\\Temp\\ipykernel_20184\\1068959902.py:7: FutureWarning: suggest_loguniform has been deprecated in v3.0.0. This feature will be removed in v6.0.0. See https://github.com/optuna/optuna/releases/tag/v3.0.0. Use :func:`~optuna.trial.Trial.suggest_float` instead.\n",
      "  'learning_rate': trial.suggest_loguniform('learning_rate', 0.01,1.0),\n",
      "C:\\Users\\xfini\\AppData\\Local\\Temp\\ipykernel_20184\\1068959902.py:10: FutureWarning: suggest_loguniform has been deprecated in v3.0.0. This feature will be removed in v6.0.0. See https://github.com/optuna/optuna/releases/tag/v3.0.0. Use :func:`~optuna.trial.Trial.suggest_float` instead.\n",
      "  'gamma': trial.suggest_loguniform('gamma', 1e-8, 1.0),\n",
      "C:\\Users\\xfini\\AppData\\Local\\Temp\\ipykernel_20184\\1068959902.py:11: FutureWarning: suggest_loguniform has been deprecated in v3.0.0. This feature will be removed in v6.0.0. See https://github.com/optuna/optuna/releases/tag/v3.0.0. Use :func:`~optuna.trial.Trial.suggest_float` instead.\n",
      "  'subsample': trial.suggest_loguniform('subsample', 0.01, 1.0),\n",
      "C:\\Users\\xfini\\AppData\\Local\\Temp\\ipykernel_20184\\1068959902.py:12: FutureWarning: suggest_loguniform has been deprecated in v3.0.0. This feature will be removed in v6.0.0. See https://github.com/optuna/optuna/releases/tag/v3.0.0. Use :func:`~optuna.trial.Trial.suggest_float` instead.\n",
      "  'colsample_bytree': trial.suggest_loguniform('colsample_bytree', 0.01, 1.0),\n",
      "C:\\Users\\xfini\\AppData\\Local\\Temp\\ipykernel_20184\\1068959902.py:13: FutureWarning: suggest_loguniform has been deprecated in v3.0.0. This feature will be removed in v6.0.0. See https://github.com/optuna/optuna/releases/tag/v3.0.0. Use :func:`~optuna.trial.Trial.suggest_float` instead.\n",
      "  'reg_alpha': trial.suggest_loguniform('reg_alpha', 1e-8, 1.0),\n",
      "C:\\Users\\xfini\\AppData\\Local\\Temp\\ipykernel_20184\\1068959902.py:14: FutureWarning: suggest_loguniform has been deprecated in v3.0.0. This feature will be removed in v6.0.0. See https://github.com/optuna/optuna/releases/tag/v3.0.0. Use :func:`~optuna.trial.Trial.suggest_float` instead.\n",
      "  'reg_lambda': trial.suggest_loguniform('reg_lambda', 1e-8, 1.0),\n",
      "C:\\Users\\xfini\\AppData\\Local\\Temp\\ipykernel_20184\\1068959902.py:15: FutureWarning: suggest_loguniform has been deprecated in v3.0.0. This feature will be removed in v6.0.0. See https://github.com/optuna/optuna/releases/tag/v3.0.0. Use :func:`~optuna.trial.Trial.suggest_float` instead.\n",
      "  'rsm': trial.suggest_loguniform('rsm', 0.1, 0.9)\n"
     ]
    },
    {
     "name": "stdout",
     "output_type": "stream",
     "text": [
      "[15:12:54] WARNING: C:/buildkite-agent/builds/buildkite-windows-cpu-autoscaling-group-i-08de971ced8a8cdc6-1/xgboost/xgboost-ci-windows/src/learner.cc:767: \n",
      "Parameters: { \"rsm\" } are not used.\n",
      "\n"
     ]
    },
    {
     "name": "stderr",
     "output_type": "stream",
     "text": [
      "C:\\Users\\xfini\\AppData\\Local\\Temp\\ipykernel_20184\\1068959902.py:7: FutureWarning: suggest_loguniform has been deprecated in v3.0.0. This feature will be removed in v6.0.0. See https://github.com/optuna/optuna/releases/tag/v3.0.0. Use :func:`~optuna.trial.Trial.suggest_float` instead.\n",
      "  'learning_rate': trial.suggest_loguniform('learning_rate', 0.01,1.0),\n",
      "C:\\Users\\xfini\\AppData\\Local\\Temp\\ipykernel_20184\\1068959902.py:10: FutureWarning: suggest_loguniform has been deprecated in v3.0.0. This feature will be removed in v6.0.0. See https://github.com/optuna/optuna/releases/tag/v3.0.0. Use :func:`~optuna.trial.Trial.suggest_float` instead.\n",
      "  'gamma': trial.suggest_loguniform('gamma', 1e-8, 1.0),\n",
      "C:\\Users\\xfini\\AppData\\Local\\Temp\\ipykernel_20184\\1068959902.py:11: FutureWarning: suggest_loguniform has been deprecated in v3.0.0. This feature will be removed in v6.0.0. See https://github.com/optuna/optuna/releases/tag/v3.0.0. Use :func:`~optuna.trial.Trial.suggest_float` instead.\n",
      "  'subsample': trial.suggest_loguniform('subsample', 0.01, 1.0),\n",
      "C:\\Users\\xfini\\AppData\\Local\\Temp\\ipykernel_20184\\1068959902.py:12: FutureWarning: suggest_loguniform has been deprecated in v3.0.0. This feature will be removed in v6.0.0. See https://github.com/optuna/optuna/releases/tag/v3.0.0. Use :func:`~optuna.trial.Trial.suggest_float` instead.\n",
      "  'colsample_bytree': trial.suggest_loguniform('colsample_bytree', 0.01, 1.0),\n",
      "C:\\Users\\xfini\\AppData\\Local\\Temp\\ipykernel_20184\\1068959902.py:13: FutureWarning: suggest_loguniform has been deprecated in v3.0.0. This feature will be removed in v6.0.0. See https://github.com/optuna/optuna/releases/tag/v3.0.0. Use :func:`~optuna.trial.Trial.suggest_float` instead.\n",
      "  'reg_alpha': trial.suggest_loguniform('reg_alpha', 1e-8, 1.0),\n",
      "C:\\Users\\xfini\\AppData\\Local\\Temp\\ipykernel_20184\\1068959902.py:14: FutureWarning: suggest_loguniform has been deprecated in v3.0.0. This feature will be removed in v6.0.0. See https://github.com/optuna/optuna/releases/tag/v3.0.0. Use :func:`~optuna.trial.Trial.suggest_float` instead.\n",
      "  'reg_lambda': trial.suggest_loguniform('reg_lambda', 1e-8, 1.0),\n",
      "C:\\Users\\xfini\\AppData\\Local\\Temp\\ipykernel_20184\\1068959902.py:15: FutureWarning: suggest_loguniform has been deprecated in v3.0.0. This feature will be removed in v6.0.0. See https://github.com/optuna/optuna/releases/tag/v3.0.0. Use :func:`~optuna.trial.Trial.suggest_float` instead.\n",
      "  'rsm': trial.suggest_loguniform('rsm', 0.1, 0.9)\n"
     ]
    },
    {
     "name": "stdout",
     "output_type": "stream",
     "text": [
      "[15:12:58] WARNING: C:/buildkite-agent/builds/buildkite-windows-cpu-autoscaling-group-i-08de971ced8a8cdc6-1/xgboost/xgboost-ci-windows/src/learner.cc:767: \n",
      "Parameters: { \"rsm\" } are not used.\n",
      "\n"
     ]
    },
    {
     "name": "stderr",
     "output_type": "stream",
     "text": [
      "C:\\Users\\xfini\\AppData\\Local\\Temp\\ipykernel_20184\\1068959902.py:7: FutureWarning: suggest_loguniform has been deprecated in v3.0.0. This feature will be removed in v6.0.0. See https://github.com/optuna/optuna/releases/tag/v3.0.0. Use :func:`~optuna.trial.Trial.suggest_float` instead.\n",
      "  'learning_rate': trial.suggest_loguniform('learning_rate', 0.01,1.0),\n",
      "C:\\Users\\xfini\\AppData\\Local\\Temp\\ipykernel_20184\\1068959902.py:10: FutureWarning: suggest_loguniform has been deprecated in v3.0.0. This feature will be removed in v6.0.0. See https://github.com/optuna/optuna/releases/tag/v3.0.0. Use :func:`~optuna.trial.Trial.suggest_float` instead.\n",
      "  'gamma': trial.suggest_loguniform('gamma', 1e-8, 1.0),\n",
      "C:\\Users\\xfini\\AppData\\Local\\Temp\\ipykernel_20184\\1068959902.py:11: FutureWarning: suggest_loguniform has been deprecated in v3.0.0. This feature will be removed in v6.0.0. See https://github.com/optuna/optuna/releases/tag/v3.0.0. Use :func:`~optuna.trial.Trial.suggest_float` instead.\n",
      "  'subsample': trial.suggest_loguniform('subsample', 0.01, 1.0),\n",
      "C:\\Users\\xfini\\AppData\\Local\\Temp\\ipykernel_20184\\1068959902.py:12: FutureWarning: suggest_loguniform has been deprecated in v3.0.0. This feature will be removed in v6.0.0. See https://github.com/optuna/optuna/releases/tag/v3.0.0. Use :func:`~optuna.trial.Trial.suggest_float` instead.\n",
      "  'colsample_bytree': trial.suggest_loguniform('colsample_bytree', 0.01, 1.0),\n",
      "C:\\Users\\xfini\\AppData\\Local\\Temp\\ipykernel_20184\\1068959902.py:13: FutureWarning: suggest_loguniform has been deprecated in v3.0.0. This feature will be removed in v6.0.0. See https://github.com/optuna/optuna/releases/tag/v3.0.0. Use :func:`~optuna.trial.Trial.suggest_float` instead.\n",
      "  'reg_alpha': trial.suggest_loguniform('reg_alpha', 1e-8, 1.0),\n",
      "C:\\Users\\xfini\\AppData\\Local\\Temp\\ipykernel_20184\\1068959902.py:14: FutureWarning: suggest_loguniform has been deprecated in v3.0.0. This feature will be removed in v6.0.0. See https://github.com/optuna/optuna/releases/tag/v3.0.0. Use :func:`~optuna.trial.Trial.suggest_float` instead.\n",
      "  'reg_lambda': trial.suggest_loguniform('reg_lambda', 1e-8, 1.0),\n",
      "C:\\Users\\xfini\\AppData\\Local\\Temp\\ipykernel_20184\\1068959902.py:15: FutureWarning: suggest_loguniform has been deprecated in v3.0.0. This feature will be removed in v6.0.0. See https://github.com/optuna/optuna/releases/tag/v3.0.0. Use :func:`~optuna.trial.Trial.suggest_float` instead.\n",
      "  'rsm': trial.suggest_loguniform('rsm', 0.1, 0.9)\n"
     ]
    },
    {
     "name": "stdout",
     "output_type": "stream",
     "text": [
      "[15:13:02] WARNING: C:/buildkite-agent/builds/buildkite-windows-cpu-autoscaling-group-i-08de971ced8a8cdc6-1/xgboost/xgboost-ci-windows/src/learner.cc:767: \n",
      "Parameters: { \"rsm\" } are not used.\n",
      "\n"
     ]
    },
    {
     "name": "stderr",
     "output_type": "stream",
     "text": [
      "C:\\Users\\xfini\\AppData\\Local\\Temp\\ipykernel_20184\\1068959902.py:7: FutureWarning: suggest_loguniform has been deprecated in v3.0.0. This feature will be removed in v6.0.0. See https://github.com/optuna/optuna/releases/tag/v3.0.0. Use :func:`~optuna.trial.Trial.suggest_float` instead.\n",
      "  'learning_rate': trial.suggest_loguniform('learning_rate', 0.01,1.0),\n",
      "C:\\Users\\xfini\\AppData\\Local\\Temp\\ipykernel_20184\\1068959902.py:10: FutureWarning: suggest_loguniform has been deprecated in v3.0.0. This feature will be removed in v6.0.0. See https://github.com/optuna/optuna/releases/tag/v3.0.0. Use :func:`~optuna.trial.Trial.suggest_float` instead.\n",
      "  'gamma': trial.suggest_loguniform('gamma', 1e-8, 1.0),\n",
      "C:\\Users\\xfini\\AppData\\Local\\Temp\\ipykernel_20184\\1068959902.py:11: FutureWarning: suggest_loguniform has been deprecated in v3.0.0. This feature will be removed in v6.0.0. See https://github.com/optuna/optuna/releases/tag/v3.0.0. Use :func:`~optuna.trial.Trial.suggest_float` instead.\n",
      "  'subsample': trial.suggest_loguniform('subsample', 0.01, 1.0),\n",
      "C:\\Users\\xfini\\AppData\\Local\\Temp\\ipykernel_20184\\1068959902.py:12: FutureWarning: suggest_loguniform has been deprecated in v3.0.0. This feature will be removed in v6.0.0. See https://github.com/optuna/optuna/releases/tag/v3.0.0. Use :func:`~optuna.trial.Trial.suggest_float` instead.\n",
      "  'colsample_bytree': trial.suggest_loguniform('colsample_bytree', 0.01, 1.0),\n",
      "C:\\Users\\xfini\\AppData\\Local\\Temp\\ipykernel_20184\\1068959902.py:13: FutureWarning: suggest_loguniform has been deprecated in v3.0.0. This feature will be removed in v6.0.0. See https://github.com/optuna/optuna/releases/tag/v3.0.0. Use :func:`~optuna.trial.Trial.suggest_float` instead.\n",
      "  'reg_alpha': trial.suggest_loguniform('reg_alpha', 1e-8, 1.0),\n",
      "C:\\Users\\xfini\\AppData\\Local\\Temp\\ipykernel_20184\\1068959902.py:14: FutureWarning: suggest_loguniform has been deprecated in v3.0.0. This feature will be removed in v6.0.0. See https://github.com/optuna/optuna/releases/tag/v3.0.0. Use :func:`~optuna.trial.Trial.suggest_float` instead.\n",
      "  'reg_lambda': trial.suggest_loguniform('reg_lambda', 1e-8, 1.0),\n",
      "C:\\Users\\xfini\\AppData\\Local\\Temp\\ipykernel_20184\\1068959902.py:15: FutureWarning: suggest_loguniform has been deprecated in v3.0.0. This feature will be removed in v6.0.0. See https://github.com/optuna/optuna/releases/tag/v3.0.0. Use :func:`~optuna.trial.Trial.suggest_float` instead.\n",
      "  'rsm': trial.suggest_loguniform('rsm', 0.1, 0.9)\n"
     ]
    },
    {
     "name": "stdout",
     "output_type": "stream",
     "text": [
      "[15:13:04] WARNING: C:/buildkite-agent/builds/buildkite-windows-cpu-autoscaling-group-i-08de971ced8a8cdc6-1/xgboost/xgboost-ci-windows/src/learner.cc:767: \n",
      "Parameters: { \"rsm\" } are not used.\n",
      "\n"
     ]
    },
    {
     "name": "stderr",
     "output_type": "stream",
     "text": [
      "C:\\Users\\xfini\\AppData\\Local\\Temp\\ipykernel_20184\\1068959902.py:7: FutureWarning: suggest_loguniform has been deprecated in v3.0.0. This feature will be removed in v6.0.0. See https://github.com/optuna/optuna/releases/tag/v3.0.0. Use :func:`~optuna.trial.Trial.suggest_float` instead.\n",
      "  'learning_rate': trial.suggest_loguniform('learning_rate', 0.01,1.0),\n",
      "C:\\Users\\xfini\\AppData\\Local\\Temp\\ipykernel_20184\\1068959902.py:10: FutureWarning: suggest_loguniform has been deprecated in v3.0.0. This feature will be removed in v6.0.0. See https://github.com/optuna/optuna/releases/tag/v3.0.0. Use :func:`~optuna.trial.Trial.suggest_float` instead.\n",
      "  'gamma': trial.suggest_loguniform('gamma', 1e-8, 1.0),\n",
      "C:\\Users\\xfini\\AppData\\Local\\Temp\\ipykernel_20184\\1068959902.py:11: FutureWarning: suggest_loguniform has been deprecated in v3.0.0. This feature will be removed in v6.0.0. See https://github.com/optuna/optuna/releases/tag/v3.0.0. Use :func:`~optuna.trial.Trial.suggest_float` instead.\n",
      "  'subsample': trial.suggest_loguniform('subsample', 0.01, 1.0),\n",
      "C:\\Users\\xfini\\AppData\\Local\\Temp\\ipykernel_20184\\1068959902.py:12: FutureWarning: suggest_loguniform has been deprecated in v3.0.0. This feature will be removed in v6.0.0. See https://github.com/optuna/optuna/releases/tag/v3.0.0. Use :func:`~optuna.trial.Trial.suggest_float` instead.\n",
      "  'colsample_bytree': trial.suggest_loguniform('colsample_bytree', 0.01, 1.0),\n",
      "C:\\Users\\xfini\\AppData\\Local\\Temp\\ipykernel_20184\\1068959902.py:13: FutureWarning: suggest_loguniform has been deprecated in v3.0.0. This feature will be removed in v6.0.0. See https://github.com/optuna/optuna/releases/tag/v3.0.0. Use :func:`~optuna.trial.Trial.suggest_float` instead.\n",
      "  'reg_alpha': trial.suggest_loguniform('reg_alpha', 1e-8, 1.0),\n",
      "C:\\Users\\xfini\\AppData\\Local\\Temp\\ipykernel_20184\\1068959902.py:14: FutureWarning: suggest_loguniform has been deprecated in v3.0.0. This feature will be removed in v6.0.0. See https://github.com/optuna/optuna/releases/tag/v3.0.0. Use :func:`~optuna.trial.Trial.suggest_float` instead.\n",
      "  'reg_lambda': trial.suggest_loguniform('reg_lambda', 1e-8, 1.0),\n",
      "C:\\Users\\xfini\\AppData\\Local\\Temp\\ipykernel_20184\\1068959902.py:15: FutureWarning: suggest_loguniform has been deprecated in v3.0.0. This feature will be removed in v6.0.0. See https://github.com/optuna/optuna/releases/tag/v3.0.0. Use :func:`~optuna.trial.Trial.suggest_float` instead.\n",
      "  'rsm': trial.suggest_loguniform('rsm', 0.1, 0.9)\n"
     ]
    },
    {
     "name": "stdout",
     "output_type": "stream",
     "text": [
      "[15:13:07] WARNING: C:/buildkite-agent/builds/buildkite-windows-cpu-autoscaling-group-i-08de971ced8a8cdc6-1/xgboost/xgboost-ci-windows/src/learner.cc:767: \n",
      "Parameters: { \"rsm\" } are not used.\n",
      "\n"
     ]
    }
   ],
   "source": [
    "def objective(trial):\n",
    "    \n",
    "    x_train, x_test, y_train, y_test = train_test_split(x, y, test_size=0.3,random_state=42)\n",
    "    \n",
    "    params = {\n",
    "        'max_depth': trial.suggest_int('max_depth', 1, 9),\n",
    "        'learning_rate': trial.suggest_loguniform('learning_rate', 0.01,1.0),\n",
    "        'n_estimators': trial.suggest_int('n_estimators', 50, 500),\n",
    "        'min_child_weight': trial.suggest_int('min_child_weight', 1, 10),\n",
    "        'gamma': trial.suggest_loguniform('gamma', 1e-8, 1.0),\n",
    "        'subsample': trial.suggest_loguniform('subsample', 0.01, 1.0),\n",
    "        'colsample_bytree': trial.suggest_loguniform('colsample_bytree', 0.01, 1.0),\n",
    "        'reg_alpha': trial.suggest_loguniform('reg_alpha', 1e-8, 1.0),\n",
    "        'reg_lambda': trial.suggest_loguniform('reg_lambda', 1e-8, 1.0),\n",
    "        'rsm': trial.suggest_loguniform('rsm', 0.1, 0.9)\n",
    "    }\n",
    "    optuna_model = XGBRegressor(**params,tree_method='gpu_hist')\n",
    "    optuna_model.fit(x_train, y_train,  verbose=0)\n",
    "\n",
    "    # Make predictions\n",
    "    val_preds = optuna_model.predict(x_test)\n",
    "    # Evaluate predictions\n",
    "    root_mean_squared_error = mean_squared_error(y_test, val_preds,squared = False)\n",
    "\n",
    "    return root_mean_squared_error\n",
    "\n",
    "study = optuna.create_study(direction='minimize')\n",
    "optuna.logging.set_verbosity(optuna.logging.WARNING)\n",
    "study.optimize(objective, n_trials=100,show_progress_bar=True)"
   ]
  },
  {
   "cell_type": "code",
   "execution_count": 327,
   "metadata": {},
   "outputs": [
    {
     "name": "stderr",
     "output_type": "stream",
     "text": [
      "c:\\Users\\xfini\\anaconda3\\lib\\site-packages\\sklearn\\model_selection\\_split.py:676: UserWarning: The least populated class in y has only 1 members, which is less than n_splits=10.\n",
      "  warnings.warn(\n",
      "c:\\Users\\xfini\\anaconda3\\lib\\site-packages\\xgboost\\sklearn.py:835: UserWarning: `early_stopping_rounds` in `fit` method is deprecated for better compatibility with scikit-learn, use `early_stopping_rounds` in constructor or`set_params` instead.\n",
      "  warnings.warn(\n"
     ]
    },
    {
     "name": "stdout",
     "output_type": "stream",
     "text": [
      "[15:13:14] WARNING: C:/buildkite-agent/builds/buildkite-windows-cpu-autoscaling-group-i-08de971ced8a8cdc6-1/xgboost/xgboost-ci-windows/src/learner.cc:767: \n",
      "Parameters: { \"rsm\" } are not used.\n",
      "\n",
      "fold: 1 ==> rmse: 560.5762201661591\n",
      "[15:13:30] WARNING: C:/buildkite-agent/builds/buildkite-windows-cpu-autoscaling-group-i-08de971ced8a8cdc6-1/xgboost/xgboost-ci-windows/src/learner.cc:767: \n",
      "Parameters: { \"rsm\" } are not used.\n",
      "\n"
     ]
    },
    {
     "name": "stderr",
     "output_type": "stream",
     "text": [
      "c:\\Users\\xfini\\anaconda3\\lib\\site-packages\\xgboost\\sklearn.py:835: UserWarning: `early_stopping_rounds` in `fit` method is deprecated for better compatibility with scikit-learn, use `early_stopping_rounds` in constructor or`set_params` instead.\n",
      "  warnings.warn(\n"
     ]
    },
    {
     "name": "stdout",
     "output_type": "stream",
     "text": [
      "fold: 2 ==> rmse: 569.1491406494097\n",
      "[15:13:46] WARNING: C:/buildkite-agent/builds/buildkite-windows-cpu-autoscaling-group-i-08de971ced8a8cdc6-1/xgboost/xgboost-ci-windows/src/learner.cc:767: \n",
      "Parameters: { \"rsm\" } are not used.\n",
      "\n"
     ]
    },
    {
     "name": "stderr",
     "output_type": "stream",
     "text": [
      "c:\\Users\\xfini\\anaconda3\\lib\\site-packages\\xgboost\\sklearn.py:835: UserWarning: `early_stopping_rounds` in `fit` method is deprecated for better compatibility with scikit-learn, use `early_stopping_rounds` in constructor or`set_params` instead.\n",
      "  warnings.warn(\n"
     ]
    },
    {
     "name": "stdout",
     "output_type": "stream",
     "text": [
      "fold: 3 ==> rmse: 552.9480384636146\n",
      "[15:14:02] WARNING: C:/buildkite-agent/builds/buildkite-windows-cpu-autoscaling-group-i-08de971ced8a8cdc6-1/xgboost/xgboost-ci-windows/src/learner.cc:767: \n",
      "Parameters: { \"rsm\" } are not used.\n",
      "\n"
     ]
    },
    {
     "name": "stderr",
     "output_type": "stream",
     "text": [
      "c:\\Users\\xfini\\anaconda3\\lib\\site-packages\\xgboost\\sklearn.py:835: UserWarning: `early_stopping_rounds` in `fit` method is deprecated for better compatibility with scikit-learn, use `early_stopping_rounds` in constructor or`set_params` instead.\n",
      "  warnings.warn(\n"
     ]
    },
    {
     "name": "stdout",
     "output_type": "stream",
     "text": [
      "fold: 4 ==> rmse: 567.7350474482888\n",
      "[15:14:18] WARNING: C:/buildkite-agent/builds/buildkite-windows-cpu-autoscaling-group-i-08de971ced8a8cdc6-1/xgboost/xgboost-ci-windows/src/learner.cc:767: \n",
      "Parameters: { \"rsm\" } are not used.\n",
      "\n"
     ]
    },
    {
     "name": "stderr",
     "output_type": "stream",
     "text": [
      "c:\\Users\\xfini\\anaconda3\\lib\\site-packages\\xgboost\\sklearn.py:835: UserWarning: `early_stopping_rounds` in `fit` method is deprecated for better compatibility with scikit-learn, use `early_stopping_rounds` in constructor or`set_params` instead.\n",
      "  warnings.warn(\n"
     ]
    },
    {
     "name": "stdout",
     "output_type": "stream",
     "text": [
      "fold: 5 ==> rmse: 603.9099698778032\n",
      "[15:14:33] WARNING: C:/buildkite-agent/builds/buildkite-windows-cpu-autoscaling-group-i-08de971ced8a8cdc6-1/xgboost/xgboost-ci-windows/src/learner.cc:767: \n",
      "Parameters: { \"rsm\" } are not used.\n",
      "\n"
     ]
    },
    {
     "name": "stderr",
     "output_type": "stream",
     "text": [
      "c:\\Users\\xfini\\anaconda3\\lib\\site-packages\\xgboost\\sklearn.py:835: UserWarning: `early_stopping_rounds` in `fit` method is deprecated for better compatibility with scikit-learn, use `early_stopping_rounds` in constructor or`set_params` instead.\n",
      "  warnings.warn(\n"
     ]
    },
    {
     "name": "stdout",
     "output_type": "stream",
     "text": [
      "fold: 6 ==> rmse: 571.8029666624888\n",
      "[15:14:47] WARNING: C:/buildkite-agent/builds/buildkite-windows-cpu-autoscaling-group-i-08de971ced8a8cdc6-1/xgboost/xgboost-ci-windows/src/learner.cc:767: \n",
      "Parameters: { \"rsm\" } are not used.\n",
      "\n"
     ]
    },
    {
     "name": "stderr",
     "output_type": "stream",
     "text": [
      "c:\\Users\\xfini\\anaconda3\\lib\\site-packages\\xgboost\\sklearn.py:835: UserWarning: `early_stopping_rounds` in `fit` method is deprecated for better compatibility with scikit-learn, use `early_stopping_rounds` in constructor or`set_params` instead.\n",
      "  warnings.warn(\n"
     ]
    },
    {
     "name": "stdout",
     "output_type": "stream",
     "text": [
      "fold: 7 ==> rmse: 587.7219282783175\n",
      "[15:15:02] WARNING: C:/buildkite-agent/builds/buildkite-windows-cpu-autoscaling-group-i-08de971ced8a8cdc6-1/xgboost/xgboost-ci-windows/src/learner.cc:767: \n",
      "Parameters: { \"rsm\" } are not used.\n",
      "\n"
     ]
    },
    {
     "name": "stderr",
     "output_type": "stream",
     "text": [
      "c:\\Users\\xfini\\anaconda3\\lib\\site-packages\\xgboost\\sklearn.py:835: UserWarning: `early_stopping_rounds` in `fit` method is deprecated for better compatibility with scikit-learn, use `early_stopping_rounds` in constructor or`set_params` instead.\n",
      "  warnings.warn(\n"
     ]
    },
    {
     "name": "stdout",
     "output_type": "stream",
     "text": [
      "fold: 8 ==> rmse: 569.4760192765298\n",
      "[15:15:16] WARNING: C:/buildkite-agent/builds/buildkite-windows-cpu-autoscaling-group-i-08de971ced8a8cdc6-1/xgboost/xgboost-ci-windows/src/learner.cc:767: \n",
      "Parameters: { \"rsm\" } are not used.\n",
      "\n"
     ]
    },
    {
     "name": "stderr",
     "output_type": "stream",
     "text": [
      "c:\\Users\\xfini\\anaconda3\\lib\\site-packages\\xgboost\\sklearn.py:835: UserWarning: `early_stopping_rounds` in `fit` method is deprecated for better compatibility with scikit-learn, use `early_stopping_rounds` in constructor or`set_params` instead.\n",
      "  warnings.warn(\n"
     ]
    },
    {
     "name": "stdout",
     "output_type": "stream",
     "text": [
      "fold: 9 ==> rmse: 598.2531378011574\n",
      "[15:15:30] WARNING: C:/buildkite-agent/builds/buildkite-windows-cpu-autoscaling-group-i-08de971ced8a8cdc6-1/xgboost/xgboost-ci-windows/src/learner.cc:767: \n",
      "Parameters: { \"rsm\" } are not used.\n",
      "\n"
     ]
    },
    {
     "name": "stderr",
     "output_type": "stream",
     "text": [
      "c:\\Users\\xfini\\anaconda3\\lib\\site-packages\\xgboost\\sklearn.py:835: UserWarning: `early_stopping_rounds` in `fit` method is deprecated for better compatibility with scikit-learn, use `early_stopping_rounds` in constructor or`set_params` instead.\n",
      "  warnings.warn(\n"
     ]
    },
    {
     "name": "stdout",
     "output_type": "stream",
     "text": [
      "fold: 10 ==> rmse: 575.8150055571972\n",
      "MSE: 575.82\n",
      "MAE : 295.15\n"
     ]
    }
   ],
   "source": [
    "from sklearn.model_selection import StratifiedKFold\n",
    "from sklearn.metrics import mean_squared_error,mean_absolute_error\n",
    "\n",
    "kfold = StratifiedKFold(n_splits=10, shuffle=True, random_state=0)\n",
    "preds = np.zeros(test.shape[0])\n",
    "rmse=[]   # list contains rmse for each fold\n",
    "n=0\n",
    "\n",
    "for i, (train_index, valid_index) in enumerate(kfold.split(x, y)):\n",
    "    x_train, y_train = x.iloc[train_index], y.iloc[train_index]\n",
    "    x_valid, y_valid = x.loc[valid_index], y.iloc[valid_index]\n",
    "\n",
    "    model_xgb = XGBRegressor(**study.best_params)\n",
    "    model_xgb.fit(x_train,y_train,eval_set=[(x_valid,y_valid)],early_stopping_rounds=100,verbose=False)\n",
    "    \n",
    "    preds+=model_xgb.predict(test)/kfold.n_splits\n",
    "    rmse.append(mean_squared_error(y_valid, model_xgb.predict(x_valid), squared=False))\n",
    "    print(f\"fold: {n+1} ==> rmse: {rmse[n]}\")\n",
    "    n+=1\n",
    "\n",
    "\n",
    "y_pred = model_xgb.predict(x_valid)\n",
    "mse = np.sqrt(mean_squared_error(y_valid, y_pred))\n",
    "mae = mean_absolute_error(y_valid, y_pred)\n",
    "print(\"MSE: %.2f\" % mse)\n",
    "print(\"MAE : %.2f\"% mae)"
   ]
  },
  {
   "cell_type": "code",
   "execution_count": null,
   "metadata": {},
   "outputs": [
    {
     "name": "stdout",
     "output_type": "stream",
     "text": [
      "Mean Squared Error: 1100.4464758787497\n"
     ]
    }
   ],
   "source": [
    "l=LinearRegression()\n",
    "l.fit(xtrain,ytrain)\n",
    "l.score(xtest,ytest)\n",
    "y_pred = l.predict(xtest)\n",
    "mse = np.sqrt(mean_squared_error(ytest, y_pred))\n",
    "print(f\"Mean Squared Error: {mse}\")"
   ]
  },
  {
   "cell_type": "code",
   "execution_count": null,
   "metadata": {},
   "outputs": [
    {
     "name": "stdout",
     "output_type": "stream",
     "text": [
      "Mean Squared Error: 1106.7190020183773\n"
     ]
    }
   ],
   "source": [
    "s=SGDRegressor(warm_start=True)\n",
    "s.fit(xtrain,ytrain)\n",
    "s.score(xtest,ytest)\n",
    "y_pred = s.predict(xtest)\n",
    "mse = np.sqrt(mean_squared_error(ytest, y_pred))\n",
    "print(f\"Mean Squared Error: {mse}\")\n"
   ]
  },
  {
   "cell_type": "code",
   "execution_count": null,
   "metadata": {},
   "outputs": [
    {
     "name": "stdout",
     "output_type": "stream",
     "text": [
      "Mean Squared Error: 590.9558466654405\n"
     ]
    }
   ],
   "source": [
    "xgb=XGBRegressor()\n",
    "xgb.fit(xtrain,ytrain)\n",
    "xgb.score(xtest,ytest)\n",
    "y_pred = xgb.predict(xtest)\n",
    "mse = np.sqrt(mean_squared_error(ytest, y_pred))\n",
    "print(f\"Mean Squared Error: {mse}\")"
   ]
  },
  {
   "cell_type": "code",
   "execution_count": null,
   "metadata": {},
   "outputs": [
    {
     "name": "stdout",
     "output_type": "stream",
     "text": [
      "Mean Squared Error: 842.4306412778687\n"
     ]
    }
   ],
   "source": [
    "t=DecisionTreeRegressor()\n",
    "t.fit(xtrain,ytrain)\n",
    "t.score(xtest,ytest)\n",
    "y_pred = t.predict(xtest)\n",
    "mse = np.sqrt(mean_squared_error(ytest, y_pred))\n",
    "print(f\"Mean Squared Error: {mse}\")\n"
   ]
  },
  {
   "cell_type": "code",
   "execution_count": null,
   "metadata": {},
   "outputs": [
    {
     "name": "stdout",
     "output_type": "stream",
     "text": [
      "Mean Squared Error: 606.5714934726797\n"
     ]
    }
   ],
   "source": [
    "r=RandomForestRegressor()\n",
    "r.fit(xtrain,ytrain)\n",
    "r.score(xtest,ytest)\n",
    "y_pred = r.predict(xtest)\n",
    "mse = np.sqrt(mean_squared_error(ytest, y_pred))\n",
    "print(f\"Mean Squared Error: {mse}\")"
   ]
  },
  {
   "cell_type": "code",
   "execution_count": null,
   "metadata": {},
   "outputs": [
    {
     "name": "stdout",
     "output_type": "stream",
     "text": [
      "Mean Squared Error: 650.3616812235364\n"
     ]
    }
   ],
   "source": [
    "g=GradientBoostingRegressor()\n",
    "g.fit(xtrain,ytrain)\n",
    "g.score(xtest,ytest)\n",
    "y_pred = g.predict(xtest)\n",
    "mse = np.sqrt(mean_squared_error(ytest, y_pred))\n",
    "print(f\"Mean Squared Error: {mse}\")\n"
   ]
  },
  {
   "cell_type": "code",
   "execution_count": null,
   "metadata": {},
   "outputs": [
    {
     "name": "stdout",
     "output_type": "stream",
     "text": [
      "Mean Squared Error: 638.7833688403215\n"
     ]
    }
   ],
   "source": [
    "b=BaggingRegressor()\n",
    "b.fit(xtrain,ytrain)\n",
    "b.score(xtest,ytest)\n",
    "y_pred = b.predict(xtest)\n",
    "mse = np.sqrt(mean_squared_error(ytest, y_pred))\n",
    "print(f\"Mean Squared Error: {mse}\")"
   ]
  },
  {
   "cell_type": "code",
   "execution_count": null,
   "metadata": {},
   "outputs": [
    {
     "name": "stdout",
     "output_type": "stream",
     "text": [
      "Mean Squared Error: 621.2374351128134\n"
     ]
    }
   ],
   "source": [
    "e=ExtraTreesRegressor()\n",
    "e.fit(xtrain,ytrain)\n",
    "e.score(xtest,ytest)\n",
    "y_pred = e.predict(xtest)\n",
    "mse = np.sqrt(mean_squared_error(ytest, y_pred))\n",
    "print(f\"Mean Squared Error: {mse}\")"
   ]
  },
  {
   "cell_type": "code",
   "execution_count": null,
   "metadata": {},
   "outputs": [
    {
     "name": "stdout",
     "output_type": "stream",
     "text": [
      "Mean Squared Error: 662.0956826908333\n"
     ]
    }
   ],
   "source": [
    "k=KNeighborsRegressor()\n",
    "k.fit(xtrain,ytrain)\n",
    "k.score(xtest,ytest)\n",
    "y_pred = k.predict(xtest)\n",
    "mse = np.sqrt(mean_squared_error(ytest, y_pred))\n",
    "print(f\"Mean Squared Error: {mse}\")"
   ]
  },
  {
   "cell_type": "code",
   "execution_count": null,
   "metadata": {},
   "outputs": [
    {
     "name": "stdout",
     "output_type": "stream",
     "text": [
      "Mean Squared Error: 590.508026424646\n"
     ]
    },
    {
     "data": {
      "text/plain": [
       "0.9784214799109061"
      ]
     },
     "execution_count": 289,
     "metadata": {},
     "output_type": "execute_result"
    }
   ],
   "source": [
    "\n",
    "\n",
    "# create the individual regressors\n",
    "reg1 = BaggingRegressor()\n",
    "reg2 = XGBRegressor()\n",
    "reg3 =ExtraTreesRegressor()\n",
    "reg4 = RandomForestRegressor()\n",
    "reg5=GradientBoostingRegressor()\n",
    "# create the voting regressor\n",
    "voting_reg = VotingRegressor(estimators=[('dt', reg1), ('lr', reg2), ('nb', reg3),('rf',reg4),('gb',reg5)])\n",
    "\n",
    "# fit the voting regressor to the data\n",
    "voting_reg.fit(xtrain, ytrain)\n",
    "\n",
    "# evaluate the voting regressor on the test data\n",
    "y_pred = voting_reg.predict(xtest)\n",
    "mse = np.sqrt(mean_squared_error(ytest, y_pred))\n",
    "print(f\"Mean Squared Error: {mse}\")\n",
    "\n",
    "voting_reg.score(xtest,ytest)"
   ]
  },
  {
   "cell_type": "code",
   "execution_count": null,
   "metadata": {},
   "outputs": [
    {
     "name": "stdout",
     "output_type": "stream",
     "text": [
      "RMSE: 584.0258820440384\n"
     ]
    }
   ],
   "source": [
    "from sklearn.ensemble import StackingRegressor\n",
    "from sklearn.linear_model import LinearRegression\n",
    "from sklearn.tree import DecisionTreeRegressor\n",
    "from sklearn.ensemble import RandomForestRegressor\n",
    "from sklearn.model_selection import train_test_split\n",
    "from sklearn.metrics import mean_squared_error\n",
    "\n",
    "# Load your data into X and y\n",
    "reg1 = BaggingRegressor()\n",
    "reg2 = XGBRegressor()\n",
    "reg3 =ExtraTreesRegressor()\n",
    "reg4 = RandomForestRegressor()\n",
    "reg5=GradientBoostingRegressor()\n",
    "meta_reg = LinearRegression()\n",
    "# create the voting regressor\n",
    "stack_reg = StackingRegressor(estimators=[('dt', reg1), ('lr', reg2), ('nb', reg3),('rf',reg4),('gb',reg5)], final_estimator=meta_reg)\n",
    "\n",
    "# Define meta regressor\n",
    "\n",
    "\n",
    "# Define stacking regressor\n",
    "\n",
    "# Fit stacking regressor to the data\n",
    "stack_reg.fit(xtrain, ytrain)\n",
    "\n",
    "# Make predictions on the test data\n",
    "y_pred = stack_reg.predict(xtest)\n",
    "\n",
    "# Calculate RMSE\n",
    "rmse = np.sqrt(mean_squared_error(ytest, y_pred))\n",
    "print('RMSE:', rmse)\n"
   ]
  },
  {
   "cell_type": "code",
   "execution_count": null,
   "metadata": {},
   "outputs": [
    {
     "data": {
      "text/plain": [
       "array([ 721.5256, 2386.9848, 2165.9441, ..., 7316.7754, 4324.8176,\n",
       "       3813.5445])"
      ]
     },
     "execution_count": 294,
     "metadata": {},
     "output_type": "execute_result"
    }
   ],
   "source": [
    "s1=stack_reg.predict(test)\n",
    "s1"
   ]
  },
  {
   "cell_type": "code",
   "execution_count": 328,
   "metadata": {},
   "outputs": [
    {
     "data": {
      "text/html": [
       "<div>\n",
       "<style scoped>\n",
       "    .dataframe tbody tr th:only-of-type {\n",
       "        vertical-align: middle;\n",
       "    }\n",
       "\n",
       "    .dataframe tbody tr th {\n",
       "        vertical-align: top;\n",
       "    }\n",
       "\n",
       "    .dataframe thead th {\n",
       "        text-align: right;\n",
       "    }\n",
       "</style>\n",
       "<table border=\"1\" class=\"dataframe\">\n",
       "  <thead>\n",
       "    <tr style=\"text-align: right;\">\n",
       "      <th></th>\n",
       "      <th>id</th>\n",
       "      <th>price</th>\n",
       "    </tr>\n",
       "  </thead>\n",
       "  <tbody>\n",
       "    <tr>\n",
       "      <th>0</th>\n",
       "      <td>193573</td>\n",
       "      <td>3969.155</td>\n",
       "    </tr>\n",
       "    <tr>\n",
       "      <th>1</th>\n",
       "      <td>193574</td>\n",
       "      <td>3969.155</td>\n",
       "    </tr>\n",
       "    <tr>\n",
       "      <th>2</th>\n",
       "      <td>193575</td>\n",
       "      <td>3969.155</td>\n",
       "    </tr>\n",
       "    <tr>\n",
       "      <th>3</th>\n",
       "      <td>193576</td>\n",
       "      <td>3969.155</td>\n",
       "    </tr>\n",
       "    <tr>\n",
       "      <th>4</th>\n",
       "      <td>193577</td>\n",
       "      <td>3969.155</td>\n",
       "    </tr>\n",
       "    <tr>\n",
       "      <th>...</th>\n",
       "      <td>...</td>\n",
       "      <td>...</td>\n",
       "    </tr>\n",
       "    <tr>\n",
       "      <th>129045</th>\n",
       "      <td>322618</td>\n",
       "      <td>3969.155</td>\n",
       "    </tr>\n",
       "    <tr>\n",
       "      <th>129046</th>\n",
       "      <td>322619</td>\n",
       "      <td>3969.155</td>\n",
       "    </tr>\n",
       "    <tr>\n",
       "      <th>129047</th>\n",
       "      <td>322620</td>\n",
       "      <td>3969.155</td>\n",
       "    </tr>\n",
       "    <tr>\n",
       "      <th>129048</th>\n",
       "      <td>322621</td>\n",
       "      <td>3969.155</td>\n",
       "    </tr>\n",
       "    <tr>\n",
       "      <th>129049</th>\n",
       "      <td>322622</td>\n",
       "      <td>3969.155</td>\n",
       "    </tr>\n",
       "  </tbody>\n",
       "</table>\n",
       "<p>129050 rows × 2 columns</p>\n",
       "</div>"
      ],
      "text/plain": [
       "            id     price\n",
       "0       193573  3969.155\n",
       "1       193574  3969.155\n",
       "2       193575  3969.155\n",
       "3       193576  3969.155\n",
       "4       193577  3969.155\n",
       "...        ...       ...\n",
       "129045  322618  3969.155\n",
       "129046  322619  3969.155\n",
       "129047  322620  3969.155\n",
       "129048  322621  3969.155\n",
       "129049  322622  3969.155\n",
       "\n",
       "[129050 rows x 2 columns]"
      ]
     },
     "execution_count": 328,
     "metadata": {},
     "output_type": "execute_result"
    }
   ],
   "source": [
    "c=pd.read_csv('sample_submission.csv')\n",
    "c"
   ]
  },
  {
   "cell_type": "code",
   "execution_count": 331,
   "metadata": {},
   "outputs": [
    {
     "data": {
      "text/html": [
       "<div>\n",
       "<style scoped>\n",
       "    .dataframe tbody tr th:only-of-type {\n",
       "        vertical-align: middle;\n",
       "    }\n",
       "\n",
       "    .dataframe tbody tr th {\n",
       "        vertical-align: top;\n",
       "    }\n",
       "\n",
       "    .dataframe thead th {\n",
       "        text-align: right;\n",
       "    }\n",
       "</style>\n",
       "<table border=\"1\" class=\"dataframe\">\n",
       "  <thead>\n",
       "    <tr style=\"text-align: right;\">\n",
       "      <th></th>\n",
       "      <th>id</th>\n",
       "      <th>price</th>\n",
       "    </tr>\n",
       "  </thead>\n",
       "  <tbody>\n",
       "    <tr>\n",
       "      <th>0</th>\n",
       "      <td>193573</td>\n",
       "      <td>749.602860</td>\n",
       "    </tr>\n",
       "    <tr>\n",
       "      <th>1</th>\n",
       "      <td>193574</td>\n",
       "      <td>2328.152845</td>\n",
       "    </tr>\n",
       "    <tr>\n",
       "      <th>2</th>\n",
       "      <td>193575</td>\n",
       "      <td>2122.546531</td>\n",
       "    </tr>\n",
       "    <tr>\n",
       "      <th>3</th>\n",
       "      <td>193576</td>\n",
       "      <td>688.172252</td>\n",
       "    </tr>\n",
       "    <tr>\n",
       "      <th>4</th>\n",
       "      <td>193577</td>\n",
       "      <td>5427.683319</td>\n",
       "    </tr>\n",
       "    <tr>\n",
       "      <th>...</th>\n",
       "      <td>...</td>\n",
       "      <td>...</td>\n",
       "    </tr>\n",
       "    <tr>\n",
       "      <th>129045</th>\n",
       "      <td>322618</td>\n",
       "      <td>3646.501581</td>\n",
       "    </tr>\n",
       "    <tr>\n",
       "      <th>129046</th>\n",
       "      <td>322619</td>\n",
       "      <td>2438.375631</td>\n",
       "    </tr>\n",
       "    <tr>\n",
       "      <th>129047</th>\n",
       "      <td>322620</td>\n",
       "      <td>6975.475852</td>\n",
       "    </tr>\n",
       "    <tr>\n",
       "      <th>129048</th>\n",
       "      <td>322621</td>\n",
       "      <td>5040.106562</td>\n",
       "    </tr>\n",
       "    <tr>\n",
       "      <th>129049</th>\n",
       "      <td>322622</td>\n",
       "      <td>3941.653966</td>\n",
       "    </tr>\n",
       "  </tbody>\n",
       "</table>\n",
       "<p>129050 rows × 2 columns</p>\n",
       "</div>"
      ],
      "text/plain": [
       "            id        price\n",
       "0       193573   749.602860\n",
       "1       193574  2328.152845\n",
       "2       193575  2122.546531\n",
       "3       193576   688.172252\n",
       "4       193577  5427.683319\n",
       "...        ...          ...\n",
       "129045  322618  3646.501581\n",
       "129046  322619  2438.375631\n",
       "129047  322620  6975.475852\n",
       "129048  322621  5040.106562\n",
       "129049  322622  3941.653966\n",
       "\n",
       "[129050 rows x 2 columns]"
      ]
     },
     "execution_count": 331,
     "metadata": {},
     "output_type": "execute_result"
    }
   ],
   "source": [
    "c['price']=s\n",
    "c"
   ]
  },
  {
   "cell_type": "code",
   "execution_count": 332,
   "metadata": {},
   "outputs": [],
   "source": [
    "c.to_csv('submissionstack.csv',index=False)"
   ]
  }
 ],
 "metadata": {
  "kernelspec": {
   "display_name": "base",
   "language": "python",
   "name": "python3"
  },
  "language_info": {
   "codemirror_mode": {
    "name": "ipython",
    "version": 3
   },
   "file_extension": ".py",
   "mimetype": "text/x-python",
   "name": "python",
   "nbconvert_exporter": "python",
   "pygments_lexer": "ipython3",
   "version": "3.9.13"
  },
  "orig_nbformat": 4,
  "vscode": {
   "interpreter": {
    "hash": "9d14471461635bf21df9cfec56a5737cc69cbb4963c9971765edde945261d78e"
   }
  }
 },
 "nbformat": 4,
 "nbformat_minor": 2
}
